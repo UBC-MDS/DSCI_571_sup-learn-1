{
 "cells": [
  {
   "cell_type": "markdown",
   "metadata": {},
   "source": [
    "# DSCI 571 - Supervised Learning I\n",
    "\n",
    "# Lab 4: Naive Bayes and Logistic Regression"
   ]
  },
  {
   "cell_type": "markdown",
   "metadata": {},
   "source": [
    "## Table of Contents\n",
    "\n",
    "- [Submission guidelines](#sg)\n",
    "- [Introduction](#in)\n",
    "- [Exercise 1 - Naive Bayes by hand](#1)\n",
    "- [Exercise 2 - Sentiment analysis on the IMDB dataset](#2)\n",
    "- [Exercise 3 - Model building and hyperparameter optimization](#3)\n",
    "- [Exercise 4 - Model interpretation](#4)\n",
    "- [Exercise 5 - Test results and final evaluation](#5)\n",
    "- [Exercise 6 - Summary and wrap up](#6)"
   ]
  },
  {
   "cell_type": "code",
   "execution_count": null,
   "metadata": {},
   "outputs": [],
   "source": [
    "# Import libraries\n",
    "import re\n",
    "import sys\n",
    "from hashlib import sha1\n",
    "\n",
    "import matplotlib.pyplot as plt\n",
    "import numpy as np\n",
    "import pandas as pd\n",
    "\n",
    "# Autograding\n",
    "import tests_lab4\n",
    "from sklearn.dummy import DummyClassifier\n",
    "from sklearn.feature_extraction.text import CountVectorizer\n",
    "from sklearn.linear_model import LogisticRegression\n",
    "\n",
    "# train test split and cross validation\n",
    "from sklearn.model_selection import (\n",
    "    GridSearchCV,\n",
    "    RandomizedSearchCV,\n",
    "    cross_validate,\n",
    "    train_test_split,\n",
    ")\n",
    "from sklearn.naive_bayes import MultinomialNB\n",
    "from sklearn.pipeline import Pipeline, make_pipeline\n",
    "from sklearn.svm import SVC\n",
    "from sklearn.tree import DecisionTreeClassifier"
   ]
  },
  {
   "cell_type": "markdown",
   "metadata": {},
   "source": [
    "## Submission instructions <a name=\"si\"></a>\n",
    "<hr>\n",
    "rubric={mechanics:2}\n",
    "\n",
    "You will receive marks for correctly submitting this assignment. \n",
    "\n",
    "To correctly submit this assignment follow the instructions below:\n",
    "\n",
    "- Push your assignment to your GitHub repository. \n",
    "- Add a link to your GitHub repository here: LINK TO YOUR GITHUB REPO \n",
    "- Upload an HTML render of your assignment to Canvas. The last cell of this notebook will help you do that.\n",
    "- Be sure to follow the [general lab instructions](https://ubc-mds.github.io/resources_pages/general_lab_instructions/).\n",
    "\n",
    "[Here](https://github.com/UBC-MDS/public/tree/master/rubric) you will find the description of each rubric used in MDS.\n",
    "\n",
    "**NOTE: The data you download for use in this lab SHOULD NOT BE PUSHED TO YOUR REPOSITORY. You might be penalised for pushing datasets to your repository. I have seeded the repository with `.gitignore` and hoping that it won't let you push CSVs.**"
   ]
  },
  {
   "cell_type": "markdown",
   "metadata": {
    "nbgrader": {
     "grade": false,
     "grade_id": "cell-3247a4b883a670c7",
     "locked": true,
     "schema_version": 3,
     "solution": false,
     "task": false
    }
   },
   "source": [
    "## Introduction <a name=\"in\"></a>\n",
    "<hr>\n",
    "\n",
    "In this lab, we will explore two probabilistic classifiers: Naive Bayes and Logistic Regression using a text classification task called [sentiment analysis](https://en.wikipedia.org/wiki/Sentiment_analysis), which is a problem of assigning positive or negative labels to a given text based on the sentiment or attitude expressed in it. [Here](https://www.youtube.com/watch?v=uXu2uEubV9Q&list=PLoROMvodv4rOFZnDyrlW3-nI7tMLtmiJZ&index=33) is a short video explaining the task of sentiment analysis. \n",
    "\n",
    "Note that we are going to use a dataset which is larger (~50,000 examples) compared to the datasets we have worked with so far. So running most of the exercises is going to take a bit longer. If your computer is having trouble with the size of the data or in the initial phases when you are trying out things, here are a few things to try. \n",
    "- Try reducing the number of folds in cross-validation. \n",
    "- Try using `njob=-1` or `njob=-2` to use multiple cores of your processor, if you have them. \n",
    "- Try reducing the range of hyperparameters to explore. \n",
    "- Under sample the data (e.g., using the `sample` method of pandas dataframes) and write a note for the TAs explaining why you are doing it. \n"
   ]
  },
  {
   "cell_type": "markdown",
   "metadata": {},
   "source": [
    "## Exercise 1: Naive Bayes by hand <a name=\"1\"></a>\n",
    "<hr>\n",
    "\n",
    "Naive Bayes is popular in text classification tasks. In the lecture we applied naive Bayes for spam classification. In the next few exercises you'll apply it to another text classification task called [sentiment analysis](https://en.wikipedia.org/wiki/Sentiment_analysis). \n",
    "\n",
    "Consider the toy data below, which has $10$ training examples, $4$ binary features indicating presence or absence of the word, and the sentiment associated with each example.  Given this information, you want to predict the target (positive or negative sentiment) for the following test example: \n",
    "    \n",
    "$$\\hat{x} = \\begin{bmatrix}1 & 1 & 0 & 1\\end{bmatrix}$$\n",
    "\n",
    "In the exercises below, we'll do this step by step. "
   ]
  },
  {
   "cell_type": "code",
   "execution_count": null,
   "metadata": {},
   "outputs": [],
   "source": [
    "### BEGIN STARTER CODE \n",
    "\n",
    "sentiment_toy_data = {\n",
    "    \"predictable\": [1, 1, 1, 0, 0, 1, 1, 0, 0, 1],\n",
    "    \"fun\": [0, 1, 0, 1, 1, 0, 0, 0, 0, 1],\n",
    "    \"pathetic\": [0, 0, 1, 0, 0, 1, 0, 1, 1, 1],\n",
    "    \"satire\": [0, 0, 0, 0, 1, 1, 0, 1, 0, 1],\n",
    "    \"target\": [\n",
    "        \"negative\",\n",
    "        \"positive\",\n",
    "        \"negative\",\n",
    "        \"positive\",\n",
    "        \"positive\",\n",
    "        \"negative\",\n",
    "        \"positive\",\n",
    "        \"negative\",\n",
    "        \"negative\",\n",
    "        \"negative\",\n",
    "    ],\n",
    "}\n",
    "\n",
    "toy_df = pd.DataFrame(sentiment_toy_data)\n",
    "toy_df\n",
    "\n",
    "### END STARTER CODE "
   ]
  },
  {
   "cell_type": "markdown",
   "metadata": {
    "nbgrader": {
     "grade": false,
     "grade_id": "cell-1fdd9499f3c15117",
     "locked": true,
     "schema_version": 3,
     "solution": false,
     "task": false
    }
   },
   "source": [
    "### 1.1 Class prior probabilities\n",
    "rubric={autograde:2}\n",
    "\n",
    "**Your tasks:**\n",
    "\n",
    "Compute the estimates of the class prior probabilities. (You don't need to show any work.)\n",
    "1. Compute $p(\\text{positive})$ and store it in a variable called `pos_prior`.\n",
    "2. Compute $p(\\text{negative})$ and store it in a variable called `neg_prior`."
   ]
  },
  {
   "cell_type": "code",
   "execution_count": null,
   "metadata": {},
   "outputs": [],
   "source": [
    "pos_prior = None\n",
    "neg_prior = None\n",
    "\n",
    "### YOUR ANSWER HERE"
   ]
  },
  {
   "cell_type": "code",
   "execution_count": null,
   "metadata": {},
   "outputs": [],
   "source": [
    "assert tests_lab4.ex1_1_1(\n",
    "    pos_prior\n",
    "), \"Your answer is incorrect, see traceback above.\"\n",
    "print(\"Success\")"
   ]
  },
  {
   "cell_type": "code",
   "execution_count": null,
   "metadata": {},
   "outputs": [],
   "source": [
    "assert tests_lab4.ex1_1_2(\n",
    "    neg_prior\n",
    "), \"Your answer is incorrect, see traceback above.\"\n",
    "print(\"Success\")"
   ]
  },
  {
   "cell_type": "markdown",
   "metadata": {
    "nbgrader": {
     "grade": false,
     "grade_id": "cell-664e58efe2282b30",
     "locked": true,
     "schema_version": 3,
     "solution": false,
     "task": false
    }
   },
   "source": [
    "### 1.2 Conditional probabilities\n",
    "rubric={autograde:8}\n",
    "\n",
    "**Your tasks:**\n",
    "\n",
    "Compute the following estimates of the conditional probabilities required by naive Bayes for $\\hat{x}$ below. \n",
    "$$\\hat{x} = \\begin{bmatrix}1 & 1 & 0 & 1\\end{bmatrix}$$\n",
    "\n",
    "Store the values of conditional probabilities in the variables below. Each variable represents the probability of presence of the word given the class. For instance, `fun1_pos` represents $p(\\text{fun} = 1  \\mid \\text{positive})$ You do not need to show any work and do not need to consider Laplace smoothing here, just compute the raw frequencies/proportions and store them in the respective variables.\n",
    "\n"
   ]
  },
  {
   "cell_type": "code",
   "execution_count": null,
   "metadata": {},
   "outputs": [],
   "source": [
    "predictable1_pos = None # P(predictable = 1 | positive)\n",
    "predictable1_neg = None # P(predictable = 1 | negative)\n",
    "fun1_pos = None # P(fun = 1 | positive)\n",
    "fun1_neg = None # P(fun = 1 | negative)\n",
    "pathetic0_pos = None # P(pathetic = 0 | positive)\n",
    "pathetic0_neg = None # P(pathetic = 0 | negative)\n",
    "satire1_pos = None # P(satire = 1 | positive)\n",
    "satire1_neg = None # P(satire = 1 | negative)\n",
    "\n",
    "### YOUR ANSWER HERE"
   ]
  },
  {
   "cell_type": "code",
   "execution_count": null,
   "metadata": {},
   "outputs": [],
   "source": [
    "assert tests_lab4.ex1_2_1(\n",
    "    predictable1_pos\n",
    "), \"Your answer is incorrect, see traceback above.\"\n",
    "print(\"Success\")"
   ]
  },
  {
   "cell_type": "code",
   "execution_count": null,
   "metadata": {},
   "outputs": [],
   "source": [
    "assert tests_lab4.ex1_2_2(\n",
    "    predictable1_neg\n",
    "), \"Your answer is incorrect, see traceback above.\"\n",
    "print(\"Success\")"
   ]
  },
  {
   "cell_type": "code",
   "execution_count": null,
   "metadata": {},
   "outputs": [],
   "source": [
    "assert tests_lab4.ex1_2_3(\n",
    "    fun1_pos\n",
    "), \"Your answer is incorrect, see traceback above.\"\n",
    "print(\"Success\")"
   ]
  },
  {
   "cell_type": "code",
   "execution_count": null,
   "metadata": {},
   "outputs": [],
   "source": [
    "assert tests_lab4.ex1_2_4(\n",
    "    fun1_neg\n",
    "), \"Your answer is incorrect, see traceback above.\"\n",
    "print(\"Success\")"
   ]
  },
  {
   "cell_type": "code",
   "execution_count": null,
   "metadata": {},
   "outputs": [],
   "source": [
    "assert tests_lab4.ex1_2_5(\n",
    "    pathetic0_pos\n",
    "), \"Your answer is incorrect, see traceback above.\"\n",
    "print(\"Success\")"
   ]
  },
  {
   "cell_type": "code",
   "execution_count": null,
   "metadata": {},
   "outputs": [],
   "source": [
    "assert tests_lab4.ex1_2_6(\n",
    "    pathetic0_neg\n",
    "), \"Your answer is incorrect, see traceback above.\"\n",
    "print(\"Success\")"
   ]
  },
  {
   "cell_type": "code",
   "execution_count": null,
   "metadata": {},
   "outputs": [],
   "source": [
    "assert tests_lab4.ex1_2_7(\n",
    "    satire1_pos\n",
    "), \"Your answer is incorrect, see traceback above.\"\n",
    "print(\"Success\")"
   ]
  },
  {
   "cell_type": "code",
   "execution_count": null,
   "metadata": {},
   "outputs": [],
   "source": [
    "assert tests_lab4.ex1_2_8(\n",
    "    satire1_neg\n",
    "), \"Your answer is incorrect, see traceback above.\"\n",
    "print(\"Success\")"
   ]
  },
  {
   "cell_type": "markdown",
   "metadata": {
    "nbgrader": {
     "grade": true,
     "grade_id": "cell-cf69ee552fef775c",
     "locked": false,
     "points": 0,
     "schema_version": 3,
     "solution": true,
     "task": false
    }
   },
   "source": [
    "\n",
    "\n",
    "### YOUR ANSWER HERE"
   ]
  },
  {
   "cell_type": "markdown",
   "metadata": {
    "nbgrader": {
     "grade": false,
     "grade_id": "cell-3967f7905c1907f0",
     "locked": true,
     "schema_version": 3,
     "solution": false,
     "task": false
    }
   },
   "source": [
    "### 1.3 Prediction\n",
    "rubric={reasoning:5}\n",
    "\n",
    "Under the naive Bayes model and your estimates of the above probabilities, what is the most likely label for the following test example? \"positive\" or \"negative\"? Show your working. Use formatting of your own choice (e.g., latex preferable). \n",
    "\n",
    "$$\\hat{x} = \\begin{bmatrix}1 & 1 & 0 & 1\\end{bmatrix}$$"
   ]
  },
  {
   "cell_type": "markdown",
   "metadata": {},
   "source": [
    "### YOUR SOLUTION HERE\n",
    "\n",
    "$$p(\\text{positive} \\mid predictable = 1, fun = 1, pathetic = 0, satire = 1) = ?$$\n",
    "\n",
    "$$p(\\text{negative} \\mid predictable = 1, fun = 1, pathetic = 0, satire = 1) = ?$$\n"
   ]
  },
  {
   "cell_type": "markdown",
   "metadata": {
    "nbgrader": {
     "grade": true,
     "grade_id": "cell-2e87eec8658f3ebd",
     "locked": false,
     "points": 0,
     "schema_version": 3,
     "solution": true,
     "task": false
    }
   },
   "source": [
    "### YOUR ANSWER HERE"
   ]
  },
  {
   "cell_type": "markdown",
   "metadata": {},
   "source": [
    "### (optional) 1.4 Smoothing\n",
    "rubric={reasoning:1}\n",
    "\n",
    "**Your tasks:**\n",
    "\n",
    "1. Suppose you are asked to predict sentiment of the following example. What would happen when you try to calculate $P(positive \\mid \\hat{x_1})$? How would you solve this problem?\n",
    "$$\\hat{x_1} = \\begin{bmatrix}0 & 1 & 1 & 1\\end{bmatrix}$$"
   ]
  },
  {
   "cell_type": "markdown",
   "metadata": {},
   "source": [
    "### YOUR ANSWER HERE"
   ]
  },
  {
   "cell_type": "markdown",
   "metadata": {},
   "source": [
    "### 1.5 `BernoulliNB` on the toy data \n",
    "rubric={reasoning:2}\n",
    "\n",
    "Let's try [`sklearn`'s `BernoulliNB`](https://scikit-learn.org/stable/modules/generated/sklearn.naive_bayes.BernoulliNB.html) on our toy data. \n",
    "\n",
    "**Your tasks:**\n",
    "\n",
    "1. Train `BernoulliNB` on `X_train` and `y_train` from the starter code below. (Note that we are using `BernoulliNB` because our features are binary. You are already given extracted features here but if you were only given text, you could use `CountVectorizer` with `binary = False` argument to extract binary features.)\n",
    "2. Predict on `X_test`. "
   ]
  },
  {
   "cell_type": "code",
   "execution_count": null,
   "metadata": {},
   "outputs": [],
   "source": [
    "### BEGIN STARTER CODE\n",
    "\n",
    "X_train = toy_df.drop(columns=[\"target\"])\n",
    "y_train = toy_df[\"target\"]\n",
    "X_test = [[1, 1, 0, 1]]\n",
    "\n",
    "### END STARTER CODE"
   ]
  },
  {
   "cell_type": "code",
   "execution_count": null,
   "metadata": {},
   "outputs": [],
   "source": [
    "### YOUR ANSWER HERE"
   ]
  },
  {
   "cell_type": "markdown",
   "metadata": {},
   "source": [
    "### 1.6 Probability estimates of naive Bayes\n",
    "rubric={accuracy:1,reasoning:2}\n",
    "\n",
    "**Your tasks:**\n",
    "\n",
    "1. Does your prediction for the following example from 1.3 match with the prediction given by `scikit-learn` in 1.5? \n",
    "$$\\hat{x} = \\begin{bmatrix}1 & 1 & 0 & 1\\end{bmatrix}$$ \n",
    "2. Examine the probability estimates for example `[1, 1, 0, 1]` from 1.5 using `predict_proba`. Do they match with the estimates you calculated in 1.3? Why or why not? "
   ]
  },
  {
   "cell_type": "markdown",
   "metadata": {},
   "source": [
    "### YOUR ANSWER HERE"
   ]
  },
  {
   "cell_type": "code",
   "execution_count": null,
   "metadata": {},
   "outputs": [],
   "source": [
    "### YOUR ANSWER HERE"
   ]
  },
  {
   "cell_type": "markdown",
   "metadata": {},
   "source": [
    "### YOUR ANSWER HERE"
   ]
  },
  {
   "attachments": {
    "541dd571-70b3-43d7-98ff-f44b110dbadf.png": {
     "image/png": "[encoded data removed]"
    }
   },
   "cell_type": "markdown",
   "metadata": {},
   "source": [
    "## Exercise 2: Sentiment analysis on the IMDB dataset <a name=\"2\"></a>\n",
    "<hr>\n",
    "\n",
    "![image.png](attachment:541dd571-70b3-43d7-98ff-f44b110dbadf.png)\n",
    "\n",
    "In this exercise, you will carry out sentiment analysis on a real corpus, [the IMDB movie review dataset](https://www.kaggle.com/utathya/imdb-review-dataset). \n",
    "\n",
    "Download the CSV using the above link. Unzip it and move it to the local version of your lab repository. You will not be able to commit the CSV to your repository because it's seeded with `.gitignore`. The starter code below loads the data CSV file (assuming that it's in the current directory) as a pandas DataFrame called `imdb_df`. There are three possible labels in the dataset: `pos`, `neg`, and `unsup`. For now, we are discarding rows with the `unsup` label from the dataframe. The dataset comes with `train` and `test` sets which contain disjoint set of movies, so no significant performance could be obtained by memorizing movie-unique terms  associated with observed labels. We'll use the given train-test splits. \n",
    "\n"
   ]
  },
  {
   "cell_type": "code",
   "execution_count": null,
   "metadata": {
    "nbgrader": {
     "grade": true,
     "grade_id": "cell-13d9bdc07140534d",
     "locked": false,
     "points": 0,
     "schema_version": 3,
     "solution": true,
     "task": false
    }
   },
   "outputs": [],
   "source": [
    "### BEGIN STARTED CODE\n",
    "\n",
    "imdb_df = pd.read_csv(\"imdb_master.csv\", encoding=\"ISO-8859-1\", index_col=\"Unnamed: 0\")\n",
    "imdb_df = imdb_df.query('label == \"neg\" | label == \"pos\"')\n",
    "train_df = imdb_df.query('type == \"train\"')\n",
    "test_df = imdb_df.query('type == \"test\"')\n",
    "\n",
    "### END STARTER CODE"
   ]
  },
  {
   "cell_type": "markdown",
   "metadata": {},
   "source": [
    "### 2.1 Separate features and target\n",
    "rubric={accuracy:1}\n",
    "\n",
    "**Your task:**\n",
    "\n",
    "Create `X_train`, `X_test`, `y_train`, `y_test`. "
   ]
  },
  {
   "cell_type": "code",
   "execution_count": null,
   "metadata": {
    "nbgrader": {
     "grade": true,
     "grade_id": "cell-af9ebf01a716d388",
     "locked": false,
     "points": 0,
     "schema_version": 3,
     "solution": true,
     "task": false
    }
   },
   "outputs": [],
   "source": [
    "### YOUR ANSWER HERE"
   ]
  },
  {
   "cell_type": "markdown",
   "metadata": {},
   "source": [
    "### (optional) 2.2 EDA\n",
    "rubric={reasoning:1}\n",
    "\n",
    "- Use [pandas profiling](https://github.com/pandas-profiling/pandas-profiling) to explore the length information of positive reviews vs. negative reviews. \n",
    "- Note your observations. "
   ]
  },
  {
   "cell_type": "code",
   "execution_count": null,
   "metadata": {},
   "outputs": [],
   "source": [
    "### YOUR ANSWER HERE"
   ]
  },
  {
   "cell_type": "code",
   "execution_count": null,
   "metadata": {},
   "outputs": [],
   "source": [
    "### YOUR ANSWER HERE"
   ]
  },
  {
   "cell_type": "markdown",
   "metadata": {},
   "source": [
    "### YOUR ANSWER HERE"
   ]
  },
  {
   "cell_type": "markdown",
   "metadata": {},
   "source": [
    "## Exercise 3: Model building and hyperparameter optimization <a name=\"3\"></a>\n",
    "<hr>\n",
    "\n",
    "In this exercise, we will try a number of models on our dataset and carry out hyperparameter optimization for the logistic regression model. You may use or adapt the function below from lab 2 to keep your results organized. "
   ]
  },
  {
   "cell_type": "code",
   "execution_count": null,
   "metadata": {},
   "outputs": [],
   "source": [
    "### BEGIN STARTER CODE\n",
    "\n",
    "# You may use or adapt this function to keep your results organized\n",
    "def store_cross_val_results(model_name, scores, results_dict):\n",
    "    \"\"\"\n",
    "    Stores mean scores from cross_validate in results_dict for\n",
    "    the given model model_name.\n",
    "\n",
    "    Parameters\n",
    "    ----------\n",
    "    model_name :\n",
    "        scikit-learn classification model\n",
    "    scores : dict\n",
    "        object return by `cross_validate`\n",
    "    results_dict: dict\n",
    "        dictionary to store results\n",
    "\n",
    "    Returns\n",
    "    ----------\n",
    "        None\n",
    "\n",
    "    \"\"\"\n",
    "    results_dict[model_name] = {\n",
    "        \"mean_train_accuracy\": \"{:0.4f}\".format(np.mean(scores[\"train_score\"])),\n",
    "        \"mean_valid_accuracy\": \"{:0.4f}\".format(np.mean(scores[\"test_score\"])),\n",
    "        \"mean_fit_time (s)\": \"{:0.4f}\".format(np.mean(scores[\"fit_time\"])),\n",
    "        \"mean_score_time (s)\": \"{:0.4f}\".format(np.mean(scores[\"score_time\"])),\n",
    "        \"std_train_score\": \"{:0.4f}\".format(scores[\"train_score\"].std()),\n",
    "        \"std_valid_score\": \"{:0.4f}\".format(scores[\"test_score\"].std()),\n",
    "    }\n",
    "\n",
    "### END STARTER CODE"
   ]
  },
  {
   "cell_type": "markdown",
   "metadata": {},
   "source": [
    "### 3.1 DummyClassifier \n",
    "rubric={accuracy:2}\n",
    "\n",
    "**Your tasks:**\n",
    "1. Report mean cross-validation scores for `DummyClassifier`. \n",
    "\n",
    "You may use the `store_cross_val_results` function provided above and `results_dict` below to keep track of different results. "
   ]
  },
  {
   "cell_type": "code",
   "execution_count": null,
   "metadata": {},
   "outputs": [],
   "source": [
    "results_dict = {}"
   ]
  },
  {
   "cell_type": "code",
   "execution_count": null,
   "metadata": {},
   "outputs": [],
   "source": [
    "### YOUR ANSWER HERE"
   ]
  },
  {
   "cell_type": "markdown",
   "metadata": {},
   "source": [
    "### 3.2 Different classifiers \n",
    "rubric={accuracy:3,reasoning:3}\n",
    "\n",
    "1. For each model in the starter code below, build a pipeline with two steps: `CountVectorizer` and the model with the provided hyperparameters, carry out cross validation using the pipeline, and show mean cross-validation results for each model. You may use `store_cross_val_results` function to store the results. Note: the code might be a bit slow here. You can reduce the number of folds (e.g., cv=2) to speed it up, if necessary.\n",
    "2. Discuss the results. You may consider the following questions for discussion:\n",
    "    - Which models are performing well on this task? \n",
    "    - Among the best performing models, which ones are trained faster than others? \n",
    "    - Which ones seem to suffer from overfitting? "
   ]
  },
  {
   "cell_type": "code",
   "execution_count": null,
   "metadata": {},
   "outputs": [],
   "source": [
    "### BEGIN STARTER CODE\n",
    "\n",
    "models = {\n",
    "    \"Decision Tree\": DecisionTreeClassifier(),\n",
    "    \"RBF SVM\": SVC(),\n",
    "    \"Naive Bayes\": MultinomialNB(),\n",
    "    \"Logistic Regression\": LogisticRegression(max_iter=2000),\n",
    "}\n",
    "\n",
    "### END STARTER CODE"
   ]
  },
  {
   "cell_type": "code",
   "execution_count": null,
   "metadata": {},
   "outputs": [],
   "source": [
    "### YOUR ANSWER HERE"
   ]
  },
  {
   "cell_type": "markdown",
   "metadata": {},
   "source": [
    "### 3.3 Hyperparameter optimization \n",
    "rubric={accuracy:2,reasoning:2}\n",
    "\n",
    "**Your tasks:**\n",
    "\n",
    "1. Define a pipeline with `CountVectorizer` and `LogisitcRegression` with `max_iter=1000`.\n",
    "2. Using `RandomizedSearchCV`, jointly optimize `C` and `max_features` of logistic regression. Use your choice of range for hyperparameter values.\n",
    "3. What are the best score and best hyperparameter values according to your random search? Are you getting better mean validation score than logistic regression pipeline with default hyperparameters from 3.2? "
   ]
  },
  {
   "cell_type": "code",
   "execution_count": null,
   "metadata": {},
   "outputs": [],
   "source": [
    "### YOUR ANSWER HERE"
   ]
  },
  {
   "cell_type": "code",
   "execution_count": null,
   "metadata": {},
   "outputs": [],
   "source": [
    "### YOUR ANSWER HERE"
   ]
  },
  {
   "cell_type": "code",
   "execution_count": null,
   "metadata": {},
   "outputs": [],
   "source": [
    "### YOUR ANSWER HERE"
   ]
  },
  {
   "cell_type": "markdown",
   "metadata": {},
   "source": [
    "### YOUR ANSWER HERE"
   ]
  },
  {
   "cell_type": "markdown",
   "metadata": {},
   "source": [
    "## Exercise 4: Model interpretation <a name=\"4\"></a>\n",
    "<hr>\n",
    "\n",
    "One of the primary advantage of linear models is their ability to interpret models in terms of important features. In this exercise, we'll explore the weights learned by logistic regression classifier. "
   ]
  },
  {
   "cell_type": "markdown",
   "metadata": {},
   "source": [
    "### 4.1 Get most informative words\n",
    "rubric={accuracy:6}\n",
    "\n",
    "**Your tasks**\n",
    "\n",
    "Use the best estimator from 3.3 to find the 20 words that are most indicative of a positive review and the 20 words that are most indicative of a negative review. \n",
    "- The information you need is exposed by the `coef_` attribute of [LogisticRegression](http://scikit-learn.org/stable/modules/generated/sklearn.linear_model.LogisticRegression.html) object. \n",
    "- The vocabulary (mapping from feature indices to actual words) can be obtained by calling `get_feature_names()` on the `CountVectorizer` object. \n",
    "\n",
    "You may refer to the code from lecture notes and provide simple attribution here such as \"code adapted from lecture **\". \n"
   ]
  },
  {
   "cell_type": "code",
   "execution_count": null,
   "metadata": {},
   "outputs": [],
   "source": [
    "### YOUR ANSWER HERE"
   ]
  },
  {
   "cell_type": "code",
   "execution_count": null,
   "metadata": {
    "slideshow": {
     "slide_type": "slide"
    }
   },
   "outputs": [],
   "source": [
    "### YOUR ANSWER HERE"
   ]
  },
  {
   "cell_type": "markdown",
   "metadata": {},
   "source": [
    "### 4.2 Interpretation\n",
    "rubric={reasoning:4}\n",
    "\n",
    "**Your tasks**\n",
    "\n",
    "1. Do the words associated with positive and negative reviews make sense? \n",
    "2. Why is it useful to get access to this information? \n",
    "3. Would it be hard to get most informative features using other classifiers such as SVMs with RBF kernel, naive Bayes, or decision trees? Why or why not? "
   ]
  },
  {
   "cell_type": "markdown",
   "metadata": {},
   "source": [
    "### YOUR ANSWER HERE"
   ]
  },
  {
   "cell_type": "markdown",
   "metadata": {},
   "source": [
    "## 5. Test score and final evaluation <a name=\"5\"></a>\n",
    "<hr>\n",
    "\n",
    "Let's examine the performance of our best model on the test set. "
   ]
  },
  {
   "cell_type": "markdown",
   "metadata": {},
   "source": [
    "### 5.1 Evaluation on test data\n",
    "rubric={accuracy:2,reasoning:2}\n",
    "\n",
    "**Your tasks:**\n",
    "1. `fit` the model with best hyperparameters you found in previous exercises on `X_train` and `y_train`.  \n",
    "2. Evaluate this model on the test set. \n",
    "3. How does your test accuracy compare to your validation accuracy? To what extent do you trust the test scores? "
   ]
  },
  {
   "cell_type": "code",
   "execution_count": null,
   "metadata": {},
   "outputs": [],
   "source": [
    "### YOUR ANSWER HERE"
   ]
  },
  {
   "cell_type": "markdown",
   "metadata": {},
   "source": [
    "### YOUR ANSWER HERE"
   ]
  },
  {
   "cell_type": "markdown",
   "metadata": {},
   "source": [
    "### 5.2 Evaluation using probability scores\n",
    "rubric={accuracy:4}\n",
    "\n",
    "**Your tasks:**\n",
    "\n",
    "Using this model, find the movie reviews in the test set with \n",
    "- the highest predicted probability of being positive (i.e., where the model is most confident that the review is positive)\n",
    "- the highest predicted probability of being negative (i.e., where the model is most confident that the review is negative)\n",
    "\n",
    "In each case, print out the review and the associated probability score. "
   ]
  },
  {
   "cell_type": "code",
   "execution_count": null,
   "metadata": {},
   "outputs": [],
   "source": [
    "### YOUR ANSWER HERE"
   ]
  },
  {
   "cell_type": "code",
   "execution_count": null,
   "metadata": {},
   "outputs": [],
   "source": [
    "### YOUR ANSWER HERE"
   ]
  },
  {
   "cell_type": "markdown",
   "metadata": {
    "nbgrader": {
     "grade": false,
     "grade_id": "cell-27b53d359d7a9441",
     "locked": true,
     "schema_version": 3,
     "solution": false,
     "task": false
    }
   },
   "source": [
    "### (optional) 5.3\n",
    "rubric={reasoning:1}\n",
    "\n",
    "Test the best model on some fake movie reviews. Some examples are given below. Feel free to add to this list. Briefly discuss your results - how does your model do? In what instances does it do poorly? Why that might be the case?"
   ]
  },
  {
   "cell_type": "code",
   "execution_count": null,
   "metadata": {},
   "outputs": [],
   "source": [
    "### BEGIN STARTER CODE\n",
    "\n",
    "# Feel free to modify the starter code as you see appropriate.\n",
    "fake_reviews = [\n",
    "    \"This movie was excellent! The performances were oscar-worthy!\",\n",
    "    \"Unbelievably disappointing.\",\n",
    "    \"Full of zany characters and richly applied satire, and some great plot twists\",\n",
    "    \"This is the greatest screwball comedy ever filmed\",\n",
    "    \"It was pathetic. The worst part about it was the boxing scenes.\",\n",
    "    \"\"\"It could have been a great movie. It could have been excellent, \n",
    "                and to all the people who have forgotten about the older, \n",
    "                greater movies before it, will think that as well. \n",
    "                It does have beautiful scenery, some of the best since Lord of the Rings. \n",
    "                The acting is well done, and I really liked the son of the leader of the Samurai.\n",
    "                He was a likeable chap, and I hated to see him die...\n",
    "                But, other than all that, this movie is nothing more than hidden rip-offs.\n",
    "                \"\"\",\n",
    "]\n",
    "true_labels = [\"pos\", \"neg\", \"pos\", \"pos\", \"neg\", \"neg\"]\n",
    "\n",
    "### END STARTER CODE"
   ]
  },
  {
   "cell_type": "code",
   "execution_count": null,
   "metadata": {
    "nbgrader": {
     "grade": true,
     "grade_id": "cell-b3135a33bcfabb93",
     "locked": false,
     "points": 0,
     "schema_version": 3,
     "solution": true,
     "task": false
    }
   },
   "outputs": [],
   "source": [
    "### YOUR ANSWER HERE"
   ]
  },
  {
   "cell_type": "markdown",
   "metadata": {},
   "source": [
    "### YOUR ANSWER HERE"
   ]
  },
  {
   "cell_type": "markdown",
   "metadata": {},
   "source": [
    "### (optional) 5.4\n",
    "rubric={reasoning:1}\n",
    "\n",
    "**Your tasks:**\n",
    "\n",
    "1. Examine the test examples from the test set where our best model is making mistakes, i.e., where the true labels do not match the predicted labels. \n",
    "2. How could you further improve the accuracy? "
   ]
  },
  {
   "cell_type": "code",
   "execution_count": null,
   "metadata": {},
   "outputs": [],
   "source": [
    "### YOUR ANSWER HERE"
   ]
  },
  {
   "cell_type": "markdown",
   "metadata": {},
   "source": [
    "## Exercise 6: Summary and wrap up <a name=\"6\"></a>\n",
    "<hr>"
   ]
  },
  {
   "cell_type": "markdown",
   "metadata": {},
   "source": [
    "### Exercise 6.1: Qualitative comparison of classifiers \n",
    "rubric={reasoning:12}\n",
    "\n",
    "Fill in the following table with at least one entry per box.\n",
    "\n",
    "Classifier |      Strengths | Weaknesses | Key hyperparameters |\n",
    "-----------|      ------------|------------|---------------------|\n",
    "decision tree       |            |            |                     |\n",
    "$k$-NN              |            |            |                     |\n",
    "SVM                 |            |            |                     |\n",
    "naive Bayes         |            |            |                     |\n",
    "logistic regression                 |            |            |                     |\n",
    "\n",
    "For strengths and weaknesses, some things to consider are:\n",
    "  * concerns about underfitting\n",
    "  * concerns about overfitting\n",
    "  * speed\n",
    "  * scalability for large data sets  \n",
    "  * ease of use for multi-class classification  \n",
    "  * effectiveness when number of examples $\\ll$ number of features\n",
    "  * effectiveness when number of examples $\\gg$ number of features\n",
    "  * ability to represent uncertainty\n",
    "  * time/space complexity \n",
    "  * etc."
   ]
  },
  {
   "cell_type": "markdown",
   "metadata": {},
   "source": [
    "### YOUR ANSWER HERE"
   ]
  },
  {
   "cell_type": "markdown",
   "metadata": {},
   "source": [
    "### (optional) Exercise 6.2\n",
    "rubric={reasoning:1}\n",
    "\n",
    "Machine learning has its own workflows and good habits, such as when to split data, writing your code as clear pipelines, and tuning your models in a reproducible manner, to ensure the validity of your results. In this course, we not only learned a number of machine learning methods but also some good habits as a machine learning practitioner. In this optional exercise, I would like you to review a couple of Kaggle notebooks of your choice for some of the most popular datasets we have explored in this class and examine their methodology. In particular, examine the following questions and write your observations. \n",
    "\n",
    "- Are they splitting the data before EDA?\n",
    "- Are they carrying out cross-validation? \n",
    "- Is their code reproducible?\n",
    "- Do you trust their results? Why or why not? "
   ]
  },
  {
   "cell_type": "markdown",
   "metadata": {},
   "source": [
    "### (optional) Exercise 6.3\n",
    "rubric={reasoning:1}\n",
    "\n",
    "**Your tasks:**\n",
    "\n",
    "What is your biggest takeaway from this course? \n",
    "\n",
    "Note that their is no correct answer here but we would appreciate thoughtful answers. "
   ]
  },
  {
   "cell_type": "markdown",
   "metadata": {},
   "source": [
    "### Submission to Canvas\n",
    "\n",
    "**PLEASE READ: When you are ready to submit your assignment do the following:**\n",
    "\n",
    "- Run all cells in your notebook to make sure there are no errors by doing Kernel -->  Restart Kernel and Run All Cells...\n",
    "- If you are using the \"571\" `conda` environment, make sure to select it before running all cells. \n",
    "- Convert your notebook to .html format using the `convert_notebook()` function below or by File -> Export Notebook As... -> Export Notebook to HTML\n",
    "- Run the code `submit()` below to go through an interactive submission process to Canvas.\n",
    "After submission, be sure to do a final push of all your work to GitHub (including the rendered html file)."
   ]
  },
  {
   "cell_type": "code",
   "execution_count": null,
   "metadata": {},
   "outputs": [],
   "source": [
    "# from canvasutils.submit import convert_notebook, submit\n",
    "\n",
    "# convert_notebook(\"lab1.ipynb\", \"html\")  # uncomment and run when you want to try convert your notebook (or you can convert manually from the File menu)\n",
    "# submit(course_code=53670, token=False)  # uncomment and run when ready to submit to Canvas"
   ]
  },
  {
   "cell_type": "markdown",
   "metadata": {},
   "source": [
    "### Congratulations on finishing all labs! :clap: :clap: "
   ]
  }
 ],
 "metadata": {
  "celltoolbar": "Create Assignment",
  "kernelspec": {
   "display_name": "Python [conda env:571]",
   "language": "python",
   "name": "conda-env-571-py"
  },
  "language_info": {
   "codemirror_mode": {
    "name": "ipython",
    "version": 3
   },
   "file_extension": ".py",
   "mimetype": "text/x-python",
   "name": "python",
   "nbconvert_exporter": "python",
   "pygments_lexer": "ipython3",
   "version": "3.8.6"
  }
 },
 "nbformat": 4,
 "nbformat_minor": 4
}
