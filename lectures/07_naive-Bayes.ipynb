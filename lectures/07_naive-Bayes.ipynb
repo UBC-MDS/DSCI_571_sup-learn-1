{
 "cells": [
  {
   "cell_type": "markdown",
   "metadata": {
    "slideshow": {
     "slide_type": "slide"
    }
   },
   "source": [
    "![](img/571_banner.png)"
   ]
  },
  {
   "cell_type": "markdown",
   "metadata": {
    "slideshow": {
     "slide_type": "-"
    }
   },
   "source": [
    "# Lecture 7: Naive Bayes\n",
    "\n",
    "UBC Master of Data Science program, 2023-24\n",
    "\n",
    "Instructor: Varada Kolhatkar\n"
   ]
  },
  {
   "cell_type": "markdown",
   "metadata": {
    "slideshow": {
     "slide_type": "skip"
    }
   },
   "source": [
    "## Imports"
   ]
  },
  {
   "cell_type": "code",
   "execution_count": 1,
   "metadata": {
    "slideshow": {
     "slide_type": "skip"
    }
   },
   "outputs": [],
   "source": [
    "import os\n",
    "import sys\n",
    "\n",
    "sys.path.append(os.path.join(os.path.abspath(\".\"), \"code\"))\n",
    "\n",
    "import IPython\n",
    "import matplotlib.pyplot as plt\n",
    "import numpy as np\n",
    "import pandas as pd\n",
    "from IPython.display import HTML\n",
    "from plotting_functions import *\n",
    "\n",
    "from sklearn.dummy import DummyClassifier\n",
    "from sklearn.feature_extraction.text import CountVectorizer\n",
    "from sklearn.model_selection import (\n",
    "    GridSearchCV,\n",
    "    cross_val_score,\n",
    "    cross_validate,\n",
    "    train_test_split,\n",
    ")\n",
    "\n",
    "%matplotlib inline\n",
    "from sklearn.naive_bayes import BernoulliNB, GaussianNB, MultinomialNB\n",
    "from sklearn.neighbors import KNeighborsClassifier\n",
    "from sklearn.pipeline import Pipeline, make_pipeline\n",
    "from sklearn.svm import SVC\n",
    "from utils import *\n",
    "\n",
    "pd.set_option(\"display.max_colwidth\", 200)"
   ]
  },
  {
   "cell_type": "markdown",
   "metadata": {
    "slideshow": {
     "slide_type": "skip"
    }
   },
   "source": [
    "## Lecture learning objectives\n",
    "\n",
    "From this lecture, you will be able to \n",
    "\n",
    "- Explain the naive assumption of naive Bayes. \n",
    "- Predict targets by hand on toy examples using naive Bayes.\n",
    "- Use `scikit-learn`'s `MultiNomialNB`, `BernoulliNB`, and `GaussianNB`. \n",
    "- Use `predict_proba` for different classifiers and explain its usefulness. \n",
    "- Explain the need of smoothing in naive Bayes.\n",
    "- Explain how `alpha` controls the fundamental tradeoff. \n",
    "- Use naive Bayes for multi-class classification. \n",
    "- Name advantages and disadvantages of naive Bayes. "
   ]
  },
  {
   "cell_type": "markdown",
   "metadata": {},
   "source": [
    "<br><br>"
   ]
  },
  {
   "cell_type": "markdown",
   "metadata": {
    "slideshow": {
     "slide_type": "slide"
    }
   },
   "source": [
    "## Motivating example"
   ]
  },
  {
   "cell_type": "markdown",
   "metadata": {
    "slideshow": {
     "slide_type": "slide"
    }
   },
   "source": [
    "### Example: spam/ham\n",
    "Last week in your lab you worked on spam classification using `SVC` classifier. \n",
    "\n",
    "$X = \\begin{bmatrix}\\text{\"URGENT!! You have been selected to receive a £900 prize reward!\",}\\\\ \\text{\"Lol your always so convincing.\"}\\\\ \\text{\"Congrats! 1 year special cinema pass for 2 is yours. call 09061209465 now!\"}\\\\ \\end{bmatrix}$ and $y = \\begin{bmatrix}\\text{spam} \\\\ \\text{ham} \\\\ \\text{spam} \\end{bmatrix}$\n",
    "\n",
    "\n",
    "ML algorithms we have seen so far prefer fixed length numeric input that looks like this: \n",
    "\n",
    "$X = \\begin{bmatrix}1.0 & 4.0 & \\ldots & & 3.0\\\\ 0.0 & 2.0 & \\ldots & & 6.0\\\\ 1.0 & 0.0 & \\ldots & & 0.0\\\\ \\end{bmatrix}$ and $y = \\begin{bmatrix}\\text{spam} \\\\ \\text{ham} \\\\ \\text{spam} \\end{bmatrix}$\n"
   ]
  },
  {
   "cell_type": "markdown",
   "metadata": {
    "slideshow": {
     "slide_type": "slide"
    }
   },
   "source": [
    "#### `CountVectorizer` to get bag-of-words (BOW) representation\n",
    "\n",
    "- So we used `CountVectorizer` to convert text data into feature vectors where\n",
    "    - each feature is a unique word in the text  \n",
    "    - each feature value represents the frequency or presence/absence of the word in the given message         \n",
    "<!-- <center>    \n",
    "<img src='./img/bag-of-words.png' width=\"800\">\n",
    "</center>        \n",
    " -->\n",
    "\n",
    "![](img/bag-of-words.png)\n",
    "[Source](https://web.stanford.edu/~jurafsky/slp3/4.pdf)       "
   ]
  },
  {
   "cell_type": "markdown",
   "metadata": {},
   "source": [
    "<br><br><br><br>"
   ]
  },
  {
   "cell_type": "markdown",
   "metadata": {
    "slideshow": {
     "slide_type": "slide"
    }
   },
   "source": [
    "## ❓❓ Questions for you"
   ]
  },
  {
   "cell_type": "markdown",
   "metadata": {},
   "source": [
    "We've focused on \"hard\" predictions thus far. Can Decision Trees and KNNs provide scores quantifying the certainty of the model or probabilities? If so, how? Discuss the following two scenarios with your neighbour. "
   ]
  },
  {
   "cell_type": "markdown",
   "metadata": {},
   "source": [
    "### Exercise 7.1.1 Decision trees: Quantifying the level of certainty of predictions\n",
    "\n",
    "Imagine you have trained a decision tree and are provided with several new examples for prediction. How would you determine the model's level of certainty at each leaf node?\n",
    "\n",
    "![](img/spam_toy_decision_tree.png)"
   ]
  },
  {
   "cell_type": "markdown",
   "metadata": {},
   "source": [
    "<br><br>"
   ]
  },
  {
   "cell_type": "markdown",
   "metadata": {},
   "source": [
    "### Exercise 7.1.1 KNNs: Quantifying the level of certainty of predictions\n",
    "\n",
    "Below are five closest neighbors and their targets extracted from [the SMS Spam Collection Dataset](https://www.kaggle.com/datasets/uciml/sms-spam-collection-dataset) for a given `test_message`\n",
    "\n",
    "How would you determine the model's prediction and its level of certainty?"
   ]
  },
  {
   "cell_type": "code",
   "execution_count": 2,
   "metadata": {},
   "outputs": [
    {
     "name": "stdout",
     "output_type": "stream",
     "text": [
      "Five closest neighbours of the message:  Good. No cellphones allowed :)\n"
     ]
    },
    {
     "data": {
      "text/html": [
       "<div>\n",
       "<style scoped>\n",
       "    .dataframe tbody tr th:only-of-type {\n",
       "        vertical-align: middle;\n",
       "    }\n",
       "\n",
       "    .dataframe tbody tr th {\n",
       "        vertical-align: top;\n",
       "    }\n",
       "\n",
       "    .dataframe thead th {\n",
       "        text-align: right;\n",
       "    }\n",
       "</style>\n",
       "<table border=\"1\" class=\"dataframe\">\n",
       "  <thead>\n",
       "    <tr style=\"text-align: right;\">\n",
       "      <th></th>\n",
       "      <th>Nearest neighbour</th>\n",
       "      <th>target</th>\n",
       "    </tr>\n",
       "  </thead>\n",
       "  <tbody>\n",
       "    <tr>\n",
       "      <th>0</th>\n",
       "      <td>Thinkin about someone is all good. No drugs for that</td>\n",
       "      <td>ham</td>\n",
       "    </tr>\n",
       "    <tr>\n",
       "      <th>1</th>\n",
       "      <td>For sale - arsenal dartboard. Good condition but no doubles or trebles!</td>\n",
       "      <td>spam</td>\n",
       "    </tr>\n",
       "    <tr>\n",
       "      <th>2</th>\n",
       "      <td>K:)k:)good:)study well.</td>\n",
       "      <td>ham</td>\n",
       "    </tr>\n",
       "    <tr>\n",
       "      <th>3</th>\n",
       "      <td>No management puzzeles.</td>\n",
       "      <td>ham</td>\n",
       "    </tr>\n",
       "    <tr>\n",
       "      <th>4</th>\n",
       "      <td>have a good weekend.</td>\n",
       "      <td>ham</td>\n",
       "    </tr>\n",
       "  </tbody>\n",
       "</table>\n",
       "</div>"
      ],
      "text/plain": [
       "                                                         Nearest neighbour  \\\n",
       "0                     Thinkin about someone is all good. No drugs for that   \n",
       "1  For sale - arsenal dartboard. Good condition but no doubles or trebles!   \n",
       "2                                                  K:)k:)good:)study well.   \n",
       "3                                                  No management puzzeles.   \n",
       "4                                                     have a good weekend.   \n",
       "\n",
       "  target  \n",
       "0    ham  \n",
       "1   spam  \n",
       "2    ham  \n",
       "3    ham  \n",
       "4    ham  "
      ]
     },
     "execution_count": 2,
     "metadata": {},
     "output_type": "execute_result"
    }
   ],
   "source": [
    "test_message = \"Good. No cellphones allowed :)\"\n",
    "s1 = [\"Thinkin about someone is all good. No drugs for that\", \n",
    "      \"For sale - arsenal dartboard. Good condition but no doubles or trebles!\", \n",
    "      \"K:)k:)good:)study well.\", \n",
    "      \"No management puzzeles.\", \n",
    "      \"have a good weekend.\"\n",
    "     ]\n",
    "s2 = [\"ham\", \"spam\", \"ham\", \"ham\", \"ham\"]\n",
    "\n",
    "print(\"Five closest neighbours of the message: \", test_message)\n",
    "df = pd.DataFrame({\"Nearest neighbour\": s1, \"target\": s2})\n",
    "df"
   ]
  },
  {
   "cell_type": "markdown",
   "metadata": {},
   "source": [
    "<br><br><br><br>"
   ]
  },
  {
   "cell_type": "markdown",
   "metadata": {},
   "source": [
    "### Exercise 7.1.3 Calculating $P(spam \\mid message)$ and $P(ham \\mid message)$\n",
    "\n",
    "These are reasonable approaches to quantify the level of certainty of models. But how about directly calculating actual probabilities $P(spam \\mid message)$ and $P(ham \\mid message)$ from the training data? What are the challenges associated with directly calculating these probabilities?"
   ]
  },
  {
   "cell_type": "markdown",
   "metadata": {},
   "source": [
    "Let's consider a simple example to provide a clearer understanding."
   ]
  },
  {
   "cell_type": "code",
   "execution_count": 3,
   "metadata": {
    "slideshow": {
     "slide_type": "-"
    }
   },
   "outputs": [
    {
     "data": {
      "text/html": [
       "<div>\n",
       "<style scoped>\n",
       "    .dataframe tbody tr th:only-of-type {\n",
       "        vertical-align: middle;\n",
       "    }\n",
       "\n",
       "    .dataframe tbody tr th {\n",
       "        vertical-align: top;\n",
       "    }\n",
       "\n",
       "    .dataframe thead th {\n",
       "        text-align: right;\n",
       "    }\n",
       "</style>\n",
       "<table border=\"1\" class=\"dataframe\">\n",
       "  <thead>\n",
       "    <tr style=\"text-align: right;\">\n",
       "      <th></th>\n",
       "      <th>sms</th>\n",
       "      <th>target</th>\n",
       "    </tr>\n",
       "  </thead>\n",
       "  <tbody>\n",
       "    <tr>\n",
       "      <th>0</th>\n",
       "      <td>URGENT!! As a valued network customer you have been selected to receive a £900 prize reward!</td>\n",
       "      <td>spam</td>\n",
       "    </tr>\n",
       "    <tr>\n",
       "      <th>1</th>\n",
       "      <td>Lol you are always so convincing. I'm going to give you a free advice. It's urgent.</td>\n",
       "      <td>ham</td>\n",
       "    </tr>\n",
       "    <tr>\n",
       "      <th>2</th>\n",
       "      <td>Block 2 has interesting courses.</td>\n",
       "      <td>ham</td>\n",
       "    </tr>\n",
       "    <tr>\n",
       "      <th>3</th>\n",
       "      <td>URGENT! You have won a 1 week FREE membership in our £100000 prize Jackpot!</td>\n",
       "      <td>spam</td>\n",
       "    </tr>\n",
       "    <tr>\n",
       "      <th>4</th>\n",
       "      <td>Had your mobile 11 months or more? U R entitled to Update to the latest colour mobiles with camera for Free!</td>\n",
       "      <td>spam</td>\n",
       "    </tr>\n",
       "    <tr>\n",
       "      <th>5</th>\n",
       "      <td>Block 2 has been great so far.</td>\n",
       "      <td>ham</td>\n",
       "    </tr>\n",
       "  </tbody>\n",
       "</table>\n",
       "</div>"
      ],
      "text/plain": [
       "                                                                                                            sms  \\\n",
       "0                  URGENT!! As a valued network customer you have been selected to receive a £900 prize reward!   \n",
       "1                           Lol you are always so convincing. I'm going to give you a free advice. It's urgent.   \n",
       "2                                                                              Block 2 has interesting courses.   \n",
       "3                                   URGENT! You have won a 1 week FREE membership in our £100000 prize Jackpot!   \n",
       "4  Had your mobile 11 months or more? U R entitled to Update to the latest colour mobiles with camera for Free!   \n",
       "5                                                                                Block 2 has been great so far.   \n",
       "\n",
       "  target  \n",
       "0   spam  \n",
       "1    ham  \n",
       "2    ham  \n",
       "3   spam  \n",
       "4   spam  \n",
       "5    ham  "
      ]
     },
     "execution_count": 3,
     "metadata": {},
     "output_type": "execute_result"
    }
   ],
   "source": [
    "X_toy = [\n",
    "    \"URGENT!! As a valued network customer you have been selected to receive a £900 prize reward!\",\n",
    "    \"Lol you are always so convincing. I'm going to give you a free advice. It's urgent.\",\n",
    "    \"Block 2 has interesting courses.\",\n",
    "    \"URGENT! You have won a 1 week FREE membership in our £100000 prize Jackpot!\",\n",
    "    \"Had your mobile 11 months or more? U R entitled to Update to the latest colour mobiles with camera for Free!\",\n",
    "    \"Block 2 has been great so far.\",\n",
    "]\n",
    "y_toy = [\"spam\", \"ham\", \"ham\", \"spam\", \"spam\", \"ham\"]\n",
    "\n",
    "toy_df = pd.DataFrame({\"sms\":X_toy, \"target\":y_toy})\n",
    "toy_df"
   ]
  },
  {
   "cell_type": "markdown",
   "metadata": {},
   "source": [
    "Given this training data and a new unseen message \"I'm happy to offer some free advice.\", how would you calculate the following probabilities?\n",
    "- $P(spam \\mid \\text{I'm happy to offer some free advice})$\n",
    "- $P(ham \\mid \\text{I'm happy to offer some free advice})$"
   ]
  },
  {
   "cell_type": "markdown",
   "metadata": {},
   "source": [
    "How about using the Bayes rule to calculate these probabilities? \n",
    "\n",
    "$$P(A \\mid B) = \\frac{P(B \\mid A) \\times P(A)}{P(B)}$$\n",
    "\n",
    "$$P(\\text{spam} \\mid \\text{message})= \\frac{P(message \\mid spam) \\times P(spam)}{P(message)}$$\n",
    "\n",
    "<br><br>\n",
    "\n",
    "$$P(\\text{ham} \\mid \\text{message})= \\frac{P(message \\mid ham) \\times P(ham)}{P(message)}$$"
   ]
  },
  {
   "cell_type": "markdown",
   "metadata": {},
   "source": [
    "Does it make it easier? In this case, we need the following probabilities. \n",
    "- $P(\\text{spam})$ and $P(\\text{ham})$\n",
    "- $P(\\text{message})$\n",
    "- $P(\\text{message} \\mid \\text{spam})$ and $P(\\text{message} \\mid \\text{ham})$"
   ]
  },
  {
   "cell_type": "markdown",
   "metadata": {},
   "source": [
    "#### The prior probabilities $P(\\text{spam})$ and $P(\\text{ham})$\n",
    "- marginal probability that a message is spam\n",
    "- marginal probability that a message is ham\n",
    "\n",
    "![](img/prior_prob.png)\n",
    "<!-- <img src='./img/prior_prob1.png' width=\"500\"> -->"
   ]
  },
  {
   "cell_type": "markdown",
   "metadata": {},
   "source": [
    "#### $P(\\text{message})$\n",
    "- marginal probability of a message\n",
    "    - Hard to calculate but can be ignored in our scenario as it occurs in the denominator for both $P(\\text{spam} \\mid \\text{message})$ and $P(\\text{ham} \\mid \\text{message})$.\n",
    "    - Since our goal is to get good predictions, and we don't specifically care about the actual probability values, we could ignore the denominator in both cases.\n",
    " \n",
    "![](img/prob_message.png)\n",
    "<!-- <img src='./img/prob_message.png' width=\"500\"> -->"
   ]
  },
  {
   "cell_type": "markdown",
   "metadata": {
    "slideshow": {
     "slide_type": "slide"
    }
   },
   "source": [
    "#### $P(\\text{message} \\mid \\text{spam})$\n",
    "- The conditional probability $P(\\text{message}\\mid\\text{spam})$ is hard to calculate because it requires a huge number of parameters and impossibly large training sets. \n",
    "- In our toy example:\n",
    "    - $P(\\text{message}\\mid\\text{spam}) = $$P(\\text{I} \\mid spam) \\times P(\\text{am} \\mid spam, \\text{I}) \\times \\dots \\times P(\\text{advice} \\mid spam, \\text{I am happy to offer some free})$\n",
    "\n",
    "    - $P(\\text{message}\\mid\\text{ham}) = $$P(\\text{I} \\mid ham) \\times P(\\text{am} \\mid ham, \\text{I}) \\times \\dots \\times P(\\text{advice} \\mid ham, \\text{I am happy to offer some free})$\n",
    "  \n",
    "- with large number of features, it would require huge numbers of parameters and impossibly large training sets. \n",
    "- For example, imagine how hard it would be to estimate probability of the 5,000th word, given the previous 4,999 words.\n",
    "\n",
    "...But we need this probability. So we start making assumptions. "
   ]
  },
  {
   "cell_type": "markdown",
   "metadata": {},
   "source": [
    "**Naive Bayes**, the topic of this lecture makes two simplifying assumptions:\n",
    "\n",
    "**Bag-of-words representation** \n",
    "\n",
    "Information about the order and structure of words in the text is lost, but the frequency or presence of each word is retained.\n",
    "\n",
    "**Conditional independence assumption**\n",
    "\n",
    "This is the \"naive\" part of naive Bayes. Given the target (like spam or not-spam), the presence (or absence) of each word is assumed to be **conditionally independent** of the presence (or absence) of any other word. This assumption simplifies the computation and makes the method tractable for high-dimensional data, even though it's a strong and often unrealistic assumption.\n",
    "\n",
    "$$P(\\text{I am happy to offer some free advice}\\mid\\text{spam}) \\approx P(\\text{I} \\mid spam) \\times P(\\text{am} \\mid spam) \\times P(\\text{happy} \\mid spam) \\times \\dots \\times P(\\text{advice} \\mid spam)$$"
   ]
  },
  {
   "cell_type": "markdown",
   "metadata": {
    "slideshow": {
     "slide_type": "skip"
    }
   },
   "source": [
    "<br><br><br><br>"
   ]
  },
  {
   "cell_type": "markdown",
   "metadata": {
    "slideshow": {
     "slide_type": "slide"
    }
   },
   "source": [
    "## Naive Bayes\n",
    "\n",
    "- Our first probabilistic classifier where we think of learning as a problem of statistical inference.\n",
    "- In late 1990's a graduate student from Stanford, Mehran Sahami, did an internship at Microsoft Research, where he collaborated with others on the use of Naive Bayes for spam filtering. The work was pioneering at that time. \n",
    "    - Check out [the original paper](http://robotics.stanford.edu/users/sahami/papers-dir/spam.pdf)\n",
    "- For years, best spam filtering methods used naive Bayes.\n",
    "- For example, [SpamAssassin](https://spamassassin.apache.org/) is a spam filtering system based on naive Bayes. \n",
    "- Even today naive Bayes forms a basis for many disease diagnosis and spam filtering systems.\n",
    "- At some point it was one of the most widely used learner at Google.  "
   ]
  },
  {
   "cell_type": "markdown",
   "metadata": {
    "slideshow": {
     "slide_type": "slide"
    }
   },
   "source": [
    "### SVC classifier for spam detection \n",
    "\n",
    "- Before discussing how it works, let's try it out with sklearn. \n",
    "- Let's first try SVC classifier on [the SMS Spam Collection Dataset](https://www.kaggle.com/datasets/uciml/sms-spam-collection-dataset). (This is what you did in the lab last week.)"
   ]
  },
  {
   "cell_type": "code",
   "execution_count": 4,
   "metadata": {
    "slideshow": {
     "slide_type": "slide"
    }
   },
   "outputs": [],
   "source": [
    "sms_df = pd.read_csv(\"data/spam.csv\", encoding=\"latin-1\")\n",
    "sms_df = sms_df.drop([\"Unnamed: 2\", \"Unnamed: 3\", \"Unnamed: 4\"], axis=1)\n",
    "sms_df = sms_df.rename(columns={\"v1\": \"target\", \"v2\": \"sms\"})"
   ]
  },
  {
   "cell_type": "code",
   "execution_count": 5,
   "metadata": {},
   "outputs": [
    {
     "data": {
      "text/html": [
       "<div>\n",
       "<style scoped>\n",
       "    .dataframe tbody tr th:only-of-type {\n",
       "        vertical-align: middle;\n",
       "    }\n",
       "\n",
       "    .dataframe tbody tr th {\n",
       "        vertical-align: top;\n",
       "    }\n",
       "\n",
       "    .dataframe thead th {\n",
       "        text-align: right;\n",
       "    }\n",
       "</style>\n",
       "<table border=\"1\" class=\"dataframe\">\n",
       "  <thead>\n",
       "    <tr style=\"text-align: right;\">\n",
       "      <th></th>\n",
       "      <th>target</th>\n",
       "      <th>sms</th>\n",
       "    </tr>\n",
       "  </thead>\n",
       "  <tbody>\n",
       "    <tr>\n",
       "      <th>385</th>\n",
       "      <td>ham</td>\n",
       "      <td>It took Mr owl 3 licks</td>\n",
       "    </tr>\n",
       "    <tr>\n",
       "      <th>4003</th>\n",
       "      <td>ham</td>\n",
       "      <td>Well there's a pattern emerging of my friends telling me to drive up and come smoke with them and then telling me that I'm a weed fiend/make them smoke too much/impede their doing other things so ...</td>\n",
       "    </tr>\n",
       "    <tr>\n",
       "      <th>1283</th>\n",
       "      <td>ham</td>\n",
       "      <td>Yes i thought so. Thanks.</td>\n",
       "    </tr>\n",
       "    <tr>\n",
       "      <th>2327</th>\n",
       "      <td>spam</td>\n",
       "      <td>URGENT! Your mobile number *************** WON a å£2000 Bonus Caller prize on 10/06/03! This is the 2nd attempt to reach you! Call 09066368753 ASAP! Box 97N7QP, 150ppm</td>\n",
       "    </tr>\n",
       "    <tr>\n",
       "      <th>1103</th>\n",
       "      <td>ham</td>\n",
       "      <td>Aiyah sorry lor... I watch tv watch until i forgot 2 check my phone.</td>\n",
       "    </tr>\n",
       "  </tbody>\n",
       "</table>\n",
       "</div>"
      ],
      "text/plain": [
       "     target  \\\n",
       "385     ham   \n",
       "4003    ham   \n",
       "1283    ham   \n",
       "2327   spam   \n",
       "1103    ham   \n",
       "\n",
       "                                                                                                                                                                                                          sms  \n",
       "385                                                                                                                                                                                    It took Mr owl 3 licks  \n",
       "4003  Well there's a pattern emerging of my friends telling me to drive up and come smoke with them and then telling me that I'm a weed fiend/make them smoke too much/impede their doing other things so ...  \n",
       "1283                                                                                                                                                                                Yes i thought so. Thanks.  \n",
       "2327                                  URGENT! Your mobile number *************** WON a å£2000 Bonus Caller prize on 10/06/03! This is the 2nd attempt to reach you! Call 09066368753 ASAP! Box 97N7QP, 150ppm  \n",
       "1103                                                                                                                                     Aiyah sorry lor... I watch tv watch until i forgot 2 check my phone.  "
      ]
     },
     "execution_count": 5,
     "metadata": {},
     "output_type": "execute_result"
    }
   ],
   "source": [
    "train_df, test_df = train_test_split(sms_df, test_size=0.2, random_state=123)\n",
    "X_train, y_train = train_df[\"sms\"], train_df[\"target\"]\n",
    "X_test, y_test = test_df[\"sms\"], test_df[\"target\"]\n",
    "train_df.head()"
   ]
  },
  {
   "cell_type": "code",
   "execution_count": 6,
   "metadata": {},
   "outputs": [
    {
     "name": "stderr",
     "output_type": "stream",
     "text": [
      "/Users/kvarada/MDS/2023-24/571/DSCI_571_sup-learn-1_students/lectures/code/utils.py:86: FutureWarning: Series.__getitem__ treating keys as positions is deprecated. In a future version, integer keys will always be treated as labels (consistent with DataFrame behavior). To access a value by position, use `ser.iloc[pos]`\n",
      "  out_col.append((f\"%0.3f (+/- %0.3f)\" % (mean_scores[i], std_scores[i])))\n"
     ]
    }
   ],
   "source": [
    "results_dict = {}\n",
    "pipe_svc = make_pipeline(CountVectorizer(), SVC())\n",
    "results_dict[\"SVC\"] = mean_std_cross_val_scores(\n",
    "    pipe_svc, X_train, y_train, return_train_score=True\n",
    ")"
   ]
  },
  {
   "cell_type": "code",
   "execution_count": 7,
   "metadata": {},
   "outputs": [
    {
     "data": {
      "text/html": [
       "<div>\n",
       "<style scoped>\n",
       "    .dataframe tbody tr th:only-of-type {\n",
       "        vertical-align: middle;\n",
       "    }\n",
       "\n",
       "    .dataframe tbody tr th {\n",
       "        vertical-align: top;\n",
       "    }\n",
       "\n",
       "    .dataframe thead th {\n",
       "        text-align: right;\n",
       "    }\n",
       "</style>\n",
       "<table border=\"1\" class=\"dataframe\">\n",
       "  <thead>\n",
       "    <tr style=\"text-align: right;\">\n",
       "      <th></th>\n",
       "      <th>SVC</th>\n",
       "    </tr>\n",
       "  </thead>\n",
       "  <tbody>\n",
       "    <tr>\n",
       "      <th>fit_time</th>\n",
       "      <td>0.483 (+/- 0.017)</td>\n",
       "    </tr>\n",
       "    <tr>\n",
       "      <th>score_time</th>\n",
       "      <td>0.113 (+/- 0.006)</td>\n",
       "    </tr>\n",
       "    <tr>\n",
       "      <th>test_score</th>\n",
       "      <td>0.978 (+/- 0.005)</td>\n",
       "    </tr>\n",
       "    <tr>\n",
       "      <th>train_score</th>\n",
       "      <td>0.995 (+/- 0.001)</td>\n",
       "    </tr>\n",
       "  </tbody>\n",
       "</table>\n",
       "</div>"
      ],
      "text/plain": [
       "                           SVC\n",
       "fit_time     0.483 (+/- 0.017)\n",
       "score_time   0.113 (+/- 0.006)\n",
       "test_score   0.978 (+/- 0.005)\n",
       "train_score  0.995 (+/- 0.001)"
      ]
     },
     "execution_count": 7,
     "metadata": {},
     "output_type": "execute_result"
    }
   ],
   "source": [
    "pd.DataFrame(results_dict)"
   ]
  },
  {
   "cell_type": "markdown",
   "metadata": {
    "slideshow": {
     "slide_type": "slide"
    }
   },
   "source": [
    "### `sklearn` naive Bayes classifier \n",
    "\n",
    "- Let's try Naive Bayes on this problem. "
   ]
  },
  {
   "cell_type": "code",
   "execution_count": 8,
   "metadata": {},
   "outputs": [
    {
     "name": "stderr",
     "output_type": "stream",
     "text": [
      "/Users/kvarada/MDS/2023-24/571/DSCI_571_sup-learn-1_students/lectures/code/utils.py:86: FutureWarning: Series.__getitem__ treating keys as positions is deprecated. In a future version, integer keys will always be treated as labels (consistent with DataFrame behavior). To access a value by position, use `ser.iloc[pos]`\n",
      "  out_col.append((f\"%0.3f (+/- %0.3f)\" % (mean_scores[i], std_scores[i])))\n"
     ]
    }
   ],
   "source": [
    "from sklearn.naive_bayes import MultinomialNB, BernoulliNB\n",
    "\n",
    "pipe_nb = make_pipeline(CountVectorizer(), MultinomialNB())\n",
    "results_dict[\"Naive Bayes\"] = mean_std_cross_val_scores(\n",
    "    pipe_nb, X_train, y_train, return_train_score=True\n",
    ")"
   ]
  },
  {
   "cell_type": "code",
   "execution_count": 9,
   "metadata": {},
   "outputs": [
    {
     "data": {
      "text/html": [
       "<div>\n",
       "<style scoped>\n",
       "    .dataframe tbody tr th:only-of-type {\n",
       "        vertical-align: middle;\n",
       "    }\n",
       "\n",
       "    .dataframe tbody tr th {\n",
       "        vertical-align: top;\n",
       "    }\n",
       "\n",
       "    .dataframe thead th {\n",
       "        text-align: right;\n",
       "    }\n",
       "</style>\n",
       "<table border=\"1\" class=\"dataframe\">\n",
       "  <thead>\n",
       "    <tr style=\"text-align: right;\">\n",
       "      <th></th>\n",
       "      <th>SVC</th>\n",
       "      <th>Naive Bayes</th>\n",
       "    </tr>\n",
       "  </thead>\n",
       "  <tbody>\n",
       "    <tr>\n",
       "      <th>fit_time</th>\n",
       "      <td>0.483 (+/- 0.017)</td>\n",
       "      <td>0.041 (+/- 0.001)</td>\n",
       "    </tr>\n",
       "    <tr>\n",
       "      <th>score_time</th>\n",
       "      <td>0.113 (+/- 0.006)</td>\n",
       "      <td>0.009 (+/- 0.000)</td>\n",
       "    </tr>\n",
       "    <tr>\n",
       "      <th>test_score</th>\n",
       "      <td>0.978 (+/- 0.005)</td>\n",
       "      <td>0.986 (+/- 0.003)</td>\n",
       "    </tr>\n",
       "    <tr>\n",
       "      <th>train_score</th>\n",
       "      <td>0.995 (+/- 0.001)</td>\n",
       "      <td>0.993 (+/- 0.001)</td>\n",
       "    </tr>\n",
       "  </tbody>\n",
       "</table>\n",
       "</div>"
      ],
      "text/plain": [
       "                           SVC        Naive Bayes\n",
       "fit_time     0.483 (+/- 0.017)  0.041 (+/- 0.001)\n",
       "score_time   0.113 (+/- 0.006)  0.009 (+/- 0.000)\n",
       "test_score   0.978 (+/- 0.005)  0.986 (+/- 0.003)\n",
       "train_score  0.995 (+/- 0.001)  0.993 (+/- 0.001)"
      ]
     },
     "execution_count": 9,
     "metadata": {},
     "output_type": "execute_result"
    }
   ],
   "source": [
    "pd.DataFrame(results_dict)"
   ]
  },
  {
   "cell_type": "markdown",
   "metadata": {},
   "source": [
    "- The validation scores are a bit better on this particular dataset.\n",
    "- Much faster than the SVC classifier!! "
   ]
  },
  {
   "cell_type": "markdown",
   "metadata": {},
   "source": [
    "Now let's try to understand how `predict` and `fit` work for this model. Let's bring back the toy dataset from before and encode it with BOW representation.  "
   ]
  },
  {
   "cell_type": "code",
   "execution_count": 10,
   "metadata": {},
   "outputs": [],
   "source": [
    "X_toy = [\n",
    "    \"URGENT!! As a valued network customer you have been selected to receive a £900 prize reward!\",\n",
    "    \"Lol you are always so convincing. I'm going to give you a free advice. It's urgent.\",\n",
    "    \"Block 2 has interesting courses.\",\n",
    "    \"URGENT! You have won a 1 week FREE membership in our £100000 prize Jackpot!\",\n",
    "    \"Had your mobile 11 months or more? U R entitled to Update to the latest colour mobiles with camera for Free!\",\n",
    "    \"Block 2 has been great so far.\",\n",
    "]\n",
    "y_toy = [\"spam\", \"ham\", \"ham\", \"spam\", \"spam\", \"ham\"]\n",
    "toy_df = pd.DataFrame({\"sms\":X_toy, \"target\":y_toy})"
   ]
  },
  {
   "cell_type": "markdown",
   "metadata": {},
   "source": [
    "- For simplicity, let's use `CountVectorizer` with `binary=True`, i.e., assume presence or absence of words instead of counts and only consider the top 4 features.    "
   ]
  },
  {
   "cell_type": "code",
   "execution_count": 11,
   "metadata": {},
   "outputs": [],
   "source": [
    "vec = CountVectorizer(max_features=4, stop_words=\"english\", binary=True)\n",
    "X_toy_vec = vec.fit_transform(X_toy, y_toy)"
   ]
  },
  {
   "cell_type": "code",
   "execution_count": 12,
   "metadata": {},
   "outputs": [
    {
     "data": {
      "text/html": [
       "<div>\n",
       "<style scoped>\n",
       "    .dataframe tbody tr th:only-of-type {\n",
       "        vertical-align: middle;\n",
       "    }\n",
       "\n",
       "    .dataframe tbody tr th {\n",
       "        vertical-align: top;\n",
       "    }\n",
       "\n",
       "    .dataframe thead th {\n",
       "        text-align: right;\n",
       "    }\n",
       "</style>\n",
       "<table border=\"1\" class=\"dataframe\">\n",
       "  <thead>\n",
       "    <tr style=\"text-align: right;\">\n",
       "      <th></th>\n",
       "      <th>block</th>\n",
       "      <th>free</th>\n",
       "      <th>prize</th>\n",
       "      <th>urgent</th>\n",
       "      <th>target</th>\n",
       "    </tr>\n",
       "  </thead>\n",
       "  <tbody>\n",
       "    <tr>\n",
       "      <th>URGENT!! As a valued network customer you have been selected to receive a £900 prize reward!</th>\n",
       "      <td>0</td>\n",
       "      <td>0</td>\n",
       "      <td>1</td>\n",
       "      <td>1</td>\n",
       "      <td>spam</td>\n",
       "    </tr>\n",
       "    <tr>\n",
       "      <th>Lol you are always so convincing. I'm going to give you a free advice. It's urgent.</th>\n",
       "      <td>0</td>\n",
       "      <td>1</td>\n",
       "      <td>0</td>\n",
       "      <td>1</td>\n",
       "      <td>ham</td>\n",
       "    </tr>\n",
       "    <tr>\n",
       "      <th>Block 2 has interesting courses.</th>\n",
       "      <td>1</td>\n",
       "      <td>0</td>\n",
       "      <td>0</td>\n",
       "      <td>0</td>\n",
       "      <td>ham</td>\n",
       "    </tr>\n",
       "    <tr>\n",
       "      <th>URGENT! You have won a 1 week FREE membership in our £100000 prize Jackpot!</th>\n",
       "      <td>0</td>\n",
       "      <td>1</td>\n",
       "      <td>1</td>\n",
       "      <td>1</td>\n",
       "      <td>spam</td>\n",
       "    </tr>\n",
       "    <tr>\n",
       "      <th>Had your mobile 11 months or more? U R entitled to Update to the latest colour mobiles with camera for Free!</th>\n",
       "      <td>0</td>\n",
       "      <td>1</td>\n",
       "      <td>0</td>\n",
       "      <td>0</td>\n",
       "      <td>spam</td>\n",
       "    </tr>\n",
       "    <tr>\n",
       "      <th>Block 2 has been great so far.</th>\n",
       "      <td>1</td>\n",
       "      <td>0</td>\n",
       "      <td>0</td>\n",
       "      <td>0</td>\n",
       "      <td>ham</td>\n",
       "    </tr>\n",
       "  </tbody>\n",
       "</table>\n",
       "</div>"
      ],
      "text/plain": [
       "                                                                                                              block  \\\n",
       "URGENT!! As a valued network customer you have been selected to receive a £900 prize reward!                      0   \n",
       "Lol you are always so convincing. I'm going to give you a free advice. It's urgent.                               0   \n",
       "Block 2 has interesting courses.                                                                                  1   \n",
       "URGENT! You have won a 1 week FREE membership in our £100000 prize Jackpot!                                       0   \n",
       "Had your mobile 11 months or more? U R entitled to Update to the latest colour mobiles with camera for Free!      0   \n",
       "Block 2 has been great so far.                                                                                    1   \n",
       "\n",
       "                                                                                                              free  \\\n",
       "URGENT!! As a valued network customer you have been selected to receive a £900 prize reward!                     0   \n",
       "Lol you are always so convincing. I'm going to give you a free advice. It's urgent.                              1   \n",
       "Block 2 has interesting courses.                                                                                 0   \n",
       "URGENT! You have won a 1 week FREE membership in our £100000 prize Jackpot!                                      1   \n",
       "Had your mobile 11 months or more? U R entitled to Update to the latest colour mobiles with camera for Free!     1   \n",
       "Block 2 has been great so far.                                                                                   0   \n",
       "\n",
       "                                                                                                              prize  \\\n",
       "URGENT!! As a valued network customer you have been selected to receive a £900 prize reward!                      1   \n",
       "Lol you are always so convincing. I'm going to give you a free advice. It's urgent.                               0   \n",
       "Block 2 has interesting courses.                                                                                  0   \n",
       "URGENT! You have won a 1 week FREE membership in our £100000 prize Jackpot!                                       1   \n",
       "Had your mobile 11 months or more? U R entitled to Update to the latest colour mobiles with camera for Free!      0   \n",
       "Block 2 has been great so far.                                                                                    0   \n",
       "\n",
       "                                                                                                              urgent  \\\n",
       "URGENT!! As a valued network customer you have been selected to receive a £900 prize reward!                       1   \n",
       "Lol you are always so convincing. I'm going to give you a free advice. It's urgent.                                1   \n",
       "Block 2 has interesting courses.                                                                                   0   \n",
       "URGENT! You have won a 1 week FREE membership in our £100000 prize Jackpot!                                        1   \n",
       "Had your mobile 11 months or more? U R entitled to Update to the latest colour mobiles with camera for Free!       0   \n",
       "Block 2 has been great so far.                                                                                     0   \n",
       "\n",
       "                                                                                                             target  \n",
       "URGENT!! As a valued network customer you have been selected to receive a £900 prize reward!                   spam  \n",
       "Lol you are always so convincing. I'm going to give you a free advice. It's urgent.                             ham  \n",
       "Block 2 has interesting courses.                                                                                ham  \n",
       "URGENT! You have won a 1 week FREE membership in our £100000 prize Jackpot!                                    spam  \n",
       "Had your mobile 11 months or more? U R entitled to Update to the latest colour mobiles with camera for Free!   spam  \n",
       "Block 2 has been great so far.                                                                                  ham  "
      ]
     },
     "execution_count": 12,
     "metadata": {},
     "output_type": "execute_result"
    }
   ],
   "source": [
    "toy_bow_df = pd.DataFrame(\n",
    "    X_toy_vec.toarray(), columns=vec.get_feature_names_out(), index=X_toy\n",
    ")\n",
    "toy_bow_df[\"target\"] = y_toy\n",
    "toy_bow_df"
   ]
  },
  {
   "cell_type": "markdown",
   "metadata": {
    "slideshow": {
     "slide_type": "slide"
    }
   },
   "source": [
    "### Naive Bayes `predict`"
   ]
  },
  {
   "cell_type": "markdown",
   "metadata": {},
   "source": [
    "- Given new messages, we want to predict whether they are spam or ham.\n",
    "- Example: Predict whether the following message is spam or ham. \n",
    "> \"URGENT! Free!!\""
   ]
  },
  {
   "cell_type": "markdown",
   "metadata": {},
   "source": [
    "Remember the two simplifying assumptions of naive Bayes? "
   ]
  },
  {
   "cell_type": "markdown",
   "metadata": {},
   "source": [
    "**BOW representaion**: First, let's get BOW representation of the message.  "
   ]
  },
  {
   "cell_type": "code",
   "execution_count": 13,
   "metadata": {},
   "outputs": [
    {
     "data": {
      "text/html": [
       "<div>\n",
       "<style scoped>\n",
       "    .dataframe tbody tr th:only-of-type {\n",
       "        vertical-align: middle;\n",
       "    }\n",
       "\n",
       "    .dataframe tbody tr th {\n",
       "        vertical-align: top;\n",
       "    }\n",
       "\n",
       "    .dataframe thead th {\n",
       "        text-align: right;\n",
       "    }\n",
       "</style>\n",
       "<table border=\"1\" class=\"dataframe\">\n",
       "  <thead>\n",
       "    <tr style=\"text-align: right;\">\n",
       "      <th></th>\n",
       "      <th>block</th>\n",
       "      <th>free</th>\n",
       "      <th>prize</th>\n",
       "      <th>urgent</th>\n",
       "    </tr>\n",
       "  </thead>\n",
       "  <tbody>\n",
       "    <tr>\n",
       "      <th>URGENT! Free!!</th>\n",
       "      <td>0</td>\n",
       "      <td>1</td>\n",
       "      <td>0</td>\n",
       "      <td>1</td>\n",
       "    </tr>\n",
       "    <tr>\n",
       "      <th>Let's enjoy the last week of block 2!</th>\n",
       "      <td>1</td>\n",
       "      <td>0</td>\n",
       "      <td>0</td>\n",
       "      <td>0</td>\n",
       "    </tr>\n",
       "  </tbody>\n",
       "</table>\n",
       "</div>"
      ],
      "text/plain": [
       "                                       block  free  prize  urgent\n",
       "URGENT! Free!!                             0     1      0       1\n",
       "Let's enjoy the last week of block 2!      1     0      0       0"
      ]
     },
     "execution_count": 13,
     "metadata": {},
     "output_type": "execute_result"
    }
   ],
   "source": [
    "deploy_test = [\"URGENT! Free!!\", \"Let's enjoy the last week of block 2!\"]\n",
    "deploy_bow = vec.transform(deploy_test).toarray()\n",
    "bow_df = pd.DataFrame(\n",
    "    deploy_bow, columns=vec.get_feature_names_out(), index=deploy_test\n",
    ")\n",
    "bow_df"
   ]
  },
  {
   "cell_type": "markdown",
   "metadata": {},
   "source": [
    "Let's try predicting with `pipe_nb`. "
   ]
  },
  {
   "cell_type": "code",
   "execution_count": 14,
   "metadata": {},
   "outputs": [
    {
     "data": {
      "text/plain": [
       "array(['spam', 'ham'], dtype='<U4')"
      ]
     },
     "execution_count": 14,
     "metadata": {},
     "output_type": "execute_result"
    }
   ],
   "source": [
    "pipe_nb.fit(X_train, y_train)\n",
    "\n",
    "pipe_nb.predict(deploy_test)"
   ]
  },
  {
   "cell_type": "markdown",
   "metadata": {},
   "source": [
    "What's happening under the hood? To predict the correct class, assuming **conditional independence**, naive Bayes estimates some scores which are proportional to the following probabilities and picks the target with higher score.\n",
    "\n",
    "- $P(\\text{spam} \\mid \\text{block} = 0, \\text{free} = 1, \\text{prize} = 0, \\text{urgent=1}) \\propto  P(\\text{block} = 0, \\text{free} = 1, \\text{prize} = 0, \\text{urgent=1} \\mid \\text{spam}) \\times P(spam)$ \n",
    "- $P(\\text{ham} \\mid  \\text{block} = 0, \\text{free} = 1, \\text{prize} = 0, \\text{urgent=1}) \\propto  P(\\text{block} = 0, \\text{free} = 1, \\text{prize} = 0, \\text{urgent=1} \\mid \\text{spam}) \\times P(ham)$"
   ]
  },
  {
   "cell_type": "markdown",
   "metadata": {},
   "source": [
    "For each target, we need to calculate two probabilities: \n",
    "- **Prior probabilities**: $P(\\text{target})$\n",
    "- **Conditional probabilities**: $P(\\text{block} = 0, \\text{free} = 1, \\text{prize} = 0, \\text{urgent=1} \\mid \\text{target})$"
   ]
  },
  {
   "cell_type": "markdown",
   "metadata": {},
   "source": [
    "#### Computing prior probabilities \n",
    "- Prior probability: what's the proportion of the target class occurs in our training dataset?\n",
    "    - $P(\\text{spam}) = 3/6$    \n",
    "    - $P(\\text{ham}) = 3/6$"
   ]
  },
  {
   "cell_type": "code",
   "execution_count": 15,
   "metadata": {},
   "outputs": [
    {
     "data": {
      "text/plain": [
       "target\n",
       "spam    3\n",
       "ham     3\n",
       "Name: count, dtype: int64"
      ]
     },
     "execution_count": 15,
     "metadata": {},
     "output_type": "execute_result"
    }
   ],
   "source": [
    "toy_bow_df['target'].value_counts()"
   ]
  },
  {
   "cell_type": "markdown",
   "metadata": {},
   "source": [
    "#### Computing conditional probabilities \n",
    "\n",
    "- Assumption: **Features are independent, conditioned on the target**. \n",
    "    - Example: In our spam classification example, **once you know that a message is spam**, the probability that the word \"urgent\" appears is independent of whether \"free\" also appeared. \n",
    "    - So if you know that a message is spam, knowing whether the word \"urgent\" occurs gives no additional information about whether \"free\" also appears. \n",
    "    \n",
    "- We can write this mathematically as \n",
    "\n",
    "$$\\begin{equation}\n",
    "\\begin{split}\n",
    "& P(\\text{block} = 0, \\text{free} = 1, \\text{prize} = 0, \\text{urgent} = 1 \\mid \\text{spam}) \\\\\n",
    "&\\approx P(\\text{block} = 0 \\mid \\text{spam}) \\times P(\\text{free} = 1 \\mid \\text{spam}) \\times P(\\text{prize} = 0 \\mid \\text{spam}) \\times P(\\text{urgent} = 1 \\mid \\text{spam})\\\\\\\\\n",
    "& P(\\text{block} = 0, \\text{free} = 1, \\text{prize} = 0, \\text{urgent} = 1 \\mid \\text{ham}) \\\\\n",
    "&\\approx P(\\text{block} = 0 \\mid \\text{ham}) \\times P(\\text{free} = 1 \\mid \\text{ham}) \\times P(\\text{prize} = 0 \\mid \\text{ham}) \\times P(\\text{urgent} = 1 \\mid \\text{ham})\n",
    "\\end{split}\n",
    "\\end{equation}$$\n"
   ]
  },
  {
   "cell_type": "markdown",
   "metadata": {},
   "source": [
    "We can calculate these based on the frequencies of these words in our training data. "
   ]
  },
  {
   "cell_type": "code",
   "execution_count": 16,
   "metadata": {},
   "outputs": [],
   "source": [
    "spam_toy_df = toy_df[toy_df['target'] == 'spam']\n",
    "ham_toy_df = toy_df[toy_df['target'] == 'ham']"
   ]
  },
  {
   "cell_type": "code",
   "execution_count": 17,
   "metadata": {},
   "outputs": [
    {
     "name": "stderr",
     "output_type": "stream",
     "text": [
      "/Users/kvarada/MDS/2023-24/571/DSCI_571_sup-learn-1_students/lectures/code/plotting_functions.py:99: UserWarning: set_ticklabels() should only be used with a fixed number of ticks, i.e. after set_ticks() or using a FixedLocator.\n",
      "  ax[0].set_xticklabels(labels=spam_words, rotation=45)\n",
      "/Users/kvarada/MDS/2023-24/571/DSCI_571_sup-learn-1_students/lectures/code/plotting_functions.py:108: UserWarning: set_ticklabels() should only be used with a fixed number of ticks, i.e. after set_ticks() or using a FixedLocator.\n",
      "  ax[1].set_xticklabels(labels=ham_words, rotation=45)\n"
     ]
    },
    {
     "data": {
      "image/png": "[encoded data removed]",
      "text/plain": [
       "<Figure size 1200x400 with 2 Axes>"
      ]
     },
     "metadata": {},
     "output_type": "display_data"
    }
   ],
   "source": [
    "plot_spam_ham_word_freq(spam_toy_df['sms'], ham_toy_df['sms']) # custom function defined in code/plotting_functions.oy"
   ]
  },
  {
   "cell_type": "markdown",
   "metadata": {},
   "source": [
    "So in this toy example, for each target, we need the following conditional probabilities for prediction.\n",
    "1. $P(\\text{block} = 0 \\mid \\text{target})$\n",
    "2. $P(\\text{free} = 1 \\mid \\text{target})$\n",
    "3. $P(\\text{prize} = 0 \\mid \\text{target})$\n",
    "4. $P(\\text{urgent} = 1 \\mid \\text{target})$\n",
    "use our training data to estimate these probabilities. "
   ]
  },
  {
   "cell_type": "code",
   "execution_count": 18,
   "metadata": {},
   "outputs": [
    {
     "data": {
      "text/html": [
       "<div>\n",
       "<style scoped>\n",
       "    .dataframe tbody tr th:only-of-type {\n",
       "        vertical-align: middle;\n",
       "    }\n",
       "\n",
       "    .dataframe tbody tr th {\n",
       "        vertical-align: top;\n",
       "    }\n",
       "\n",
       "    .dataframe thead th {\n",
       "        text-align: right;\n",
       "    }\n",
       "</style>\n",
       "<table border=\"1\" class=\"dataframe\">\n",
       "  <thead>\n",
       "    <tr style=\"text-align: right;\">\n",
       "      <th></th>\n",
       "      <th>block</th>\n",
       "      <th>free</th>\n",
       "      <th>prize</th>\n",
       "      <th>urgent</th>\n",
       "      <th>target</th>\n",
       "    </tr>\n",
       "  </thead>\n",
       "  <tbody>\n",
       "    <tr>\n",
       "      <th>URGENT!! As a valued network customer you have been selected to receive a £900 prize reward!</th>\n",
       "      <td>0</td>\n",
       "      <td>0</td>\n",
       "      <td>1</td>\n",
       "      <td>1</td>\n",
       "      <td>spam</td>\n",
       "    </tr>\n",
       "    <tr>\n",
       "      <th>Lol you are always so convincing. I'm going to give you a free advice. It's urgent.</th>\n",
       "      <td>0</td>\n",
       "      <td>1</td>\n",
       "      <td>0</td>\n",
       "      <td>1</td>\n",
       "      <td>ham</td>\n",
       "    </tr>\n",
       "    <tr>\n",
       "      <th>Block 2 has interesting courses.</th>\n",
       "      <td>1</td>\n",
       "      <td>0</td>\n",
       "      <td>0</td>\n",
       "      <td>0</td>\n",
       "      <td>ham</td>\n",
       "    </tr>\n",
       "    <tr>\n",
       "      <th>URGENT! You have won a 1 week FREE membership in our £100000 prize Jackpot!</th>\n",
       "      <td>0</td>\n",
       "      <td>1</td>\n",
       "      <td>1</td>\n",
       "      <td>1</td>\n",
       "      <td>spam</td>\n",
       "    </tr>\n",
       "    <tr>\n",
       "      <th>Had your mobile 11 months or more? U R entitled to Update to the latest colour mobiles with camera for Free!</th>\n",
       "      <td>0</td>\n",
       "      <td>1</td>\n",
       "      <td>0</td>\n",
       "      <td>0</td>\n",
       "      <td>spam</td>\n",
       "    </tr>\n",
       "    <tr>\n",
       "      <th>Block 2 has been great so far.</th>\n",
       "      <td>1</td>\n",
       "      <td>0</td>\n",
       "      <td>0</td>\n",
       "      <td>0</td>\n",
       "      <td>ham</td>\n",
       "    </tr>\n",
       "  </tbody>\n",
       "</table>\n",
       "</div>"
      ],
      "text/plain": [
       "                                                                                                              block  \\\n",
       "URGENT!! As a valued network customer you have been selected to receive a £900 prize reward!                      0   \n",
       "Lol you are always so convincing. I'm going to give you a free advice. It's urgent.                               0   \n",
       "Block 2 has interesting courses.                                                                                  1   \n",
       "URGENT! You have won a 1 week FREE membership in our £100000 prize Jackpot!                                       0   \n",
       "Had your mobile 11 months or more? U R entitled to Update to the latest colour mobiles with camera for Free!      0   \n",
       "Block 2 has been great so far.                                                                                    1   \n",
       "\n",
       "                                                                                                              free  \\\n",
       "URGENT!! As a valued network customer you have been selected to receive a £900 prize reward!                     0   \n",
       "Lol you are always so convincing. I'm going to give you a free advice. It's urgent.                              1   \n",
       "Block 2 has interesting courses.                                                                                 0   \n",
       "URGENT! You have won a 1 week FREE membership in our £100000 prize Jackpot!                                      1   \n",
       "Had your mobile 11 months or more? U R entitled to Update to the latest colour mobiles with camera for Free!     1   \n",
       "Block 2 has been great so far.                                                                                   0   \n",
       "\n",
       "                                                                                                              prize  \\\n",
       "URGENT!! As a valued network customer you have been selected to receive a £900 prize reward!                      1   \n",
       "Lol you are always so convincing. I'm going to give you a free advice. It's urgent.                               0   \n",
       "Block 2 has interesting courses.                                                                                  0   \n",
       "URGENT! You have won a 1 week FREE membership in our £100000 prize Jackpot!                                       1   \n",
       "Had your mobile 11 months or more? U R entitled to Update to the latest colour mobiles with camera for Free!      0   \n",
       "Block 2 has been great so far.                                                                                    0   \n",
       "\n",
       "                                                                                                              urgent  \\\n",
       "URGENT!! As a valued network customer you have been selected to receive a £900 prize reward!                       1   \n",
       "Lol you are always so convincing. I'm going to give you a free advice. It's urgent.                                1   \n",
       "Block 2 has interesting courses.                                                                                   0   \n",
       "URGENT! You have won a 1 week FREE membership in our £100000 prize Jackpot!                                        1   \n",
       "Had your mobile 11 months or more? U R entitled to Update to the latest colour mobiles with camera for Free!       0   \n",
       "Block 2 has been great so far.                                                                                     0   \n",
       "\n",
       "                                                                                                             target  \n",
       "URGENT!! As a valued network customer you have been selected to receive a £900 prize reward!                   spam  \n",
       "Lol you are always so convincing. I'm going to give you a free advice. It's urgent.                             ham  \n",
       "Block 2 has interesting courses.                                                                                ham  \n",
       "URGENT! You have won a 1 week FREE membership in our £100000 prize Jackpot!                                    spam  \n",
       "Had your mobile 11 months or more? U R entitled to Update to the latest colour mobiles with camera for Free!   spam  \n",
       "Block 2 has been great so far.                                                                                  ham  "
      ]
     },
     "execution_count": 18,
     "metadata": {},
     "output_type": "execute_result"
    }
   ],
   "source": [
    "toy_bow_df"
   ]
  },
  {
   "cell_type": "markdown",
   "metadata": {
    "slideshow": {
     "slide_type": "-"
    }
   },
   "source": [
    "#### Conditional probabilities for the target spam\n",
    "- What is $P(\\text{block} = 0 \\mid \\text{spam})$? \n",
    "    - Given target is spam, how often \"block\" = 0? $3/3$\n",
    "- $P(\\text{free} = 1 \\mid \\text{spam}) = 2/3$ \n",
    "- $P(\\text{prize} = 0 \\mid \\text{spam}) = 1/3$\n",
    "- $P(\\text{urgent} = 1 \\mid \\text{spam}) = 2/3$"
   ]
  },
  {
   "cell_type": "markdown",
   "metadata": {
    "slideshow": {
     "slide_type": "slide"
    }
   },
   "source": [
    "\n",
    "So using naive Bayes, $P(\\text{spam} \\mid \\text{message})$ is proportional to \n",
    "\n",
    "$$\\begin{equation}\n",
    "\\begin{split}\n",
    "P(\\text{spam} \\mid \\text{message}) &\\propto P(\\text{block} = 0, \\text{free} = 1, \\text{prize} = 0, \\text{urgent} = 1 \\mid \\text{spam}) \\times P(\\text{spam})\\\\\n",
    "&\\propto P(\\text{block} = 0 \\mid \\text{spam}) \\times P(\\text{free} = 1 \\mid \\text{spam}) \\\\\n",
    "& \\times P(\\text{prize} = 0 \\mid \\text{spam}) \\times P(\\text{urgent} = 1 \\mid \\text{spam}) \\times P(\\text{spam})\\\\\n",
    "&\\propto 3/3 \\times 2/3 \\times 1/3 \\times 2/3 \\times 3/6\\\\\n",
    "\\end{split}\n",
    "\\end{equation}$$\n"
   ]
  },
  {
   "cell_type": "code",
   "execution_count": 19,
   "metadata": {
    "slideshow": {
     "slide_type": "-"
    }
   },
   "outputs": [
    {
     "data": {
      "text/plain": [
       "0.07407407407407407"
      ]
     },
     "execution_count": 19,
     "metadata": {},
     "output_type": "execute_result"
    }
   ],
   "source": [
    "spam_prior = 3 / 6\n",
    "block0_spam = 3 / 3\n",
    "free1_spam = 2 / 3\n",
    "prize0_spam = 1 / 3\n",
    "urgent1_spam = 2 / 3\n",
    "spam_estimate = spam_prior * block0_spam * free1_spam * prize0_spam * urgent1_spam\n",
    "spam_estimate"
   ]
  },
  {
   "cell_type": "markdown",
   "metadata": {},
   "source": [
    "#### Conditional probabilities for the target ham \n",
    "\n",
    "- What is $P(\\text{block} = 0 \\mid \\text{ham})$? \n",
    "    - Given target is ham, how often \"block\" = 0? $1/3$\n",
    "- $P(\\text{free} = 1 \\mid \\text{ham}) = 1/3$ \n",
    "- $P(\\text{prize} = 0 \\mid \\text{ham}) = 3/3$\n",
    "- $P(\\text{urgent} = 1 \\mid \\text{ham}) = 1/3$"
   ]
  },
  {
   "cell_type": "markdown",
   "metadata": {
    "slideshow": {
     "slide_type": "slide"
    }
   },
   "source": [
    "So using naive Bayes, $P(\\text{ham} \\mid \\text{message})$ is proportional to \n",
    "$$\\begin{equation}\n",
    "\\begin{split}\n",
    "P(\\text{ham} \\mid \\text{message}) &\\propto P(\\text{block} = 0, \\text{free} = 1, \\text{prize} = 0, \\text{urgent} = 1 \\mid \\text{ham}) \\times P(\\text{ham})\\\\\n",
    "&\\propto P(\\text{block} = 0 \\mid \\text{ham}) \\times P(\\text{free} = 1 \\mid \\text{ham}) \\\\\n",
    "& \\times P(\\text{prize} = 0 \\mid \\text{ham}) \\times P(\\text{urgent} = 1 \\mid \\text{ham}) \\times P(\\text{ham})\\\\\n",
    "&\\propto 1/3 \\times 1/3 \\times 3/3 \\times 1/3 \\times 3/6\\\\\n",
    "\\end{split}\n",
    "\\end{equation}$$\n"
   ]
  },
  {
   "cell_type": "code",
   "execution_count": 20,
   "metadata": {},
   "outputs": [
    {
     "data": {
      "text/plain": [
       "0.018518518518518517"
      ]
     },
     "execution_count": 20,
     "metadata": {},
     "output_type": "execute_result"
    }
   ],
   "source": [
    "ham_prior = 3 / 6\n",
    "block0_ham = 1 / 3\n",
    "free1_ham = 1 / 3\n",
    "prize0_ham = 3 / 3\n",
    "urgent1_ham = 1 / 3\n",
    "ham_estimate = (\n",
    "    ham_prior\n",
    "    * block0_ham\n",
    "    * free1_ham\n",
    "    * prize0_ham\n",
    "    * urgent1_ham\n",
    ")\n",
    "ham_estimate"
   ]
  },
  {
   "cell_type": "code",
   "execution_count": 21,
   "metadata": {
    "slideshow": {
     "slide_type": "slide"
    }
   },
   "outputs": [
    {
     "name": "stdout",
     "output_type": "stream",
     "text": [
      "spam estimate:  0.07407407407407407\n",
      "ham estimate:  0.018518518518518517\n"
     ]
    }
   ],
   "source": [
    "print('spam estimate: ', spam_estimate)\n",
    "print('ham estimate: ', ham_estimate)"
   ]
  },
  {
   "cell_type": "markdown",
   "metadata": {
    "slideshow": {
     "slide_type": "-"
    }
   },
   "source": [
    "Since $P(spam \\mid message)$ is proportional to a bigger number, we pick \"spam\" as the label."
   ]
  },
  {
   "cell_type": "markdown",
   "metadata": {},
   "source": [
    "- Note that these estimates are not well-defined probabilities, as we ignored the denominator when calculating these estimates. \n",
    "- Let's normalize these estimates so that they sum to 1.0 "
   ]
  },
  {
   "cell_type": "code",
   "execution_count": 22,
   "metadata": {},
   "outputs": [
    {
     "data": {
      "text/plain": [
       "[0.2, 0.8]"
      ]
     },
     "execution_count": 22,
     "metadata": {},
     "output_type": "execute_result"
    }
   ],
   "source": [
    "normalizer = spam_estimate + ham_estimate\n",
    "spam_prob_score = spam_estimate / normalizer\n",
    "ham_prob_score = ham_estimate / normalizer\n",
    "[ham_prob_score, spam_prob_score]"
   ]
  },
  {
   "cell_type": "markdown",
   "metadata": {
    "slideshow": {
     "slide_type": "slide"
    }
   },
   "source": [
    "Let's examine whether we get the same numbers with `sklearn`'s `BernoulliNB`. \n",
    "- We are using `BernoulliNB` because our features are binary. "
   ]
  },
  {
   "cell_type": "code",
   "execution_count": 23,
   "metadata": {},
   "outputs": [
    {
     "name": "stderr",
     "output_type": "stream",
     "text": [
      "/Users/kvarada/miniconda3/envs/571/lib/python3.10/site-packages/sklearn/naive_bayes.py:624: FutureWarning: The default value for `force_alpha` will change to `True` in 1.4. To suppress this warning, manually set the value of `force_alpha`.\n",
      "  warnings.warn(\n",
      "/Users/kvarada/miniconda3/envs/571/lib/python3.10/site-packages/sklearn/naive_bayes.py:633: UserWarning: alpha too small will result in numeric errors, setting alpha = 1.0e-10. Use `force_alpha=True` to keep alpha unchanged.\n",
      "  warnings.warn(\n"
     ]
    },
    {
     "data": {
      "text/html": [
       "<style>#sk-container-id-1 {color: black;}#sk-container-id-1 pre{padding: 0;}#sk-container-id-1 div.sk-toggleable {background-color: white;}#sk-container-id-1 label.sk-toggleable__label {cursor: pointer;display: block;width: 100%;margin-bottom: 0;padding: 0.3em;box-sizing: border-box;text-align: center;}#sk-container-id-1 label.sk-toggleable__label-arrow:before {content: \"▸\";float: left;margin-right: 0.25em;color: #696969;}#sk-container-id-1 label.sk-toggleable__label-arrow:hover:before {color: black;}#sk-container-id-1 div.sk-estimator:hover label.sk-toggleable__label-arrow:before {color: black;}#sk-container-id-1 div.sk-toggleable__content {max-height: 0;max-width: 0;overflow: hidden;text-align: left;background-color: #f0f8ff;}#sk-container-id-1 div.sk-toggleable__content pre {margin: 0.2em;color: black;border-radius: 0.25em;background-color: #f0f8ff;}#sk-container-id-1 input.sk-toggleable__control:checked~div.sk-toggleable__content {max-height: 200px;max-width: 100%;overflow: auto;}#sk-container-id-1 input.sk-toggleable__control:checked~label.sk-toggleable__label-arrow:before {content: \"▾\";}#sk-container-id-1 div.sk-estimator input.sk-toggleable__control:checked~label.sk-toggleable__label {background-color: #d4ebff;}#sk-container-id-1 div.sk-label input.sk-toggleable__control:checked~label.sk-toggleable__label {background-color: #d4ebff;}#sk-container-id-1 input.sk-hidden--visually {border: 0;clip: rect(1px 1px 1px 1px);clip: rect(1px, 1px, 1px, 1px);height: 1px;margin: -1px;overflow: hidden;padding: 0;position: absolute;width: 1px;}#sk-container-id-1 div.sk-estimator {font-family: monospace;background-color: #f0f8ff;border: 1px dotted black;border-radius: 0.25em;box-sizing: border-box;margin-bottom: 0.5em;}#sk-container-id-1 div.sk-estimator:hover {background-color: #d4ebff;}#sk-container-id-1 div.sk-parallel-item::after {content: \"\";width: 100%;border-bottom: 1px solid gray;flex-grow: 1;}#sk-container-id-1 div.sk-label:hover label.sk-toggleable__label {background-color: #d4ebff;}#sk-container-id-1 div.sk-serial::before {content: \"\";position: absolute;border-left: 1px solid gray;box-sizing: border-box;top: 0;bottom: 0;left: 50%;z-index: 0;}#sk-container-id-1 div.sk-serial {display: flex;flex-direction: column;align-items: center;background-color: white;padding-right: 0.2em;padding-left: 0.2em;position: relative;}#sk-container-id-1 div.sk-item {position: relative;z-index: 1;}#sk-container-id-1 div.sk-parallel {display: flex;align-items: stretch;justify-content: center;background-color: white;position: relative;}#sk-container-id-1 div.sk-item::before, #sk-container-id-1 div.sk-parallel-item::before {content: \"\";position: absolute;border-left: 1px solid gray;box-sizing: border-box;top: 0;bottom: 0;left: 50%;z-index: -1;}#sk-container-id-1 div.sk-parallel-item {display: flex;flex-direction: column;z-index: 1;position: relative;background-color: white;}#sk-container-id-1 div.sk-parallel-item:first-child::after {align-self: flex-end;width: 50%;}#sk-container-id-1 div.sk-parallel-item:last-child::after {align-self: flex-start;width: 50%;}#sk-container-id-1 div.sk-parallel-item:only-child::after {width: 0;}#sk-container-id-1 div.sk-dashed-wrapped {border: 1px dashed gray;margin: 0 0.4em 0.5em 0.4em;box-sizing: border-box;padding-bottom: 0.4em;background-color: white;}#sk-container-id-1 div.sk-label label {font-family: monospace;font-weight: bold;display: inline-block;line-height: 1.2em;}#sk-container-id-1 div.sk-label-container {text-align: center;}#sk-container-id-1 div.sk-container {/* jupyter's `normalize.less` sets `[hidden] { display: none; }` but bootstrap.min.css set `[hidden] { display: none !important; }` so we also need the `!important` here to be able to override the default hidden behavior on the sphinx rendered scikit-learn.org. See: https://github.com/scikit-learn/scikit-learn/issues/21755 */display: inline-block !important;position: relative;}#sk-container-id-1 div.sk-text-repr-fallback {display: none;}</style><div id=\"sk-container-id-1\" class=\"sk-top-container\"><div class=\"sk-text-repr-fallback\"><pre>BernoulliNB(alpha=0)</pre><b>In a Jupyter environment, please rerun this cell to show the HTML representation or trust the notebook. <br />On GitHub, the HTML representation is unable to render, please try loading this page with nbviewer.org.</b></div><div class=\"sk-container\" hidden><div class=\"sk-item\"><div class=\"sk-estimator sk-toggleable\"><input class=\"sk-toggleable__control sk-hidden--visually\" id=\"sk-estimator-id-1\" type=\"checkbox\" checked><label for=\"sk-estimator-id-1\" class=\"sk-toggleable__label sk-toggleable__label-arrow\">BernoulliNB</label><div class=\"sk-toggleable__content\"><pre>BernoulliNB(alpha=0)</pre></div></div></div></div></div>"
      ],
      "text/plain": [
       "BernoulliNB(alpha=0)"
      ]
     },
     "execution_count": 23,
     "metadata": {},
     "output_type": "execute_result"
    }
   ],
   "source": [
    "nb = BernoulliNB(alpha=0)\n",
    "nb.fit(X_toy_vec, y_toy)"
   ]
  },
  {
   "cell_type": "markdown",
   "metadata": {},
   "source": [
    "- We can use `predict_proba` method to get the estimated probability scores. \n",
    "- More on `predict_proba` in the next class. "
   ]
  },
  {
   "cell_type": "code",
   "execution_count": 24,
   "metadata": {},
   "outputs": [
    {
     "data": {
      "text/plain": [
       "array([0.2, 0.8])"
      ]
     },
     "execution_count": 24,
     "metadata": {},
     "output_type": "execute_result"
    }
   ],
   "source": [
    "nb.predict_proba(deploy_bow)[0]"
   ]
  },
  {
   "cell_type": "code",
   "execution_count": 25,
   "metadata": {},
   "outputs": [
    {
     "data": {
      "text/plain": [
       "array(['ham', 'spam'], dtype='<U4')"
      ]
     },
     "execution_count": 25,
     "metadata": {},
     "output_type": "execute_result"
    }
   ],
   "source": [
    "nb.classes_"
   ]
  },
  {
   "cell_type": "markdown",
   "metadata": {},
   "source": [
    "They match with what we calculated by hand 🎉🎉!! "
   ]
  },
  {
   "cell_type": "markdown",
   "metadata": {},
   "source": [
    "<br><br>"
   ]
  },
  {
   "cell_type": "markdown",
   "metadata": {
    "slideshow": {
     "slide_type": "slide"
    }
   },
   "source": [
    "### Summary of naive Bayes `predict`\n",
    "- Use Bayes rule to calculate the conditional probability of each target given the message. \n",
    "\n",
    "$$ P(\\text{target} \\mid \\text{message}) = \\frac{P(\\text{message} \\mid \\text{target}) \\times P(\\text{target})}{P(\\text{message})} $$\n",
    "\n",
    "- $P(\\text{message})$: marginal probability that a message has the given set of words \n",
    "    - Hard to calculate but can be ignored in our scenario.\n"
   ]
  },
  {
   "cell_type": "markdown",
   "metadata": {
    "slideshow": {
     "slide_type": "slide"
    }
   },
   "source": [
    "$$ P(\\text{target} \\mid \\text{message}) \\propto P(\\text{message} \\mid\\text{target}) \\times P(\\text{target}) =  P(w_1, w_2, \\dots, w_d \\mid \\text{target}) \\times P(\\text{target})$$\n",
    "\n",
    "- We need the following terms:  \n",
    "    - $P(\\text{target})$: marginal probability that a message has the class target\n",
    "    - $P(\\text{message}\\mid\\text{target})$: conditional probability that message has words $w_1, w_2, \\dots, w_d$, given that it is of the given target.\n",
    "        - Hard to calculate but we need it. We would require huge numbers of parameters and impossibly large training sets. \n",
    "        - Naive assumption that features are independent of each other conditioned on the target. \n",
    "\n",
    "        $$P(\\text{message} \\mid \\text{target}) = P(w_1, w_2, . . . , w_d \\mid \\text{target}) \\approx \\prod_{i=1}^{d}P(w_i \\mid \\text{target})$$\n"
   ]
  },
  {
   "cell_type": "markdown",
   "metadata": {
    "slideshow": {
     "slide_type": "skip"
    }
   },
   "source": [
    "### Summary naive Bayes `predict`\n",
    "\n",
    "Using naive Bayes assumption, estimate scores that are proportional to the following probabilities. \n",
    "\n",
    "$$ P(\\text{target} \\mid \\text{message}) \\propto P(\\text{target}) \\times  \\prod_{i=1}^{d}P(w_i \\mid \\text{target})$$\n",
    "\n",
    "- Predict the target where $P(\\text{target} \\mid \\text{message})$ is proportional to a bigger value. "
   ]
  },
  {
   "cell_type": "markdown",
   "metadata": {
    "slideshow": {
     "slide_type": "slide"
    }
   },
   "source": [
    "### ❓❓ Questions for you\n",
    "\n",
    "- When we ignore the marginal probability P(message) when calculating $P(\\text{spam} | \\text{message})$ or $P(\\text{ham} | \\text{message})$, are these going to be well-defined probabilites? Does it matter?\n",
    "- When calculating conditional probabilities, why do we consider both present and absent words?  "
   ]
  },
  {
   "cell_type": "markdown",
   "metadata": {
    "slideshow": {
     "slide_type": "slide"
    }
   },
   "source": [
    "## ❓❓ Questions for you"
   ]
  },
  {
   "cell_type": "markdown",
   "metadata": {
    "slideshow": {
     "slide_type": "slide"
    },
    "tags": []
   },
   "source": [
    "### (iClicker) Exercise 7.2\n",
    "\n",
    "**iClicker cloud join link: https://join.iclicker.com/DAZZ**\n",
    "\n",
    "**Select all of the following statements which are TRUE.**\n",
    "\n",
    "- (A) In Bernoulli naive Bayes, for binary classification, we need to calculate $2d+1$ probabilities, where $d$ is the number of unique words. \n",
    "- (B) Naive Bayes should only be used if the \"naive\" conditional independence assumption holds for your problem.\n",
    "- (C) Naive Bayes should only be used when the features (i.e. `X`-values) are binary.`"
   ]
  },
  {
   "cell_type": "markdown",
   "metadata": {},
   "source": [
    "```{admonition} V's Solutions!\n",
    ":class: tip, dropdown\n",
    "- A\n",
    "```"
   ]
  },
  {
   "cell_type": "markdown",
   "metadata": {
    "slideshow": {
     "slide_type": "slide"
    }
   },
   "source": [
    "## Break (5 min)\n",
    "\n",
    "![](img/eva-coffee.png)\n"
   ]
  },
  {
   "cell_type": "markdown",
   "metadata": {
    "slideshow": {
     "slide_type": "slide"
    }
   },
   "source": [
    "### Naive Bayes classifier `fit`\n",
    "\n",
    "- Counting and estimating probabilities. \n",
    "- Estimate prior probabilities and conditional probabilities for each feature given each class. "
   ]
  },
  {
   "cell_type": "markdown",
   "metadata": {
    "slideshow": {
     "slide_type": "slide"
    }
   },
   "source": [
    "### Prior probabilities\n",
    "\n",
    "- P(target) $\\rightarrow$ how often target $c$ occurs in our dataset in comparison with all other targets.\n",
    "\n",
    "$$P(c) = \\frac{N_c}{N}$$\n",
    "\n",
    "where, \n",
    "- $N_c$ is the number of examples with target $c$ \n",
    "- $N$ is total number of examples"
   ]
  },
  {
   "cell_type": "markdown",
   "metadata": {
    "slideshow": {
     "slide_type": "slide"
    }
   },
   "source": [
    "### Conditional probabilities \n",
    "\n",
    "- Above, we only calculated conditional probabilities which were required for estimating probability score for class given given message. \n",
    "- Naive Bayes calculates all conditional probabilities for each feature given each class in advance during `fit`. \n",
    "- Then during `predict` it just multiplies the appropriate probabilities. "
   ]
  },
  {
   "cell_type": "markdown",
   "metadata": {
    "slideshow": {
     "slide_type": "slide"
    }
   },
   "source": [
    "In case of Bernoulli naive Bayes with binary classification, for each feature $w$ and target $c$, it calculates four probabilities: \n",
    "- $P(w = 1 \\mid c = 0) \\rightarrow$ Probability that the word is present given target 0.\n",
    "- $P(w = 0 \\mid c = 0) \\rightarrow$ Probability that the word is absent given target 0.\n",
    "- $P(w = 1 \\mid c = 1) \\rightarrow$ Probability that the word is present given target 1.\n",
    "- $P(w = 0 \\mid c = 1) \\rightarrow$ Probability that the word is absent given target 1.\n",
    "\n",
    "But $P(w = 0 \\mid c = 0) = 1 - P(w = 1 \\mid c = 0)$\n",
    "And $P(w = 0 \\mid c = 1) = 1 - P(w = 1 \\mid c = 1)$\n",
    "\n",
    "So in reality we just need to calculate two probabilities for each word. \n",
    "\n",
    "We calculate these probabilities by counting word and target occurrences in the training data. For example, \n",
    "$$ P(w = 1\\mid c = 1) = \\frac{Count(w = 1, c = 1)}{Count(c = 1)}$$ \n",
    "\n",
    "- This is called _maximum likelihood estimation_. \n",
    "- It stores these probabilities, which will be later used during predict time.   "
   ]
  },
  {
   "cell_type": "markdown",
   "metadata": {},
   "source": [
    "<br><br><br><br>"
   ]
  },
  {
   "cell_type": "markdown",
   "metadata": {
    "slideshow": {
     "slide_type": "slide"
    }
   },
   "source": [
    "## Laplace smoothing"
   ]
  },
  {
   "cell_type": "code",
   "execution_count": 26,
   "metadata": {
    "slideshow": {
     "slide_type": "slide"
    }
   },
   "outputs": [
    {
     "data": {
      "text/html": [
       "<div>\n",
       "<style scoped>\n",
       "    .dataframe tbody tr th:only-of-type {\n",
       "        vertical-align: middle;\n",
       "    }\n",
       "\n",
       "    .dataframe tbody tr th {\n",
       "        vertical-align: top;\n",
       "    }\n",
       "\n",
       "    .dataframe thead th {\n",
       "        text-align: right;\n",
       "    }\n",
       "</style>\n",
       "<table border=\"1\" class=\"dataframe\">\n",
       "  <thead>\n",
       "    <tr style=\"text-align: right;\">\n",
       "      <th></th>\n",
       "      <th>block</th>\n",
       "      <th>free</th>\n",
       "      <th>prize</th>\n",
       "      <th>urgent</th>\n",
       "      <th>target</th>\n",
       "    </tr>\n",
       "  </thead>\n",
       "  <tbody>\n",
       "    <tr>\n",
       "      <th>URGENT!! As a valued network customer you have been selected to receive a £900 prize reward!</th>\n",
       "      <td>0</td>\n",
       "      <td>0</td>\n",
       "      <td>1</td>\n",
       "      <td>1</td>\n",
       "      <td>spam</td>\n",
       "    </tr>\n",
       "    <tr>\n",
       "      <th>Lol you are always so convincing. I'm going to give you a free advice. It's urgent.</th>\n",
       "      <td>0</td>\n",
       "      <td>1</td>\n",
       "      <td>0</td>\n",
       "      <td>1</td>\n",
       "      <td>ham</td>\n",
       "    </tr>\n",
       "    <tr>\n",
       "      <th>Block 2 has interesting courses.</th>\n",
       "      <td>1</td>\n",
       "      <td>0</td>\n",
       "      <td>0</td>\n",
       "      <td>0</td>\n",
       "      <td>ham</td>\n",
       "    </tr>\n",
       "    <tr>\n",
       "      <th>URGENT! You have won a 1 week FREE membership in our £100000 prize Jackpot!</th>\n",
       "      <td>0</td>\n",
       "      <td>1</td>\n",
       "      <td>1</td>\n",
       "      <td>1</td>\n",
       "      <td>spam</td>\n",
       "    </tr>\n",
       "    <tr>\n",
       "      <th>Had your mobile 11 months or more? U R entitled to Update to the latest colour mobiles with camera for Free!</th>\n",
       "      <td>0</td>\n",
       "      <td>1</td>\n",
       "      <td>0</td>\n",
       "      <td>0</td>\n",
       "      <td>spam</td>\n",
       "    </tr>\n",
       "    <tr>\n",
       "      <th>Block 2 has been great so far.</th>\n",
       "      <td>1</td>\n",
       "      <td>0</td>\n",
       "      <td>0</td>\n",
       "      <td>0</td>\n",
       "      <td>ham</td>\n",
       "    </tr>\n",
       "  </tbody>\n",
       "</table>\n",
       "</div>"
      ],
      "text/plain": [
       "                                                                                                              block  \\\n",
       "URGENT!! As a valued network customer you have been selected to receive a £900 prize reward!                      0   \n",
       "Lol you are always so convincing. I'm going to give you a free advice. It's urgent.                               0   \n",
       "Block 2 has interesting courses.                                                                                  1   \n",
       "URGENT! You have won a 1 week FREE membership in our £100000 prize Jackpot!                                       0   \n",
       "Had your mobile 11 months or more? U R entitled to Update to the latest colour mobiles with camera for Free!      0   \n",
       "Block 2 has been great so far.                                                                                    1   \n",
       "\n",
       "                                                                                                              free  \\\n",
       "URGENT!! As a valued network customer you have been selected to receive a £900 prize reward!                     0   \n",
       "Lol you are always so convincing. I'm going to give you a free advice. It's urgent.                              1   \n",
       "Block 2 has interesting courses.                                                                                 0   \n",
       "URGENT! You have won a 1 week FREE membership in our £100000 prize Jackpot!                                      1   \n",
       "Had your mobile 11 months or more? U R entitled to Update to the latest colour mobiles with camera for Free!     1   \n",
       "Block 2 has been great so far.                                                                                   0   \n",
       "\n",
       "                                                                                                              prize  \\\n",
       "URGENT!! As a valued network customer you have been selected to receive a £900 prize reward!                      1   \n",
       "Lol you are always so convincing. I'm going to give you a free advice. It's urgent.                               0   \n",
       "Block 2 has interesting courses.                                                                                  0   \n",
       "URGENT! You have won a 1 week FREE membership in our £100000 prize Jackpot!                                       1   \n",
       "Had your mobile 11 months or more? U R entitled to Update to the latest colour mobiles with camera for Free!      0   \n",
       "Block 2 has been great so far.                                                                                    0   \n",
       "\n",
       "                                                                                                              urgent  \\\n",
       "URGENT!! As a valued network customer you have been selected to receive a £900 prize reward!                       1   \n",
       "Lol you are always so convincing. I'm going to give you a free advice. It's urgent.                                1   \n",
       "Block 2 has interesting courses.                                                                                   0   \n",
       "URGENT! You have won a 1 week FREE membership in our £100000 prize Jackpot!                                        1   \n",
       "Had your mobile 11 months or more? U R entitled to Update to the latest colour mobiles with camera for Free!       0   \n",
       "Block 2 has been great so far.                                                                                     0   \n",
       "\n",
       "                                                                                                             target  \n",
       "URGENT!! As a valued network customer you have been selected to receive a £900 prize reward!                   spam  \n",
       "Lol you are always so convincing. I'm going to give you a free advice. It's urgent.                             ham  \n",
       "Block 2 has interesting courses.                                                                                ham  \n",
       "URGENT! You have won a 1 week FREE membership in our £100000 prize Jackpot!                                    spam  \n",
       "Had your mobile 11 months or more? U R entitled to Update to the latest colour mobiles with camera for Free!   spam  \n",
       "Block 2 has been great so far.                                                                                  ham  "
      ]
     },
     "execution_count": 26,
     "metadata": {},
     "output_type": "execute_result"
    }
   ],
   "source": [
    "toy_bow_df"
   ]
  },
  {
   "cell_type": "markdown",
   "metadata": {},
   "source": [
    "What will happen if you want to predict for: "
   ]
  },
  {
   "cell_type": "code",
   "execution_count": 27,
   "metadata": {},
   "outputs": [],
   "source": [
    "test_ex = [\"urgent free block\"]"
   ]
  },
  {
   "cell_type": "code",
   "execution_count": 28,
   "metadata": {},
   "outputs": [
    {
     "data": {
      "text/plain": [
       "array([[1, 1, 0, 1]])"
      ]
     },
     "execution_count": 28,
     "metadata": {},
     "output_type": "execute_result"
    }
   ],
   "source": [
    "transformed = vec.transform(test_ex)\n",
    "transformed.toarray()"
   ]
  },
  {
   "cell_type": "code",
   "execution_count": 29,
   "metadata": {},
   "outputs": [],
   "source": [
    "spam_prior = 3 / 6\n",
    "block1_spam = 0 / 3\n",
    "free1_spam = 2 / 3\n",
    "prize0_spam = 1 / 3\n",
    "urgent1_spam = 2 / 3"
   ]
  },
  {
   "cell_type": "code",
   "execution_count": 30,
   "metadata": {
    "slideshow": {
     "slide_type": "slide"
    }
   },
   "outputs": [
    {
     "data": {
      "text/plain": [
       "0.0"
      ]
     },
     "execution_count": 30,
     "metadata": {},
     "output_type": "execute_result"
    }
   ],
   "source": [
    "spam_prior * block1_spam * free1_spam * prize0_spam * urgent1_spam"
   ]
  },
  {
   "cell_type": "markdown",
   "metadata": {},
   "source": [
    "- Although all the other words are yelling SPAM! SPAM! SPAM!, since we do not have any example where the word \"block\" occurs with spam, we get a zero probability. "
   ]
  },
  {
   "cell_type": "markdown",
   "metadata": {},
   "source": [
    "![](img/eva-qm.png)"
   ]
  },
  {
   "cell_type": "markdown",
   "metadata": {
    "slideshow": {
     "slide_type": "slide"
    }
   },
   "source": [
    "- Naive Bayes naively multiplies all the feature likelihoods together, and if any of the terms is zero, it's going to void all other evidence and the probability of the class is going to be zero. \n",
    "- Sounds worrisome! \n",
    "- We have limited data and if we do not see a feature occurring with a class, it doesn't mean it would never occur with that class. \n",
    "- How can we tackle this and avoid obliterating all other probabilities because of one zero in the product?  "
   ]
  },
  {
   "cell_type": "markdown",
   "metadata": {
    "slideshow": {
     "slide_type": "slide"
    }
   },
   "source": [
    "### A simplest solution: Laplace smoothing\n",
    "- The simplest way to avoid zero probabilities is to add one to the counts when we calculate conditional probabilities.\n",
    "- For example, a smoothed probability of  \n",
    "    $$ P(\\text{block} = 1 \\mid \\text{spam}) = = \\frac{\\text{\\# documents where block occurs with spam} + 1 }{\\text{how often spam occurs} + \\text{\\# number of possible word values}}$$\n",
    "\n",
    "$$ P(\\text{block} = 1 \\mid \\text{spam}) = \\frac{0 + 1}{3+2}$$\n"
   ]
  },
  {
   "cell_type": "code",
   "execution_count": 31,
   "metadata": {},
   "outputs": [],
   "source": [
    "spam_prior = 3 / 6\n",
    "block1_spam_sm = (0 + 1) / (3 + 2)\n",
    "free1_spam_sm = (2 + 1) / (3 + 2)\n",
    "prize0_spam_sm = (1 + 1) / (3 + 2)\n",
    "urgent1_spam_sm = (2 + 1) / (3 + 2)"
   ]
  },
  {
   "cell_type": "code",
   "execution_count": 32,
   "metadata": {},
   "outputs": [
    {
     "data": {
      "text/plain": [
       "0.0144"
      ]
     },
     "execution_count": 32,
     "metadata": {},
     "output_type": "execute_result"
    }
   ],
   "source": [
    "spam_prior * block1_spam_sm * free1_spam_sm * prize0_spam_sm * urgent1_spam_sm"
   ]
  },
  {
   "cell_type": "markdown",
   "metadata": {},
   "source": [
    "- All the counts that used to be zero will now have a count of 1"
   ]
  },
  {
   "cell_type": "markdown",
   "metadata": {},
   "source": [
    "- Even though our encoding contains only 0's and 1's, we can try different values for smoothing.\n",
    "- In `scikit-learn` we control it using hyperparameter `alpha` (by default `alpha=1.0`). \n",
    "- Check out sklearn's documentation on [BernoulliNB](https://scikit-learn.org/stable/modules/generated/sklearn.naive_bayes.BernoulliNB.html)"
   ]
  },
  {
   "cell_type": "markdown",
   "metadata": {},
   "source": [
    "Let's try this out on the example above. "
   ]
  },
  {
   "cell_type": "code",
   "execution_count": 33,
   "metadata": {},
   "outputs": [
    {
     "data": {
      "text/plain": [
       "['urgent free block']"
      ]
     },
     "execution_count": 33,
     "metadata": {},
     "output_type": "execute_result"
    }
   ],
   "source": [
    "test_ex"
   ]
  },
  {
   "cell_type": "code",
   "execution_count": 34,
   "metadata": {},
   "outputs": [
    {
     "data": {
      "text/plain": [
       "array([[1, 1, 0, 1]])"
      ]
     },
     "execution_count": 34,
     "metadata": {},
     "output_type": "execute_result"
    }
   ],
   "source": [
    "transformed.toarray()"
   ]
  },
  {
   "cell_type": "code",
   "execution_count": 35,
   "metadata": {},
   "outputs": [
    {
     "data": {
      "text/plain": [
       "array([[0.72727273, 0.27272727]])"
      ]
     },
     "execution_count": 35,
     "metadata": {},
     "output_type": "execute_result"
    }
   ],
   "source": [
    "# We are now getting more sensible probabilities.   \n",
    "nb_sm = BernoulliNB(alpha=1.0)\n",
    "nb_sm.fit(X_toy_vec, y_toy)\n",
    "nb_sm.predict_proba(transformed)"
   ]
  },
  {
   "cell_type": "code",
   "execution_count": 36,
   "metadata": {},
   "outputs": [
    {
     "data": {
      "text/plain": [
       "array(['ham', 'spam'], dtype='<U4')"
      ]
     },
     "execution_count": 36,
     "metadata": {},
     "output_type": "execute_result"
    }
   ],
   "source": [
    "nb_sm.classes_"
   ]
  },
  {
   "cell_type": "markdown",
   "metadata": {
    "slideshow": {
     "slide_type": "slide"
    }
   },
   "source": [
    "### `alpha` hyperparameter and the fundamental tradeoff \n",
    "\n",
    "- High alpha $\\rightarrow$ underfitting\n",
    "    - means we are adding large counts to everything and so we are diluting the data\n",
    "- Low alpha $\\rightarrow$ overfitting"
   ]
  },
  {
   "cell_type": "code",
   "execution_count": 37,
   "metadata": {
    "slideshow": {
     "slide_type": "slide"
    }
   },
   "outputs": [],
   "source": [
    "results_dict = {\n",
    "    \"alpha\": [],\n",
    "    \"mean_train_score\": [],\n",
    "    \"mean_cv_score\": [],\n",
    "    \"std_cv_score\": [],\n",
    "    \"std_train_score\": [],\n",
    "}\n",
    "param_grid = {\"bernoullinb__alpha\": 10.0 ** np.arange(-7, 3)}\n",
    "\n",
    "pipe_nb = make_pipeline(CountVectorizer(), BernoulliNB())\n",
    "search = GridSearchCV(pipe_nb, param_grid, n_jobs=-1, return_train_score=True)\n",
    "search.fit(X_train, y_train);"
   ]
  },
  {
   "cell_type": "code",
   "execution_count": 38,
   "metadata": {},
   "outputs": [],
   "source": [
    "test_scores = search.cv_results_[\"mean_test_score\"]\n",
    "train_scores = search.cv_results_[\"mean_train_score\"]\n",
    "alpha_vals = param_grid[\"bernoullinb__alpha\"]"
   ]
  },
  {
   "cell_type": "code",
   "execution_count": 39,
   "metadata": {
    "slideshow": {
     "slide_type": "slide"
    }
   },
   "outputs": [
    {
     "data": {
      "image/png": "[encoded data removed]",
      "text/plain": [
       "<Figure size 640x480 with 1 Axes>"
      ]
     },
     "metadata": {},
     "output_type": "display_data"
    }
   ],
   "source": [
    "plt.semilogx(alpha_vals, train_scores, label=\"train\")\n",
    "plt.semilogx(alpha_vals, test_scores, label=\"cv\")\n",
    "plt.legend()\n",
    "plt.xlabel(\"laplace smoothing (alpha)\")\n",
    "plt.ylabel(\"Accuracy\");"
   ]
  },
  {
   "cell_type": "markdown",
   "metadata": {},
   "source": [
    "### (Optional) Details on the formulas\n",
    "\n",
    "- In case of `MultinomialNB`, the conditional probabilities will change with the following formula.  \n",
    "\n",
    "$$ P(w \\mid c) = \\frac{Count(w, c) + 1 }{Count(c) + \\mid vocabulary \\mid}$$ \n",
    "\n",
    "- In case of Bernoulli naive Bayes, when you calculate conditional probabilities with Laplace smoothing, the formula is slightly different: \n",
    "\n",
    "$$ P(w \\mid c) = \\frac{Count(w, c) + 1 }{Count(c) + 2 }$$ \n",
    "\n",
    "- So instead of the $\\mid vocabulary \\mid$ we just add 2. See the sklearn code [here](https://github.com/scikit-learn/scikit-learn/blob/0d378913b/sklearn/naive_bayes.py#L1031) and [this Stack overflow post](https://stackoverflow.com/questions/40448784/laplace-smoothing-for-bernoulli-model-for-naive-bayes-classifier) for explanation."
   ]
  },
  {
   "cell_type": "markdown",
   "metadata": {},
   "source": [
    "Note that when we estimated probabilities in our toy example (e.g., $P(\\text{word} \\mid spam)$), we happened to have each feature value as either 0 or 1, i.e., just the existence of a word in the document's bag of words. We computed $P(\\text{word} \\mid spam)$ as a fraction of times the word appears among all words in all messages of the spam class. If we want to work with frequencies instead of existence, we first concatenate all documents with that class (e.g., spam class) into one big \"class c\" text. Then we use the frequency of the word (e.g., _urgent_ below) in this concatenated document to give a (maximum likelihood) estimate of the probability:\n",
    "\n",
    "$$P(\\text{urgent} \\mid \\text{spam}) = \\frac{Count(\\text{urgent}, \\text{spam})}{\\sum_{w \\in vocabulary} Count(w, \\text{spam})}$$ \n",
    "\n",
    "$$P(\\text{urgent} \\mid \\text{spam}) = \\frac{\\text{how often urgent occurs with spam}}{\\text{total number of tokens (all occurrences of all words) in spam}}$$"
   ]
  },
  {
   "cell_type": "markdown",
   "metadata": {
    "slideshow": {
     "slide_type": "skip"
    }
   },
   "source": [
    "<br><br><br><br>"
   ]
  },
  {
   "cell_type": "markdown",
   "metadata": {
    "slideshow": {
     "slide_type": "slide"
    }
   },
   "source": [
    "## Naive Bayes with continuous features\n",
    "\n",
    "- We can use Gaussian Naive Bayes if you have continuous features. ([Watch this](https://www.youtube.com/watch?v=H3EjCKtlVog)).\n",
    "- Here is the general idea of Gaussian naive Bayes:\n",
    "    - Assume each feature is normally distributed. \n",
    "    - Calculate the mean ($\\mu_k$) and standard deviation ($\\sigma_k$) for each feature for each class.\n",
    "    - Use the following equation to calculate the likelihood of observing feature value $v$ in class $C_k$\n",
    "\n",
    "![](img/gaus_nb.png)\n",
    "\n",
    "<!-- <center>\n",
    "<img src='./img/gaus_nb.png' width=\"400\">\n",
    "</center>\n",
    " -->\n",
    "Source: [Wikipedia](https://en.wikipedia.org/wiki/Naive_Bayes_classifier#Gaussian_naive_Bayes)"
   ]
  },
  {
   "cell_type": "markdown",
   "metadata": {},
   "source": [
    "Let's work through a toy example. "
   ]
  },
  {
   "cell_type": "code",
   "execution_count": 40,
   "metadata": {},
   "outputs": [
    {
     "data": {
      "text/html": [
       "<div>\n",
       "<style scoped>\n",
       "    .dataframe tbody tr th:only-of-type {\n",
       "        vertical-align: middle;\n",
       "    }\n",
       "\n",
       "    .dataframe tbody tr th {\n",
       "        vertical-align: top;\n",
       "    }\n",
       "\n",
       "    .dataframe thead th {\n",
       "        text-align: right;\n",
       "    }\n",
       "</style>\n",
       "<table border=\"1\" class=\"dataframe\">\n",
       "  <thead>\n",
       "    <tr style=\"text-align: right;\">\n",
       "      <th></th>\n",
       "      <th>Weight (in grams)</th>\n",
       "      <th>Sugar Content (in %)</th>\n",
       "      <th>Fruit</th>\n",
       "    </tr>\n",
       "  </thead>\n",
       "  <tbody>\n",
       "    <tr>\n",
       "      <th>0</th>\n",
       "      <td>100</td>\n",
       "      <td>10.0</td>\n",
       "      <td>Apple</td>\n",
       "    </tr>\n",
       "    <tr>\n",
       "      <th>1</th>\n",
       "      <td>105</td>\n",
       "      <td>11.0</td>\n",
       "      <td>Apple</td>\n",
       "    </tr>\n",
       "    <tr>\n",
       "      <th>2</th>\n",
       "      <td>103</td>\n",
       "      <td>10.5</td>\n",
       "      <td>Apple</td>\n",
       "    </tr>\n",
       "    <tr>\n",
       "      <th>3</th>\n",
       "      <td>101</td>\n",
       "      <td>10.2</td>\n",
       "      <td>Apple</td>\n",
       "    </tr>\n",
       "    <tr>\n",
       "      <th>4</th>\n",
       "      <td>160</td>\n",
       "      <td>18.0</td>\n",
       "      <td>Orange</td>\n",
       "    </tr>\n",
       "    <tr>\n",
       "      <th>5</th>\n",
       "      <td>162</td>\n",
       "      <td>19.0</td>\n",
       "      <td>Orange</td>\n",
       "    </tr>\n",
       "    <tr>\n",
       "      <th>6</th>\n",
       "      <td>163</td>\n",
       "      <td>19.5</td>\n",
       "      <td>Orange</td>\n",
       "    </tr>\n",
       "    <tr>\n",
       "      <th>7</th>\n",
       "      <td>164</td>\n",
       "      <td>18.8</td>\n",
       "      <td>Orange</td>\n",
       "    </tr>\n",
       "  </tbody>\n",
       "</table>\n",
       "</div>"
      ],
      "text/plain": [
       "   Weight (in grams)  Sugar Content (in %)   Fruit\n",
       "0                100                  10.0   Apple\n",
       "1                105                  11.0   Apple\n",
       "2                103                  10.5   Apple\n",
       "3                101                  10.2   Apple\n",
       "4                160                  18.0  Orange\n",
       "5                162                  19.0  Orange\n",
       "6                163                  19.5  Orange\n",
       "7                164                  18.8  Orange"
      ]
     },
     "execution_count": 40,
     "metadata": {},
     "output_type": "execute_result"
    }
   ],
   "source": [
    "import pandas as pd\n",
    "\n",
    "data = {\n",
    "    'Weight (in grams)': [100, 105, 103, 101, 160, 162, 163, 164],\n",
    "    'Sugar Content (in %)': [10, 11, 10.5, 10.2, 18, 19, 19.5, 18.8],\n",
    "    'Fruit': ['Apple', 'Apple', 'Apple', 'Apple', 'Orange', 'Orange', 'Orange', 'Orange']\n",
    "}\n",
    "\n",
    "df = pd.DataFrame(data)\n",
    "\n",
    "df"
   ]
  },
  {
   "cell_type": "code",
   "execution_count": 41,
   "metadata": {},
   "outputs": [
    {
     "data": {
      "image/png": "[encoded data removed]",
      "text/plain": [
       "<Figure size 1200x500 with 2 Axes>"
      ]
     },
     "metadata": {},
     "output_type": "display_data"
    }
   ],
   "source": [
    "plot_gaussians(df) # custom-defined function in code/plotting_functions.py"
   ]
  },
  {
   "cell_type": "code",
   "execution_count": 42,
   "metadata": {},
   "outputs": [
    {
     "data": {
      "text/html": [
       "<div>\n",
       "<style scoped>\n",
       "    .dataframe tbody tr th:only-of-type {\n",
       "        vertical-align: middle;\n",
       "    }\n",
       "\n",
       "    .dataframe tbody tr th {\n",
       "        vertical-align: top;\n",
       "    }\n",
       "\n",
       "    .dataframe thead th {\n",
       "        text-align: right;\n",
       "    }\n",
       "</style>\n",
       "<table border=\"1\" class=\"dataframe\">\n",
       "  <thead>\n",
       "    <tr style=\"text-align: right;\">\n",
       "      <th></th>\n",
       "      <th>Weight (in grams)</th>\n",
       "      <th>Sugar Content (in %)</th>\n",
       "    </tr>\n",
       "  </thead>\n",
       "  <tbody>\n",
       "    <tr>\n",
       "      <th>count</th>\n",
       "      <td>8.000000</td>\n",
       "      <td>8.000000</td>\n",
       "    </tr>\n",
       "    <tr>\n",
       "      <th>mean</th>\n",
       "      <td>132.250000</td>\n",
       "      <td>14.625000</td>\n",
       "    </tr>\n",
       "    <tr>\n",
       "      <th>std</th>\n",
       "      <td>32.123645</td>\n",
       "      <td>4.517506</td>\n",
       "    </tr>\n",
       "    <tr>\n",
       "      <th>min</th>\n",
       "      <td>100.000000</td>\n",
       "      <td>10.000000</td>\n",
       "    </tr>\n",
       "    <tr>\n",
       "      <th>25%</th>\n",
       "      <td>102.500000</td>\n",
       "      <td>10.425000</td>\n",
       "    </tr>\n",
       "    <tr>\n",
       "      <th>50%</th>\n",
       "      <td>132.500000</td>\n",
       "      <td>14.500000</td>\n",
       "    </tr>\n",
       "    <tr>\n",
       "      <th>75%</th>\n",
       "      <td>162.250000</td>\n",
       "      <td>18.850000</td>\n",
       "    </tr>\n",
       "    <tr>\n",
       "      <th>max</th>\n",
       "      <td>164.000000</td>\n",
       "      <td>19.500000</td>\n",
       "    </tr>\n",
       "  </tbody>\n",
       "</table>\n",
       "</div>"
      ],
      "text/plain": [
       "       Weight (in grams)  Sugar Content (in %)\n",
       "count           8.000000              8.000000\n",
       "mean          132.250000             14.625000\n",
       "std            32.123645              4.517506\n",
       "min           100.000000             10.000000\n",
       "25%           102.500000             10.425000\n",
       "50%           132.500000             14.500000\n",
       "75%           162.250000             18.850000\n",
       "max           164.000000             19.500000"
      ]
     },
     "execution_count": 42,
     "metadata": {},
     "output_type": "execute_result"
    }
   ],
   "source": [
    "df.describe()"
   ]
  },
  {
   "cell_type": "code",
   "execution_count": 43,
   "metadata": {},
   "outputs": [],
   "source": [
    "X_toy = df.drop(columns = ['Fruit'])\n",
    "y_toy = df['Fruit']"
   ]
  },
  {
   "cell_type": "markdown",
   "metadata": {},
   "source": [
    "Let's say we have a test fruit with a weight of 106 grams and a sugar content of 11% and we want to predict the class. \n",
    "We'll compute the likelihood of these values for both fruits using the Gaussian pdf:"
   ]
  },
  {
   "cell_type": "code",
   "execution_count": 44,
   "metadata": {},
   "outputs": [],
   "source": [
    "def gaussian_pdf(x, mean, variance):\n",
    "    return (1 / np.sqrt(2 * np.pi * variance)) * np.exp(-np.power(x - mean, 2) / (2 * variance))\n",
    "\n",
    "# Compute conditional probabilities for the given observation\n",
    "observed_weight = 106\n",
    "observed_sugar_content = 11\n",
    "\n",
    "likelihoods = {}\n",
    "for fruit in ['Apple', 'Orange']:\n",
    "    likelihoods[fruit] = {}\n",
    "    for feature, observed_value in [('Weight (in grams)', observed_weight), ('Sugar Content (in %)', observed_sugar_content)]:\n",
    "        mean = df[df['Fruit'] == fruit][feature].mean()\n",
    "        variance = df[df['Fruit'] == fruit][feature].var()\n",
    "        likelihoods[fruit][feature + \"=\" + str(observed_value)] = gaussian_pdf(observed_value, mean, variance)\n",
    "        "
   ]
  },
  {
   "cell_type": "code",
   "execution_count": 45,
   "metadata": {},
   "outputs": [
    {
     "data": {
      "text/html": [
       "<div>\n",
       "<style scoped>\n",
       "    .dataframe tbody tr th:only-of-type {\n",
       "        vertical-align: middle;\n",
       "    }\n",
       "\n",
       "    .dataframe tbody tr th {\n",
       "        vertical-align: top;\n",
       "    }\n",
       "\n",
       "    .dataframe thead th {\n",
       "        text-align: right;\n",
       "    }\n",
       "</style>\n",
       "<table border=\"1\" class=\"dataframe\">\n",
       "  <thead>\n",
       "    <tr style=\"text-align: right;\">\n",
       "      <th></th>\n",
       "      <th>Apple</th>\n",
       "      <th>Orange</th>\n",
       "    </tr>\n",
       "  </thead>\n",
       "  <tbody>\n",
       "    <tr>\n",
       "      <th>Weight (in grams)=106</th>\n",
       "      <td>0.043052</td>\n",
       "      <td>6.345802e-237</td>\n",
       "    </tr>\n",
       "    <tr>\n",
       "      <th>Sugar Content (in %)=11</th>\n",
       "      <td>0.382788</td>\n",
       "      <td>4.368922e-35</td>\n",
       "    </tr>\n",
       "  </tbody>\n",
       "</table>\n",
       "</div>"
      ],
      "text/plain": [
       "                            Apple         Orange\n",
       "Weight (in grams)=106    0.043052  6.345802e-237\n",
       "Sugar Content (in %)=11  0.382788   4.368922e-35"
      ]
     },
     "execution_count": 45,
     "metadata": {},
     "output_type": "execute_result"
    }
   ],
   "source": [
    "pd.DataFrame(likelihoods)"
   ]
  },
  {
   "cell_type": "markdown",
   "metadata": {},
   "source": [
    "$p(Apple \\mid  \\text{Weight (in grams) = 106, Sugar Content (in \\%) = 11}) = $ \n",
    "$ p(Apple) \\times p(\\text{Weight (in grams} = 106 \\mid c = \\text{Apple})  \\times  p(\\text{Sugar Content (in \\%)} = 11 \\mid c = \\text{Apple})$"
   ]
  },
  {
   "cell_type": "markdown",
   "metadata": {},
   "source": [
    "$p(Orange \\mid  \\text{Weight (in grams) = 106, Sugar Content (in \\%) = 11}) = $ \n",
    "$ p(Orange) \\times p(\\text{Weight (in grams} = 106 \\mid c = \\text{Orange})  \\times  p(\\text{Sugar Content (in \\%)} = 11 \\mid c = \\text{Orange})$"
   ]
  },
  {
   "cell_type": "code",
   "execution_count": 46,
   "metadata": {},
   "outputs": [
    {
     "data": {
      "text/html": [
       "<style>#sk-container-id-2 {color: black;}#sk-container-id-2 pre{padding: 0;}#sk-container-id-2 div.sk-toggleable {background-color: white;}#sk-container-id-2 label.sk-toggleable__label {cursor: pointer;display: block;width: 100%;margin-bottom: 0;padding: 0.3em;box-sizing: border-box;text-align: center;}#sk-container-id-2 label.sk-toggleable__label-arrow:before {content: \"▸\";float: left;margin-right: 0.25em;color: #696969;}#sk-container-id-2 label.sk-toggleable__label-arrow:hover:before {color: black;}#sk-container-id-2 div.sk-estimator:hover label.sk-toggleable__label-arrow:before {color: black;}#sk-container-id-2 div.sk-toggleable__content {max-height: 0;max-width: 0;overflow: hidden;text-align: left;background-color: #f0f8ff;}#sk-container-id-2 div.sk-toggleable__content pre {margin: 0.2em;color: black;border-radius: 0.25em;background-color: #f0f8ff;}#sk-container-id-2 input.sk-toggleable__control:checked~div.sk-toggleable__content {max-height: 200px;max-width: 100%;overflow: auto;}#sk-container-id-2 input.sk-toggleable__control:checked~label.sk-toggleable__label-arrow:before {content: \"▾\";}#sk-container-id-2 div.sk-estimator input.sk-toggleable__control:checked~label.sk-toggleable__label {background-color: #d4ebff;}#sk-container-id-2 div.sk-label input.sk-toggleable__control:checked~label.sk-toggleable__label {background-color: #d4ebff;}#sk-container-id-2 input.sk-hidden--visually {border: 0;clip: rect(1px 1px 1px 1px);clip: rect(1px, 1px, 1px, 1px);height: 1px;margin: -1px;overflow: hidden;padding: 0;position: absolute;width: 1px;}#sk-container-id-2 div.sk-estimator {font-family: monospace;background-color: #f0f8ff;border: 1px dotted black;border-radius: 0.25em;box-sizing: border-box;margin-bottom: 0.5em;}#sk-container-id-2 div.sk-estimator:hover {background-color: #d4ebff;}#sk-container-id-2 div.sk-parallel-item::after {content: \"\";width: 100%;border-bottom: 1px solid gray;flex-grow: 1;}#sk-container-id-2 div.sk-label:hover label.sk-toggleable__label {background-color: #d4ebff;}#sk-container-id-2 div.sk-serial::before {content: \"\";position: absolute;border-left: 1px solid gray;box-sizing: border-box;top: 0;bottom: 0;left: 50%;z-index: 0;}#sk-container-id-2 div.sk-serial {display: flex;flex-direction: column;align-items: center;background-color: white;padding-right: 0.2em;padding-left: 0.2em;position: relative;}#sk-container-id-2 div.sk-item {position: relative;z-index: 1;}#sk-container-id-2 div.sk-parallel {display: flex;align-items: stretch;justify-content: center;background-color: white;position: relative;}#sk-container-id-2 div.sk-item::before, #sk-container-id-2 div.sk-parallel-item::before {content: \"\";position: absolute;border-left: 1px solid gray;box-sizing: border-box;top: 0;bottom: 0;left: 50%;z-index: -1;}#sk-container-id-2 div.sk-parallel-item {display: flex;flex-direction: column;z-index: 1;position: relative;background-color: white;}#sk-container-id-2 div.sk-parallel-item:first-child::after {align-self: flex-end;width: 50%;}#sk-container-id-2 div.sk-parallel-item:last-child::after {align-self: flex-start;width: 50%;}#sk-container-id-2 div.sk-parallel-item:only-child::after {width: 0;}#sk-container-id-2 div.sk-dashed-wrapped {border: 1px dashed gray;margin: 0 0.4em 0.5em 0.4em;box-sizing: border-box;padding-bottom: 0.4em;background-color: white;}#sk-container-id-2 div.sk-label label {font-family: monospace;font-weight: bold;display: inline-block;line-height: 1.2em;}#sk-container-id-2 div.sk-label-container {text-align: center;}#sk-container-id-2 div.sk-container {/* jupyter's `normalize.less` sets `[hidden] { display: none; }` but bootstrap.min.css set `[hidden] { display: none !important; }` so we also need the `!important` here to be able to override the default hidden behavior on the sphinx rendered scikit-learn.org. See: https://github.com/scikit-learn/scikit-learn/issues/21755 */display: inline-block !important;position: relative;}#sk-container-id-2 div.sk-text-repr-fallback {display: none;}</style><div id=\"sk-container-id-2\" class=\"sk-top-container\"><div class=\"sk-text-repr-fallback\"><pre>GaussianNB()</pre><b>In a Jupyter environment, please rerun this cell to show the HTML representation or trust the notebook. <br />On GitHub, the HTML representation is unable to render, please try loading this page with nbviewer.org.</b></div><div class=\"sk-container\" hidden><div class=\"sk-item\"><div class=\"sk-estimator sk-toggleable\"><input class=\"sk-toggleable__control sk-hidden--visually\" id=\"sk-estimator-id-2\" type=\"checkbox\" checked><label for=\"sk-estimator-id-2\" class=\"sk-toggleable__label sk-toggleable__label-arrow\">GaussianNB</label><div class=\"sk-toggleable__content\"><pre>GaussianNB()</pre></div></div></div></div></div>"
      ],
      "text/plain": [
       "GaussianNB()"
      ]
     },
     "execution_count": 46,
     "metadata": {},
     "output_type": "execute_result"
    }
   ],
   "source": [
    "from sklearn.naive_bayes import GaussianNB\n",
    "\n",
    "model = GaussianNB()\n",
    "model.fit(X_toy.values, y_toy)"
   ]
  },
  {
   "cell_type": "code",
   "execution_count": 47,
   "metadata": {},
   "outputs": [
    {
     "data": {
      "text/plain": [
       "(array([[3.6875009, 0.1418759],\n",
       "        [2.1875009, 0.2918759]]),\n",
       " array([[102.25 ,  10.425],\n",
       "        [162.25 ,  18.825]]))"
      ]
     },
     "execution_count": 47,
     "metadata": {},
     "output_type": "execute_result"
    }
   ],
   "source": [
    "model.var_, model.theta_"
   ]
  },
  {
   "cell_type": "code",
   "execution_count": 48,
   "metadata": {},
   "outputs": [
    {
     "data": {
      "text/plain": [
       "array([0.5, 0.5])"
      ]
     },
     "execution_count": 48,
     "metadata": {},
     "output_type": "execute_result"
    }
   ],
   "source": [
    "model.class_prior_"
   ]
  },
  {
   "cell_type": "code",
   "execution_count": 49,
   "metadata": {},
   "outputs": [
    {
     "data": {
      "text/plain": [
       "array(['Apple'], dtype='<U6')"
      ]
     },
     "execution_count": 49,
     "metadata": {},
     "output_type": "execute_result"
    }
   ],
   "source": [
    "model.predict([[106.0, 11.0]])"
   ]
  },
  {
   "cell_type": "markdown",
   "metadata": {},
   "source": [
    "- Gaussian naive Bayes assumes normality\n",
    "    - If the features are not normally distributed transform the data to make them more normal\n",
    "    - Scikit-learn provides the `PowerTransformer()` for this process\n",
    "    - From the [docs](https://scikit-learn.org/stable/modules/generated/sklearn.preprocessing.PowerTransformer.html#sklearn.preprocessing.PowerTransformer): \"*...Power transforms are a family of parametric, monotonic transformations that are applied to make data more Gaussian-like.*\""
   ]
  },
  {
   "cell_type": "markdown",
   "metadata": {},
   "source": [
    "<br><br><br><br>"
   ]
  },
  {
   "cell_type": "markdown",
   "metadata": {},
   "source": [
    "### (Optional) The generative model behind naive Bayes\n",
    "\n",
    "- Naive Bayes is a **generative model** because it's modeling the joint distribution over the features $X$ and labels $y$.\n",
    "- In the next lecture, we'll look at a **discriminative model**, which models $P(y\\mid X)$ rather than $P(X,y)$.\n",
    "- Right now just get familiar with these terms. We'll talk more about them later in the program. "
   ]
  },
  {
   "cell_type": "markdown",
   "metadata": {},
   "source": [
    "It's weird to think of the features as random, but we're saying they come from those Gaussians above."
   ]
  },
  {
   "cell_type": "code",
   "execution_count": 50,
   "metadata": {},
   "outputs": [
    {
     "data": {
      "text/plain": [
       "array([0.5, 0.5])"
      ]
     },
     "execution_count": 50,
     "metadata": {},
     "output_type": "execute_result"
    }
   ],
   "source": [
    "model.class_prior_"
   ]
  },
  {
   "cell_type": "code",
   "execution_count": 51,
   "metadata": {},
   "outputs": [
    {
     "data": {
      "text/plain": [
       "array([[3.6875009, 0.1418759],\n",
       "       [2.1875009, 0.2918759]])"
      ]
     },
     "execution_count": 51,
     "metadata": {},
     "output_type": "execute_result"
    }
   ],
   "source": [
    "model.var_"
   ]
  },
  {
   "cell_type": "code",
   "execution_count": 52,
   "metadata": {},
   "outputs": [
    {
     "data": {
      "text/plain": [
       "array([[102.25 ,  10.425],\n",
       "       [162.25 ,  18.825]])"
      ]
     },
     "execution_count": 52,
     "metadata": {},
     "output_type": "execute_result"
    }
   ],
   "source": [
    "model.theta_"
   ]
  },
  {
   "cell_type": "code",
   "execution_count": 53,
   "metadata": {},
   "outputs": [],
   "source": [
    "def gen_gaussian_nb(means, sigmas, p_y, n=500):\n",
    "    # means:  a 2D array of size num_classes by num features containing the means of the Gaussians\n",
    "    # sigmas: a 2D array of size num_classes by num features containing the standard deviations of the Gaussians\n",
    "    # p_y   : a 1D array of length num_classes containing the probability of each class\n",
    "    # n     : an integer for the number of samples (\"size of sample\") to generate\n",
    "\n",
    "    C = 2 # number of classes\n",
    "    d = 2 # number of features\n",
    "    X_generated = np.zeros((n,d))\n",
    "    y_generated = np.zeros((n))\n",
    "    for i in range(n):\n",
    "        # pick Canadian city/USA city\n",
    "        k = np.random.choice(C, p=p_y)\n",
    "        for j in range(d):\n",
    "            X_generated[i,j] = means[k,j] + sigmas[k,j] * np.random.randn()\n",
    "        y_generated[i] = k    \n",
    "        \n",
    "    return X_generated, y_generated"
   ]
  },
  {
   "cell_type": "code",
   "execution_count": 54,
   "metadata": {},
   "outputs": [],
   "source": [
    "X_generated, y_generated = gen_gaussian_nb(model.theta_, np.sqrt(model.var_), model.class_prior_)"
   ]
  },
  {
   "cell_type": "code",
   "execution_count": 55,
   "metadata": {},
   "outputs": [
    {
     "data": {
      "image/png": "[encoded data removed]",
      "text/plain": [
       "<Figure size 640x480 with 1 Axes>"
      ]
     },
     "metadata": {},
     "output_type": "display_data"
    }
   ],
   "source": [
    "mglearn.discrete_scatter(X_generated[:, 0], X_generated[:, 1], y_generated, s=12)\n",
    "plt.xlabel(\"Weight (in grams)\")\n",
    "plt.ylabel(\"Sugar Content (in %)\");"
   ]
  },
  {
   "cell_type": "markdown",
   "metadata": {},
   "source": [
    "We can experiment with different priors. "
   ]
  },
  {
   "cell_type": "code",
   "execution_count": 56,
   "metadata": {},
   "outputs": [
    {
     "data": {
      "image/png": "[encoded data removed]",
      "text/plain": [
       "<Figure size 640x480 with 1 Axes>"
      ]
     },
     "metadata": {},
     "output_type": "display_data"
    }
   ],
   "source": [
    "X_generated, y_generated = gen_gaussian_nb(model.theta_, np.sqrt(model.var_), [0.2,0.8])\n",
    "mglearn.discrete_scatter(X_generated[:, 0], X_generated[:, 1], y_generated, s=12)\n",
    "plt.xlabel(\"Weight (in grams)\")\n",
    "plt.ylabel(\"Sugar Content (in %)\");"
   ]
  },
  {
   "cell_type": "markdown",
   "metadata": {
    "slideshow": {
     "slide_type": "skip"
    }
   },
   "source": [
    "<br><br><br><br>"
   ]
  },
  {
   "cell_type": "markdown",
   "metadata": {
    "slideshow": {
     "slide_type": "slide"
    }
   },
   "source": [
    "## (Optional) Naive Bayes on multi-class problems "
   ]
  },
  {
   "cell_type": "markdown",
   "metadata": {},
   "source": [
    "Let's use `sklearn`'s inbuilt 20 newsgroups dataset. It comprises around 18,000 newsgroups posts on 20 topics. So it's a 20-class classification problem. "
   ]
  },
  {
   "cell_type": "code",
   "execution_count": 57,
   "metadata": {},
   "outputs": [],
   "source": [
    "from sklearn import datasets\n",
    "from sklearn.datasets import fetch_20newsgroups\n",
    "\n",
    "newsgroups_train = fetch_20newsgroups(\n",
    "    subset=\"train\", remove=(\"headers\", \"footers\", \"quotes\")\n",
    ")\n",
    "newsgroups_test = fetch_20newsgroups(\n",
    "    subset=\"test\", remove=(\"headers\", \"footers\", \"quotes\")\n",
    ")\n",
    "X_news_train, y_news_train = newsgroups_train.data, newsgroups_train.target\n",
    "X_news_test, y_news_test = newsgroups_test.data, newsgroups_test.target"
   ]
  },
  {
   "cell_type": "markdown",
   "metadata": {
    "slideshow": {
     "slide_type": "slide"
    }
   },
   "source": [
    "Here are the 20 topics (targets or classes) in the dataset. "
   ]
  },
  {
   "cell_type": "code",
   "execution_count": 58,
   "metadata": {},
   "outputs": [
    {
     "data": {
      "text/plain": [
       "['alt.atheism',\n",
       " 'comp.graphics',\n",
       " 'comp.os.ms-windows.misc',\n",
       " 'comp.sys.ibm.pc.hardware',\n",
       " 'comp.sys.mac.hardware',\n",
       " 'comp.windows.x',\n",
       " 'misc.forsale',\n",
       " 'rec.autos',\n",
       " 'rec.motorcycles',\n",
       " 'rec.sport.baseball',\n",
       " 'rec.sport.hockey',\n",
       " 'sci.crypt',\n",
       " 'sci.electronics',\n",
       " 'sci.med',\n",
       " 'sci.space',\n",
       " 'soc.religion.christian',\n",
       " 'talk.politics.guns',\n",
       " 'talk.politics.mideast',\n",
       " 'talk.politics.misc',\n",
       " 'talk.religion.misc']"
      ]
     },
     "execution_count": 58,
     "metadata": {},
     "output_type": "execute_result"
    }
   ],
   "source": [
    "newsgroups_train.target_names"
   ]
  },
  {
   "cell_type": "markdown",
   "metadata": {
    "slideshow": {
     "slide_type": "slide"
    }
   },
   "source": [
    "### Let's try `DummyClassifier`"
   ]
  },
  {
   "cell_type": "code",
   "execution_count": 59,
   "metadata": {
    "slideshow": {
     "slide_type": "-"
    }
   },
   "outputs": [
    {
     "data": {
      "text/html": [
       "<div>\n",
       "<style scoped>\n",
       "    .dataframe tbody tr th:only-of-type {\n",
       "        vertical-align: middle;\n",
       "    }\n",
       "\n",
       "    .dataframe tbody tr th {\n",
       "        vertical-align: top;\n",
       "    }\n",
       "\n",
       "    .dataframe thead th {\n",
       "        text-align: right;\n",
       "    }\n",
       "</style>\n",
       "<table border=\"1\" class=\"dataframe\">\n",
       "  <thead>\n",
       "    <tr style=\"text-align: right;\">\n",
       "      <th></th>\n",
       "      <th>fit_time</th>\n",
       "      <th>score_time</th>\n",
       "      <th>test_score</th>\n",
       "      <th>train_score</th>\n",
       "    </tr>\n",
       "  </thead>\n",
       "  <tbody>\n",
       "    <tr>\n",
       "      <th>0</th>\n",
       "      <td>0.002476</td>\n",
       "      <td>0.001425</td>\n",
       "      <td>0.053027</td>\n",
       "      <td>0.053033</td>\n",
       "    </tr>\n",
       "    <tr>\n",
       "      <th>1</th>\n",
       "      <td>0.001438</td>\n",
       "      <td>0.000262</td>\n",
       "      <td>0.053027</td>\n",
       "      <td>0.053033</td>\n",
       "    </tr>\n",
       "    <tr>\n",
       "      <th>2</th>\n",
       "      <td>0.001139</td>\n",
       "      <td>0.000248</td>\n",
       "      <td>0.053027</td>\n",
       "      <td>0.053033</td>\n",
       "    </tr>\n",
       "    <tr>\n",
       "      <th>3</th>\n",
       "      <td>0.001165</td>\n",
       "      <td>0.000242</td>\n",
       "      <td>0.053027</td>\n",
       "      <td>0.053033</td>\n",
       "    </tr>\n",
       "    <tr>\n",
       "      <th>4</th>\n",
       "      <td>0.001144</td>\n",
       "      <td>0.000234</td>\n",
       "      <td>0.053050</td>\n",
       "      <td>0.053027</td>\n",
       "    </tr>\n",
       "  </tbody>\n",
       "</table>\n",
       "</div>"
      ],
      "text/plain": [
       "   fit_time  score_time  test_score  train_score\n",
       "0  0.002476    0.001425    0.053027     0.053033\n",
       "1  0.001438    0.000262    0.053027     0.053033\n",
       "2  0.001139    0.000248    0.053027     0.053033\n",
       "3  0.001165    0.000242    0.053027     0.053033\n",
       "4  0.001144    0.000234    0.053050     0.053027"
      ]
     },
     "execution_count": 59,
     "metadata": {},
     "output_type": "execute_result"
    }
   ],
   "source": [
    "dummy = DummyClassifier()\n",
    "scores = cross_validate(dummy, X_news_train, y_news_train, return_train_score=True)\n",
    "pd.DataFrame(scores)"
   ]
  },
  {
   "cell_type": "markdown",
   "metadata": {
    "slideshow": {
     "slide_type": "-"
    }
   },
   "source": [
    "The scores are very low because we have 20 different classes!! "
   ]
  },
  {
   "cell_type": "markdown",
   "metadata": {
    "slideshow": {
     "slide_type": "slide"
    }
   },
   "source": [
    "### Let's try `MultinomialNB`"
   ]
  },
  {
   "cell_type": "code",
   "execution_count": 60,
   "metadata": {
    "slideshow": {
     "slide_type": "-"
    }
   },
   "outputs": [],
   "source": [
    "pipe_multi = make_pipeline(CountVectorizer(), MultinomialNB())\n",
    "scores = cross_validate(pipe_multi, X_news_train, y_news_train, return_train_score=True)"
   ]
  },
  {
   "cell_type": "code",
   "execution_count": 61,
   "metadata": {},
   "outputs": [
    {
     "data": {
      "text/html": [
       "<div>\n",
       "<style scoped>\n",
       "    .dataframe tbody tr th:only-of-type {\n",
       "        vertical-align: middle;\n",
       "    }\n",
       "\n",
       "    .dataframe tbody tr th {\n",
       "        vertical-align: top;\n",
       "    }\n",
       "\n",
       "    .dataframe thead th {\n",
       "        text-align: right;\n",
       "    }\n",
       "</style>\n",
       "<table border=\"1\" class=\"dataframe\">\n",
       "  <thead>\n",
       "    <tr style=\"text-align: right;\">\n",
       "      <th></th>\n",
       "      <th>fit_time</th>\n",
       "      <th>score_time</th>\n",
       "      <th>test_score</th>\n",
       "      <th>train_score</th>\n",
       "    </tr>\n",
       "  </thead>\n",
       "  <tbody>\n",
       "    <tr>\n",
       "      <th>0</th>\n",
       "      <td>0.935332</td>\n",
       "      <td>0.188610</td>\n",
       "      <td>0.583738</td>\n",
       "      <td>0.741465</td>\n",
       "    </tr>\n",
       "    <tr>\n",
       "      <th>1</th>\n",
       "      <td>0.809867</td>\n",
       "      <td>0.199714</td>\n",
       "      <td>0.570040</td>\n",
       "      <td>0.739587</td>\n",
       "    </tr>\n",
       "    <tr>\n",
       "      <th>2</th>\n",
       "      <td>0.820616</td>\n",
       "      <td>0.182462</td>\n",
       "      <td>0.583297</td>\n",
       "      <td>0.749309</td>\n",
       "    </tr>\n",
       "    <tr>\n",
       "      <th>3</th>\n",
       "      <td>0.845887</td>\n",
       "      <td>0.173523</td>\n",
       "      <td>0.571365</td>\n",
       "      <td>0.731963</td>\n",
       "    </tr>\n",
       "    <tr>\n",
       "      <th>4</th>\n",
       "      <td>0.814050</td>\n",
       "      <td>0.173680</td>\n",
       "      <td>0.588859</td>\n",
       "      <td>0.739063</td>\n",
       "    </tr>\n",
       "  </tbody>\n",
       "</table>\n",
       "</div>"
      ],
      "text/plain": [
       "   fit_time  score_time  test_score  train_score\n",
       "0  0.935332    0.188610    0.583738     0.741465\n",
       "1  0.809867    0.199714    0.570040     0.739587\n",
       "2  0.820616    0.182462    0.583297     0.749309\n",
       "3  0.845887    0.173523    0.571365     0.731963\n",
       "4  0.814050    0.173680    0.588859     0.739063"
      ]
     },
     "execution_count": 61,
     "metadata": {},
     "output_type": "execute_result"
    }
   ],
   "source": [
    "pd.DataFrame(scores)"
   ]
  },
  {
   "cell_type": "markdown",
   "metadata": {},
   "source": [
    "The validation scores are low but much better than the `DummyClassifier`.  "
   ]
  },
  {
   "cell_type": "markdown",
   "metadata": {
    "slideshow": {
     "slide_type": "slide"
    }
   },
   "source": [
    "Let's try to predict on an example. "
   ]
  },
  {
   "cell_type": "code",
   "execution_count": 62,
   "metadata": {
    "slideshow": {
     "slide_type": "-"
    }
   },
   "outputs": [],
   "source": [
    "pipe_multi.fit(X_news_train, y_news_train);"
   ]
  },
  {
   "cell_type": "code",
   "execution_count": 63,
   "metadata": {},
   "outputs": [
    {
     "name": "stdout",
     "output_type": "stream",
     "text": [
      "Hello All!\n",
      "\n",
      "    It is my understanding that all True-Type fonts in Windows are loaded in\n",
      "prior to starting Windows - this makes getting into Windows quite slow if you\n",
      "have hundreds of them as I do.  First off, am I correct in this thinking -\n",
      "secondly, if that is the case - can you get Windows to ignore them on boot and\n",
      "maybe make something like a PIF file to load them only when you enter the\n",
      "applications that need fonts?  Any ideas?\n",
      "\n",
      "\n",
      "Chris\n",
      "Prediction index: 5 and prediction class: comp.windows.x\n"
     ]
    }
   ],
   "source": [
    "print(X_news_test[100])\n",
    "prediction = pipe_multi.predict([X_news_test[100]])[0]\n",
    "print(\n",
    "    \"Prediction index: %d and prediction class: %s\"\n",
    "    % (prediction, newsgroups_train.target_names[prediction])\n",
    ")"
   ]
  },
  {
   "cell_type": "markdown",
   "metadata": {},
   "source": [
    "And here are prediction probabilities. "
   ]
  },
  {
   "cell_type": "code",
   "execution_count": 64,
   "metadata": {},
   "outputs": [
    {
     "data": {
      "text/plain": [
       "array([[7.26904475e-19, 1.48743104e-10, 4.16538604e-28, 2.96340768e-10,\n",
       "        1.91391647e-14, 1.00000000e+00, 4.34194388e-28, 2.40916532e-18,\n",
       "        9.74009600e-22, 1.72603033e-31, 5.61184330e-31, 8.76853929e-14,\n",
       "        1.00705690e-16, 2.70331089e-13, 2.36762710e-21, 5.91222397e-16,\n",
       "        3.61589511e-15, 1.49715839e-13, 2.92789387e-16, 1.20413840e-24]])"
      ]
     },
     "execution_count": 64,
     "metadata": {},
     "output_type": "execute_result"
    }
   ],
   "source": [
    "pipe_multi.predict_proba([X_news_test[100]])"
   ]
  },
  {
   "cell_type": "markdown",
   "metadata": {},
   "source": [
    "<br><br><br><br>"
   ]
  },
  {
   "cell_type": "markdown",
   "metadata": {},
   "source": [
    "## Summary and final remarks"
   ]
  },
  {
   "cell_type": "markdown",
   "metadata": {
    "slideshow": {
     "slide_type": "slide"
    }
   },
   "source": [
    "### General comments on naive Bayes\n",
    "\n",
    "- Family of probabilistic classifiers \n",
    "- GausianNB is used on very high dimensional numeric data\n",
    "- BernoulliNB and MultinomialNB are used for sparse data (e.g., text data). \n",
    "    - MultinomialNB usually performs better than BernoulliNB, especially when you are working with large documents.\n",
    "    - Complexity hyperparameter: `alpha`"
   ]
  },
  {
   "cell_type": "markdown",
   "metadata": {
    "slideshow": {
     "slide_type": "slide"
    }
   },
   "source": [
    "- A fast and robust way to learn the corresponding parameters\n",
    "- Training procedure is easy to understand \n",
    "- Surprising accuracy considering its simplicity\n",
    "- Scales great; learning a naive Bayes classifier is just a matter of counting how many times each attribute co-occurs with each class\n",
    "- To avoid underflow, all the calculations are done with log likelihoods.  \n",
    "- Can be easily used for multi-class classification"
   ]
  },
  {
   "cell_type": "markdown",
   "metadata": {
    "slideshow": {
     "slide_type": "slide"
    }
   },
   "source": [
    "- It's closely related to linear classifiers, which we'll see in the next lecture. \n",
    "    - When we take the logarithms, the products turn into summations. \n",
    "- Can provides a informative set of features from which to predict the class (next class)"
   ]
  },
  {
   "cell_type": "markdown",
   "metadata": {
    "slideshow": {
     "slide_type": "slide"
    }
   },
   "source": [
    "- Often provide generalization performance that is slightly worse \n",
    "- Assumes that spammers generate e-mails by picking words at random. It means that sentences have no syntax and content. Is that a fair assumption? \n",
    "    - oversimplification \n",
    "    - sometimes the best theories are the most oversimplified 🤷🏻‍♀️\n",
    "\n",
    "- Although naive Bayes is known as a decent classifier, it is known to be a **bad estimator**, so the probability outputs from `predict_proba` are not to be taken too seriously."
   ]
  },
  {
   "cell_type": "markdown",
   "metadata": {},
   "source": [
    "![](img/eva-seeyou.png)\n"
   ]
  }
 ],
 "metadata": {
  "celltoolbar": "Slideshow",
  "kernelspec": {
   "display_name": "571",
   "language": "python",
   "name": "571"
  },
  "language_info": {
   "codemirror_mode": {
    "name": "ipython",
    "version": 3
   },
   "file_extension": ".py",
   "mimetype": "text/x-python",
   "name": "python",
   "nbconvert_exporter": "python",
   "pygments_lexer": "ipython3",
   "version": "3.10.0"
  }
 },
 "nbformat": 4,
 "nbformat_minor": 4
}
