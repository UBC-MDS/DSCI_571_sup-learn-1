{
 "cells": [
  {
   "cell_type": "markdown",
   "metadata": {
    "slideshow": {
     "slide_type": "slide"
    }
   },
   "source": [
    "# DSCI 571: Supervised Machine Learning I \n",
    "\n",
    "## Lecture 6: Hyperparameter optimization and optimization bias\n",
    "\n",
    "UBC Master of Data Science program, 2020-21\n",
    "\n",
    "Instructor: Varada Kolhatkar\n"
   ]
  },
  {
   "cell_type": "code",
   "execution_count": 1,
   "metadata": {
    "slideshow": {
     "slide_type": "skip"
    }
   },
   "outputs": [],
   "source": [
    "# Import libraries\n",
    "import matplotlib.pyplot as plt\n",
    "\n",
    "%matplotlib inline\n",
    "import numpy as np\n",
    "import pandas as pd\n",
    "from IPython.display import HTML\n",
    "from sklearn.compose import ColumnTransformer\n",
    "\n",
    "# Classifiers\n",
    "from sklearn.dummy import DummyClassifier\n",
    "\n",
    "# Preprocessing and pipeline\n",
    "from sklearn.impute import SimpleImputer\n",
    "\n",
    "# train test split and cross validation\n",
    "from sklearn.model_selection import (\n",
    "    GridSearchCV,\n",
    "    RandomizedSearchCV,\n",
    "    cross_validate,\n",
    "    train_test_split,\n",
    ")\n",
    "\n",
    "from sklearn.neighbors import KNeighborsClassifier, KNeighborsRegressor\n",
    "from sklearn.pipeline import FeatureUnion, Pipeline, make_pipeline\n",
    "from sklearn.preprocessing import (\n",
    "    FunctionTransformer,\n",
    "    Normalizer,\n",
    "    OneHotEncoder,\n",
    "    OrdinalEncoder,\n",
    "    StandardScaler,\n",
    "    normalize,\n",
    "    scale,\n",
    ")\n",
    "from sklearn.svm import SVC\n",
    "from sklearn.tree import DecisionTreeClassifier\n",
    "\n",
    "pd.set_option(\"display.max_colwidth\", 200)"
   ]
  },
  {
   "cell_type": "markdown",
   "metadata": {
    "slideshow": {
     "slide_type": "slide"
    }
   },
   "source": [
    "### Lecture learning objectives\n",
    "\n",
    "From this lecture, you will be able to \n",
    "\n",
    "- explain the need for hyperparameter optimization  \n",
    "- carry out hyperparameter optimization using `sklearn`'s `GridSearchCV` and `RandomizedSearchCV` \n",
    "- explain optimization bias\n",
    "- identify and reason when to trust and not trust reported accuracies "
   ]
  },
  {
   "cell_type": "markdown",
   "metadata": {
    "slideshow": {
     "slide_type": "skip"
    }
   },
   "source": [
    "### Lecture outline\n",
    "\n",
    "1. [Introduction and motivation](#1)\n",
    "2. [Hyperparameter optimization](#2)\n",
    "3. [Optimization bias](#3)\n",
    "4. [Summary](#4)"
   ]
  },
  {
   "cell_type": "markdown",
   "metadata": {
    "slideshow": {
     "slide_type": "slide"
    }
   },
   "source": [
    "## 1. Hyperparameter optimization <a name=\"2\"></a>"
   ]
  },
  {
   "cell_type": "markdown",
   "metadata": {
    "slideshow": {
     "slide_type": "slide"
    }
   },
   "source": [
    "### Hyperparameters: the problem\n",
    "\n",
    "- You may have a lot of them (e.g. deep learning)\n",
    "- Picking reasonable hyperparameters is important because if we don't do it, we might end up with an underfit or overfit model. \n",
    "- Nobody knows how to choose them.\n",
    "- They may interact with each other in unexpected ways.\n",
    "- The best settings depend on the specific data/problem.\n",
    "- Evaluating them takes a long time.\n",
    "- Some ways to pick hyperparameters:\n",
    "    - expert knowledge or heuristics\n",
    "    - **systematic/automated optimization** (today's lecture)"
   ]
  },
  {
   "cell_type": "markdown",
   "metadata": {
    "slideshow": {
     "slide_type": "slide"
    }
   },
   "source": [
    "## Data \n",
    "\n",
    "We'll be using [the adult census dataset](https://www.kaggle.com/uciml/adult-census-income#) you used in lab 2. \n",
    "\n",
    "This is a classification dataset and the classification task is to predict whether income exceeds 50K per year or not based on the census data. You can find more information on the dataset and features [here](http://archive.ics.uci.edu/ml/datasets/Adult).\n",
    "\n",
    "The code below loads the data CSV (assuming that it is saved as `data/adult.csv` in this folder). \n",
    "\n",
    "*Note that many popular datasets have sex as a feature where the possible values are male and female. This representation reflects how the data were collected and is not meant to imply that, for example, gender is binary.*"
   ]
  },
  {
   "cell_type": "markdown",
   "metadata": {
    "slideshow": {
     "slide_type": "slide"
    }
   },
   "source": [
    "### Reading the data CSV and splitting it"
   ]
  },
  {
   "cell_type": "code",
   "execution_count": 2,
   "metadata": {
    "slideshow": {
     "slide_type": "-"
    }
   },
   "outputs": [],
   "source": [
    "adult_df_large = pd.read_csv(\"data/adult.csv\")\n",
    "adult_df_sample = adult_df_large.sample(frac=0.3)"
   ]
  },
  {
   "cell_type": "code",
   "execution_count": 3,
   "metadata": {
    "slideshow": {
     "slide_type": "-"
    }
   },
   "outputs": [],
   "source": [
    "train_df, test_df = train_test_split(adult_df_sample, test_size=0.2, random_state=42)"
   ]
  },
  {
   "cell_type": "code",
   "execution_count": 4,
   "metadata": {
    "slideshow": {
     "slide_type": "-"
    }
   },
   "outputs": [],
   "source": [
    "train_df_nan = train_df.replace(\"?\", np.NaN)\n",
    "test_df_nan = test_df.replace(\"?\", np.NaN)"
   ]
  },
  {
   "cell_type": "code",
   "execution_count": 5,
   "metadata": {
    "slideshow": {
     "slide_type": "-"
    }
   },
   "outputs": [
    {
     "data": {
      "text/html": [
       "<div>\n",
       "<style scoped>\n",
       "    .dataframe tbody tr th:only-of-type {\n",
       "        vertical-align: middle;\n",
       "    }\n",
       "\n",
       "    .dataframe tbody tr th {\n",
       "        vertical-align: top;\n",
       "    }\n",
       "\n",
       "    .dataframe thead th {\n",
       "        text-align: right;\n",
       "    }\n",
       "</style>\n",
       "<table border=\"1\" class=\"dataframe\">\n",
       "  <thead>\n",
       "    <tr style=\"text-align: right;\">\n",
       "      <th></th>\n",
       "      <th>age</th>\n",
       "      <th>workclass</th>\n",
       "      <th>fnlwgt</th>\n",
       "      <th>education</th>\n",
       "      <th>education.num</th>\n",
       "      <th>marital.status</th>\n",
       "      <th>occupation</th>\n",
       "      <th>relationship</th>\n",
       "      <th>race</th>\n",
       "      <th>sex</th>\n",
       "      <th>capital.gain</th>\n",
       "      <th>capital.loss</th>\n",
       "      <th>hours.per.week</th>\n",
       "      <th>native.country</th>\n",
       "      <th>income</th>\n",
       "    </tr>\n",
       "  </thead>\n",
       "  <tbody>\n",
       "    <tr>\n",
       "      <th>19258</th>\n",
       "      <td>23</td>\n",
       "      <td>Private</td>\n",
       "      <td>237044</td>\n",
       "      <td>HS-grad</td>\n",
       "      <td>9</td>\n",
       "      <td>Never-married</td>\n",
       "      <td>Other-service</td>\n",
       "      <td>Own-child</td>\n",
       "      <td>Black</td>\n",
       "      <td>Male</td>\n",
       "      <td>0</td>\n",
       "      <td>0</td>\n",
       "      <td>12</td>\n",
       "      <td>United-States</td>\n",
       "      <td>&lt;=50K</td>\n",
       "    </tr>\n",
       "    <tr>\n",
       "      <th>9782</th>\n",
       "      <td>35</td>\n",
       "      <td>Private</td>\n",
       "      <td>38948</td>\n",
       "      <td>Some-college</td>\n",
       "      <td>10</td>\n",
       "      <td>Married-civ-spouse</td>\n",
       "      <td>Prof-specialty</td>\n",
       "      <td>Husband</td>\n",
       "      <td>White</td>\n",
       "      <td>Male</td>\n",
       "      <td>0</td>\n",
       "      <td>0</td>\n",
       "      <td>40</td>\n",
       "      <td>United-States</td>\n",
       "      <td>&gt;50K</td>\n",
       "    </tr>\n",
       "    <tr>\n",
       "      <th>1842</th>\n",
       "      <td>46</td>\n",
       "      <td>Private</td>\n",
       "      <td>155659</td>\n",
       "      <td>Some-college</td>\n",
       "      <td>10</td>\n",
       "      <td>Married-civ-spouse</td>\n",
       "      <td>Craft-repair</td>\n",
       "      <td>Husband</td>\n",
       "      <td>White</td>\n",
       "      <td>Male</td>\n",
       "      <td>15024</td>\n",
       "      <td>0</td>\n",
       "      <td>45</td>\n",
       "      <td>United-States</td>\n",
       "      <td>&gt;50K</td>\n",
       "    </tr>\n",
       "    <tr>\n",
       "      <th>29224</th>\n",
       "      <td>42</td>\n",
       "      <td>Private</td>\n",
       "      <td>126003</td>\n",
       "      <td>HS-grad</td>\n",
       "      <td>9</td>\n",
       "      <td>Married-civ-spouse</td>\n",
       "      <td>Tech-support</td>\n",
       "      <td>Husband</td>\n",
       "      <td>White</td>\n",
       "      <td>Male</td>\n",
       "      <td>0</td>\n",
       "      <td>0</td>\n",
       "      <td>40</td>\n",
       "      <td>United-States</td>\n",
       "      <td>&gt;50K</td>\n",
       "    </tr>\n",
       "    <tr>\n",
       "      <th>16985</th>\n",
       "      <td>38</td>\n",
       "      <td>Self-emp-not-inc</td>\n",
       "      <td>114835</td>\n",
       "      <td>Bachelors</td>\n",
       "      <td>13</td>\n",
       "      <td>Married-civ-spouse</td>\n",
       "      <td>Sales</td>\n",
       "      <td>Wife</td>\n",
       "      <td>White</td>\n",
       "      <td>Female</td>\n",
       "      <td>0</td>\n",
       "      <td>0</td>\n",
       "      <td>60</td>\n",
       "      <td>United-States</td>\n",
       "      <td>&gt;50K</td>\n",
       "    </tr>\n",
       "  </tbody>\n",
       "</table>\n",
       "</div>"
      ],
      "text/plain": [
       "       age         workclass  fnlwgt     education  education.num  \\\n",
       "19258   23           Private  237044       HS-grad              9   \n",
       "9782    35           Private   38948  Some-college             10   \n",
       "1842    46           Private  155659  Some-college             10   \n",
       "29224   42           Private  126003       HS-grad              9   \n",
       "16985   38  Self-emp-not-inc  114835     Bachelors             13   \n",
       "\n",
       "           marital.status      occupation relationship   race     sex  \\\n",
       "19258       Never-married   Other-service    Own-child  Black    Male   \n",
       "9782   Married-civ-spouse  Prof-specialty      Husband  White    Male   \n",
       "1842   Married-civ-spouse    Craft-repair      Husband  White    Male   \n",
       "29224  Married-civ-spouse    Tech-support      Husband  White    Male   \n",
       "16985  Married-civ-spouse           Sales         Wife  White  Female   \n",
       "\n",
       "       capital.gain  capital.loss  hours.per.week native.country income  \n",
       "19258             0             0              12  United-States  <=50K  \n",
       "9782              0             0              40  United-States   >50K  \n",
       "1842          15024             0              45  United-States   >50K  \n",
       "29224             0             0              40  United-States   >50K  \n",
       "16985             0             0              60  United-States   >50K  "
      ]
     },
     "execution_count": 5,
     "metadata": {},
     "output_type": "execute_result"
    }
   ],
   "source": [
    "train_df_nan.head()"
   ]
  },
  {
   "cell_type": "code",
   "execution_count": 6,
   "metadata": {},
   "outputs": [
    {
     "data": {
      "text/plain": [
       "<=50K    5914\n",
       ">50K     1900\n",
       "Name: income, dtype: int64"
      ]
     },
     "execution_count": 6,
     "metadata": {},
     "output_type": "execute_result"
    }
   ],
   "source": [
    "train_df_nan['income'].value_counts()"
   ]
  },
  {
   "cell_type": "markdown",
   "metadata": {
    "slideshow": {
     "slide_type": "slide"
    }
   },
   "source": [
    "### Identify feature types"
   ]
  },
  {
   "cell_type": "code",
   "execution_count": 7,
   "metadata": {
    "slideshow": {
     "slide_type": "-"
    }
   },
   "outputs": [],
   "source": [
    "numeric_features = ['age', 'fnlwgt', 'capital.gain', \n",
    "                    'capital.loss', 'hours.per.week']\n",
    "# I am removing eduction.num column\n",
    "categorical_features = ['workclass', 'marital.status', 'occupation', \n",
    "                        'relationship', 'sex', 'native.country']\n",
    "# I am removing 'race' column\n",
    "ordinal_features = ['education']\n",
    "target = 'income'"
   ]
  },
  {
   "cell_type": "code",
   "execution_count": 8,
   "metadata": {},
   "outputs": [],
   "source": [
    "education_levels = ['Preschool', '1st-4th', '5th-6th', '7th-8th', \n",
    "                    '9th', '10th', '11th', '12th', 'HS-grad',\n",
    "                    'Prof-school', 'Assoc-voc', 'Assoc-acdm', \n",
    "                    'Some-college', 'Bachelors', 'Masters', 'Doctorate']"
   ]
  },
  {
   "cell_type": "code",
   "execution_count": 9,
   "metadata": {},
   "outputs": [],
   "source": [
    "assert set(education_levels) == set(train_df[\"education\"].unique())"
   ]
  },
  {
   "cell_type": "code",
   "execution_count": 10,
   "metadata": {},
   "outputs": [],
   "source": [
    "X_train = train_df_nan.drop(columns=[target])\n",
    "y_train = train_df_nan[target]\n",
    "\n",
    "X_test = test_df_nan.drop(columns=[target])\n",
    "y_test = test_df_nan[target]"
   ]
  },
  {
   "cell_type": "markdown",
   "metadata": {
    "slideshow": {
     "slide_type": "slide"
    }
   },
   "source": [
    "### Define `ColumnTransformer` and a pipeline "
   ]
  },
  {
   "cell_type": "code",
   "execution_count": 11,
   "metadata": {
    "slideshow": {
     "slide_type": "-"
    }
   },
   "outputs": [],
   "source": [
    "numeric_transformer = make_pipeline(SimpleImputer(strategy=\"median\"), StandardScaler())\n",
    "\n",
    "categorical_transformer = make_pipeline(\n",
    "    SimpleImputer(strategy=\"constant\", fill_value=\"missing\"),\n",
    "    OneHotEncoder(handle_unknown=\"ignore\"),\n",
    ")\n",
    "\n",
    "ordinal_transformer = make_pipeline(\n",
    "    SimpleImputer(strategy=\"constant\", fill_value=\"missing\"),\n",
    "    OrdinalEncoder(categories=[education_levels], dtype=int,),\n",
    "\n",
    ")\n",
    "\n",
    "preprocessor = ColumnTransformer(\n",
    "    transformers=[\n",
    "        (\"num\", numeric_transformer, numeric_features),\n",
    "        (\"cat\", categorical_transformer, categorical_features),\n",
    "        (\"ordinal\", ordinal_transformer, ordinal_features)\n",
    "    ]\n",
    ")\n",
    "pipe = make_pipeline(preprocessor, SVC())"
   ]
  },
  {
   "cell_type": "code",
   "execution_count": 12,
   "metadata": {
    "slideshow": {
     "slide_type": "slide"
    }
   },
   "outputs": [],
   "source": [
    "scores = cross_validate(pipe, X_train, y_train, return_train_score=True)"
   ]
  },
  {
   "cell_type": "code",
   "execution_count": 13,
   "metadata": {},
   "outputs": [
    {
     "data": {
      "text/plain": [
       "fit_time       0.619898\n",
       "score_time     0.113588\n",
       "test_score     0.846430\n",
       "train_score    0.848861\n",
       "dtype: float64"
      ]
     },
     "execution_count": 13,
     "metadata": {},
     "output_type": "execute_result"
    }
   ],
   "source": [
    "pd.DataFrame(scores).mean()"
   ]
  },
  {
   "cell_type": "markdown",
   "metadata": {
    "slideshow": {
     "slide_type": "-"
    }
   },
   "source": [
    "- We are using the default hyperparameters for SVC. \n",
    "- We have cherry picked hyperparameters for some of our transformers.  \n",
    "- Probably we could do better with different hyperparameters. "
   ]
  },
  {
   "cell_type": "markdown",
   "metadata": {
    "slideshow": {
     "slide_type": "slide"
    }
   },
   "source": [
    "### Let's carry out hyperparameter optimization with `C` and `gamma`"
   ]
  },
  {
   "cell_type": "code",
   "execution_count": 14,
   "metadata": {},
   "outputs": [],
   "source": [
    "### Writing a loop for hyperparameter optimization for gamma and C for SVC\n",
    "param_grid = {\n",
    "    \"gamma\": [0.1, 1.0, 10, 100],\n",
    "    \"C\": [0.1, 1.0, 10, 100]\n",
    "}\n",
    "\n",
    "param_scores = {\"gamma\": [], \"C\": [], \"train_accuracy\": [], \"valid_accuracy\": []}\n",
    "for gamma_val in param_grid[\"gamma\"]:\n",
    "    for c_val in param_grid[\"C\"]:\n",
    "        pipe = make_pipeline(preprocessor, SVC(gamma=gamma_val, C=c_val))\n",
    "        scores = cross_validate(pipe, X_train, y_train, cv=5, return_train_score=True)\n",
    "        param_scores[\"gamma\"].append(gamma_val)\n",
    "        param_scores[\"C\"].append(c_val)\n",
    "        param_scores[\"train_accuracy\"].append(np.mean(scores[\"train_score\"]))\n",
    "        param_scores[\"valid_accuracy\"].append(np.mean(scores[\"test_score\"]))"
   ]
  },
  {
   "cell_type": "code",
   "execution_count": 15,
   "metadata": {},
   "outputs": [
    {
     "data": {
      "text/html": [
       "<div>\n",
       "<style scoped>\n",
       "    .dataframe tbody tr th:only-of-type {\n",
       "        vertical-align: middle;\n",
       "    }\n",
       "\n",
       "    .dataframe tbody tr th {\n",
       "        vertical-align: top;\n",
       "    }\n",
       "\n",
       "    .dataframe thead th {\n",
       "        text-align: right;\n",
       "    }\n",
       "</style>\n",
       "<table border=\"1\" class=\"dataframe\">\n",
       "  <thead>\n",
       "    <tr style=\"text-align: right;\">\n",
       "      <th></th>\n",
       "      <th>gamma</th>\n",
       "      <th>C</th>\n",
       "      <th>train_accuracy</th>\n",
       "      <th>valid_accuracy</th>\n",
       "    </tr>\n",
       "  </thead>\n",
       "  <tbody>\n",
       "    <tr>\n",
       "      <th>1</th>\n",
       "      <td>0.1</td>\n",
       "      <td>1.0</td>\n",
       "      <td>0.872728</td>\n",
       "      <td>0.852444</td>\n",
       "    </tr>\n",
       "    <tr>\n",
       "      <th>2</th>\n",
       "      <td>0.1</td>\n",
       "      <td>10.0</td>\n",
       "      <td>0.916048</td>\n",
       "      <td>0.845406</td>\n",
       "    </tr>\n",
       "    <tr>\n",
       "      <th>0</th>\n",
       "      <td>0.1</td>\n",
       "      <td>0.1</td>\n",
       "      <td>0.839615</td>\n",
       "      <td>0.832480</td>\n",
       "    </tr>\n",
       "    <tr>\n",
       "      <th>3</th>\n",
       "      <td>0.1</td>\n",
       "      <td>100.0</td>\n",
       "      <td>0.949898</td>\n",
       "      <td>0.810981</td>\n",
       "    </tr>\n",
       "    <tr>\n",
       "      <th>5</th>\n",
       "      <td>1.0</td>\n",
       "      <td>1.0</td>\n",
       "      <td>0.957384</td>\n",
       "      <td>0.791401</td>\n",
       "    </tr>\n",
       "    <tr>\n",
       "      <th>6</th>\n",
       "      <td>1.0</td>\n",
       "      <td>10.0</td>\n",
       "      <td>0.984419</td>\n",
       "      <td>0.783593</td>\n",
       "    </tr>\n",
       "    <tr>\n",
       "      <th>7</th>\n",
       "      <td>1.0</td>\n",
       "      <td>100.0</td>\n",
       "      <td>0.994081</td>\n",
       "      <td>0.778601</td>\n",
       "    </tr>\n",
       "    <tr>\n",
       "      <th>4</th>\n",
       "      <td>1.0</td>\n",
       "      <td>0.1</td>\n",
       "      <td>0.765357</td>\n",
       "      <td>0.763117</td>\n",
       "    </tr>\n",
       "    <tr>\n",
       "      <th>9</th>\n",
       "      <td>10.0</td>\n",
       "      <td>1.0</td>\n",
       "      <td>0.989890</td>\n",
       "      <td>0.758766</td>\n",
       "    </tr>\n",
       "    <tr>\n",
       "      <th>10</th>\n",
       "      <td>10.0</td>\n",
       "      <td>10.0</td>\n",
       "      <td>0.998432</td>\n",
       "      <td>0.757999</td>\n",
       "    </tr>\n",
       "    <tr>\n",
       "      <th>11</th>\n",
       "      <td>10.0</td>\n",
       "      <td>100.0</td>\n",
       "      <td>0.999616</td>\n",
       "      <td>0.757743</td>\n",
       "    </tr>\n",
       "    <tr>\n",
       "      <th>8</th>\n",
       "      <td>10.0</td>\n",
       "      <td>0.1</td>\n",
       "      <td>0.756847</td>\n",
       "      <td>0.756847</td>\n",
       "    </tr>\n",
       "    <tr>\n",
       "      <th>12</th>\n",
       "      <td>100.0</td>\n",
       "      <td>0.1</td>\n",
       "      <td>0.756847</td>\n",
       "      <td>0.756847</td>\n",
       "    </tr>\n",
       "    <tr>\n",
       "      <th>13</th>\n",
       "      <td>100.0</td>\n",
       "      <td>1.0</td>\n",
       "      <td>0.998240</td>\n",
       "      <td>0.756719</td>\n",
       "    </tr>\n",
       "    <tr>\n",
       "      <th>14</th>\n",
       "      <td>100.0</td>\n",
       "      <td>10.0</td>\n",
       "      <td>0.999680</td>\n",
       "      <td>0.756591</td>\n",
       "    </tr>\n",
       "    <tr>\n",
       "      <th>15</th>\n",
       "      <td>100.0</td>\n",
       "      <td>100.0</td>\n",
       "      <td>1.000000</td>\n",
       "      <td>0.756591</td>\n",
       "    </tr>\n",
       "  </tbody>\n",
       "</table>\n",
       "</div>"
      ],
      "text/plain": [
       "    gamma      C  train_accuracy  valid_accuracy\n",
       "1     0.1    1.0        0.872728        0.852444\n",
       "2     0.1   10.0        0.916048        0.845406\n",
       "0     0.1    0.1        0.839615        0.832480\n",
       "3     0.1  100.0        0.949898        0.810981\n",
       "5     1.0    1.0        0.957384        0.791401\n",
       "6     1.0   10.0        0.984419        0.783593\n",
       "7     1.0  100.0        0.994081        0.778601\n",
       "4     1.0    0.1        0.765357        0.763117\n",
       "9    10.0    1.0        0.989890        0.758766\n",
       "10   10.0   10.0        0.998432        0.757999\n",
       "11   10.0  100.0        0.999616        0.757743\n",
       "8    10.0    0.1        0.756847        0.756847\n",
       "12  100.0    0.1        0.756847        0.756847\n",
       "13  100.0    1.0        0.998240        0.756719\n",
       "14  100.0   10.0        0.999680        0.756591\n",
       "15  100.0  100.0        1.000000        0.756591"
      ]
     },
     "execution_count": 15,
     "metadata": {},
     "output_type": "execute_result"
    }
   ],
   "source": [
    "pd.DataFrame(param_scores).sort_values('valid_accuracy', ascending=False)"
   ]
  },
  {
   "cell_type": "markdown",
   "metadata": {
    "slideshow": {
     "slide_type": "slide"
    }
   },
   "source": [
    "### Questions and comments \n",
    "\n",
    "- How many 5-fold cross-validation experiments are carried out here? \n",
    "- How would it work with more hyperparameters? \n",
    "- Remember that we also have hyperparameters of our transformers. For example, you might want to try \"mean\" or \"median\" strategies for your scaler and pick the one that works best. \n",
    "- If you want to try multiple classifiers each with a different set of hyperparameters\n",
    "- Writing for loops for this and keeping track of all scores becomes unwieldy quite quickly! "
   ]
  },
  {
   "cell_type": "markdown",
   "metadata": {
    "slideshow": {
     "slide_type": "slide"
    }
   },
   "source": [
    "### Automated hyperparameter tuning: the solution?\n",
    "\n",
    "- Advantage: reduce human effort\n",
    "- Advantage: less prone to error and improve reproducibility\n",
    "- Advantage: data-driven approaches may be effective\n",
    "- Disadvantage: may be hard to incorporate intuition\n",
    "- Disadvantage: be careful about overfitting on the validation set (We'll talk about it in the second part.)\n"
   ]
  },
  {
   "cell_type": "markdown",
   "metadata": {
    "slideshow": {
     "slide_type": "slide"
    }
   },
   "source": [
    "### `scikit-learn` built-in methods for hyperparameter optimization\n",
    "\n",
    "`scikit-learn` has the following [built-in methods](https://scikit-learn.org/stable/modules/grid_search.html) which automate hyperparameter optimization for you. \n",
    "\n",
    "1. Exhaustive grid search \n",
    "    - [`sklearn.model_selection.GridSearchCV`](http://scikit-learn.org/stable/modules/generated/sklearn.model_selection.GridSearchCV.html)\n",
    "2. Randomized hyperparameter optimization \n",
    "    - [`sklearn.model_selection.RandomizedSearchCV`](https://scikit-learn.org/stable/modules/generated/sklearn.model_selection.RandomizedSearchCV.html)"
   ]
  },
  {
   "cell_type": "markdown",
   "metadata": {
    "slideshow": {
     "slide_type": "slide"
    }
   },
   "source": [
    "### Exhaustive grid search\n",
    "\n",
    "- [`sklearn.model_selection.GridSearchCV`](http://scikit-learn.org/stable/modules/generated/sklearn.model_selection.GridSearchCV.html)\n",
    "\n",
    "- How does it work? \n",
    "    - A user specifies a set of values for each hyperparameter. \n",
    "    - The method considers product of the sets and then evaluates each combination one by one.    "
   ]
  },
  {
   "cell_type": "code",
   "execution_count": 16,
   "metadata": {
    "slideshow": {
     "slide_type": "slide"
    }
   },
   "outputs": [
    {
     "name": "stdout",
     "output_type": "stream",
     "text": [
      "CPU times: user 1.59 s, sys: 229 ms, total: 1.82 s\n",
      "Wall time: 31.9 s\n"
     ]
    },
    {
     "data": {
      "text/plain": [
       "GridSearchCV(cv=5,\n",
       "             estimator=Pipeline(steps=[('columntransformer',\n",
       "                                        ColumnTransformer(transformers=[('num',\n",
       "                                                                         Pipeline(steps=[('simpleimputer',\n",
       "                                                                                          SimpleImputer(strategy='median')),\n",
       "                                                                                         ('standardscaler',\n",
       "                                                                                          StandardScaler())]),\n",
       "                                                                         ['age',\n",
       "                                                                          'fnlwgt',\n",
       "                                                                          'capital.gain',\n",
       "                                                                          'capital.loss',\n",
       "                                                                          'hours.per.week']),\n",
       "                                                                        ('cat',\n",
       "                                                                         Pipeline(steps=[('simpleimputer',\n",
       "                                                                                          SimpleImputer(fill_value='missing',\n",
       "                                                                                                        s...\n",
       "                                                                                          OrdinalEncoder(categories=[['Preschool',\n",
       "                                                                                                                      '1st-4th',\n",
       "                                                                                                                      '5th-6th',\n",
       "                                                                                                                      '7th-8th',\n",
       "                                                                                                                      '9th',\n",
       "                                                                                                                      '10th',\n",
       "                                                                                                                      '11th',\n",
       "                                                                                                                      '12th',\n",
       "                                                                                                                      'HS-grad',\n",
       "                                                                                                                      'Prof-school',\n",
       "                                                                                                                      'Assoc-voc',\n",
       "                                                                                                                      'Assoc-acdm',\n",
       "                                                                                                                      'Some-college',\n",
       "                                                                                                                      'Bachelors',\n",
       "                                                                                                                      'Masters',\n",
       "                                                                                                                      'Doctorate']],\n",
       "                                                                                                         dtype=<class 'int'>))]),\n",
       "                                                                         ['education'])])),\n",
       "                                       ('svc', SVC(C=100, gamma=100))]),\n",
       "             n_jobs=-1,\n",
       "             param_grid={'svc__C': [0.1, 1.0, 10, 100],\n",
       "                         'svc__gamma': [0.1, 1.0, 10, 100]},\n",
       "             return_train_score=True)"
      ]
     },
     "execution_count": 16,
     "metadata": {},
     "output_type": "execute_result"
    }
   ],
   "source": [
    "%%time\n",
    "from sklearn.model_selection import GridSearchCV\n",
    "param_grid = {\n",
    "    \"svc__gamma\": [0.1, 1.0, 10, 100],\n",
    "    \"svc__C\": [0.1, 1.0, 10, 100],\n",
    "}\n",
    "\n",
    "grid_search = GridSearchCV(pipe, param_grid, cv=5, n_jobs=-1, return_train_score=True)\n",
    "grid_search.fit(X_train, y_train);"
   ]
  },
  {
   "cell_type": "code",
   "execution_count": 17,
   "metadata": {
    "slideshow": {
     "slide_type": "slide"
    }
   },
   "outputs": [
    {
     "name": "stdout",
     "output_type": "stream",
     "text": [
      "Best cv score from grid search: 0.852\n"
     ]
    },
    {
     "data": {
      "text/plain": [
       "{'svc__C': 1.0, 'svc__gamma': 0.1}"
      ]
     },
     "execution_count": 17,
     "metadata": {},
     "output_type": "execute_result"
    }
   ],
   "source": [
    "print(\"Best cv score from grid search: %.3f\" % grid_search.best_score_)\n",
    "grid_search.best_params_"
   ]
  },
  {
   "cell_type": "code",
   "execution_count": 18,
   "metadata": {
    "slideshow": {
     "slide_type": "-"
    }
   },
   "outputs": [
    {
     "data": {
      "text/html": [
       "<div>\n",
       "<style scoped>\n",
       "    .dataframe tbody tr th:only-of-type {\n",
       "        vertical-align: middle;\n",
       "    }\n",
       "\n",
       "    .dataframe tbody tr th {\n",
       "        vertical-align: top;\n",
       "    }\n",
       "\n",
       "    .dataframe thead th {\n",
       "        text-align: right;\n",
       "    }\n",
       "</style>\n",
       "<table border=\"1\" class=\"dataframe\">\n",
       "  <thead>\n",
       "    <tr style=\"text-align: right;\">\n",
       "      <th></th>\n",
       "      <th>mean_fit_time</th>\n",
       "      <th>std_fit_time</th>\n",
       "      <th>mean_score_time</th>\n",
       "      <th>std_score_time</th>\n",
       "      <th>param_svc__C</th>\n",
       "      <th>param_svc__gamma</th>\n",
       "      <th>params</th>\n",
       "      <th>split0_test_score</th>\n",
       "      <th>split1_test_score</th>\n",
       "      <th>split2_test_score</th>\n",
       "      <th>...</th>\n",
       "      <th>split4_test_score</th>\n",
       "      <th>mean_test_score</th>\n",
       "      <th>std_test_score</th>\n",
       "      <th>split0_train_score</th>\n",
       "      <th>split1_train_score</th>\n",
       "      <th>split2_train_score</th>\n",
       "      <th>split3_train_score</th>\n",
       "      <th>split4_train_score</th>\n",
       "      <th>mean_train_score</th>\n",
       "      <th>std_train_score</th>\n",
       "    </tr>\n",
       "    <tr>\n",
       "      <th>rank_test_score</th>\n",
       "      <th></th>\n",
       "      <th></th>\n",
       "      <th></th>\n",
       "      <th></th>\n",
       "      <th></th>\n",
       "      <th></th>\n",
       "      <th></th>\n",
       "      <th></th>\n",
       "      <th></th>\n",
       "      <th></th>\n",
       "      <th></th>\n",
       "      <th></th>\n",
       "      <th></th>\n",
       "      <th></th>\n",
       "      <th></th>\n",
       "      <th></th>\n",
       "      <th></th>\n",
       "      <th></th>\n",
       "      <th></th>\n",
       "      <th></th>\n",
       "      <th></th>\n",
       "    </tr>\n",
       "  </thead>\n",
       "  <tbody>\n",
       "    <tr>\n",
       "      <th>1</th>\n",
       "      <td>1.908747</td>\n",
       "      <td>0.016357</td>\n",
       "      <td>0.204031</td>\n",
       "      <td>0.003334</td>\n",
       "      <td>1</td>\n",
       "      <td>0.1</td>\n",
       "      <td>{'svc__C': 1.0, 'svc__gamma': 0.1}</td>\n",
       "      <td>0.842610</td>\n",
       "      <td>0.859245</td>\n",
       "      <td>0.859885</td>\n",
       "      <td>...</td>\n",
       "      <td>0.851472</td>\n",
       "      <td>0.852444</td>\n",
       "      <td>0.006497</td>\n",
       "      <td>0.874740</td>\n",
       "      <td>0.872820</td>\n",
       "      <td>0.870261</td>\n",
       "      <td>0.874420</td>\n",
       "      <td>0.871401</td>\n",
       "      <td>0.872728</td>\n",
       "      <td>0.001719</td>\n",
       "    </tr>\n",
       "    <tr>\n",
       "      <th>2</th>\n",
       "      <td>2.748669</td>\n",
       "      <td>0.037835</td>\n",
       "      <td>0.195921</td>\n",
       "      <td>0.002304</td>\n",
       "      <td>10</td>\n",
       "      <td>0.1</td>\n",
       "      <td>{'svc__C': 10, 'svc__gamma': 0.1}</td>\n",
       "      <td>0.840051</td>\n",
       "      <td>0.854766</td>\n",
       "      <td>0.849008</td>\n",
       "      <td>...</td>\n",
       "      <td>0.845711</td>\n",
       "      <td>0.845406</td>\n",
       "      <td>0.006197</td>\n",
       "      <td>0.918733</td>\n",
       "      <td>0.913614</td>\n",
       "      <td>0.914894</td>\n",
       "      <td>0.916493</td>\n",
       "      <td>0.916507</td>\n",
       "      <td>0.916048</td>\n",
       "      <td>0.001725</td>\n",
       "    </tr>\n",
       "    <tr>\n",
       "      <th>3</th>\n",
       "      <td>2.926996</td>\n",
       "      <td>0.059028</td>\n",
       "      <td>0.265295</td>\n",
       "      <td>0.013773</td>\n",
       "      <td>0.1</td>\n",
       "      <td>0.1</td>\n",
       "      <td>{'svc__C': 0.1, 'svc__gamma': 0.1}</td>\n",
       "      <td>0.820857</td>\n",
       "      <td>0.834933</td>\n",
       "      <td>0.843890</td>\n",
       "      <td>...</td>\n",
       "      <td>0.834187</td>\n",
       "      <td>0.832480</td>\n",
       "      <td>0.007613</td>\n",
       "      <td>0.844345</td>\n",
       "      <td>0.837946</td>\n",
       "      <td>0.836826</td>\n",
       "      <td>0.838746</td>\n",
       "      <td>0.840211</td>\n",
       "      <td>0.839615</td>\n",
       "      <td>0.002609</td>\n",
       "    </tr>\n",
       "    <tr>\n",
       "      <th>4</th>\n",
       "      <td>4.166481</td>\n",
       "      <td>0.121645</td>\n",
       "      <td>0.194305</td>\n",
       "      <td>0.005071</td>\n",
       "      <td>100</td>\n",
       "      <td>0.1</td>\n",
       "      <td>{'svc__C': 100, 'svc__gamma': 0.1}</td>\n",
       "      <td>0.815099</td>\n",
       "      <td>0.818938</td>\n",
       "      <td>0.813820</td>\n",
       "      <td>...</td>\n",
       "      <td>0.816261</td>\n",
       "      <td>0.810981</td>\n",
       "      <td>0.010237</td>\n",
       "      <td>0.950088</td>\n",
       "      <td>0.948808</td>\n",
       "      <td>0.948488</td>\n",
       "      <td>0.952488</td>\n",
       "      <td>0.949616</td>\n",
       "      <td>0.949898</td>\n",
       "      <td>0.001414</td>\n",
       "    </tr>\n",
       "    <tr>\n",
       "      <th>5</th>\n",
       "      <td>5.088506</td>\n",
       "      <td>0.147284</td>\n",
       "      <td>0.441413</td>\n",
       "      <td>0.010283</td>\n",
       "      <td>1</td>\n",
       "      <td>1</td>\n",
       "      <td>{'svc__C': 1.0, 'svc__gamma': 1.0}</td>\n",
       "      <td>0.789507</td>\n",
       "      <td>0.796545</td>\n",
       "      <td>0.804862</td>\n",
       "      <td>...</td>\n",
       "      <td>0.797695</td>\n",
       "      <td>0.791401</td>\n",
       "      <td>0.012492</td>\n",
       "      <td>0.957287</td>\n",
       "      <td>0.957447</td>\n",
       "      <td>0.956327</td>\n",
       "      <td>0.958727</td>\n",
       "      <td>0.957134</td>\n",
       "      <td>0.957384</td>\n",
       "      <td>0.000774</td>\n",
       "    </tr>\n",
       "    <tr>\n",
       "      <th>6</th>\n",
       "      <td>5.591746</td>\n",
       "      <td>0.553660</td>\n",
       "      <td>0.551825</td>\n",
       "      <td>0.058971</td>\n",
       "      <td>10</td>\n",
       "      <td>1</td>\n",
       "      <td>{'svc__C': 10, 'svc__gamma': 1.0}</td>\n",
       "      <td>0.777351</td>\n",
       "      <td>0.795905</td>\n",
       "      <td>0.792706</td>\n",
       "      <td>...</td>\n",
       "      <td>0.775928</td>\n",
       "      <td>0.783593</td>\n",
       "      <td>0.008820</td>\n",
       "      <td>0.984163</td>\n",
       "      <td>0.983843</td>\n",
       "      <td>0.984642</td>\n",
       "      <td>0.984482</td>\n",
       "      <td>0.984965</td>\n",
       "      <td>0.984419</td>\n",
       "      <td>0.000387</td>\n",
       "    </tr>\n",
       "    <tr>\n",
       "      <th>7</th>\n",
       "      <td>5.143064</td>\n",
       "      <td>0.519868</td>\n",
       "      <td>0.353574</td>\n",
       "      <td>0.008612</td>\n",
       "      <td>100</td>\n",
       "      <td>1</td>\n",
       "      <td>{'svc__C': 100, 'svc__gamma': 1.0}</td>\n",
       "      <td>0.773512</td>\n",
       "      <td>0.798464</td>\n",
       "      <td>0.780550</td>\n",
       "      <td>...</td>\n",
       "      <td>0.765045</td>\n",
       "      <td>0.778601</td>\n",
       "      <td>0.011118</td>\n",
       "      <td>0.993921</td>\n",
       "      <td>0.993121</td>\n",
       "      <td>0.994561</td>\n",
       "      <td>0.994561</td>\n",
       "      <td>0.994242</td>\n",
       "      <td>0.994081</td>\n",
       "      <td>0.000535</td>\n",
       "    </tr>\n",
       "    <tr>\n",
       "      <th>8</th>\n",
       "      <td>5.105062</td>\n",
       "      <td>0.200283</td>\n",
       "      <td>0.591333</td>\n",
       "      <td>0.052098</td>\n",
       "      <td>0.1</td>\n",
       "      <td>1</td>\n",
       "      <td>{'svc__C': 0.1, 'svc__gamma': 1.0}</td>\n",
       "      <td>0.763916</td>\n",
       "      <td>0.762636</td>\n",
       "      <td>0.764555</td>\n",
       "      <td>...</td>\n",
       "      <td>0.762484</td>\n",
       "      <td>0.763117</td>\n",
       "      <td>0.000959</td>\n",
       "      <td>0.766597</td>\n",
       "      <td>0.765318</td>\n",
       "      <td>0.763718</td>\n",
       "      <td>0.765797</td>\n",
       "      <td>0.765355</td>\n",
       "      <td>0.765357</td>\n",
       "      <td>0.000940</td>\n",
       "    </tr>\n",
       "    <tr>\n",
       "      <th>9</th>\n",
       "      <td>5.050587</td>\n",
       "      <td>0.091293</td>\n",
       "      <td>0.584451</td>\n",
       "      <td>0.032579</td>\n",
       "      <td>1</td>\n",
       "      <td>10</td>\n",
       "      <td>{'svc__C': 1.0, 'svc__gamma': 10}</td>\n",
       "      <td>0.760717</td>\n",
       "      <td>0.756878</td>\n",
       "      <td>0.760077</td>\n",
       "      <td>...</td>\n",
       "      <td>0.758003</td>\n",
       "      <td>0.758766</td>\n",
       "      <td>0.001417</td>\n",
       "      <td>0.989922</td>\n",
       "      <td>0.989122</td>\n",
       "      <td>0.990082</td>\n",
       "      <td>0.989282</td>\n",
       "      <td>0.991043</td>\n",
       "      <td>0.989890</td>\n",
       "      <td>0.000682</td>\n",
       "    </tr>\n",
       "    <tr>\n",
       "      <th>10</th>\n",
       "      <td>5.305142</td>\n",
       "      <td>0.059122</td>\n",
       "      <td>0.554369</td>\n",
       "      <td>0.016215</td>\n",
       "      <td>10</td>\n",
       "      <td>10</td>\n",
       "      <td>{'svc__C': 10, 'svc__gamma': 10}</td>\n",
       "      <td>0.760077</td>\n",
       "      <td>0.752399</td>\n",
       "      <td>0.758157</td>\n",
       "      <td>...</td>\n",
       "      <td>0.761204</td>\n",
       "      <td>0.757999</td>\n",
       "      <td>0.003033</td>\n",
       "      <td>0.998400</td>\n",
       "      <td>0.998240</td>\n",
       "      <td>0.998880</td>\n",
       "      <td>0.998080</td>\n",
       "      <td>0.998560</td>\n",
       "      <td>0.998432</td>\n",
       "      <td>0.000275</td>\n",
       "    </tr>\n",
       "    <tr>\n",
       "      <th>11</th>\n",
       "      <td>4.073205</td>\n",
       "      <td>0.028526</td>\n",
       "      <td>0.447852</td>\n",
       "      <td>0.009148</td>\n",
       "      <td>100</td>\n",
       "      <td>10</td>\n",
       "      <td>{'svc__C': 100, 'svc__gamma': 10}</td>\n",
       "      <td>0.760717</td>\n",
       "      <td>0.752399</td>\n",
       "      <td>0.758157</td>\n",
       "      <td>...</td>\n",
       "      <td>0.759923</td>\n",
       "      <td>0.757743</td>\n",
       "      <td>0.002911</td>\n",
       "      <td>0.999680</td>\n",
       "      <td>0.999360</td>\n",
       "      <td>0.999680</td>\n",
       "      <td>0.999680</td>\n",
       "      <td>0.999680</td>\n",
       "      <td>0.999616</td>\n",
       "      <td>0.000128</td>\n",
       "    </tr>\n",
       "    <tr>\n",
       "      <th>12</th>\n",
       "      <td>5.462002</td>\n",
       "      <td>0.073579</td>\n",
       "      <td>0.840595</td>\n",
       "      <td>0.015886</td>\n",
       "      <td>0.1</td>\n",
       "      <td>10</td>\n",
       "      <td>{'svc__C': 0.1, 'svc__gamma': 10}</td>\n",
       "      <td>0.756878</td>\n",
       "      <td>0.756878</td>\n",
       "      <td>0.756878</td>\n",
       "      <td>...</td>\n",
       "      <td>0.756722</td>\n",
       "      <td>0.756847</td>\n",
       "      <td>0.000062</td>\n",
       "      <td>0.756839</td>\n",
       "      <td>0.756839</td>\n",
       "      <td>0.756839</td>\n",
       "      <td>0.756839</td>\n",
       "      <td>0.756878</td>\n",
       "      <td>0.756847</td>\n",
       "      <td>0.000016</td>\n",
       "    </tr>\n",
       "    <tr>\n",
       "      <th>12</th>\n",
       "      <td>4.836406</td>\n",
       "      <td>0.118449</td>\n",
       "      <td>0.742922</td>\n",
       "      <td>0.064156</td>\n",
       "      <td>0.1</td>\n",
       "      <td>100</td>\n",
       "      <td>{'svc__C': 0.1, 'svc__gamma': 100}</td>\n",
       "      <td>0.756878</td>\n",
       "      <td>0.756878</td>\n",
       "      <td>0.756878</td>\n",
       "      <td>...</td>\n",
       "      <td>0.756722</td>\n",
       "      <td>0.756847</td>\n",
       "      <td>0.000062</td>\n",
       "      <td>0.756839</td>\n",
       "      <td>0.756839</td>\n",
       "      <td>0.756839</td>\n",
       "      <td>0.756839</td>\n",
       "      <td>0.756878</td>\n",
       "      <td>0.756847</td>\n",
       "      <td>0.000016</td>\n",
       "    </tr>\n",
       "    <tr>\n",
       "      <th>14</th>\n",
       "      <td>4.710889</td>\n",
       "      <td>0.059277</td>\n",
       "      <td>0.500462</td>\n",
       "      <td>0.022772</td>\n",
       "      <td>1</td>\n",
       "      <td>100</td>\n",
       "      <td>{'svc__C': 1.0, 'svc__gamma': 100}</td>\n",
       "      <td>0.755598</td>\n",
       "      <td>0.757518</td>\n",
       "      <td>0.756878</td>\n",
       "      <td>...</td>\n",
       "      <td>0.756722</td>\n",
       "      <td>0.756719</td>\n",
       "      <td>0.000624</td>\n",
       "      <td>0.998080</td>\n",
       "      <td>0.998240</td>\n",
       "      <td>0.998720</td>\n",
       "      <td>0.997920</td>\n",
       "      <td>0.998241</td>\n",
       "      <td>0.998240</td>\n",
       "      <td>0.000268</td>\n",
       "    </tr>\n",
       "    <tr>\n",
       "      <th>15</th>\n",
       "      <td>4.558117</td>\n",
       "      <td>0.098283</td>\n",
       "      <td>0.516642</td>\n",
       "      <td>0.014235</td>\n",
       "      <td>10</td>\n",
       "      <td>100</td>\n",
       "      <td>{'svc__C': 10, 'svc__gamma': 100}</td>\n",
       "      <td>0.756878</td>\n",
       "      <td>0.756878</td>\n",
       "      <td>0.756878</td>\n",
       "      <td>...</td>\n",
       "      <td>0.756082</td>\n",
       "      <td>0.756591</td>\n",
       "      <td>0.000355</td>\n",
       "      <td>0.999840</td>\n",
       "      <td>0.999520</td>\n",
       "      <td>0.999680</td>\n",
       "      <td>0.999680</td>\n",
       "      <td>0.999680</td>\n",
       "      <td>0.999680</td>\n",
       "      <td>0.000101</td>\n",
       "    </tr>\n",
       "    <tr>\n",
       "      <th>15</th>\n",
       "      <td>3.081595</td>\n",
       "      <td>0.115879</td>\n",
       "      <td>0.411206</td>\n",
       "      <td>0.010108</td>\n",
       "      <td>100</td>\n",
       "      <td>100</td>\n",
       "      <td>{'svc__C': 100, 'svc__gamma': 100}</td>\n",
       "      <td>0.756878</td>\n",
       "      <td>0.756878</td>\n",
       "      <td>0.756878</td>\n",
       "      <td>...</td>\n",
       "      <td>0.756082</td>\n",
       "      <td>0.756591</td>\n",
       "      <td>0.000355</td>\n",
       "      <td>1.000000</td>\n",
       "      <td>1.000000</td>\n",
       "      <td>1.000000</td>\n",
       "      <td>1.000000</td>\n",
       "      <td>1.000000</td>\n",
       "      <td>1.000000</td>\n",
       "      <td>0.000000</td>\n",
       "    </tr>\n",
       "  </tbody>\n",
       "</table>\n",
       "<p>16 rows × 21 columns</p>\n",
       "</div>"
      ],
      "text/plain": [
       "                 mean_fit_time  std_fit_time  mean_score_time  std_score_time  \\\n",
       "rank_test_score                                                                 \n",
       "1                     1.908747      0.016357         0.204031        0.003334   \n",
       "2                     2.748669      0.037835         0.195921        0.002304   \n",
       "3                     2.926996      0.059028         0.265295        0.013773   \n",
       "4                     4.166481      0.121645         0.194305        0.005071   \n",
       "5                     5.088506      0.147284         0.441413        0.010283   \n",
       "6                     5.591746      0.553660         0.551825        0.058971   \n",
       "7                     5.143064      0.519868         0.353574        0.008612   \n",
       "8                     5.105062      0.200283         0.591333        0.052098   \n",
       "9                     5.050587      0.091293         0.584451        0.032579   \n",
       "10                    5.305142      0.059122         0.554369        0.016215   \n",
       "11                    4.073205      0.028526         0.447852        0.009148   \n",
       "12                    5.462002      0.073579         0.840595        0.015886   \n",
       "12                    4.836406      0.118449         0.742922        0.064156   \n",
       "14                    4.710889      0.059277         0.500462        0.022772   \n",
       "15                    4.558117      0.098283         0.516642        0.014235   \n",
       "15                    3.081595      0.115879         0.411206        0.010108   \n",
       "\n",
       "                param_svc__C param_svc__gamma  \\\n",
       "rank_test_score                                 \n",
       "1                          1              0.1   \n",
       "2                         10              0.1   \n",
       "3                        0.1              0.1   \n",
       "4                        100              0.1   \n",
       "5                          1                1   \n",
       "6                         10                1   \n",
       "7                        100                1   \n",
       "8                        0.1                1   \n",
       "9                          1               10   \n",
       "10                        10               10   \n",
       "11                       100               10   \n",
       "12                       0.1               10   \n",
       "12                       0.1              100   \n",
       "14                         1              100   \n",
       "15                        10              100   \n",
       "15                       100              100   \n",
       "\n",
       "                                             params  split0_test_score  \\\n",
       "rank_test_score                                                          \n",
       "1                {'svc__C': 1.0, 'svc__gamma': 0.1}           0.842610   \n",
       "2                 {'svc__C': 10, 'svc__gamma': 0.1}           0.840051   \n",
       "3                {'svc__C': 0.1, 'svc__gamma': 0.1}           0.820857   \n",
       "4                {'svc__C': 100, 'svc__gamma': 0.1}           0.815099   \n",
       "5                {'svc__C': 1.0, 'svc__gamma': 1.0}           0.789507   \n",
       "6                 {'svc__C': 10, 'svc__gamma': 1.0}           0.777351   \n",
       "7                {'svc__C': 100, 'svc__gamma': 1.0}           0.773512   \n",
       "8                {'svc__C': 0.1, 'svc__gamma': 1.0}           0.763916   \n",
       "9                 {'svc__C': 1.0, 'svc__gamma': 10}           0.760717   \n",
       "10                 {'svc__C': 10, 'svc__gamma': 10}           0.760077   \n",
       "11                {'svc__C': 100, 'svc__gamma': 10}           0.760717   \n",
       "12                {'svc__C': 0.1, 'svc__gamma': 10}           0.756878   \n",
       "12               {'svc__C': 0.1, 'svc__gamma': 100}           0.756878   \n",
       "14               {'svc__C': 1.0, 'svc__gamma': 100}           0.755598   \n",
       "15                {'svc__C': 10, 'svc__gamma': 100}           0.756878   \n",
       "15               {'svc__C': 100, 'svc__gamma': 100}           0.756878   \n",
       "\n",
       "                 split1_test_score  split2_test_score  ...  split4_test_score  \\\n",
       "rank_test_score                                        ...                      \n",
       "1                         0.859245           0.859885  ...           0.851472   \n",
       "2                         0.854766           0.849008  ...           0.845711   \n",
       "3                         0.834933           0.843890  ...           0.834187   \n",
       "4                         0.818938           0.813820  ...           0.816261   \n",
       "5                         0.796545           0.804862  ...           0.797695   \n",
       "6                         0.795905           0.792706  ...           0.775928   \n",
       "7                         0.798464           0.780550  ...           0.765045   \n",
       "8                         0.762636           0.764555  ...           0.762484   \n",
       "9                         0.756878           0.760077  ...           0.758003   \n",
       "10                        0.752399           0.758157  ...           0.761204   \n",
       "11                        0.752399           0.758157  ...           0.759923   \n",
       "12                        0.756878           0.756878  ...           0.756722   \n",
       "12                        0.756878           0.756878  ...           0.756722   \n",
       "14                        0.757518           0.756878  ...           0.756722   \n",
       "15                        0.756878           0.756878  ...           0.756082   \n",
       "15                        0.756878           0.756878  ...           0.756082   \n",
       "\n",
       "                 mean_test_score  std_test_score  split0_train_score  \\\n",
       "rank_test_score                                                        \n",
       "1                       0.852444        0.006497            0.874740   \n",
       "2                       0.845406        0.006197            0.918733   \n",
       "3                       0.832480        0.007613            0.844345   \n",
       "4                       0.810981        0.010237            0.950088   \n",
       "5                       0.791401        0.012492            0.957287   \n",
       "6                       0.783593        0.008820            0.984163   \n",
       "7                       0.778601        0.011118            0.993921   \n",
       "8                       0.763117        0.000959            0.766597   \n",
       "9                       0.758766        0.001417            0.989922   \n",
       "10                      0.757999        0.003033            0.998400   \n",
       "11                      0.757743        0.002911            0.999680   \n",
       "12                      0.756847        0.000062            0.756839   \n",
       "12                      0.756847        0.000062            0.756839   \n",
       "14                      0.756719        0.000624            0.998080   \n",
       "15                      0.756591        0.000355            0.999840   \n",
       "15                      0.756591        0.000355            1.000000   \n",
       "\n",
       "                 split1_train_score  split2_train_score  split3_train_score  \\\n",
       "rank_test_score                                                               \n",
       "1                          0.872820            0.870261            0.874420   \n",
       "2                          0.913614            0.914894            0.916493   \n",
       "3                          0.837946            0.836826            0.838746   \n",
       "4                          0.948808            0.948488            0.952488   \n",
       "5                          0.957447            0.956327            0.958727   \n",
       "6                          0.983843            0.984642            0.984482   \n",
       "7                          0.993121            0.994561            0.994561   \n",
       "8                          0.765318            0.763718            0.765797   \n",
       "9                          0.989122            0.990082            0.989282   \n",
       "10                         0.998240            0.998880            0.998080   \n",
       "11                         0.999360            0.999680            0.999680   \n",
       "12                         0.756839            0.756839            0.756839   \n",
       "12                         0.756839            0.756839            0.756839   \n",
       "14                         0.998240            0.998720            0.997920   \n",
       "15                         0.999520            0.999680            0.999680   \n",
       "15                         1.000000            1.000000            1.000000   \n",
       "\n",
       "                 split4_train_score  mean_train_score  std_train_score  \n",
       "rank_test_score                                                         \n",
       "1                          0.871401          0.872728         0.001719  \n",
       "2                          0.916507          0.916048         0.001725  \n",
       "3                          0.840211          0.839615         0.002609  \n",
       "4                          0.949616          0.949898         0.001414  \n",
       "5                          0.957134          0.957384         0.000774  \n",
       "6                          0.984965          0.984419         0.000387  \n",
       "7                          0.994242          0.994081         0.000535  \n",
       "8                          0.765355          0.765357         0.000940  \n",
       "9                          0.991043          0.989890         0.000682  \n",
       "10                         0.998560          0.998432         0.000275  \n",
       "11                         0.999680          0.999616         0.000128  \n",
       "12                         0.756878          0.756847         0.000016  \n",
       "12                         0.756878          0.756847         0.000016  \n",
       "14                         0.998241          0.998240         0.000268  \n",
       "15                         0.999680          0.999680         0.000101  \n",
       "15                         1.000000          1.000000         0.000000  \n",
       "\n",
       "[16 rows x 21 columns]"
      ]
     },
     "execution_count": 18,
     "metadata": {},
     "output_type": "execute_result"
    }
   ],
   "source": [
    "pd.DataFrame(grid_search.cv_results_).set_index(\"rank_test_score\").sort_index()"
   ]
  },
  {
   "cell_type": "markdown",
   "metadata": {
    "slideshow": {
     "slide_type": "slide"
    }
   },
   "source": [
    "### The `__` syntax \n",
    "\n",
    "- Above: we have a nesting of transformers.\n",
    "- We can access the parameters of the \"inner\" objects by using __ to go \"deeper\":\n",
    "- `svc__gamma`: the `gamma` of the `svc` of the pipeline\n",
    "- `svc__C`: the `C` of the `svc` of the pipeline"
   ]
  },
  {
   "cell_type": "markdown",
   "metadata": {
    "slideshow": {
     "slide_type": "slide"
    }
   },
   "source": [
    "### How do we access hyperparameters of transformers\n",
    "\n",
    "- `columntransformer__num__simpleimputer__strategy`: the strategy used with `SimpleImputer` of the preprocessor in the pipeline. \n",
    "Later in the course we'll see even deeper nesting, like preprocessor__numeric__imputer__strategy.\n"
   ]
  },
  {
   "cell_type": "code",
   "execution_count": 19,
   "metadata": {},
   "outputs": [
    {
     "data": {
      "text/plain": [
       "Pipeline(steps=[('columntransformer',\n",
       "                 ColumnTransformer(transformers=[('num',\n",
       "                                                  Pipeline(steps=[('simpleimputer',\n",
       "                                                                   SimpleImputer(strategy='median')),\n",
       "                                                                  ('standardscaler',\n",
       "                                                                   StandardScaler())]),\n",
       "                                                  ['age', 'fnlwgt',\n",
       "                                                   'capital.gain',\n",
       "                                                   'capital.loss',\n",
       "                                                   'hours.per.week']),\n",
       "                                                 ('cat',\n",
       "                                                  Pipeline(steps=[('simpleimputer',\n",
       "                                                                   SimpleImputer(fill_value='missing',\n",
       "                                                                                 strategy='constant')),\n",
       "                                                                  ('oneho...\n",
       "                                                  Pipeline(steps=[('simpleimputer',\n",
       "                                                                   SimpleImputer(fill_value='missing',\n",
       "                                                                                 strategy='constant')),\n",
       "                                                                  ('ordinalencoder',\n",
       "                                                                   OrdinalEncoder(categories=[['Preschool',\n",
       "                                                                                               '1st-4th',\n",
       "                                                                                               '5th-6th',\n",
       "                                                                                               '7th-8th',\n",
       "                                                                                               '9th',\n",
       "                                                                                               '10th',\n",
       "                                                                                               '11th',\n",
       "                                                                                               '12th',\n",
       "                                                                                               'HS-grad',\n",
       "                                                                                               'Prof-school',\n",
       "                                                                                               'Assoc-voc',\n",
       "                                                                                               'Assoc-acdm',\n",
       "                                                                                               'Some-college',\n",
       "                                                                                               'Bachelors',\n",
       "                                                                                               'Masters',\n",
       "                                                                                               'Doctorate']],\n",
       "                                                                                  dtype=<class 'int'>))]),\n",
       "                                                  ['education'])])),\n",
       "                ('svc', SVC(C=100, gamma=100))])"
      ]
     },
     "execution_count": 19,
     "metadata": {},
     "output_type": "execute_result"
    }
   ],
   "source": [
    "pipe"
   ]
  },
  {
   "cell_type": "code",
   "execution_count": 20,
   "metadata": {
    "slideshow": {
     "slide_type": "slide"
    }
   },
   "outputs": [],
   "source": [
    "param_grid = {\n",
    "    \"svc__gamma\": [0.1, 1.0],\n",
    "    \"columntransformer__num__simpleimputer__strategy\": ['mean', 'median'],\n",
    "}\n",
    "\n",
    "grid_search = GridSearchCV(pipe, param_grid, cv=5, n_jobs=-1, return_train_score=True);\n",
    "grid_search.fit(X_train, y_train);"
   ]
  },
  {
   "cell_type": "code",
   "execution_count": 21,
   "metadata": {
    "slideshow": {
     "slide_type": "slide"
    }
   },
   "outputs": [
    {
     "name": "stdout",
     "output_type": "stream",
     "text": [
      "Best SVC from grid search: 0.814\n"
     ]
    },
    {
     "data": {
      "text/html": [
       "<div>\n",
       "<style scoped>\n",
       "    .dataframe tbody tr th:only-of-type {\n",
       "        vertical-align: middle;\n",
       "    }\n",
       "\n",
       "    .dataframe tbody tr th {\n",
       "        vertical-align: top;\n",
       "    }\n",
       "\n",
       "    .dataframe thead th {\n",
       "        text-align: right;\n",
       "    }\n",
       "</style>\n",
       "<table border=\"1\" class=\"dataframe\">\n",
       "  <thead>\n",
       "    <tr style=\"text-align: right;\">\n",
       "      <th></th>\n",
       "      <th>mean_fit_time</th>\n",
       "      <th>std_fit_time</th>\n",
       "      <th>mean_score_time</th>\n",
       "      <th>std_score_time</th>\n",
       "      <th>param_columntransformer__num__simpleimputer__strategy</th>\n",
       "      <th>param_svc__gamma</th>\n",
       "      <th>params</th>\n",
       "      <th>split0_test_score</th>\n",
       "      <th>split1_test_score</th>\n",
       "      <th>split2_test_score</th>\n",
       "      <th>...</th>\n",
       "      <th>mean_test_score</th>\n",
       "      <th>std_test_score</th>\n",
       "      <th>rank_test_score</th>\n",
       "      <th>split0_train_score</th>\n",
       "      <th>split1_train_score</th>\n",
       "      <th>split2_train_score</th>\n",
       "      <th>split3_train_score</th>\n",
       "      <th>split4_train_score</th>\n",
       "      <th>mean_train_score</th>\n",
       "      <th>std_train_score</th>\n",
       "    </tr>\n",
       "  </thead>\n",
       "  <tbody>\n",
       "    <tr>\n",
       "      <th>0</th>\n",
       "      <td>4.369722</td>\n",
       "      <td>0.073645</td>\n",
       "      <td>0.187483</td>\n",
       "      <td>0.002374</td>\n",
       "      <td>mean</td>\n",
       "      <td>0.1</td>\n",
       "      <td>{'columntransformer__num__simpleimputer__strategy': 'mean', 'svc__gamma': 0.1}</td>\n",
       "      <td>0.815099</td>\n",
       "      <td>0.818938</td>\n",
       "      <td>0.81382</td>\n",
       "      <td>...</td>\n",
       "      <td>0.810981</td>\n",
       "      <td>0.010237</td>\n",
       "      <td>1</td>\n",
       "      <td>0.950088</td>\n",
       "      <td>0.948808</td>\n",
       "      <td>0.948488</td>\n",
       "      <td>0.952488</td>\n",
       "      <td>0.949616</td>\n",
       "      <td>0.949898</td>\n",
       "      <td>0.001414</td>\n",
       "    </tr>\n",
       "    <tr>\n",
       "      <th>2</th>\n",
       "      <td>4.416549</td>\n",
       "      <td>0.066688</td>\n",
       "      <td>0.186616</td>\n",
       "      <td>0.001750</td>\n",
       "      <td>median</td>\n",
       "      <td>0.1</td>\n",
       "      <td>{'columntransformer__num__simpleimputer__strategy': 'median', 'svc__gamma': 0.1}</td>\n",
       "      <td>0.815099</td>\n",
       "      <td>0.818938</td>\n",
       "      <td>0.81382</td>\n",
       "      <td>...</td>\n",
       "      <td>0.810981</td>\n",
       "      <td>0.010237</td>\n",
       "      <td>1</td>\n",
       "      <td>0.950088</td>\n",
       "      <td>0.948808</td>\n",
       "      <td>0.948488</td>\n",
       "      <td>0.952488</td>\n",
       "      <td>0.949616</td>\n",
       "      <td>0.949898</td>\n",
       "      <td>0.001414</td>\n",
       "    </tr>\n",
       "    <tr>\n",
       "      <th>1</th>\n",
       "      <td>5.850827</td>\n",
       "      <td>0.385002</td>\n",
       "      <td>0.276416</td>\n",
       "      <td>0.006900</td>\n",
       "      <td>mean</td>\n",
       "      <td>1</td>\n",
       "      <td>{'columntransformer__num__simpleimputer__strategy': 'mean', 'svc__gamma': 1.0}</td>\n",
       "      <td>0.773512</td>\n",
       "      <td>0.798464</td>\n",
       "      <td>0.78055</td>\n",
       "      <td>...</td>\n",
       "      <td>0.778601</td>\n",
       "      <td>0.011118</td>\n",
       "      <td>3</td>\n",
       "      <td>0.993921</td>\n",
       "      <td>0.993121</td>\n",
       "      <td>0.994561</td>\n",
       "      <td>0.994561</td>\n",
       "      <td>0.994242</td>\n",
       "      <td>0.994081</td>\n",
       "      <td>0.000535</td>\n",
       "    </tr>\n",
       "    <tr>\n",
       "      <th>3</th>\n",
       "      <td>5.791268</td>\n",
       "      <td>0.403897</td>\n",
       "      <td>0.277448</td>\n",
       "      <td>0.007326</td>\n",
       "      <td>median</td>\n",
       "      <td>1</td>\n",
       "      <td>{'columntransformer__num__simpleimputer__strategy': 'median', 'svc__gamma': 1.0}</td>\n",
       "      <td>0.773512</td>\n",
       "      <td>0.798464</td>\n",
       "      <td>0.78055</td>\n",
       "      <td>...</td>\n",
       "      <td>0.778601</td>\n",
       "      <td>0.011118</td>\n",
       "      <td>3</td>\n",
       "      <td>0.993921</td>\n",
       "      <td>0.993121</td>\n",
       "      <td>0.994561</td>\n",
       "      <td>0.994561</td>\n",
       "      <td>0.994242</td>\n",
       "      <td>0.994081</td>\n",
       "      <td>0.000535</td>\n",
       "    </tr>\n",
       "  </tbody>\n",
       "</table>\n",
       "<p>4 rows × 22 columns</p>\n",
       "</div>"
      ],
      "text/plain": [
       "   mean_fit_time  std_fit_time  mean_score_time  std_score_time  \\\n",
       "0       4.369722      0.073645         0.187483        0.002374   \n",
       "2       4.416549      0.066688         0.186616        0.001750   \n",
       "1       5.850827      0.385002         0.276416        0.006900   \n",
       "3       5.791268      0.403897         0.277448        0.007326   \n",
       "\n",
       "  param_columntransformer__num__simpleimputer__strategy param_svc__gamma  \\\n",
       "0                                                  mean              0.1   \n",
       "2                                                median              0.1   \n",
       "1                                                  mean                1   \n",
       "3                                                median                1   \n",
       "\n",
       "                                                                             params  \\\n",
       "0    {'columntransformer__num__simpleimputer__strategy': 'mean', 'svc__gamma': 0.1}   \n",
       "2  {'columntransformer__num__simpleimputer__strategy': 'median', 'svc__gamma': 0.1}   \n",
       "1    {'columntransformer__num__simpleimputer__strategy': 'mean', 'svc__gamma': 1.0}   \n",
       "3  {'columntransformer__num__simpleimputer__strategy': 'median', 'svc__gamma': 1.0}   \n",
       "\n",
       "   split0_test_score  split1_test_score  split2_test_score  ...  \\\n",
       "0           0.815099           0.818938            0.81382  ...   \n",
       "2           0.815099           0.818938            0.81382  ...   \n",
       "1           0.773512           0.798464            0.78055  ...   \n",
       "3           0.773512           0.798464            0.78055  ...   \n",
       "\n",
       "   mean_test_score  std_test_score  rank_test_score  split0_train_score  \\\n",
       "0         0.810981        0.010237                1            0.950088   \n",
       "2         0.810981        0.010237                1            0.950088   \n",
       "1         0.778601        0.011118                3            0.993921   \n",
       "3         0.778601        0.011118                3            0.993921   \n",
       "\n",
       "   split1_train_score  split2_train_score  split3_train_score  \\\n",
       "0            0.948808            0.948488            0.952488   \n",
       "2            0.948808            0.948488            0.952488   \n",
       "1            0.993121            0.994561            0.994561   \n",
       "3            0.993121            0.994561            0.994561   \n",
       "\n",
       "   split4_train_score  mean_train_score  std_train_score  \n",
       "0            0.949616          0.949898         0.001414  \n",
       "2            0.949616          0.949898         0.001414  \n",
       "1            0.994242          0.994081         0.000535  \n",
       "3            0.994242          0.994081         0.000535  \n",
       "\n",
       "[4 rows x 22 columns]"
      ]
     },
     "execution_count": 21,
     "metadata": {},
     "output_type": "execute_result"
    }
   ],
   "source": [
    "print((\"Best SVC from grid search: %.3f\" % grid_search.score(X_test, y_test)))\n",
    "grid_search.best_params_\n",
    "pd.DataFrame(grid_search.cv_results_).sort_values('rank_test_score')"
   ]
  },
  {
   "cell_type": "code",
   "execution_count": 22,
   "metadata": {
    "slideshow": {
     "slide_type": "slide"
    }
   },
   "outputs": [
    {
     "data": {
      "text/html": [
       "<div>\n",
       "<style scoped>\n",
       "    .dataframe tbody tr th:only-of-type {\n",
       "        vertical-align: middle;\n",
       "    }\n",
       "\n",
       "    .dataframe tbody tr th {\n",
       "        vertical-align: top;\n",
       "    }\n",
       "\n",
       "    .dataframe thead th {\n",
       "        text-align: right;\n",
       "    }\n",
       "</style>\n",
       "<table border=\"1\" class=\"dataframe\">\n",
       "  <thead>\n",
       "    <tr style=\"text-align: right;\">\n",
       "      <th></th>\n",
       "      <th>mean_test_score</th>\n",
       "      <th>param_columntransformer__num__simpleimputer__strategy</th>\n",
       "      <th>param_svc__gamma</th>\n",
       "      <th>mean_fit_time</th>\n",
       "    </tr>\n",
       "    <tr>\n",
       "      <th>rank_test_score</th>\n",
       "      <th></th>\n",
       "      <th></th>\n",
       "      <th></th>\n",
       "      <th></th>\n",
       "    </tr>\n",
       "  </thead>\n",
       "  <tbody>\n",
       "    <tr>\n",
       "      <th>1</th>\n",
       "      <td>0.810981</td>\n",
       "      <td>mean</td>\n",
       "      <td>0.1</td>\n",
       "      <td>4.369722</td>\n",
       "    </tr>\n",
       "    <tr>\n",
       "      <th>1</th>\n",
       "      <td>0.810981</td>\n",
       "      <td>median</td>\n",
       "      <td>0.1</td>\n",
       "      <td>4.416549</td>\n",
       "    </tr>\n",
       "    <tr>\n",
       "      <th>3</th>\n",
       "      <td>0.778601</td>\n",
       "      <td>mean</td>\n",
       "      <td>1</td>\n",
       "      <td>5.850827</td>\n",
       "    </tr>\n",
       "    <tr>\n",
       "      <th>3</th>\n",
       "      <td>0.778601</td>\n",
       "      <td>median</td>\n",
       "      <td>1</td>\n",
       "      <td>5.791268</td>\n",
       "    </tr>\n",
       "  </tbody>\n",
       "</table>\n",
       "</div>"
      ],
      "text/plain": [
       "                 mean_test_score  \\\n",
       "rank_test_score                    \n",
       "1                       0.810981   \n",
       "1                       0.810981   \n",
       "3                       0.778601   \n",
       "3                       0.778601   \n",
       "\n",
       "                param_columntransformer__num__simpleimputer__strategy  \\\n",
       "rank_test_score                                                         \n",
       "1                                                                mean   \n",
       "1                                                              median   \n",
       "3                                                                mean   \n",
       "3                                                              median   \n",
       "\n",
       "                param_svc__gamma  mean_fit_time  \n",
       "rank_test_score                                  \n",
       "1                            0.1       4.369722  \n",
       "1                            0.1       4.416549  \n",
       "3                              1       5.850827  \n",
       "3                              1       5.791268  "
      ]
     },
     "execution_count": 22,
     "metadata": {},
     "output_type": "execute_result"
    }
   ],
   "source": [
    "pd.DataFrame(grid_search.cv_results_)[\n",
    "    [\n",
    "        \"mean_test_score\",\n",
    "        \"param_columntransformer__num__simpleimputer__strategy\",\n",
    "        \"param_svc__gamma\",\n",
    "        \"mean_fit_time\",\n",
    "        \"rank_test_score\",\n",
    "    ]\n",
    "].set_index(\"rank_test_score\").sort_index()"
   ]
  },
  {
   "cell_type": "code",
   "execution_count": 23,
   "metadata": {
    "slideshow": {
     "slide_type": "-"
    }
   },
   "outputs": [
    {
     "data": {
      "text/plain": [
       "4"
      ]
     },
     "execution_count": 23,
     "metadata": {},
     "output_type": "execute_result"
    }
   ],
   "source": [
    "# How many combinations in total?\n",
    "np.prod(list(map(len, param_grid.values())))"
   ]
  },
  {
   "cell_type": "markdown",
   "metadata": {
    "slideshow": {
     "slide_type": "slide"
    }
   },
   "source": [
    "### Problems with exhaustive grid search \n",
    "\n",
    "- Required number of models to evaluate grows exponentially with the dimensionally of the configuration space. \n",
    "- Example: Suppose you have\n",
    "    - 5 hyperparameters \n",
    "    - 10 different values for each hyperparameter\n",
    "    - You'll be evaluating $10^5=100,000$ models! That is you'll be calling `cross_validate` 100,000 times!\n",
    "- Exhaustive search may become infeasible fairly quickly. \n",
    "- Other options? \n"
   ]
  },
  {
   "cell_type": "markdown",
   "metadata": {
    "slideshow": {
     "slide_type": "slide"
    }
   },
   "source": [
    "### Randomized hyperparameter search\n",
    "\n",
    "- Randomized hyperparameter optimization \n",
    "    - [`sklearn.model_selection.RandomizedSearchCV`](https://scikit-learn.org/stable/modules/generated/sklearn.model_selection.RandomizedSearchCV.html)\n",
    "- Samples configurations at random until certain budget (e.g., time) is exhausted "
   ]
  },
  {
   "cell_type": "code",
   "execution_count": 26,
   "metadata": {
    "slideshow": {
     "slide_type": "slide"
    }
   },
   "outputs": [
    {
     "name": "stdout",
     "output_type": "stream",
     "text": [
      "Grid size: 144\n"
     ]
    },
    {
     "data": {
      "text/plain": [
       "{'svc__gamma': array([1.e-06, 1.e-05, 1.e-04, 1.e-03, 1.e-02, 1.e-01, 1.e+00, 1.e+01,\n",
       "        1.e+02, 1.e+03, 1.e+04, 1.e+05]),\n",
       " 'svc__C': array([1.e-06, 1.e-05, 1.e-04, 1.e-03, 1.e-02, 1.e-01, 1.e+00, 1.e+01,\n",
       "        1.e+02, 1.e+03, 1.e+04, 1.e+05])}"
      ]
     },
     "execution_count": 26,
     "metadata": {},
     "output_type": "execute_result"
    }
   ],
   "source": [
    "from sklearn.model_selection import RandomizedSearchCV\n",
    "param_grid = {\n",
    "    \"svc__gamma\": 10.0 ** np.arange(-6, 6),\n",
    "    \"svc__C\": 10.0 ** np.arange(-6, 6)\n",
    "}\n",
    "print(\"Grid size: %d\" %(np.prod(list(map(len, param_grid.values())))))\n",
    "param_grid"
   ]
  },
  {
   "cell_type": "code",
   "execution_count": 27,
   "metadata": {},
   "outputs": [],
   "source": [
    "random_search = RandomizedSearchCV(pipe, param_distributions=param_grid, n_jobs=-1, n_iter=10, cv=5);\n",
    "random_search.fit(X_train, y_train);"
   ]
  },
  {
   "cell_type": "code",
   "execution_count": 33,
   "metadata": {
    "slideshow": {
     "slide_type": "slide"
    }
   },
   "outputs": [
    {
     "data": {
      "text/html": [
       "<div>\n",
       "<style scoped>\n",
       "    .dataframe tbody tr th:only-of-type {\n",
       "        vertical-align: middle;\n",
       "    }\n",
       "\n",
       "    .dataframe tbody tr th {\n",
       "        vertical-align: top;\n",
       "    }\n",
       "\n",
       "    .dataframe thead th {\n",
       "        text-align: right;\n",
       "    }\n",
       "</style>\n",
       "<table border=\"1\" class=\"dataframe\">\n",
       "  <thead>\n",
       "    <tr style=\"text-align: right;\">\n",
       "      <th></th>\n",
       "      <th>mean_test_score</th>\n",
       "      <th>param_svc__gamma</th>\n",
       "      <th>param_svc__C</th>\n",
       "      <th>mean_fit_time</th>\n",
       "    </tr>\n",
       "    <tr>\n",
       "      <th>rank_test_score</th>\n",
       "      <th></th>\n",
       "      <th></th>\n",
       "      <th></th>\n",
       "      <th></th>\n",
       "    </tr>\n",
       "  </thead>\n",
       "  <tbody>\n",
       "    <tr>\n",
       "      <th>1</th>\n",
       "      <td>0.853852</td>\n",
       "      <td>0.01</td>\n",
       "      <td>10</td>\n",
       "      <td>0.612439</td>\n",
       "    </tr>\n",
       "    <tr>\n",
       "      <th>2</th>\n",
       "      <td>0.849118</td>\n",
       "      <td>0.0001</td>\n",
       "      <td>10000</td>\n",
       "      <td>1.088907</td>\n",
       "    </tr>\n",
       "    <tr>\n",
       "      <th>3</th>\n",
       "      <td>0.845406</td>\n",
       "      <td>0.1</td>\n",
       "      <td>10</td>\n",
       "      <td>0.887579</td>\n",
       "    </tr>\n",
       "    <tr>\n",
       "      <th>4</th>\n",
       "      <td>0.783593</td>\n",
       "      <td>1</td>\n",
       "      <td>10</td>\n",
       "      <td>2.034650</td>\n",
       "    </tr>\n",
       "    <tr>\n",
       "      <th>5</th>\n",
       "      <td>0.778473</td>\n",
       "      <td>1</td>\n",
       "      <td>100000</td>\n",
       "      <td>7.923222</td>\n",
       "    </tr>\n",
       "    <tr>\n",
       "      <th>6</th>\n",
       "      <td>0.757743</td>\n",
       "      <td>10</td>\n",
       "      <td>10000</td>\n",
       "      <td>1.819518</td>\n",
       "    </tr>\n",
       "    <tr>\n",
       "      <th>7</th>\n",
       "      <td>0.756847</td>\n",
       "      <td>10000</td>\n",
       "      <td>1e-06</td>\n",
       "      <td>0.651702</td>\n",
       "    </tr>\n",
       "    <tr>\n",
       "      <th>7</th>\n",
       "      <td>0.756847</td>\n",
       "      <td>1e-05</td>\n",
       "      <td>0.01</td>\n",
       "      <td>0.710953</td>\n",
       "    </tr>\n",
       "    <tr>\n",
       "      <th>7</th>\n",
       "      <td>0.756847</td>\n",
       "      <td>100000</td>\n",
       "      <td>0.01</td>\n",
       "      <td>1.337574</td>\n",
       "    </tr>\n",
       "    <tr>\n",
       "      <th>7</th>\n",
       "      <td>0.756847</td>\n",
       "      <td>1e-06</td>\n",
       "      <td>0.1</td>\n",
       "      <td>0.709211</td>\n",
       "    </tr>\n",
       "  </tbody>\n",
       "</table>\n",
       "</div>"
      ],
      "text/plain": [
       "                 mean_test_score param_svc__gamma param_svc__C  mean_fit_time\n",
       "rank_test_score                                                              \n",
       "1                       0.853852             0.01           10       0.612439\n",
       "2                       0.849118           0.0001        10000       1.088907\n",
       "3                       0.845406              0.1           10       0.887579\n",
       "4                       0.783593                1           10       2.034650\n",
       "5                       0.778473                1       100000       7.923222\n",
       "6                       0.757743               10        10000       1.819518\n",
       "7                       0.756847            10000        1e-06       0.651702\n",
       "7                       0.756847            1e-05         0.01       0.710953\n",
       "7                       0.756847           100000         0.01       1.337574\n",
       "7                       0.756847            1e-06          0.1       0.709211"
      ]
     },
     "execution_count": 33,
     "metadata": {},
     "output_type": "execute_result"
    }
   ],
   "source": [
    "pd.DataFrame(random_search.cv_results_)[\n",
    "    [\n",
    "        \"mean_test_score\",\n",
    "        \"param_svc__gamma\",\n",
    "        \"param_svc__C\",\n",
    "        \"mean_fit_time\",\n",
    "        \"rank_test_score\",\n",
    "    ]\n",
    "].set_index(\"rank_test_score\").sort_index()"
   ]
  },
  {
   "cell_type": "markdown",
   "metadata": {
    "slideshow": {
     "slide_type": "slide"
    }
   },
   "source": [
    "\n",
    "### Advantages of `RandomizedSearchCV`\n",
    "\n",
    "- Faster compared to `GridSearchCV`.\n",
    "- Adding parameters that do not influence the performance does not affect efficiency.\n",
    "- In general, I recommend using `RandomizedSearchCV` rather than `GridSearchCV`.    "
   ]
  },
  {
   "cell_type": "markdown",
   "metadata": {
    "slideshow": {
     "slide_type": "slide"
    }
   },
   "source": [
    "### Advantages of `RandomizedSearchCV`\n",
    "\n",
    "- Works better when some parameters are more important than others. \n",
    "\n",
    "![](images/randomsearch_bergstra.png)\n",
    "\n",
    "Source: [Bergstra and Bengio, Random Search for Hyper-Parameter Optimization, JMLR 2012](http://www.jmlr.org/papers/volume13/bergstra12a/bergstra12a.pdf).\n",
    "- The yellow on the left shows how your scores are going to change when you vary the unimportant hyperparameter.\n",
    "- The green on the top shows how your scores are  going to change when you vary the important hyperparameter.\n",
    "- You don't know in advance which hyperparameters are important for your problem.\n",
    "- In the left figure, 6 of the 9 searches are useless because they are only varying the unimportant parameter.\n",
    "- In the right figure, all 9 searches are useful."
   ]
  },
  {
   "cell_type": "markdown",
   "metadata": {
    "slideshow": {
     "slide_type": "slide"
    }
   },
   "source": [
    "## Fancier methods (optional)\n",
    "- Both `GridSearchCV` and `RandomizedSearchCV` do each trial independently.\n",
    "- What if you could learn from your experience, e.g. learn that `max_depth=3` is bad?\n",
    "  - That could save time because you wouldn't try combinations involving `max_depth=3` in the future.\n",
    "- We can do this with `scikit-optimize`, which is a completely different package from `scikit-learn`\n",
    "- It uses a technique called \"model-based optimization\" and we'll specifically use \"Bayesian optimization\".\n",
    "  - In short, it uses machine learning to predict what hyperparameters will be good.\n",
    "  - Machine learning on machine learning!\n",
    "- This is an active research area and there are sophisticated packages for this. \n",
    "- It was Mike's [PhD thesis](https://dash.harvard.edu/bitstream/handle/1/17467236/GELBART-DISSERTATION-2015.pdf?sequence=4) topic. So you can bother him if want to know more about it :). "
   ]
  },
  {
   "cell_type": "markdown",
   "metadata": {
    "slideshow": {
     "slide_type": "skip"
    }
   },
   "source": [
    "- If you want to run the following optional code, you'll have to install `scikit-optimize`\n",
    "\n",
    "`conda install -c conda-forge scikit-optimize`\n",
    "\n",
    "- `BayesSearchCV` uses the same interface as `GridSearchCV` and `RandomSearchCV`.\n",
    "- However, the way we specify the parameter distributions is slightly different.\n",
    "- Here, we can just give the bounds as tuples."
   ]
  },
  {
   "cell_type": "code",
   "execution_count": 28,
   "metadata": {
    "slideshow": {
     "slide_type": "skip"
    }
   },
   "outputs": [],
   "source": [
    "from skopt import BayesSearchCV"
   ]
  },
  {
   "cell_type": "code",
   "execution_count": 29,
   "metadata": {
    "slideshow": {
     "slide_type": "skip"
    }
   },
   "outputs": [],
   "source": [
    "pipe = make_pipeline(preprocessor, SVC())\n",
    "            \n",
    "bayes_opt = BayesSearchCV(\n",
    "    pipe,\n",
    "    {\"svc__C\": (0.1, 10), \n",
    "     \"columntransformer__num__simpleimputer__strategy\": ('mean','median')},\n",
    "     n_iter=10,\n",
    "     cv=5,\n",
    "     random_state=123,\n",
    "     verbose=0,\n",
    "     refit=True\n",
    ")"
   ]
  },
  {
   "cell_type": "code",
   "execution_count": 30,
   "metadata": {
    "slideshow": {
     "slide_type": "skip"
    }
   },
   "outputs": [],
   "source": [
    "bayes_opt.fit(X_train, y_train);"
   ]
  },
  {
   "cell_type": "markdown",
   "metadata": {
    "slideshow": {
     "slide_type": "skip"
    }
   },
   "source": [
    "- It took a similar amount of time to the other methods.\n",
    "- In reality there is some extra computation to do the \"meta-ML\".\n",
    "- However, the overall time is dominated by the time of calling `fit` on the `SVC`."
   ]
  },
  {
   "cell_type": "code",
   "execution_count": 31,
   "metadata": {
    "slideshow": {
     "slide_type": "skip"
    }
   },
   "outputs": [
    {
     "data": {
      "text/plain": [
       "OrderedDict([('columntransformer__num__simpleimputer__strategy', 'mean'),\n",
       "             ('svc__C', 9.901973022704464)])"
      ]
     },
     "execution_count": 31,
     "metadata": {},
     "output_type": "execute_result"
    }
   ],
   "source": [
    "bayes_opt.best_params_"
   ]
  },
  {
   "cell_type": "code",
   "execution_count": 32,
   "metadata": {
    "slideshow": {
     "slide_type": "skip"
    }
   },
   "outputs": [
    {
     "data": {
      "text/plain": [
       "0.8523163552597901"
      ]
     },
     "execution_count": 32,
     "metadata": {},
     "output_type": "execute_result"
    }
   ],
   "source": [
    "bayes_opt.best_score_"
   ]
  },
  {
   "cell_type": "markdown",
   "metadata": {
    "slideshow": {
     "slide_type": "skip"
    }
   },
   "source": [
    "#### Pros and cons of BayesOpt\n",
    "\n",
    "- Advantage: can find better hyperparameter values with fewer trials.\n",
    "- Disadvantage: requires installation.\n",
    "- Disadvantage: when number of trials is large (e.g. hundreds), the meta-ML can actually get too slow.\n",
    "- Disadvantage: harder to parallelize the search because each trial depends on the previous ones.\n",
    "  - Note `n_jobs` parameter for `GridSearchCV` and `RandomizedSearchCV`.  \n",
    "  - `BayesSearchCV` also has this parameter.\n",
    "  - It can definitely parallelize the folds.\n",
    "  - The search will be less effective if it parallelizes further."
   ]
  },
  {
   "cell_type": "markdown",
   "metadata": {
    "slideshow": {
     "slide_type": "slide"
    }
   },
   "source": [
    "### Questions for class discussion (hyperparameter optimization)\n",
    "\n",
    "- Suppose you have 10 hyperparameters, each with 4 possible values. If you run `GridSearchCV` with this parameter grid, how many cross-validation experiments it would carry out? \n",
    "- `GridSearchCV` exhaustively searches the grid and so it's guaranteed to give you the optimal hyperparameters for the given problem. \n",
    "- It is possible to get different hyperparameters in different runs of `RandomizedSearchCV`.\n",
    "- Suppose you have 10 hyperparameters and each takes 4 values. If you run `RandomizedSearchCV` with this parameter grid, how many cross-validation experiments it would carry out? \n"
   ]
  },
  {
   "cell_type": "markdown",
   "metadata": {
    "slideshow": {
     "slide_type": "slide"
    }
   },
   "source": [
    "## 3. Optimization bias <a name=\"3\"></a>"
   ]
  },
  {
   "cell_type": "markdown",
   "metadata": {
    "slideshow": {
     "slide_type": "slide"
    }
   },
   "source": [
    "### Overfitting of the validation error \n",
    "\n",
    "- Why do we need to evaluate the model on the test set in the end?\n",
    "- Why not just use cross-validation on the whole dataset? \n",
    "- While carrying out hyperparameter optimization, we end up trying over many possibilities.  \n",
    "- If our dataset is small and if your validation set is hit too many times, we suffer from **optimization bias** or **overfitting the validation set**. "
   ]
  },
  {
   "cell_type": "markdown",
   "metadata": {
    "slideshow": {
     "slide_type": "slide"
    }
   },
   "source": [
    "### Overfitting of the validation error \n",
    "\n",
    "Optimization bias of parameter learning:\n",
    "- During learning, we could search over tons of different decision trees.\n",
    "- So we can get \"lucky\" and find one with low training error by chance.\n",
    "    - \"Overfitting of the training error\".\n",
    "    \n",
    "Optimization bias of hyper-parameter learning:\n",
    "- Here, we might optimize the validation error over 100 values of `max_depth`.\n",
    "- One of the 100 trees might have low validation error by chance."
   ]
  },
  {
   "cell_type": "markdown",
   "metadata": {
    "slideshow": {
     "slide_type": "skip"
    }
   },
   "source": [
    "### Example 1: Optimization bias (optional)\n",
    "\n",
    "Consider a multiple-choice (a,b,c,d) \"test\" with 10 questions:\n",
    "- If you choose answers randomly, expected grade is 25% (no bias).\n",
    "- If you fill out two tests randomly and pick the best, expected grade is 33%.\n",
    "    - Optimization bias of ~8%.\n",
    "- If you take the best among 10 random tests, expected grade is ~47%.\n",
    "- If you take the best among 100, expected grade is ~62%.\n",
    "- If you take the best among 1000, expected grade is ~73%.\n",
    "- If you take the best among 10000, expected grade is ~82%.\n",
    "    - You have so many \"chances\" that you expect to do well.\n",
    "    \n",
    "**But on new questions the \"random choice\" accuracy is still 25%.**"
   ]
  },
  {
   "cell_type": "code",
   "execution_count": null,
   "metadata": {
    "slideshow": {
     "slide_type": "skip"
    }
   },
   "outputs": [],
   "source": [
    "# Code attribution: Thanks to Rodolfo! (optional)\n",
    "number_tests = [1, 2, 10, 100, 1000, 10000]\n",
    "for ntests in number_tests:\n",
    "    y = np.zeros(10000)\n",
    "    for i in range(10000):\n",
    "        y[i] = np.max(np.random.binomial(10.0, 0.25, ntests))\n",
    "    print(\n",
    "        \"The expected grade among the best of %d tests is : %0.2f\"\n",
    "        % (ntests, np.mean(y) / 10.0)\n",
    "    )"
   ]
  },
  {
   "cell_type": "markdown",
   "metadata": {
    "slideshow": {
     "slide_type": "skip"
    }
   },
   "source": [
    "### Example 2: Optimization bias (optional)\n",
    "\n",
    "- If we instead used a 100-question test then:\n",
    "    - Expected grade from best over 1 randomly-filled test is 25%.\n",
    "    - Expected grade from best over 2 randomly-filled test is ~27%.\n",
    "    - Expected grade from best over 10 randomly-filled test is ~32%.\n",
    "    - Expected grade from best over 100 randomly-filled test is ~36%.\n",
    "    - Expected grade from best over 1000 randomly-filled test is ~40%.\n",
    "    - Expected grade from best over 10000 randomly-filled test is ~43%.\n",
    "\n",
    "- The optimization bias **grows with the number of things we try**.\n",
    "    - “Complexity” of the set of models we search over.\n",
    "- But, optimization bias **shrinks quickly with the number of examples**.\n",
    "    - But it’s still non-zero and growing if you over-use your validation set!    "
   ]
  },
  {
   "cell_type": "code",
   "execution_count": null,
   "metadata": {
    "slideshow": {
     "slide_type": "skip"
    }
   },
   "outputs": [],
   "source": [
    "# Code attribution: Thanks to Rodolfo! (optional)\n",
    "number_tests = [1, 2, 10, 100, 1000, 10000]\n",
    "for ntests in number_tests:\n",
    "    y = np.zeros(10000)\n",
    "    for i in range(10000):\n",
    "        y[i] = np.max(np.random.binomial(100.0, 0.25, ntests))\n",
    "    print(\n",
    "        \"The expected grade among the best of %d tests is : %0.2f\"\n",
    "        % (ntests, np.mean(y) / 100.0)\n",
    "    )"
   ]
  },
  {
   "cell_type": "markdown",
   "metadata": {
    "slideshow": {
     "slide_type": "slide"
    }
   },
   "source": [
    "### Let's examine effects of optimization on the adult income dataset"
   ]
  },
  {
   "cell_type": "code",
   "execution_count": 34,
   "metadata": {
    "slideshow": {
     "slide_type": "-"
    }
   },
   "outputs": [],
   "source": [
    "train_df, test_df = train_test_split(adult_df_large, test_size=0.99, random_state=42)"
   ]
  },
  {
   "cell_type": "code",
   "execution_count": 57,
   "metadata": {},
   "outputs": [
    {
     "data": {
      "text/plain": [
       "(325, 15)"
      ]
     },
     "execution_count": 57,
     "metadata": {},
     "output_type": "execute_result"
    }
   ],
   "source": [
    "train_df.shape"
   ]
  },
  {
   "cell_type": "code",
   "execution_count": 35,
   "metadata": {
    "slideshow": {
     "slide_type": "-"
    }
   },
   "outputs": [],
   "source": [
    "train_df_nan = train_df.replace(\"?\", np.NaN)\n",
    "test_df_nan = test_df.replace(\"?\", np.NaN)"
   ]
  },
  {
   "cell_type": "code",
   "execution_count": 36,
   "metadata": {
    "slideshow": {
     "slide_type": "-"
    }
   },
   "outputs": [
    {
     "data": {
      "text/html": [
       "<div>\n",
       "<style scoped>\n",
       "    .dataframe tbody tr th:only-of-type {\n",
       "        vertical-align: middle;\n",
       "    }\n",
       "\n",
       "    .dataframe tbody tr th {\n",
       "        vertical-align: top;\n",
       "    }\n",
       "\n",
       "    .dataframe thead th {\n",
       "        text-align: right;\n",
       "    }\n",
       "</style>\n",
       "<table border=\"1\" class=\"dataframe\">\n",
       "  <thead>\n",
       "    <tr style=\"text-align: right;\">\n",
       "      <th></th>\n",
       "      <th>age</th>\n",
       "      <th>workclass</th>\n",
       "      <th>fnlwgt</th>\n",
       "      <th>education</th>\n",
       "      <th>education.num</th>\n",
       "      <th>marital.status</th>\n",
       "      <th>occupation</th>\n",
       "      <th>relationship</th>\n",
       "      <th>race</th>\n",
       "      <th>sex</th>\n",
       "      <th>capital.gain</th>\n",
       "      <th>capital.loss</th>\n",
       "      <th>hours.per.week</th>\n",
       "      <th>native.country</th>\n",
       "      <th>income</th>\n",
       "    </tr>\n",
       "  </thead>\n",
       "  <tbody>\n",
       "    <tr>\n",
       "      <th>15087</th>\n",
       "      <td>34</td>\n",
       "      <td>Private</td>\n",
       "      <td>119153</td>\n",
       "      <td>11th</td>\n",
       "      <td>7</td>\n",
       "      <td>Married-civ-spouse</td>\n",
       "      <td>Transport-moving</td>\n",
       "      <td>Husband</td>\n",
       "      <td>White</td>\n",
       "      <td>Male</td>\n",
       "      <td>0</td>\n",
       "      <td>0</td>\n",
       "      <td>50</td>\n",
       "      <td>United-States</td>\n",
       "      <td>&lt;=50K</td>\n",
       "    </tr>\n",
       "    <tr>\n",
       "      <th>11774</th>\n",
       "      <td>22</td>\n",
       "      <td>Private</td>\n",
       "      <td>215477</td>\n",
       "      <td>Some-college</td>\n",
       "      <td>10</td>\n",
       "      <td>Never-married</td>\n",
       "      <td>Transport-moving</td>\n",
       "      <td>Own-child</td>\n",
       "      <td>White</td>\n",
       "      <td>Male</td>\n",
       "      <td>0</td>\n",
       "      <td>0</td>\n",
       "      <td>40</td>\n",
       "      <td>United-States</td>\n",
       "      <td>&lt;=50K</td>\n",
       "    </tr>\n",
       "    <tr>\n",
       "      <th>1930</th>\n",
       "      <td>30</td>\n",
       "      <td>Local-gov</td>\n",
       "      <td>182926</td>\n",
       "      <td>Some-college</td>\n",
       "      <td>10</td>\n",
       "      <td>Married-civ-spouse</td>\n",
       "      <td>Protective-serv</td>\n",
       "      <td>Husband</td>\n",
       "      <td>White</td>\n",
       "      <td>Male</td>\n",
       "      <td>15024</td>\n",
       "      <td>0</td>\n",
       "      <td>40</td>\n",
       "      <td>United-States</td>\n",
       "      <td>&gt;50K</td>\n",
       "    </tr>\n",
       "    <tr>\n",
       "      <th>23509</th>\n",
       "      <td>33</td>\n",
       "      <td>Private</td>\n",
       "      <td>124052</td>\n",
       "      <td>HS-grad</td>\n",
       "      <td>9</td>\n",
       "      <td>Married-civ-spouse</td>\n",
       "      <td>Craft-repair</td>\n",
       "      <td>Husband</td>\n",
       "      <td>White</td>\n",
       "      <td>Male</td>\n",
       "      <td>0</td>\n",
       "      <td>0</td>\n",
       "      <td>40</td>\n",
       "      <td>United-States</td>\n",
       "      <td>&lt;=50K</td>\n",
       "    </tr>\n",
       "    <tr>\n",
       "      <th>197</th>\n",
       "      <td>49</td>\n",
       "      <td>Local-gov</td>\n",
       "      <td>102359</td>\n",
       "      <td>9th</td>\n",
       "      <td>5</td>\n",
       "      <td>Widowed</td>\n",
       "      <td>Handlers-cleaners</td>\n",
       "      <td>Unmarried</td>\n",
       "      <td>White</td>\n",
       "      <td>Male</td>\n",
       "      <td>0</td>\n",
       "      <td>2231</td>\n",
       "      <td>40</td>\n",
       "      <td>United-States</td>\n",
       "      <td>&gt;50K</td>\n",
       "    </tr>\n",
       "  </tbody>\n",
       "</table>\n",
       "</div>"
      ],
      "text/plain": [
       "       age  workclass  fnlwgt     education  education.num  \\\n",
       "15087   34    Private  119153          11th              7   \n",
       "11774   22    Private  215477  Some-college             10   \n",
       "1930    30  Local-gov  182926  Some-college             10   \n",
       "23509   33    Private  124052       HS-grad              9   \n",
       "197     49  Local-gov  102359           9th              5   \n",
       "\n",
       "           marital.status         occupation relationship   race   sex  \\\n",
       "15087  Married-civ-spouse   Transport-moving      Husband  White  Male   \n",
       "11774       Never-married   Transport-moving    Own-child  White  Male   \n",
       "1930   Married-civ-spouse    Protective-serv      Husband  White  Male   \n",
       "23509  Married-civ-spouse       Craft-repair      Husband  White  Male   \n",
       "197               Widowed  Handlers-cleaners    Unmarried  White  Male   \n",
       "\n",
       "       capital.gain  capital.loss  hours.per.week native.country income  \n",
       "15087             0             0              50  United-States  <=50K  \n",
       "11774             0             0              40  United-States  <=50K  \n",
       "1930          15024             0              40  United-States   >50K  \n",
       "23509             0             0              40  United-States  <=50K  \n",
       "197               0          2231              40  United-States   >50K  "
      ]
     },
     "execution_count": 36,
     "metadata": {},
     "output_type": "execute_result"
    }
   ],
   "source": [
    "train_df_nan.head()"
   ]
  },
  {
   "cell_type": "code",
   "execution_count": 37,
   "metadata": {},
   "outputs": [
    {
     "data": {
      "text/plain": [
       "<=50K    246\n",
       ">50K      79\n",
       "Name: income, dtype: int64"
      ]
     },
     "execution_count": 37,
     "metadata": {},
     "output_type": "execute_result"
    }
   ],
   "source": [
    "train_df_nan['income'].value_counts()"
   ]
  },
  {
   "cell_type": "markdown",
   "metadata": {
    "slideshow": {
     "slide_type": "slide"
    }
   },
   "source": [
    "### Identify feature types"
   ]
  },
  {
   "cell_type": "code",
   "execution_count": 38,
   "metadata": {
    "slideshow": {
     "slide_type": "-"
    }
   },
   "outputs": [],
   "source": [
    "numeric_features = ['age', 'fnlwgt', 'capital.gain', \n",
    "                    'capital.loss', 'hours.per.week']\n",
    "# I am removing eduction.num column\n",
    "categorical_features = ['workclass', 'marital.status', 'occupation', \n",
    "                        'relationship', 'sex', 'native.country']\n",
    "# I am removing 'race' column\n",
    "ordinal_features = ['education']\n",
    "target = 'income'"
   ]
  },
  {
   "cell_type": "code",
   "execution_count": 39,
   "metadata": {},
   "outputs": [],
   "source": [
    "education_levels = ['Preschool', '1st-4th', '5th-6th', '7th-8th', \n",
    "                    '9th', '10th', '11th', '12th', 'HS-grad',\n",
    "                    'Prof-school', 'Assoc-voc', 'Assoc-acdm', \n",
    "                    'Some-college', 'Bachelors', 'Masters', 'Doctorate']"
   ]
  },
  {
   "cell_type": "code",
   "execution_count": 42,
   "metadata": {},
   "outputs": [],
   "source": [
    "X_train = train_df_nan.drop(columns=[target])\n",
    "y_train = train_df_nan[target]\n",
    "\n",
    "X_test = test_df_nan.drop(columns=[target])\n",
    "y_test = test_df_nan[target]"
   ]
  },
  {
   "cell_type": "markdown",
   "metadata": {
    "slideshow": {
     "slide_type": "slide"
    }
   },
   "source": [
    "### Define `ColumnTransformer` and a pipeline "
   ]
  },
  {
   "cell_type": "code",
   "execution_count": 43,
   "metadata": {
    "slideshow": {
     "slide_type": "-"
    }
   },
   "outputs": [],
   "source": [
    "numeric_transformer = make_pipeline(SimpleImputer(strategy=\"median\"), StandardScaler())\n",
    "\n",
    "categorical_transformer = make_pipeline(\n",
    "    SimpleImputer(strategy=\"constant\", fill_value=\"missing\"),\n",
    "    OneHotEncoder(handle_unknown=\"ignore\"),\n",
    ")\n",
    "\n",
    "ordinal_transformer = make_pipeline(\n",
    "    SimpleImputer(strategy=\"constant\", fill_value=\"missing\"),\n",
    "    OrdinalEncoder(categories=[education_levels], dtype=int,),\n",
    "\n",
    ")\n",
    "\n",
    "preprocessor = ColumnTransformer(\n",
    "    transformers=[\n",
    "        (\"num\", numeric_transformer, numeric_features),\n",
    "        (\"cat\", categorical_transformer, categorical_features),\n",
    "        (\"ordinal\", ordinal_transformer, ordinal_features)\n",
    "    ]\n",
    ")\n",
    "pipe = make_pipeline(preprocessor, SVC())"
   ]
  },
  {
   "cell_type": "code",
   "execution_count": 52,
   "metadata": {
    "slideshow": {
     "slide_type": "slide"
    }
   },
   "outputs": [
    {
     "name": "stdout",
     "output_type": "stream",
     "text": [
      "Grid size: 900\n"
     ]
    },
    {
     "data": {
      "text/plain": [
       "{'svc__gamma': array([1.e-20, 1.e-19, 1.e-18, 1.e-17, 1.e-16, 1.e-15, 1.e-14, 1.e-13,\n",
       "        1.e-12, 1.e-11, 1.e-10, 1.e-09, 1.e-08, 1.e-07, 1.e-06, 1.e-05,\n",
       "        1.e-04, 1.e-03, 1.e-02, 1.e-01, 1.e+00, 1.e+01, 1.e+02, 1.e+03,\n",
       "        1.e+04, 1.e+05, 1.e+06, 1.e+07, 1.e+08, 1.e+09]),\n",
       " 'svc__C': array([1.e-20, 1.e-19, 1.e-18, 1.e-17, 1.e-16, 1.e-15, 1.e-14, 1.e-13,\n",
       "        1.e-12, 1.e-11, 1.e-10, 1.e-09, 1.e-08, 1.e-07, 1.e-06, 1.e-05,\n",
       "        1.e-04, 1.e-03, 1.e-02, 1.e-01, 1.e+00, 1.e+01, 1.e+02, 1.e+03,\n",
       "        1.e+04, 1.e+05, 1.e+06, 1.e+07, 1.e+08, 1.e+09])}"
      ]
     },
     "execution_count": 52,
     "metadata": {},
     "output_type": "execute_result"
    }
   ],
   "source": [
    "from sklearn.model_selection import RandomizedSearchCV\n",
    "param_grid = {\n",
    "    \"svc__gamma\": 10.0 ** np.arange(-20, 10),\n",
    "    \"svc__C\": 10.0 ** np.arange(-20, 10)\n",
    "}\n",
    "print(\"Grid size: %d\" %(np.prod(list(map(len, param_grid.values())))))\n",
    "param_grid"
   ]
  },
  {
   "cell_type": "code",
   "execution_count": 54,
   "metadata": {},
   "outputs": [],
   "source": [
    "random_search = RandomizedSearchCV(pipe, param_distributions=param_grid, n_jobs=-1, n_iter=900, cv=5);\n",
    "random_search.fit(X_train, y_train);"
   ]
  },
  {
   "cell_type": "code",
   "execution_count": 58,
   "metadata": {
    "slideshow": {
     "slide_type": "slide"
    }
   },
   "outputs": [
    {
     "data": {
      "text/html": [
       "<div>\n",
       "<style scoped>\n",
       "    .dataframe tbody tr th:only-of-type {\n",
       "        vertical-align: middle;\n",
       "    }\n",
       "\n",
       "    .dataframe tbody tr th {\n",
       "        vertical-align: top;\n",
       "    }\n",
       "\n",
       "    .dataframe thead th {\n",
       "        text-align: right;\n",
       "    }\n",
       "</style>\n",
       "<table border=\"1\" class=\"dataframe\">\n",
       "  <thead>\n",
       "    <tr style=\"text-align: right;\">\n",
       "      <th></th>\n",
       "      <th>mean_test_score</th>\n",
       "      <th>param_svc__gamma</th>\n",
       "      <th>param_svc__C</th>\n",
       "      <th>mean_fit_time</th>\n",
       "    </tr>\n",
       "    <tr>\n",
       "      <th>rank_test_score</th>\n",
       "      <th></th>\n",
       "      <th></th>\n",
       "      <th></th>\n",
       "      <th></th>\n",
       "    </tr>\n",
       "  </thead>\n",
       "  <tbody>\n",
       "    <tr>\n",
       "      <th>1</th>\n",
       "      <td>0.852308</td>\n",
       "      <td>0.001</td>\n",
       "      <td>1000</td>\n",
       "      <td>0.025669</td>\n",
       "    </tr>\n",
       "    <tr>\n",
       "      <th>1</th>\n",
       "      <td>0.852308</td>\n",
       "      <td>0.1</td>\n",
       "      <td>1</td>\n",
       "      <td>0.024438</td>\n",
       "    </tr>\n",
       "    <tr>\n",
       "      <th>3</th>\n",
       "      <td>0.846154</td>\n",
       "      <td>0.01</td>\n",
       "      <td>10</td>\n",
       "      <td>0.027776</td>\n",
       "    </tr>\n",
       "    <tr>\n",
       "      <th>3</th>\n",
       "      <td>0.846154</td>\n",
       "      <td>1e-05</td>\n",
       "      <td>1e+07</td>\n",
       "      <td>0.204596</td>\n",
       "    </tr>\n",
       "    <tr>\n",
       "      <th>5</th>\n",
       "      <td>0.843077</td>\n",
       "      <td>1e-08</td>\n",
       "      <td>1e+08</td>\n",
       "      <td>0.021219</td>\n",
       "    </tr>\n",
       "  </tbody>\n",
       "</table>\n",
       "</div>"
      ],
      "text/plain": [
       "                 mean_test_score param_svc__gamma param_svc__C  mean_fit_time\n",
       "rank_test_score                                                              \n",
       "1                       0.852308            0.001         1000       0.025669\n",
       "1                       0.852308              0.1            1       0.024438\n",
       "3                       0.846154             0.01           10       0.027776\n",
       "3                       0.846154            1e-05        1e+07       0.204596\n",
       "5                       0.843077            1e-08        1e+08       0.021219"
      ]
     },
     "execution_count": 58,
     "metadata": {},
     "output_type": "execute_result"
    }
   ],
   "source": [
    "pd.DataFrame(random_search.cv_results_)[\n",
    "    [\n",
    "        \"mean_test_score\",\n",
    "        \"param_svc__gamma\",\n",
    "        \"param_svc__C\",\n",
    "        \"mean_fit_time\",\n",
    "        \"rank_test_score\",\n",
    "    ]\n",
    "].set_index(\"rank_test_score\").sort_index().head(5)"
   ]
  },
  {
   "cell_type": "markdown",
   "metadata": {
    "slideshow": {
     "slide_type": "-"
    }
   },
   "source": [
    "- Do we really believe that 0.85 is a good estimate of our test data?\n",
    "- Do we really believe that `gamma`=0.001 and C=1000 are the best hyperparameters? "
   ]
  },
  {
   "cell_type": "markdown",
   "metadata": {
    "slideshow": {
     "slide_type": "slide"
    }
   },
   "source": [
    "- No, because our training data is quite small and so our validation splits in cross validation would be small. \n",
    "- No, because of the small dataset and the fact that we hit the small validation set 900 times and it's possible that we got lucky on the validation set! \n",
    "- Let's find out the test score with this best model. "
   ]
  },
  {
   "cell_type": "code",
   "execution_count": 59,
   "metadata": {
    "slideshow": {
     "slide_type": "-"
    }
   },
   "outputs": [
    {
     "data": {
      "text/plain": [
       "0.8083198908053109"
      ]
     },
     "execution_count": 59,
     "metadata": {},
     "output_type": "execute_result"
    }
   ],
   "source": [
    "random_search.score(X_test, y_test)"
   ]
  },
  {
   "cell_type": "markdown",
   "metadata": {
    "slideshow": {
     "slide_type": "-"
    }
   },
   "source": [
    "- We can trust this test score because it's a huge test set."
   ]
  },
  {
   "cell_type": "markdown",
   "metadata": {
    "slideshow": {
     "slide_type": "slide"
    }
   },
   "source": [
    "### Overfitting of the validation data\n",
    "\n",
    "<center>\n",
    "<img src='./images/optimization-bias.png' width=\"800\">\n",
    "</center>\n",
    "\n",
    "\n",
    "[Source](https://amueller.github.io/COMS4995-s20/slides/aml-03-supervised-learning/#20)"
   ]
  },
  {
   "cell_type": "markdown",
   "metadata": {
    "slideshow": {
     "slide_type": "-"
    }
   },
   "source": [
    "- Thus, not only can we not trust the cv scores, we also cannot trust cv's ability to choose of the best hyperparameters. \n"
   ]
  },
  {
   "cell_type": "markdown",
   "metadata": {
    "slideshow": {
     "slide_type": "slide"
    }
   },
   "source": [
    "### Why do we need a test set? \n",
    "- We have a VERY optimistic cross-validation score.\n",
    "- This is why we need a test set.\n",
    "- The frustrating part is that if our dataset is small then our test set is also small :(. \n",
    "- But we don't have a lot of better alternatives, unfortunately, if we have a small dataset. "
   ]
  },
  {
   "cell_type": "markdown",
   "metadata": {
    "slideshow": {
     "slide_type": "slide"
    }
   },
   "source": [
    "### Large datasets solves many of these problems\n",
    "- With infinite amounts of training data, overfitting would not be a problem and you could have your test score = your train score.\n",
    "    - Overfitting happens because you only see a bit of data and you learn patterns that are overly specific to your sample.\n",
    "    - If you saw \"all\" the data, then the notion of \"overly specific\" would not apply.\n",
    "- So, more data will make your test score better and robust. \n",
    "- What to do if your test score is much lower than your cross-validation score:\n",
    "    - Try simpler models and use the test set a couple of times - it's not the end of the world.\n",
    "    - Communicate this clearly when you report the results. "
   ]
  },
  {
   "cell_type": "markdown",
   "metadata": {
    "slideshow": {
     "slide_type": "slide"
    }
   },
   "source": [
    "### Questions for class discussion (optimization bias)"
   ]
  },
  {
   "cell_type": "markdown",
   "metadata": {
    "slideshow": {
     "slide_type": "slide"
    }
   },
   "source": [
    "### Would you trust the model?  \n",
    "\n",
    "- You have a dataset and you give me half of it. I build a model using all the data you have given me and I tell you that the model accuracy is 0.99. Would it classify the rest of the data with similar accuracy? \n",
    "\n",
    "1. Probably \n",
    "2. Probably not "
   ]
  },
  {
   "cell_type": "markdown",
   "metadata": {
    "slideshow": {
     "slide_type": "slide"
    }
   },
   "source": [
    "### Would you trust the model?  \n",
    "\n",
    "- You have a dataset and you give me half of it. I build a model using 80% of the data given to me and report the accuracy of 0.95 on the remaining 20% of the data. Would it classify the rest of the data with similar accuracy? \n",
    "\n",
    "1. Probably \n",
    "2. Probably not "
   ]
  },
  {
   "cell_type": "markdown",
   "metadata": {
    "slideshow": {
     "slide_type": "slide"
    }
   },
   "source": [
    "### Would you trust the model?  \n",
    "\n",
    "- You have a dataset and you give me 1/10th of it. The dataset given to me is rather small and so I split it into 96% train and 4% validation split. I carry out hyperparameter optimization using a single 4% validation split and report validation accuracy of 0.97. Would it classify the rest of the data with similar accuracy? \n",
    "\n",
    "1. Probably \n",
    "2. Probably not "
   ]
  },
  {
   "cell_type": "markdown",
   "metadata": {},
   "source": [
    "## Optional readings and resources\n",
    "\n",
    "- [Preventing \"overfitting\" of cross-validation data](http://www.robotics.stanford.edu/~ang/papers/cv-final.pdf) by Andrew Ng"
   ]
  }
 ],
 "metadata": {
  "celltoolbar": "Slideshow",
  "kernelspec": {
   "display_name": "Python [conda env:571]",
   "language": "python",
   "name": "conda-env-571-py"
  },
  "language_info": {
   "codemirror_mode": {
    "name": "ipython",
    "version": 3
   },
   "file_extension": ".py",
   "mimetype": "text/x-python",
   "name": "python",
   "nbconvert_exporter": "python",
   "pygments_lexer": "ipython3",
   "version": "3.8.6"
  }
 },
 "nbformat": 4,
 "nbformat_minor": 4
}
