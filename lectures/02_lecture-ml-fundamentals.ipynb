{
 "cells": [
  {
   "cell_type": "markdown",
   "metadata": {
    "slideshow": {
     "slide_type": "slide"
    }
   },
   "source": [
    "# DSCI 571: Supervised Machine Learning I \n",
    "\n",
    "## Lecture 2: Machine Learning Fundamentals \n",
    "\n",
    "UBC Master of Data Science program, 2020-21\n",
    "\n",
    "Instructor: Varada Kolhatkar"
   ]
  },
  {
   "cell_type": "markdown",
   "metadata": {
    "slideshow": {
     "slide_type": "slide"
    }
   },
   "source": [
    "### Three important things we are going to learn today \n",
    "\n",
    "1. [Generalization](#1)\n",
    "2. [Data splitting](#2)\n",
    "3. [The fundamental trade-off: underfitting, overfitting, the golden rule](#3)"
   ]
  },
  {
   "cell_type": "markdown",
   "metadata": {
    "slideshow": {
     "slide_type": "slide"
    }
   },
   "source": [
    "## Lecture learning objectives\n",
    "\n",
    "From this lecture, you will be able to \n",
    "\n",
    "- explain how decision boundaries change with the `max_depth` hyperparameter;\n",
    "- explain the concept of generalization;\n",
    "- split a dataset into train and test sets using `train_test_split` function;\n",
    "- explain the difference between train, validation, test, and \"deployment\" data;\n",
    "- identify the difference between training error, validation error, and test error;\n",
    "- explain cross-validation and use `cross_val_score` and `cross_validate` to calculate cross-validation error;\n",
    "- explain overfitting, underfitting, and the fundamental tradeoff;\n",
    "- state the golden rule. "
   ]
  },
  {
   "cell_type": "code",
   "execution_count": 1,
   "metadata": {
    "slideshow": {
     "slide_type": "skip"
    }
   },
   "outputs": [
    {
     "name": "stdout",
     "output_type": "stream",
     "text": [
      "Populating the interactive namespace from numpy and matplotlib\n"
     ]
    }
   ],
   "source": [
    "# import the libraries\n",
    "import graphviz\n",
    "import IPython\n",
    "import matplotlib.pyplot as plt\n",
    "import numpy as np\n",
    "import pandas as pd\n",
    "from IPython.display import HTML\n",
    "\n",
    "%pylab inline\n",
    "# pip install git+git://github.com/mgelbart/plot-classifier.git\n",
    "from plot_classifier import plot_classifier\n",
    "\n",
    "# Classifiers\n",
    "from sklearn.tree import DecisionTreeClassifier, export_graphviz\n",
    "\n",
    "%matplotlib inline\n",
    "\n",
    "pd.set_option(\"display.max_colwidth\", 200)"
   ]
  },
  {
   "cell_type": "markdown",
   "metadata": {
    "slideshow": {
     "slide_type": "skip"
    }
   },
   "source": [
    "## Slide settings "
   ]
  },
  {
   "cell_type": "code",
   "execution_count": 2,
   "metadata": {
    "slideshow": {
     "slide_type": "skip"
    }
   },
   "outputs": [],
   "source": [
    "from pathlib import Path\n",
    "\n",
    "from traitlets.config.manager import BaseJSONConfigManager\n",
    "\n",
    "path = Path.home() / \".jupyter\" / \"nbconfig\"\n",
    "cm = BaseJSONConfigManager(config_dir=str(path))\n",
    "tmp = cm.update(\n",
    "    \"rise\",\n",
    "    {\n",
    "        \"theme\": \"serif\",\n",
    "        \"transition\": \"fade\",\n",
    "        \"start_slideshow_at\": \"selected\",\n",
    "        \"width\": \"100%\",\n",
    "        \"height\": \"100%\",\n",
    "        \"header\": \"\",\n",
    "        \"footer\": \"\",\n",
    "        \"scroll\": True,\n",
    "        \"enable_chalkboard\": True,\n",
    "        \"slideNumber\": True,\n",
    "        \"center\": False,\n",
    "        \"controlsLayout\": \"edges\",\n",
    "        \"slideNumber\": True,\n",
    "        \"hash\": True,\n",
    "    },\n",
    ")"
   ]
  },
  {
   "cell_type": "code",
   "execution_count": 3,
   "metadata": {
    "slideshow": {
     "slide_type": "skip"
    }
   },
   "outputs": [],
   "source": [
    "def display_tree(feature_names, tree):\n",
    "    \"\"\" For binary classification only \"\"\"\n",
    "    dot = export_graphviz(tree, out_file=None, feature_names=feature_names, class_names=tree.classes_.astype(str), impurity=False)\n",
    "    # adapted from https://stackoverflow.com/questions/44821349/python-graphviz-remove-legend-on-nodes-of-decisiontreeclassifier\n",
    "    #dot = re.sub('(\\\\\\\\nsamples = [0-9]+)(\\\\\\\\nvalue = \\[[0-9]+, [0-9]+\\])(\\\\\\\\nclass = [A-Za-z0-9]+)', '', dot)\n",
    "    dot = re.sub('(\\\\\\\\nsamples = [0-9]+)(\\\\\\\\nvalue = \\[[0-9]+, [0-9]+\\])', '', dot)\n",
    "    dot = re.sub(     '(samples = [0-9]+)(\\\\\\\\nvalue = \\[[0-9]+, [0-9]+\\])\\\\\\\\n', '', dot)\n",
    "    return graphviz.Source(dot)"
   ]
  },
  {
   "cell_type": "markdown",
   "metadata": {
    "slideshow": {
     "slide_type": "slide"
    }
   },
   "source": [
    "## 1. Generalization <a name=\"1\"></a>"
   ]
  },
  {
   "cell_type": "markdown",
   "metadata": {
    "slideshow": {
     "slide_type": "slide"
    }
   },
   "source": [
    "### Visualizing model complexity using decision boundaries"
   ]
  },
  {
   "cell_type": "markdown",
   "metadata": {
    "slideshow": {
     "slide_type": "slide"
    }
   },
   "source": [
    "### Last lecture: Decision boundary\n",
    "\n",
    "- A way to visualize what sort of examples will be classified as positive and negative.\n",
    "- We assume geometric view of the data. (More on this in lecture 3.)\n",
    "- Here the red region corresponds to \"not A+\" class and blue region corresponds to \"A+\" class. \n",
    "- And there is a line separating the red region and the blue region which is called the **decision boundary** of the model."
   ]
  },
  {
   "cell_type": "code",
   "execution_count": 4,
   "metadata": {
    "slideshow": {
     "slide_type": "slide"
    }
   },
   "outputs": [
    {
     "data": {
      "text/html": [
       "<div>\n",
       "<style scoped>\n",
       "    .dataframe tbody tr th:only-of-type {\n",
       "        vertical-align: middle;\n",
       "    }\n",
       "\n",
       "    .dataframe tbody tr th {\n",
       "        vertical-align: top;\n",
       "    }\n",
       "\n",
       "    .dataframe thead th {\n",
       "        text-align: right;\n",
       "    }\n",
       "</style>\n",
       "<table border=\"1\" class=\"dataframe\">\n",
       "  <thead>\n",
       "    <tr style=\"text-align: right;\">\n",
       "      <th></th>\n",
       "      <th>ml_experience</th>\n",
       "      <th>class_attendance</th>\n",
       "      <th>lab1</th>\n",
       "      <th>lab2</th>\n",
       "      <th>lab3</th>\n",
       "      <th>lab4</th>\n",
       "      <th>quiz1</th>\n",
       "      <th>quiz2</th>\n",
       "    </tr>\n",
       "  </thead>\n",
       "  <tbody>\n",
       "    <tr>\n",
       "      <th>0</th>\n",
       "      <td>1</td>\n",
       "      <td>1</td>\n",
       "      <td>92</td>\n",
       "      <td>93</td>\n",
       "      <td>84</td>\n",
       "      <td>91</td>\n",
       "      <td>92</td>\n",
       "      <td>A+</td>\n",
       "    </tr>\n",
       "    <tr>\n",
       "      <th>1</th>\n",
       "      <td>1</td>\n",
       "      <td>0</td>\n",
       "      <td>94</td>\n",
       "      <td>90</td>\n",
       "      <td>80</td>\n",
       "      <td>83</td>\n",
       "      <td>91</td>\n",
       "      <td>not A+</td>\n",
       "    </tr>\n",
       "    <tr>\n",
       "      <th>2</th>\n",
       "      <td>0</td>\n",
       "      <td>0</td>\n",
       "      <td>78</td>\n",
       "      <td>85</td>\n",
       "      <td>83</td>\n",
       "      <td>80</td>\n",
       "      <td>80</td>\n",
       "      <td>not A+</td>\n",
       "    </tr>\n",
       "    <tr>\n",
       "      <th>3</th>\n",
       "      <td>0</td>\n",
       "      <td>1</td>\n",
       "      <td>91</td>\n",
       "      <td>94</td>\n",
       "      <td>92</td>\n",
       "      <td>91</td>\n",
       "      <td>89</td>\n",
       "      <td>A+</td>\n",
       "    </tr>\n",
       "    <tr>\n",
       "      <th>4</th>\n",
       "      <td>0</td>\n",
       "      <td>1</td>\n",
       "      <td>77</td>\n",
       "      <td>83</td>\n",
       "      <td>90</td>\n",
       "      <td>92</td>\n",
       "      <td>85</td>\n",
       "      <td>A+</td>\n",
       "    </tr>\n",
       "  </tbody>\n",
       "</table>\n",
       "</div>"
      ],
      "text/plain": [
       "   ml_experience  class_attendance  lab1  lab2  lab3  lab4  quiz1   quiz2\n",
       "0              1                 1    92    93    84    91     92      A+\n",
       "1              1                 0    94    90    80    83     91  not A+\n",
       "2              0                 0    78    85    83    80     80  not A+\n",
       "3              0                 1    91    94    92    91     89      A+\n",
       "4              0                 1    77    83    90    92     85      A+"
      ]
     },
     "execution_count": 4,
     "metadata": {},
     "output_type": "execute_result"
    }
   ],
   "source": [
    "# Toy quiz2 grade data\n",
    "classification_df = pd.read_csv(\"data/quiz2-grade-toy-classification.csv\")\n",
    "classification_df.head()"
   ]
  },
  {
   "cell_type": "code",
   "execution_count": 5,
   "metadata": {
    "slideshow": {
     "slide_type": "-"
    }
   },
   "outputs": [],
   "source": [
    "X = classification_df.drop([\"quiz2\"], axis=1)\n",
    "y = classification_df[\"quiz2\"]"
   ]
  },
  {
   "cell_type": "code",
   "execution_count": 6,
   "metadata": {
    "slideshow": {
     "slide_type": "-"
    }
   },
   "outputs": [
    {
     "data": {
      "text/html": [
       "<div>\n",
       "<style scoped>\n",
       "    .dataframe tbody tr th:only-of-type {\n",
       "        vertical-align: middle;\n",
       "    }\n",
       "\n",
       "    .dataframe tbody tr th {\n",
       "        vertical-align: top;\n",
       "    }\n",
       "\n",
       "    .dataframe thead th {\n",
       "        text-align: right;\n",
       "    }\n",
       "</style>\n",
       "<table border=\"1\" class=\"dataframe\">\n",
       "  <thead>\n",
       "    <tr style=\"text-align: right;\">\n",
       "      <th></th>\n",
       "      <th>lab4</th>\n",
       "      <th>quiz1</th>\n",
       "    </tr>\n",
       "  </thead>\n",
       "  <tbody>\n",
       "    <tr>\n",
       "      <th>0</th>\n",
       "      <td>91</td>\n",
       "      <td>92</td>\n",
       "    </tr>\n",
       "    <tr>\n",
       "      <th>1</th>\n",
       "      <td>83</td>\n",
       "      <td>91</td>\n",
       "    </tr>\n",
       "    <tr>\n",
       "      <th>2</th>\n",
       "      <td>80</td>\n",
       "      <td>80</td>\n",
       "    </tr>\n",
       "    <tr>\n",
       "      <th>3</th>\n",
       "      <td>91</td>\n",
       "      <td>89</td>\n",
       "    </tr>\n",
       "    <tr>\n",
       "      <th>4</th>\n",
       "      <td>92</td>\n",
       "      <td>85</td>\n",
       "    </tr>\n",
       "  </tbody>\n",
       "</table>\n",
       "</div>"
      ],
      "text/plain": [
       "   lab4  quiz1\n",
       "0    91     92\n",
       "1    83     91\n",
       "2    80     80\n",
       "3    91     89\n",
       "4    92     85"
      ]
     },
     "execution_count": 6,
     "metadata": {},
     "output_type": "execute_result"
    }
   ],
   "source": [
    "# Let's consiser a subset of the data with only two features\n",
    "X_subset = X[[\"lab4\", \"quiz1\"]]\n",
    "X_subset.head()"
   ]
  },
  {
   "cell_type": "code",
   "execution_count": 7,
   "metadata": {
    "slideshow": {
     "slide_type": "skip"
    }
   },
   "outputs": [],
   "source": [
    "def plot_decision_tree(model, \n",
    "              class_names=[\"A+\", \"not A+\"]):\n",
    "    return graphviz.Source(\n",
    "                export_graphviz(\n",
    "                model,\n",
    "                out_file=None,\n",
    "                feature_names=X_subset.columns,\n",
    "                class_names=class_names,\n",
    "                impurity=False,\n",
    "            )\n",
    "    )"
   ]
  },
  {
   "cell_type": "markdown",
   "metadata": {
    "slideshow": {
     "slide_type": "slide"
    }
   },
   "source": [
    "In the following model, this decision boundary is created by asking one question. "
   ]
  },
  {
   "cell_type": "code",
   "execution_count": 8,
   "metadata": {
    "slideshow": {
     "slide_type": "-"
    }
   },
   "outputs": [
    {
     "name": "stdout",
     "output_type": "stream",
     "text": [
      "Error:   0.286\n"
     ]
    },
    {
     "data": {
      "image/svg+xml": [
       "<?xml version=\"1.0\" encoding=\"UTF-8\" standalone=\"no\"?>\n",
       "<!DOCTYPE svg PUBLIC \"-//W3C//DTD SVG 1.1//EN\"\n",
       " \"http://www.w3.org/Graphics/SVG/1.1/DTD/svg11.dtd\">\n",
       "<!-- Generated by graphviz version 2.42.3 (20191010.1750)\n",
       " -->\n",
       "<!-- Title: Tree Pages: 1 -->\n",
       "<svg width=\"202pt\" height=\"118pt\"\n",
       " viewBox=\"0.00 0.00 201.50 118.00\" xmlns=\"http://www.w3.org/2000/svg\" xmlns:xlink=\"http://www.w3.org/1999/xlink\">\n",
       "<g id=\"graph0\" class=\"graph\" transform=\"scale(1 1) rotate(0) translate(4 114)\">\n",
       "<title>Tree</title>\n",
       "<polygon fill=\"white\" stroke=\"transparent\" points=\"-4,4 -4,-114 197.5,-114 197.5,4 -4,4\"/>\n",
       "<!-- 0 -->\n",
       "<g id=\"node1\" class=\"node\">\n",
       "<title>0</title>\n",
       "<polygon fill=\"none\" stroke=\"black\" points=\"151,-110 53,-110 53,-72 151,-72 151,-110\"/>\n",
       "<text text-anchor=\"middle\" x=\"102\" y=\"-94.8\" font-family=\"Times,serif\" font-size=\"14.00\">lab4 &lt;= 84.5</text>\n",
       "<text text-anchor=\"middle\" x=\"102\" y=\"-79.8\" font-family=\"Times,serif\" font-size=\"14.00\">class = not A+</text>\n",
       "</g>\n",
       "<!-- 1 -->\n",
       "<g id=\"node2\" class=\"node\">\n",
       "<title>1</title>\n",
       "<polygon fill=\"none\" stroke=\"black\" points=\"98,-36 0,-36 0,0 98,0 98,-36\"/>\n",
       "<text text-anchor=\"middle\" x=\"49\" y=\"-14.3\" font-family=\"Times,serif\" font-size=\"14.00\">class = not A+</text>\n",
       "</g>\n",
       "<!-- 0&#45;&gt;1 -->\n",
       "<g id=\"edge1\" class=\"edge\">\n",
       "<title>0&#45;&gt;1</title>\n",
       "<path fill=\"none\" stroke=\"black\" d=\"M88.35,-71.72C82.06,-63.29 74.49,-53.15 67.68,-44.02\"/>\n",
       "<polygon fill=\"black\" stroke=\"black\" points=\"70.48,-41.92 61.69,-36 64.87,-46.11 70.48,-41.92\"/>\n",
       "<text text-anchor=\"middle\" x=\"58.1\" y=\"-57.04\" font-family=\"Times,serif\" font-size=\"14.00\">True</text>\n",
       "</g>\n",
       "<!-- 2 -->\n",
       "<g id=\"node3\" class=\"node\">\n",
       "<title>2</title>\n",
       "<polygon fill=\"none\" stroke=\"black\" points=\"193.5,-36 116.5,-36 116.5,0 193.5,0 193.5,-36\"/>\n",
       "<text text-anchor=\"middle\" x=\"155\" y=\"-14.3\" font-family=\"Times,serif\" font-size=\"14.00\">class = A+</text>\n",
       "</g>\n",
       "<!-- 0&#45;&gt;2 -->\n",
       "<g id=\"edge2\" class=\"edge\">\n",
       "<title>0&#45;&gt;2</title>\n",
       "<path fill=\"none\" stroke=\"black\" d=\"M115.65,-71.72C121.94,-63.29 129.51,-53.15 136.32,-44.02\"/>\n",
       "<polygon fill=\"black\" stroke=\"black\" points=\"139.13,-46.11 142.31,-36 133.52,-41.92 139.13,-46.11\"/>\n",
       "<text text-anchor=\"middle\" x=\"145.9\" y=\"-57.04\" font-family=\"Times,serif\" font-size=\"14.00\">False</text>\n",
       "</g>\n",
       "</g>\n",
       "</svg>\n"
      ],
      "text/plain": [
       "<graphviz.files.Source at 0x7f8399e0eaf0>"
      ]
     },
     "execution_count": 8,
     "metadata": {},
     "output_type": "execute_result"
    }
   ],
   "source": [
    "depth = 1\n",
    "model = DecisionTreeClassifier(max_depth=depth) # decision stump\n",
    "model.fit(X_subset, y)\n",
    "model.score(X_subset, y)\n",
    "print(\"Error:   %0.3f\" % (1 - model.score(X_subset, y)))\n",
    "display_tree(X_subset.columns, model)"
   ]
  },
  {
   "cell_type": "code",
   "execution_count": 9,
   "metadata": {},
   "outputs": [
    {
     "data": {
      "image/png": "[encoded data removed]",
      "text/plain": [
       "<Figure size 432x288 with 1 Axes>"
      ]
     },
     "metadata": {
      "needs_background": "light"
     },
     "output_type": "display_data"
    }
   ],
   "source": [
    "plot_classifier(X_subset.to_numpy(), y.to_numpy(), model, ticks=True, lims=(70,105,70,105))\n",
    "plt.xlabel(\"lab4\")\n",
    "plt.ylabel(\"quiz1\")\n",
    "plt.title(\"Decision tree with depth = %d\" % (depth));"
   ]
  },
  {
   "cell_type": "markdown",
   "metadata": {
    "slideshow": {
     "slide_type": "slide"
    }
   },
   "source": [
    "### Trees with different depths \n",
    "\n",
    "- Let's examine how does the decision boundary change for different tree depths. "
   ]
  },
  {
   "cell_type": "markdown",
   "metadata": {
    "slideshow": {
     "slide_type": "slide"
    }
   },
   "source": [
    "In the following model, this decision boundary is created by asking two questions. "
   ]
  },
  {
   "cell_type": "code",
   "execution_count": 10,
   "metadata": {},
   "outputs": [
    {
     "name": "stdout",
     "output_type": "stream",
     "text": [
      "Error:   0.190\n"
     ]
    },
    {
     "data": {
      "image/svg+xml": [
       "<?xml version=\"1.0\" encoding=\"UTF-8\" standalone=\"no\"?>\n",
       "<!DOCTYPE svg PUBLIC \"-//W3C//DTD SVG 1.1//EN\"\n",
       " \"http://www.w3.org/Graphics/SVG/1.1/DTD/svg11.dtd\">\n",
       "<!-- Generated by graphviz version 2.42.3 (20191010.1750)\n",
       " -->\n",
       "<!-- Title: Tree Pages: 1 -->\n",
       "<svg width=\"264pt\" height=\"192pt\"\n",
       " viewBox=\"0.00 0.00 263.50 192.00\" xmlns=\"http://www.w3.org/2000/svg\" xmlns:xlink=\"http://www.w3.org/1999/xlink\">\n",
       "<g id=\"graph0\" class=\"graph\" transform=\"scale(1 1) rotate(0) translate(4 188)\">\n",
       "<title>Tree</title>\n",
       "<polygon fill=\"white\" stroke=\"transparent\" points=\"-4,4 -4,-188 259.5,-188 259.5,4 -4,4\"/>\n",
       "<!-- 0 -->\n",
       "<g id=\"node1\" class=\"node\">\n",
       "<title>0</title>\n",
       "<polygon fill=\"none\" stroke=\"black\" points=\"155,-184 57,-184 57,-146 155,-146 155,-184\"/>\n",
       "<text text-anchor=\"middle\" x=\"106\" y=\"-168.8\" font-family=\"Times,serif\" font-size=\"14.00\">lab4 &lt;= 84.5</text>\n",
       "<text text-anchor=\"middle\" x=\"106\" y=\"-153.8\" font-family=\"Times,serif\" font-size=\"14.00\">class = not A+</text>\n",
       "</g>\n",
       "<!-- 1 -->\n",
       "<g id=\"node2\" class=\"node\">\n",
       "<title>1</title>\n",
       "<polygon fill=\"none\" stroke=\"black\" points=\"98,-109 0,-109 0,-73 98,-73 98,-109\"/>\n",
       "<text text-anchor=\"middle\" x=\"49\" y=\"-87.3\" font-family=\"Times,serif\" font-size=\"14.00\">class = not A+</text>\n",
       "</g>\n",
       "<!-- 0&#45;&gt;1 -->\n",
       "<g id=\"edge1\" class=\"edge\">\n",
       "<title>0&#45;&gt;1</title>\n",
       "<path fill=\"none\" stroke=\"black\" d=\"M91.62,-145.83C84.78,-137.2 76.49,-126.73 69.05,-117.33\"/>\n",
       "<polygon fill=\"black\" stroke=\"black\" points=\"71.74,-115.09 62.79,-109.42 66.25,-119.43 71.74,-115.09\"/>\n",
       "<text text-anchor=\"middle\" x=\"59.9\" y=\"-130.55\" font-family=\"Times,serif\" font-size=\"14.00\">True</text>\n",
       "</g>\n",
       "<!-- 2 -->\n",
       "<g id=\"node3\" class=\"node\">\n",
       "<title>2</title>\n",
       "<polygon fill=\"none\" stroke=\"black\" points=\"211.5,-110 116.5,-110 116.5,-72 211.5,-72 211.5,-110\"/>\n",
       "<text text-anchor=\"middle\" x=\"164\" y=\"-94.8\" font-family=\"Times,serif\" font-size=\"14.00\">quiz1 &lt;= 83.5</text>\n",
       "<text text-anchor=\"middle\" x=\"164\" y=\"-79.8\" font-family=\"Times,serif\" font-size=\"14.00\">class = A+</text>\n",
       "</g>\n",
       "<!-- 0&#45;&gt;2 -->\n",
       "<g id=\"edge2\" class=\"edge\">\n",
       "<title>0&#45;&gt;2</title>\n",
       "<path fill=\"none\" stroke=\"black\" d=\"M120.64,-145.83C127.32,-137.54 135.36,-127.56 142.69,-118.45\"/>\n",
       "<polygon fill=\"black\" stroke=\"black\" points=\"145.62,-120.4 149.17,-110.41 140.17,-116.01 145.62,-120.4\"/>\n",
       "<text text-anchor=\"middle\" x=\"151.84\" y=\"-131.57\" font-family=\"Times,serif\" font-size=\"14.00\">False</text>\n",
       "</g>\n",
       "<!-- 3 -->\n",
       "<g id=\"node4\" class=\"node\">\n",
       "<title>3</title>\n",
       "<polygon fill=\"none\" stroke=\"black\" points=\"160,-36 62,-36 62,0 160,0 160,-36\"/>\n",
       "<text text-anchor=\"middle\" x=\"111\" y=\"-14.3\" font-family=\"Times,serif\" font-size=\"14.00\">class = not A+</text>\n",
       "</g>\n",
       "<!-- 2&#45;&gt;3 -->\n",
       "<g id=\"edge3\" class=\"edge\">\n",
       "<title>2&#45;&gt;3</title>\n",
       "<path fill=\"none\" stroke=\"black\" d=\"M150.35,-71.72C144.06,-63.29 136.49,-53.15 129.68,-44.02\"/>\n",
       "<polygon fill=\"black\" stroke=\"black\" points=\"132.48,-41.92 123.69,-36 126.87,-46.11 132.48,-41.92\"/>\n",
       "</g>\n",
       "<!-- 4 -->\n",
       "<g id=\"node5\" class=\"node\">\n",
       "<title>4</title>\n",
       "<polygon fill=\"none\" stroke=\"black\" points=\"255.5,-36 178.5,-36 178.5,0 255.5,0 255.5,-36\"/>\n",
       "<text text-anchor=\"middle\" x=\"217\" y=\"-14.3\" font-family=\"Times,serif\" font-size=\"14.00\">class = A+</text>\n",
       "</g>\n",
       "<!-- 2&#45;&gt;4 -->\n",
       "<g id=\"edge4\" class=\"edge\">\n",
       "<title>2&#45;&gt;4</title>\n",
       "<path fill=\"none\" stroke=\"black\" d=\"M177.65,-71.72C183.94,-63.29 191.51,-53.15 198.32,-44.02\"/>\n",
       "<polygon fill=\"black\" stroke=\"black\" points=\"201.13,-46.11 204.31,-36 195.52,-41.92 201.13,-46.11\"/>\n",
       "</g>\n",
       "</g>\n",
       "</svg>\n"
      ],
      "text/plain": [
       "<graphviz.files.Source at 0x7f83a6045a90>"
      ]
     },
     "execution_count": 10,
     "metadata": {},
     "output_type": "execute_result"
    }
   ],
   "source": [
    "depth = 2\n",
    "model = DecisionTreeClassifier(max_depth=depth)\n",
    "model.fit(X_subset, y)\n",
    "print(\"Error:   %0.3f\" % (1 - model.score(X_subset, y)))\n",
    "display_tree(X_subset.columns, model)"
   ]
  },
  {
   "cell_type": "code",
   "execution_count": 11,
   "metadata": {},
   "outputs": [
    {
     "data": {
      "image/png": "[encoded data removed]",
      "text/plain": [
       "<Figure size 432x288 with 1 Axes>"
      ]
     },
     "metadata": {
      "needs_background": "light"
     },
     "output_type": "display_data"
    }
   ],
   "source": [
    "plot_classifier(X_subset.to_numpy(), y.to_numpy(), model, ticks=True, lims=(70,105,70,105))\n",
    "plt.xlabel(\"lab4\")\n",
    "plt.ylabel(\"quiz1\")\n",
    "plt.title(\"Decision tree with depth = %d\" % (depth));"
   ]
  },
  {
   "cell_type": "markdown",
   "metadata": {
    "slideshow": {
     "slide_type": "slide"
    }
   },
   "source": [
    "Let's look at the decision boundary with depth = 4. "
   ]
  },
  {
   "cell_type": "code",
   "execution_count": 12,
   "metadata": {
    "slideshow": {
     "slide_type": "-"
    }
   },
   "outputs": [
    {
     "name": "stdout",
     "output_type": "stream",
     "text": [
      "Error:   0.048\n"
     ]
    },
    {
     "data": {
      "image/svg+xml": [
       "<?xml version=\"1.0\" encoding=\"UTF-8\" standalone=\"no\"?>\n",
       "<!DOCTYPE svg PUBLIC \"-//W3C//DTD SVG 1.1//EN\"\n",
       " \"http://www.w3.org/Graphics/SVG/1.1/DTD/svg11.dtd\">\n",
       "<!-- Generated by graphviz version 2.42.3 (20191010.1750)\n",
       " -->\n",
       "<!-- Title: Tree Pages: 1 -->\n",
       "<svg width=\"463pt\" height=\"340pt\"\n",
       " viewBox=\"0.00 0.00 462.50 340.00\" xmlns=\"http://www.w3.org/2000/svg\" xmlns:xlink=\"http://www.w3.org/1999/xlink\">\n",
       "<g id=\"graph0\" class=\"graph\" transform=\"scale(1 1) rotate(0) translate(4 336)\">\n",
       "<title>Tree</title>\n",
       "<polygon fill=\"white\" stroke=\"transparent\" points=\"-4,4 -4,-336 458.5,-336 458.5,4 -4,4\"/>\n",
       "<!-- 0 -->\n",
       "<g id=\"node1\" class=\"node\">\n",
       "<title>0</title>\n",
       "<polygon fill=\"none\" stroke=\"black\" points=\"250,-332 152,-332 152,-294 250,-294 250,-332\"/>\n",
       "<text text-anchor=\"middle\" x=\"201\" y=\"-316.8\" font-family=\"Times,serif\" font-size=\"14.00\">lab4 &lt;= 84.5</text>\n",
       "<text text-anchor=\"middle\" x=\"201\" y=\"-301.8\" font-family=\"Times,serif\" font-size=\"14.00\">class = not A+</text>\n",
       "</g>\n",
       "<!-- 1 -->\n",
       "<g id=\"node2\" class=\"node\">\n",
       "<title>1</title>\n",
       "<polygon fill=\"none\" stroke=\"black\" points=\"193,-257 95,-257 95,-221 193,-221 193,-257\"/>\n",
       "<text text-anchor=\"middle\" x=\"144\" y=\"-235.3\" font-family=\"Times,serif\" font-size=\"14.00\">class = not A+</text>\n",
       "</g>\n",
       "<!-- 0&#45;&gt;1 -->\n",
       "<g id=\"edge1\" class=\"edge\">\n",
       "<title>0&#45;&gt;1</title>\n",
       "<path fill=\"none\" stroke=\"black\" d=\"M186.62,-293.83C179.78,-285.2 171.49,-274.73 164.05,-265.33\"/>\n",
       "<polygon fill=\"black\" stroke=\"black\" points=\"166.74,-263.09 157.79,-257.42 161.25,-267.43 166.74,-263.09\"/>\n",
       "<text text-anchor=\"middle\" x=\"154.9\" y=\"-278.55\" font-family=\"Times,serif\" font-size=\"14.00\">True</text>\n",
       "</g>\n",
       "<!-- 2 -->\n",
       "<g id=\"node3\" class=\"node\">\n",
       "<title>2</title>\n",
       "<polygon fill=\"none\" stroke=\"black\" points=\"306.5,-258 211.5,-258 211.5,-220 306.5,-220 306.5,-258\"/>\n",
       "<text text-anchor=\"middle\" x=\"259\" y=\"-242.8\" font-family=\"Times,serif\" font-size=\"14.00\">quiz1 &lt;= 83.5</text>\n",
       "<text text-anchor=\"middle\" x=\"259\" y=\"-227.8\" font-family=\"Times,serif\" font-size=\"14.00\">class = A+</text>\n",
       "</g>\n",
       "<!-- 0&#45;&gt;2 -->\n",
       "<g id=\"edge2\" class=\"edge\">\n",
       "<title>0&#45;&gt;2</title>\n",
       "<path fill=\"none\" stroke=\"black\" d=\"M215.64,-293.83C222.32,-285.54 230.36,-275.56 237.69,-266.45\"/>\n",
       "<polygon fill=\"black\" stroke=\"black\" points=\"240.62,-268.4 244.17,-258.41 235.17,-264.01 240.62,-268.4\"/>\n",
       "<text text-anchor=\"middle\" x=\"246.84\" y=\"-279.57\" font-family=\"Times,serif\" font-size=\"14.00\">False</text>\n",
       "</g>\n",
       "<!-- 3 -->\n",
       "<g id=\"node4\" class=\"node\">\n",
       "<title>3</title>\n",
       "<polygon fill=\"none\" stroke=\"black\" points=\"253,-184 155,-184 155,-146 253,-146 253,-184\"/>\n",
       "<text text-anchor=\"middle\" x=\"204\" y=\"-168.8\" font-family=\"Times,serif\" font-size=\"14.00\">quiz1 &lt;= 79.0</text>\n",
       "<text text-anchor=\"middle\" x=\"204\" y=\"-153.8\" font-family=\"Times,serif\" font-size=\"14.00\">class = not A+</text>\n",
       "</g>\n",
       "<!-- 2&#45;&gt;3 -->\n",
       "<g id=\"edge3\" class=\"edge\">\n",
       "<title>2&#45;&gt;3</title>\n",
       "<path fill=\"none\" stroke=\"black\" d=\"M245.12,-219.83C238.79,-211.54 231.16,-201.56 224.21,-192.45\"/>\n",
       "<polygon fill=\"black\" stroke=\"black\" points=\"226.92,-190.24 218.07,-184.41 221.35,-194.48 226.92,-190.24\"/>\n",
       "</g>\n",
       "<!-- 8 -->\n",
       "<g id=\"node9\" class=\"node\">\n",
       "<title>8</title>\n",
       "<polygon fill=\"none\" stroke=\"black\" points=\"359,-184 271,-184 271,-146 359,-146 359,-184\"/>\n",
       "<text text-anchor=\"middle\" x=\"315\" y=\"-168.8\" font-family=\"Times,serif\" font-size=\"14.00\">lab4 &lt;= 94.5</text>\n",
       "<text text-anchor=\"middle\" x=\"315\" y=\"-153.8\" font-family=\"Times,serif\" font-size=\"14.00\">class = A+</text>\n",
       "</g>\n",
       "<!-- 2&#45;&gt;8 -->\n",
       "<g id=\"edge8\" class=\"edge\">\n",
       "<title>2&#45;&gt;8</title>\n",
       "<path fill=\"none\" stroke=\"black\" d=\"M273.13,-219.83C279.58,-211.54 287.34,-201.56 294.43,-192.45\"/>\n",
       "<polygon fill=\"black\" stroke=\"black\" points=\"297.3,-194.46 300.68,-184.41 291.78,-190.16 297.3,-194.46\"/>\n",
       "</g>\n",
       "<!-- 4 -->\n",
       "<g id=\"node5\" class=\"node\">\n",
       "<title>4</title>\n",
       "<polygon fill=\"none\" stroke=\"black\" points=\"136.5,-110 41.5,-110 41.5,-72 136.5,-72 136.5,-110\"/>\n",
       "<text text-anchor=\"middle\" x=\"89\" y=\"-94.8\" font-family=\"Times,serif\" font-size=\"14.00\">quiz1 &lt;= 74.0</text>\n",
       "<text text-anchor=\"middle\" x=\"89\" y=\"-79.8\" font-family=\"Times,serif\" font-size=\"14.00\">class = A+</text>\n",
       "</g>\n",
       "<!-- 3&#45;&gt;4 -->\n",
       "<g id=\"edge4\" class=\"edge\">\n",
       "<title>3&#45;&gt;4</title>\n",
       "<path fill=\"none\" stroke=\"black\" d=\"M174.98,-145.83C160.27,-136.62 142.24,-125.33 126.49,-115.47\"/>\n",
       "<polygon fill=\"black\" stroke=\"black\" points=\"128.34,-112.5 118.01,-110.16 124.63,-118.44 128.34,-112.5\"/>\n",
       "</g>\n",
       "<!-- 7 -->\n",
       "<g id=\"node8\" class=\"node\">\n",
       "<title>7</title>\n",
       "<polygon fill=\"none\" stroke=\"black\" points=\"253,-109 155,-109 155,-73 253,-73 253,-109\"/>\n",
       "<text text-anchor=\"middle\" x=\"204\" y=\"-87.3\" font-family=\"Times,serif\" font-size=\"14.00\">class = not A+</text>\n",
       "</g>\n",
       "<!-- 3&#45;&gt;7 -->\n",
       "<g id=\"edge7\" class=\"edge\">\n",
       "<title>3&#45;&gt;7</title>\n",
       "<path fill=\"none\" stroke=\"black\" d=\"M204,-145.83C204,-137.89 204,-128.41 204,-119.63\"/>\n",
       "<polygon fill=\"black\" stroke=\"black\" points=\"207.5,-119.42 204,-109.42 200.5,-119.42 207.5,-119.42\"/>\n",
       "</g>\n",
       "<!-- 5 -->\n",
       "<g id=\"node6\" class=\"node\">\n",
       "<title>5</title>\n",
       "<polygon fill=\"none\" stroke=\"black\" points=\"98,-36 0,-36 0,0 98,0 98,-36\"/>\n",
       "<text text-anchor=\"middle\" x=\"49\" y=\"-14.3\" font-family=\"Times,serif\" font-size=\"14.00\">class = not A+</text>\n",
       "</g>\n",
       "<!-- 4&#45;&gt;5 -->\n",
       "<g id=\"edge5\" class=\"edge\">\n",
       "<title>4&#45;&gt;5</title>\n",
       "<path fill=\"none\" stroke=\"black\" d=\"M78.7,-71.72C74.09,-63.54 68.59,-53.76 63.57,-44.86\"/>\n",
       "<polygon fill=\"black\" stroke=\"black\" points=\"66.54,-43 58.58,-36 60.44,-46.43 66.54,-43\"/>\n",
       "</g>\n",
       "<!-- 6 -->\n",
       "<g id=\"node7\" class=\"node\">\n",
       "<title>6</title>\n",
       "<polygon fill=\"none\" stroke=\"black\" points=\"193.5,-36 116.5,-36 116.5,0 193.5,0 193.5,-36\"/>\n",
       "<text text-anchor=\"middle\" x=\"155\" y=\"-14.3\" font-family=\"Times,serif\" font-size=\"14.00\">class = A+</text>\n",
       "</g>\n",
       "<!-- 4&#45;&gt;6 -->\n",
       "<g id=\"edge6\" class=\"edge\">\n",
       "<title>4&#45;&gt;6</title>\n",
       "<path fill=\"none\" stroke=\"black\" d=\"M106,-71.72C113.99,-63.11 123.64,-52.73 132.26,-43.46\"/>\n",
       "<polygon fill=\"black\" stroke=\"black\" points=\"134.95,-45.71 139.19,-36 129.82,-40.94 134.95,-45.71\"/>\n",
       "</g>\n",
       "<!-- 9 -->\n",
       "<g id=\"node10\" class=\"node\">\n",
       "<title>9</title>\n",
       "<polygon fill=\"none\" stroke=\"black\" points=\"359,-110 271,-110 271,-72 359,-72 359,-110\"/>\n",
       "<text text-anchor=\"middle\" x=\"315\" y=\"-94.8\" font-family=\"Times,serif\" font-size=\"14.00\">lab4 &lt;= 93.0</text>\n",
       "<text text-anchor=\"middle\" x=\"315\" y=\"-79.8\" font-family=\"Times,serif\" font-size=\"14.00\">class = A+</text>\n",
       "</g>\n",
       "<!-- 8&#45;&gt;9 -->\n",
       "<g id=\"edge9\" class=\"edge\">\n",
       "<title>8&#45;&gt;9</title>\n",
       "<path fill=\"none\" stroke=\"black\" d=\"M315,-145.83C315,-138.13 315,-128.97 315,-120.42\"/>\n",
       "<polygon fill=\"black\" stroke=\"black\" points=\"318.5,-120.41 315,-110.41 311.5,-120.41 318.5,-120.41\"/>\n",
       "</g>\n",
       "<!-- 12 -->\n",
       "<g id=\"node13\" class=\"node\">\n",
       "<title>12</title>\n",
       "<polygon fill=\"none\" stroke=\"black\" points=\"454.5,-109 377.5,-109 377.5,-73 454.5,-73 454.5,-109\"/>\n",
       "<text text-anchor=\"middle\" x=\"416\" y=\"-87.3\" font-family=\"Times,serif\" font-size=\"14.00\">class = A+</text>\n",
       "</g>\n",
       "<!-- 8&#45;&gt;12 -->\n",
       "<g id=\"edge12\" class=\"edge\">\n",
       "<title>8&#45;&gt;12</title>\n",
       "<path fill=\"none\" stroke=\"black\" d=\"M340.49,-145.83C353.55,-136.52 369.61,-125.07 383.55,-115.13\"/>\n",
       "<polygon fill=\"black\" stroke=\"black\" points=\"385.8,-117.83 391.91,-109.17 381.74,-112.13 385.8,-117.83\"/>\n",
       "</g>\n",
       "<!-- 10 -->\n",
       "<g id=\"node11\" class=\"node\">\n",
       "<title>10</title>\n",
       "<polygon fill=\"none\" stroke=\"black\" points=\"320.5,-36 243.5,-36 243.5,0 320.5,0 320.5,-36\"/>\n",
       "<text text-anchor=\"middle\" x=\"282\" y=\"-14.3\" font-family=\"Times,serif\" font-size=\"14.00\">class = A+</text>\n",
       "</g>\n",
       "<!-- 9&#45;&gt;10 -->\n",
       "<g id=\"edge10\" class=\"edge\">\n",
       "<title>9&#45;&gt;10</title>\n",
       "<path fill=\"none\" stroke=\"black\" d=\"M306.5,-71.72C302.74,-63.63 298.25,-53.97 294.15,-45.14\"/>\n",
       "<polygon fill=\"black\" stroke=\"black\" points=\"297.29,-43.6 289.9,-36 290.94,-46.55 297.29,-43.6\"/>\n",
       "</g>\n",
       "<!-- 11 -->\n",
       "<g id=\"node12\" class=\"node\">\n",
       "<title>11</title>\n",
       "<polygon fill=\"none\" stroke=\"black\" points=\"437,-36 339,-36 339,0 437,0 437,-36\"/>\n",
       "<text text-anchor=\"middle\" x=\"388\" y=\"-14.3\" font-family=\"Times,serif\" font-size=\"14.00\">class = not A+</text>\n",
       "</g>\n",
       "<!-- 9&#45;&gt;11 -->\n",
       "<g id=\"edge11\" class=\"edge\">\n",
       "<title>9&#45;&gt;11</title>\n",
       "<path fill=\"none\" stroke=\"black\" d=\"M333.8,-71.72C342.73,-63.03 353.53,-52.52 363.13,-43.19\"/>\n",
       "<polygon fill=\"black\" stroke=\"black\" points=\"365.79,-45.48 370.52,-36 360.91,-40.47 365.79,-45.48\"/>\n",
       "</g>\n",
       "</g>\n",
       "</svg>\n"
      ],
      "text/plain": [
       "<graphviz.files.Source at 0x7f83a6024e80>"
      ]
     },
     "execution_count": 12,
     "metadata": {},
     "output_type": "execute_result"
    }
   ],
   "source": [
    "depth = 4\n",
    "model = DecisionTreeClassifier(max_depth=depth)\n",
    "model.fit(X_subset, y)\n",
    "print(\"Error:   %0.3f\" % (1 - model.score(X_subset, y)))\n",
    "display_tree(X_subset.columns, model)"
   ]
  },
  {
   "cell_type": "code",
   "execution_count": 13,
   "metadata": {
    "slideshow": {
     "slide_type": "-"
    }
   },
   "outputs": [
    {
     "data": {
      "text/plain": [
       "<Figure size 288x288 with 0 Axes>"
      ]
     },
     "metadata": {},
     "output_type": "display_data"
    },
    {
     "data": {
      "image/png": "[encoded data removed]",
      "text/plain": [
       "<Figure size 432x288 with 1 Axes>"
      ]
     },
     "metadata": {
      "needs_background": "light"
     },
     "output_type": "display_data"
    }
   ],
   "source": [
    "plt.figure(figsize=(4, 4))\n",
    "plot_classifier(X_subset.to_numpy(), y.to_numpy(), model, ticks=True, lims=(70,105,70,105))\n",
    "plt.xlabel(\"lab4\")\n",
    "plt.ylabel(\"quiz1\")\n",
    "plt.title(\"Decision tree with depth = %d\" % (depth));"
   ]
  },
  {
   "cell_type": "markdown",
   "metadata": {
    "slideshow": {
     "slide_type": "slide"
    }
   },
   "source": [
    "Let's look at the decision boundary with depth = 10. "
   ]
  },
  {
   "cell_type": "code",
   "execution_count": 14,
   "metadata": {
    "slideshow": {
     "slide_type": "-"
    }
   },
   "outputs": [
    {
     "name": "stdout",
     "output_type": "stream",
     "text": [
      "Error:   0.000\n"
     ]
    }
   ],
   "source": [
    "depth = 10\n",
    "model = DecisionTreeClassifier(max_depth=depth)\n",
    "model.fit(X_subset, y)\n",
    "print(\"Error:   %0.3f\" % (1 - model.score(X_subset, y)))\n",
    "#display_tree(X_subset.columns, model)"
   ]
  },
  {
   "cell_type": "code",
   "execution_count": 15,
   "metadata": {},
   "outputs": [
    {
     "data": {
      "text/plain": [
       "<Figure size 288x288 with 0 Axes>"
      ]
     },
     "metadata": {},
     "output_type": "display_data"
    },
    {
     "data": {
      "image/png": "[encoded data removed]",
      "text/plain": [
       "<Figure size 432x288 with 1 Axes>"
      ]
     },
     "metadata": {
      "needs_background": "light"
     },
     "output_type": "display_data"
    }
   ],
   "source": [
    "plt.figure(figsize=(4, 4))\n",
    "plot_classifier(X_subset.to_numpy(), y.to_numpy(), model, ticks=True, lims=(70,105,70,105))\n",
    "plt.xlabel(\"lab4\")\n",
    "plt.ylabel(\"quiz1\")\n",
    "plt.title(\"Decision tree with depth = %d\" % (depth));"
   ]
  },
  {
   "cell_type": "markdown",
   "metadata": {},
   "source": [
    "- Our model has 0% error!! \n",
    "- But it's also becoming more and more specific and sensitive to the training data.  \n",
    "- Is it good or bad?"
   ]
  },
  {
   "cell_type": "markdown",
   "metadata": {
    "slideshow": {
     "slide_type": "slide"
    }
   },
   "source": [
    "### Fundamental goal of ML\n",
    "\n",
    "- **To generalize beyond what we see in the training examples**\n",
    "- Example: Imagine that a learner sees the following images and corresponding labels. \n",
    "\n",
    "<img src='images/generalization-train.png' width=\"600\" height=\"600\" />\n"
   ]
  },
  {
   "cell_type": "markdown",
   "metadata": {
    "slideshow": {
     "slide_type": "slide"
    }
   },
   "source": [
    "### Generalizing to unseen data\n",
    "\n",
    "- Now the learner is presented with new images (1 to 4) for prediction. \n",
    "- What prediction would you expect for each image?   \n",
    "\n",
    "<img src='images/generalization-predict.png' width=\"1000\" height=\"1000\" />"
   ]
  },
  {
   "cell_type": "markdown",
   "metadata": {
    "slideshow": {
     "slide_type": "slide"
    }
   },
   "source": [
    "### Generalizing to unseen data\n",
    "\n",
    "- Goal: We want the learner to be able to generalize beyond what it has seen in the training data.\n",
    "- But these new examples should be representative of the training data. \n",
    "    - For instance, is it fair to expect the learner to label image 4 correctly?\n",
    "    \n",
    "<img src='images/generalization-predict.png' width=\"800\" height=\"800\" />"
   ]
  },
  {
   "cell_type": "markdown",
   "metadata": {
    "slideshow": {
     "slide_type": "slide"
    }
   },
   "source": [
    "## Training error vs Generalization error \n",
    "\n",
    "- Given a model $M$, in ML, people usually talk about two kinds of errors of $M$. \n",
    "    1. Error on the training data: $error_{training}(M)$ \n",
    "    2. Error on the entire distribution $D$ of data: $error_{D}(M)$\n",
    "- We are interested in the error on the entire distribution     \n",
    "    - But we do not have access to the entire distribution ... "
   ]
  },
  {
   "cell_type": "markdown",
   "metadata": {
    "slideshow": {
     "slide_type": "slide"
    }
   },
   "source": [
    "## 2. Data Splitting <a name=\"2\"></a>"
   ]
  },
  {
   "cell_type": "markdown",
   "metadata": {
    "slideshow": {
     "slide_type": "slide"
    }
   },
   "source": [
    "### How to approximate generalization error? \n",
    "\n",
    "A common way is **data splitting**. \n",
    "- Keep aside some randomly selected portion from the training data.\n",
    "- `fit` (train) a model on the training portion only. \n",
    "- `score` (assess) the trained model on this set aside data to get a sense of how well the model would be able to generalize.\n",
    "- Pretend that the kept aside data is representative of the real distribution $D$ of data. "
   ]
  },
  {
   "cell_type": "code",
   "execution_count": 16,
   "metadata": {
    "slideshow": {
     "slide_type": "slide"
    }
   },
   "outputs": [
    {
     "name": "stderr",
     "output_type": "stream",
     "text": [
      "/Users/kvarada/opt/miniconda3/envs/571/lib/python3.8/site-packages/IPython/core/display.py:717: UserWarning: Consider using IPython.display.IFrame instead\n",
      "  warnings.warn(\"Consider using IPython.display.IFrame instead\")\n"
     ]
    },
    {
     "data": {
      "text/html": [
       "<iframe src=https://scikit-learn.org/stable/modules/generated/sklearn.model_selection.train_test_split.html width=1000 height=650></iframe>"
      ],
      "text/plain": [
       "<IPython.core.display.HTML object>"
      ]
     },
     "execution_count": 16,
     "metadata": {},
     "output_type": "execute_result"
    }
   ],
   "source": [
    "# scikit-learn train_test_split\n",
    "url = \"https://scikit-learn.org/stable/modules/generated/sklearn.model_selection.train_test_split.html\"\n",
    "HTML(\"<iframe src=%s width=1000 height=650></iframe>\" % url)"
   ]
  },
  {
   "cell_type": "markdown",
   "metadata": {
    "slideshow": {
     "slide_type": "-"
    }
   },
   "source": [
    "- We can pass `X` and `y` or a dataframe with both `X` and `y` in it. \n",
    "- We can also specify the train or test split sizes. "
   ]
  },
  {
   "cell_type": "markdown",
   "metadata": {
    "slideshow": {
     "slide_type": "slide"
    }
   },
   "source": [
    "### Simple train/test split \n",
    "\n",
    "- The picture shows an 80%-20% split of a toy dataset with 10 examples. \n",
    "- The data is shuffled before splitting. \n",
    "- Usually when we do machine learning we split the data before doing anything and put the test data in an imaginary chest lock. \n",
    "\n",
    "<img src='images/train-test-split.png' width=\"1500\" height=\"1500\" />"
   ]
  },
  {
   "cell_type": "code",
   "execution_count": 17,
   "metadata": {
    "slideshow": {
     "slide_type": "slide"
    }
   },
   "outputs": [
    {
     "data": {
      "text/html": [
       "<div>\n",
       "<style scoped>\n",
       "    .dataframe tbody tr th:only-of-type {\n",
       "        vertical-align: middle;\n",
       "    }\n",
       "\n",
       "    .dataframe tbody tr th {\n",
       "        vertical-align: top;\n",
       "    }\n",
       "\n",
       "    .dataframe thead th {\n",
       "        text-align: right;\n",
       "    }\n",
       "</style>\n",
       "<table border=\"1\" class=\"dataframe\">\n",
       "  <thead>\n",
       "    <tr style=\"text-align: right;\">\n",
       "      <th></th>\n",
       "      <th>longitude</th>\n",
       "      <th>latitude</th>\n",
       "    </tr>\n",
       "  </thead>\n",
       "  <tbody>\n",
       "    <tr>\n",
       "      <th>0</th>\n",
       "      <td>-130.0437</td>\n",
       "      <td>55.9773</td>\n",
       "    </tr>\n",
       "    <tr>\n",
       "      <th>1</th>\n",
       "      <td>-134.4197</td>\n",
       "      <td>58.3019</td>\n",
       "    </tr>\n",
       "    <tr>\n",
       "      <th>2</th>\n",
       "      <td>-123.0780</td>\n",
       "      <td>48.9854</td>\n",
       "    </tr>\n",
       "    <tr>\n",
       "      <th>3</th>\n",
       "      <td>-122.7436</td>\n",
       "      <td>48.9881</td>\n",
       "    </tr>\n",
       "    <tr>\n",
       "      <th>4</th>\n",
       "      <td>-122.2691</td>\n",
       "      <td>48.9951</td>\n",
       "    </tr>\n",
       "    <tr>\n",
       "      <th>...</th>\n",
       "      <td>...</td>\n",
       "      <td>...</td>\n",
       "    </tr>\n",
       "    <tr>\n",
       "      <th>204</th>\n",
       "      <td>-72.7218</td>\n",
       "      <td>45.3990</td>\n",
       "    </tr>\n",
       "    <tr>\n",
       "      <th>205</th>\n",
       "      <td>-66.6458</td>\n",
       "      <td>45.9664</td>\n",
       "    </tr>\n",
       "    <tr>\n",
       "      <th>206</th>\n",
       "      <td>-79.2506</td>\n",
       "      <td>42.9931</td>\n",
       "    </tr>\n",
       "    <tr>\n",
       "      <th>207</th>\n",
       "      <td>-72.9406</td>\n",
       "      <td>45.6275</td>\n",
       "    </tr>\n",
       "    <tr>\n",
       "      <th>208</th>\n",
       "      <td>-79.4608</td>\n",
       "      <td>46.3092</td>\n",
       "    </tr>\n",
       "  </tbody>\n",
       "</table>\n",
       "<p>209 rows × 2 columns</p>\n",
       "</div>"
      ],
      "text/plain": [
       "     longitude  latitude\n",
       "0    -130.0437   55.9773\n",
       "1    -134.4197   58.3019\n",
       "2    -123.0780   48.9854\n",
       "3    -122.7436   48.9881\n",
       "4    -122.2691   48.9951\n",
       "..         ...       ...\n",
       "204   -72.7218   45.3990\n",
       "205   -66.6458   45.9664\n",
       "206   -79.2506   42.9931\n",
       "207   -72.9406   45.6275\n",
       "208   -79.4608   46.3092\n",
       "\n",
       "[209 rows x 2 columns]"
      ]
     },
     "execution_count": 17,
     "metadata": {},
     "output_type": "execute_result"
    }
   ],
   "source": [
    "# Let's demonstrate this with the canada usa cities data\n",
    "# The data is available in the data directory \n",
    "df = pd.read_csv(\"data/canada_usa_cities.csv\")\n",
    "X = df.drop(columns=[\"country\"])\n",
    "y = df[\"country\"]\n",
    "X"
   ]
  },
  {
   "cell_type": "code",
   "execution_count": 18,
   "metadata": {},
   "outputs": [
    {
     "data": {
      "text/plain": [
       "0         USA\n",
       "1         USA\n",
       "2         USA\n",
       "3         USA\n",
       "4         USA\n",
       "        ...  \n",
       "204    Canada\n",
       "205    Canada\n",
       "206    Canada\n",
       "207    Canada\n",
       "208    Canada\n",
       "Name: country, Length: 209, dtype: object"
      ]
     },
     "execution_count": 18,
     "metadata": {},
     "output_type": "execute_result"
    }
   ],
   "source": [
    "y"
   ]
  },
  {
   "cell_type": "code",
   "execution_count": 19,
   "metadata": {
    "slideshow": {
     "slide_type": "slide"
    }
   },
   "outputs": [
    {
     "data": {
      "text/html": [
       "<table border=\"1\" class=\"dataframe\">\n",
       "  <thead>\n",
       "    <tr style=\"text-align: right;\">\n",
       "      <th>Data portion</th>\n",
       "      <th>Shape</th>\n",
       "    </tr>\n",
       "  </thead>\n",
       "  <tbody>\n",
       "    <tr>\n",
       "      <td>X</td>\n",
       "      <td>(209, 2)</td>\n",
       "    </tr>\n",
       "    <tr>\n",
       "      <td>y</td>\n",
       "      <td>(209,)</td>\n",
       "    </tr>\n",
       "    <tr>\n",
       "      <td>X_train</td>\n",
       "      <td>(167, 2)</td>\n",
       "    </tr>\n",
       "    <tr>\n",
       "      <td>y_train</td>\n",
       "      <td>(167,)</td>\n",
       "    </tr>\n",
       "    <tr>\n",
       "      <td>X_test</td>\n",
       "      <td>(42, 2)</td>\n",
       "    </tr>\n",
       "    <tr>\n",
       "      <td>y_test</td>\n",
       "      <td>(42,)</td>\n",
       "    </tr>\n",
       "  </tbody>\n",
       "</table>"
      ],
      "text/plain": [
       "<IPython.core.display.HTML object>"
      ]
     },
     "execution_count": 19,
     "metadata": {},
     "output_type": "execute_result"
    }
   ],
   "source": [
    "from sklearn.model_selection import train_test_split\n",
    "\n",
    "X_train, X_test, y_train, y_test = train_test_split(\n",
    "    X, y, test_size=0.2, random_state=123\n",
    ") # 80%-20% train test split on X and y\n",
    "\n",
    "# Print shapes\n",
    "shape_dict = {\n",
    "    \"Data portion\": [\"X\", \"y\", \"X_train\", \"y_train\", \"X_test\", \"y_test\"],\n",
    "    \"Shape\": [\n",
    "        X.shape,\n",
    "        y.shape,\n",
    "        X_train.shape,\n",
    "        y_train.shape,\n",
    "        X_test.shape,\n",
    "        y_test.shape,\n",
    "    ],\n",
    "}\n",
    "\n",
    "shape_df = pd.DataFrame(shape_dict)\n",
    "HTML(shape_df.to_html(index=False))"
   ]
  },
  {
   "cell_type": "markdown",
   "metadata": {
    "slideshow": {
     "slide_type": "slide"
    }
   },
   "source": [
    "### Creating `train_df` and `test_df`\n",
    "\n",
    "- Sometimes we want to keep the target in the train split for EDA or for visualization. "
   ]
  },
  {
   "cell_type": "code",
   "execution_count": 20,
   "metadata": {},
   "outputs": [
    {
     "data": {
      "text/html": [
       "<div>\n",
       "<style scoped>\n",
       "    .dataframe tbody tr th:only-of-type {\n",
       "        vertical-align: middle;\n",
       "    }\n",
       "\n",
       "    .dataframe tbody tr th {\n",
       "        vertical-align: top;\n",
       "    }\n",
       "\n",
       "    .dataframe thead th {\n",
       "        text-align: right;\n",
       "    }\n",
       "</style>\n",
       "<table border=\"1\" class=\"dataframe\">\n",
       "  <thead>\n",
       "    <tr style=\"text-align: right;\">\n",
       "      <th></th>\n",
       "      <th>longitude</th>\n",
       "      <th>latitude</th>\n",
       "      <th>country</th>\n",
       "    </tr>\n",
       "  </thead>\n",
       "  <tbody>\n",
       "    <tr>\n",
       "      <th>160</th>\n",
       "      <td>-76.4813</td>\n",
       "      <td>44.2307</td>\n",
       "      <td>Canada</td>\n",
       "    </tr>\n",
       "    <tr>\n",
       "      <th>127</th>\n",
       "      <td>-81.2496</td>\n",
       "      <td>42.9837</td>\n",
       "      <td>Canada</td>\n",
       "    </tr>\n",
       "    <tr>\n",
       "      <th>169</th>\n",
       "      <td>-66.0580</td>\n",
       "      <td>45.2788</td>\n",
       "      <td>Canada</td>\n",
       "    </tr>\n",
       "    <tr>\n",
       "      <th>188</th>\n",
       "      <td>-73.2533</td>\n",
       "      <td>45.3057</td>\n",
       "      <td>Canada</td>\n",
       "    </tr>\n",
       "    <tr>\n",
       "      <th>187</th>\n",
       "      <td>-67.9245</td>\n",
       "      <td>47.1652</td>\n",
       "      <td>Canada</td>\n",
       "    </tr>\n",
       "  </tbody>\n",
       "</table>\n",
       "</div>"
      ],
      "text/plain": [
       "     longitude  latitude country\n",
       "160   -76.4813   44.2307  Canada\n",
       "127   -81.2496   42.9837  Canada\n",
       "169   -66.0580   45.2788  Canada\n",
       "188   -73.2533   45.3057  Canada\n",
       "187   -67.9245   47.1652  Canada"
      ]
     },
     "execution_count": 20,
     "metadata": {},
     "output_type": "execute_result"
    }
   ],
   "source": [
    "train_df, test_df = train_test_split(df, test_size = 0.2, random_state = 123) # 80%-20% train test split on df\n",
    "X_train, y_train = train_df.drop(columns=[\"country\"]), train_df[\"country\"] \n",
    "X_test, y_test = test_df.drop(columns=[\"country\"]), test_df[\"country\"]\n",
    "train_df.head()"
   ]
  },
  {
   "cell_type": "code",
   "execution_count": 21,
   "metadata": {},
   "outputs": [
    {
     "data": {
      "image/png": "[encoded data removed]",
      "text/plain": [
       "<Figure size 432x288 with 1 Axes>"
      ]
     },
     "metadata": {
      "needs_background": "light"
     },
     "output_type": "display_data"
    }
   ],
   "source": [
    "canada = train_df.query('country == \"Canada\"')\n",
    "usa = train_df.query('country == \"USA\"')\n",
    "plt.scatter(canada[\"longitude\"], canada[\"latitude\"], color=\"red\", alpha=0.6)\n",
    "plt.scatter(usa[\"longitude\"], usa[\"latitude\"], color=\"blue\", alpha=0.6)\n",
    "plt.ylabel(\"latitude\")\n",
    "plt.xlabel(\"longitude\");"
   ]
  },
  {
   "cell_type": "code",
   "execution_count": 22,
   "metadata": {
    "slideshow": {
     "slide_type": "slide"
    }
   },
   "outputs": [
    {
     "data": {
      "image/svg+xml": [
       "<?xml version=\"1.0\" encoding=\"UTF-8\" standalone=\"no\"?>\n",
       "<!DOCTYPE svg PUBLIC \"-//W3C//DTD SVG 1.1//EN\"\n",
       " \"http://www.w3.org/Graphics/SVG/1.1/DTD/svg11.dtd\">\n",
       "<!-- Generated by graphviz version 2.42.3 (20191010.1750)\n",
       " -->\n",
       "<!-- Title: Tree Pages: 1 -->\n",
       "<svg width=\"1107pt\" height=\"932pt\"\n",
       " viewBox=\"0.00 0.00 1107.00 932.00\" xmlns=\"http://www.w3.org/2000/svg\" xmlns:xlink=\"http://www.w3.org/1999/xlink\">\n",
       "<g id=\"graph0\" class=\"graph\" transform=\"scale(1 1) rotate(0) translate(4 928)\">\n",
       "<title>Tree</title>\n",
       "<polygon fill=\"white\" stroke=\"transparent\" points=\"-4,4 -4,-928 1103,-928 1103,4 -4,4\"/>\n",
       "<!-- 0 -->\n",
       "<g id=\"node1\" class=\"node\">\n",
       "<title>0</title>\n",
       "<polygon fill=\"none\" stroke=\"black\" points=\"406.5,-924 300.5,-924 300.5,-886 406.5,-886 406.5,-924\"/>\n",
       "<text text-anchor=\"middle\" x=\"353.5\" y=\"-908.8\" font-family=\"Times,serif\" font-size=\"14.00\">latitude &lt;= 42.9</text>\n",
       "<text text-anchor=\"middle\" x=\"353.5\" y=\"-893.8\" font-family=\"Times,serif\" font-size=\"14.00\">class = Canada</text>\n",
       "</g>\n",
       "<!-- 1 -->\n",
       "<g id=\"node2\" class=\"node\">\n",
       "<title>1</title>\n",
       "<polygon fill=\"none\" stroke=\"black\" points=\"344.5,-850 224.5,-850 224.5,-812 344.5,-812 344.5,-850\"/>\n",
       "<text text-anchor=\"middle\" x=\"284.5\" y=\"-834.8\" font-family=\"Times,serif\" font-size=\"14.00\">latitude &lt;= 42.096</text>\n",
       "<text text-anchor=\"middle\" x=\"284.5\" y=\"-819.8\" font-family=\"Times,serif\" font-size=\"14.00\">class = USA</text>\n",
       "</g>\n",
       "<!-- 0&#45;&gt;1 -->\n",
       "<g id=\"edge1\" class=\"edge\">\n",
       "<title>0&#45;&gt;1</title>\n",
       "<path fill=\"none\" stroke=\"black\" d=\"M336.09,-885.83C327.98,-877.37 318.18,-867.15 309.32,-857.9\"/>\n",
       "<polygon fill=\"black\" stroke=\"black\" points=\"311.59,-855.21 302.15,-850.41 306.54,-860.05 311.59,-855.21\"/>\n",
       "<text text-anchor=\"middle\" x=\"301.61\" y=\"-871.71\" font-family=\"Times,serif\" font-size=\"14.00\">True</text>\n",
       "</g>\n",
       "<!-- 6 -->\n",
       "<g id=\"node7\" class=\"node\">\n",
       "<title>6</title>\n",
       "<polygon fill=\"none\" stroke=\"black\" points=\"482.5,-850 362.5,-850 362.5,-812 482.5,-812 482.5,-850\"/>\n",
       "<text text-anchor=\"middle\" x=\"422.5\" y=\"-834.8\" font-family=\"Times,serif\" font-size=\"14.00\">latitude &lt;= 55.958</text>\n",
       "<text text-anchor=\"middle\" x=\"422.5\" y=\"-819.8\" font-family=\"Times,serif\" font-size=\"14.00\">class = Canada</text>\n",
       "</g>\n",
       "<!-- 0&#45;&gt;6 -->\n",
       "<g id=\"edge6\" class=\"edge\">\n",
       "<title>0&#45;&gt;6</title>\n",
       "<path fill=\"none\" stroke=\"black\" d=\"M370.91,-885.83C379.02,-877.37 388.82,-867.15 397.68,-857.9\"/>\n",
       "<polygon fill=\"black\" stroke=\"black\" points=\"400.46,-860.05 404.85,-850.41 395.41,-855.21 400.46,-860.05\"/>\n",
       "<text text-anchor=\"middle\" x=\"405.39\" y=\"-871.71\" font-family=\"Times,serif\" font-size=\"14.00\">False</text>\n",
       "</g>\n",
       "<!-- 2 -->\n",
       "<g id=\"node3\" class=\"node\">\n",
       "<title>2</title>\n",
       "<polygon fill=\"none\" stroke=\"black\" points=\"208,-775 121,-775 121,-739 208,-739 208,-775\"/>\n",
       "<text text-anchor=\"middle\" x=\"164.5\" y=\"-753.3\" font-family=\"Times,serif\" font-size=\"14.00\">class = USA</text>\n",
       "</g>\n",
       "<!-- 1&#45;&gt;2 -->\n",
       "<g id=\"edge2\" class=\"edge\">\n",
       "<title>1&#45;&gt;2</title>\n",
       "<path fill=\"none\" stroke=\"black\" d=\"M254.22,-811.83C238.4,-802.34 218.9,-790.64 202.12,-780.57\"/>\n",
       "<polygon fill=\"black\" stroke=\"black\" points=\"203.49,-777.32 193.12,-775.17 199.89,-783.32 203.49,-777.32\"/>\n",
       "</g>\n",
       "<!-- 3 -->\n",
       "<g id=\"node4\" class=\"node\">\n",
       "<title>3</title>\n",
       "<polygon fill=\"none\" stroke=\"black\" points=\"346.5,-776 226.5,-776 226.5,-738 346.5,-738 346.5,-776\"/>\n",
       "<text text-anchor=\"middle\" x=\"286.5\" y=\"-760.8\" font-family=\"Times,serif\" font-size=\"14.00\">latitude &lt;= 42.324</text>\n",
       "<text text-anchor=\"middle\" x=\"286.5\" y=\"-745.8\" font-family=\"Times,serif\" font-size=\"14.00\">class = USA</text>\n",
       "</g>\n",
       "<!-- 1&#45;&gt;3 -->\n",
       "<g id=\"edge3\" class=\"edge\">\n",
       "<title>1&#45;&gt;3</title>\n",
       "<path fill=\"none\" stroke=\"black\" d=\"M285,-811.83C285.22,-804.13 285.47,-794.97 285.71,-786.42\"/>\n",
       "<polygon fill=\"black\" stroke=\"black\" points=\"289.21,-786.51 285.99,-776.41 282.21,-786.31 289.21,-786.51\"/>\n",
       "</g>\n",
       "<!-- 4 -->\n",
       "<g id=\"node5\" class=\"node\">\n",
       "<title>4</title>\n",
       "<polygon fill=\"none\" stroke=\"black\" points=\"226,-701 125,-701 125,-665 226,-665 226,-701\"/>\n",
       "<text text-anchor=\"middle\" x=\"175.5\" y=\"-679.3\" font-family=\"Times,serif\" font-size=\"14.00\">class = Canada</text>\n",
       "</g>\n",
       "<!-- 3&#45;&gt;4 -->\n",
       "<g id=\"edge4\" class=\"edge\">\n",
       "<title>3&#45;&gt;4</title>\n",
       "<path fill=\"none\" stroke=\"black\" d=\"M258.49,-737.83C243.99,-728.43 226.15,-716.86 210.73,-706.85\"/>\n",
       "<polygon fill=\"black\" stroke=\"black\" points=\"212.27,-703.68 201.97,-701.17 208.46,-709.55 212.27,-703.68\"/>\n",
       "</g>\n",
       "<!-- 5 -->\n",
       "<g id=\"node6\" class=\"node\">\n",
       "<title>5</title>\n",
       "<polygon fill=\"none\" stroke=\"black\" points=\"331,-701 244,-701 244,-665 331,-665 331,-701\"/>\n",
       "<text text-anchor=\"middle\" x=\"287.5\" y=\"-679.3\" font-family=\"Times,serif\" font-size=\"14.00\">class = USA</text>\n",
       "</g>\n",
       "<!-- 3&#45;&gt;5 -->\n",
       "<g id=\"edge5\" class=\"edge\">\n",
       "<title>3&#45;&gt;5</title>\n",
       "<path fill=\"none\" stroke=\"black\" d=\"M286.75,-737.83C286.86,-729.89 286.99,-720.41 287.12,-711.63\"/>\n",
       "<polygon fill=\"black\" stroke=\"black\" points=\"290.62,-711.47 287.26,-701.42 283.62,-711.37 290.62,-711.47\"/>\n",
       "</g>\n",
       "<!-- 7 -->\n",
       "<g id=\"node8\" class=\"node\">\n",
       "<title>7</title>\n",
       "<polygon fill=\"none\" stroke=\"black\" points=\"474.5,-776 368.5,-776 368.5,-738 474.5,-738 474.5,-776\"/>\n",
       "<text text-anchor=\"middle\" x=\"421.5\" y=\"-760.8\" font-family=\"Times,serif\" font-size=\"14.00\">latitude &lt;= 49.0</text>\n",
       "<text text-anchor=\"middle\" x=\"421.5\" y=\"-745.8\" font-family=\"Times,serif\" font-size=\"14.00\">class = Canada</text>\n",
       "</g>\n",
       "<!-- 6&#45;&gt;7 -->\n",
       "<g id=\"edge7\" class=\"edge\">\n",
       "<title>6&#45;&gt;7</title>\n",
       "<path fill=\"none\" stroke=\"black\" d=\"M422.25,-811.83C422.14,-804.13 422.01,-794.97 421.89,-786.42\"/>\n",
       "<polygon fill=\"black\" stroke=\"black\" points=\"425.39,-786.36 421.76,-776.41 418.4,-786.46 425.39,-786.36\"/>\n",
       "</g>\n",
       "<!-- 54 -->\n",
       "<g id=\"node55\" class=\"node\">\n",
       "<title>54</title>\n",
       "<polygon fill=\"none\" stroke=\"black\" points=\"580,-775 493,-775 493,-739 580,-739 580,-775\"/>\n",
       "<text text-anchor=\"middle\" x=\"536.5\" y=\"-753.3\" font-family=\"Times,serif\" font-size=\"14.00\">class = USA</text>\n",
       "</g>\n",
       "<!-- 6&#45;&gt;54 -->\n",
       "<g id=\"edge54\" class=\"edge\">\n",
       "<title>6&#45;&gt;54</title>\n",
       "<path fill=\"none\" stroke=\"black\" d=\"M451.27,-811.83C466.29,-802.34 484.82,-790.64 500.76,-780.57\"/>\n",
       "<polygon fill=\"black\" stroke=\"black\" points=\"502.73,-783.47 509.31,-775.17 498.99,-777.55 502.73,-783.47\"/>\n",
       "</g>\n",
       "<!-- 8 -->\n",
       "<g id=\"node9\" class=\"node\">\n",
       "<title>8</title>\n",
       "<polygon fill=\"none\" stroke=\"black\" points=\"488,-702 353,-702 353,-664 488,-664 488,-702\"/>\n",
       "<text text-anchor=\"middle\" x=\"420.5\" y=\"-686.8\" font-family=\"Times,serif\" font-size=\"14.00\">longitude &lt;= &#45;94.582</text>\n",
       "<text text-anchor=\"middle\" x=\"420.5\" y=\"-671.8\" font-family=\"Times,serif\" font-size=\"14.00\">class = Canada</text>\n",
       "</g>\n",
       "<!-- 7&#45;&gt;8 -->\n",
       "<g id=\"edge8\" class=\"edge\">\n",
       "<title>7&#45;&gt;8</title>\n",
       "<path fill=\"none\" stroke=\"black\" d=\"M421.25,-737.83C421.14,-730.13 421.01,-720.97 420.89,-712.42\"/>\n",
       "<polygon fill=\"black\" stroke=\"black\" points=\"424.39,-712.36 420.76,-702.41 417.4,-712.46 424.39,-712.36\"/>\n",
       "</g>\n",
       "<!-- 53 -->\n",
       "<g id=\"node54\" class=\"node\">\n",
       "<title>53</title>\n",
       "<polygon fill=\"none\" stroke=\"black\" points=\"607,-701 506,-701 506,-665 607,-665 607,-701\"/>\n",
       "<text text-anchor=\"middle\" x=\"556.5\" y=\"-679.3\" font-family=\"Times,serif\" font-size=\"14.00\">class = Canada</text>\n",
       "</g>\n",
       "<!-- 7&#45;&gt;53 -->\n",
       "<g id=\"edge53\" class=\"edge\">\n",
       "<title>7&#45;&gt;53</title>\n",
       "<path fill=\"none\" stroke=\"black\" d=\"M455.57,-737.83C473.69,-728.17 496.12,-716.2 515.22,-706.01\"/>\n",
       "<polygon fill=\"black\" stroke=\"black\" points=\"517.13,-708.97 524.3,-701.17 513.83,-702.79 517.13,-708.97\"/>\n",
       "</g>\n",
       "<!-- 9 -->\n",
       "<g id=\"node10\" class=\"node\">\n",
       "<title>9</title>\n",
       "<polygon fill=\"none\" stroke=\"black\" points=\"413.5,-628 271.5,-628 271.5,-590 413.5,-590 413.5,-628\"/>\n",
       "<text text-anchor=\"middle\" x=\"342.5\" y=\"-612.8\" font-family=\"Times,serif\" font-size=\"14.00\">longitude &lt;= &#45;123.222</text>\n",
       "<text text-anchor=\"middle\" x=\"342.5\" y=\"-597.8\" font-family=\"Times,serif\" font-size=\"14.00\">class = USA</text>\n",
       "</g>\n",
       "<!-- 8&#45;&gt;9 -->\n",
       "<g id=\"edge9\" class=\"edge\">\n",
       "<title>8&#45;&gt;9</title>\n",
       "<path fill=\"none\" stroke=\"black\" d=\"M400.82,-663.83C391.39,-655.13 379.96,-644.58 369.72,-635.13\"/>\n",
       "<polygon fill=\"black\" stroke=\"black\" points=\"371.9,-632.37 362.18,-628.16 367.15,-637.52 371.9,-632.37\"/>\n",
       "</g>\n",
       "<!-- 12 -->\n",
       "<g id=\"node13\" class=\"node\">\n",
       "<title>12</title>\n",
       "<polygon fill=\"none\" stroke=\"black\" points=\"567,-628 432,-628 432,-590 567,-590 567,-628\"/>\n",
       "<text text-anchor=\"middle\" x=\"499.5\" y=\"-612.8\" font-family=\"Times,serif\" font-size=\"14.00\">longitude &lt;= &#45;69.246</text>\n",
       "<text text-anchor=\"middle\" x=\"499.5\" y=\"-597.8\" font-family=\"Times,serif\" font-size=\"14.00\">class = Canada</text>\n",
       "</g>\n",
       "<!-- 8&#45;&gt;12 -->\n",
       "<g id=\"edge12\" class=\"edge\">\n",
       "<title>8&#45;&gt;12</title>\n",
       "<path fill=\"none\" stroke=\"black\" d=\"M440.44,-663.83C449.98,-655.13 461.56,-644.58 471.93,-635.13\"/>\n",
       "<polygon fill=\"black\" stroke=\"black\" points=\"474.54,-637.49 479.57,-628.16 469.82,-632.31 474.54,-637.49\"/>\n",
       "</g>\n",
       "<!-- 10 -->\n",
       "<g id=\"node11\" class=\"node\">\n",
       "<title>10</title>\n",
       "<polygon fill=\"none\" stroke=\"black\" points=\"290,-553 189,-553 189,-517 290,-517 290,-553\"/>\n",
       "<text text-anchor=\"middle\" x=\"239.5\" y=\"-531.3\" font-family=\"Times,serif\" font-size=\"14.00\">class = Canada</text>\n",
       "</g>\n",
       "<!-- 9&#45;&gt;10 -->\n",
       "<g id=\"edge10\" class=\"edge\">\n",
       "<title>9&#45;&gt;10</title>\n",
       "<path fill=\"none\" stroke=\"black\" d=\"M316.51,-589.83C303.18,-580.52 286.81,-569.07 272.59,-559.13\"/>\n",
       "<polygon fill=\"black\" stroke=\"black\" points=\"274.27,-556.03 264.06,-553.17 270.26,-561.77 274.27,-556.03\"/>\n",
       "</g>\n",
       "<!-- 11 -->\n",
       "<g id=\"node12\" class=\"node\">\n",
       "<title>11</title>\n",
       "<polygon fill=\"none\" stroke=\"black\" points=\"395,-553 308,-553 308,-517 395,-517 395,-553\"/>\n",
       "<text text-anchor=\"middle\" x=\"351.5\" y=\"-531.3\" font-family=\"Times,serif\" font-size=\"14.00\">class = USA</text>\n",
       "</g>\n",
       "<!-- 9&#45;&gt;11 -->\n",
       "<g id=\"edge11\" class=\"edge\">\n",
       "<title>9&#45;&gt;11</title>\n",
       "<path fill=\"none\" stroke=\"black\" d=\"M344.77,-589.83C345.76,-581.89 346.95,-572.41 348.05,-563.63\"/>\n",
       "<polygon fill=\"black\" stroke=\"black\" points=\"351.56,-563.77 349.32,-553.42 344.61,-562.91 351.56,-563.77\"/>\n",
       "</g>\n",
       "<!-- 13 -->\n",
       "<g id=\"node14\" class=\"node\">\n",
       "<title>13</title>\n",
       "<polygon fill=\"none\" stroke=\"black\" points=\"550.5,-554 430.5,-554 430.5,-516 550.5,-516 550.5,-554\"/>\n",
       "<text text-anchor=\"middle\" x=\"490.5\" y=\"-538.8\" font-family=\"Times,serif\" font-size=\"14.00\">latitude &lt;= 43.093</text>\n",
       "<text text-anchor=\"middle\" x=\"490.5\" y=\"-523.8\" font-family=\"Times,serif\" font-size=\"14.00\">class = Canada</text>\n",
       "</g>\n",
       "<!-- 12&#45;&gt;13 -->\n",
       "<g id=\"edge13\" class=\"edge\">\n",
       "<title>12&#45;&gt;13</title>\n",
       "<path fill=\"none\" stroke=\"black\" d=\"M497.23,-589.83C496.27,-582.13 495.12,-572.97 494.05,-564.42\"/>\n",
       "<polygon fill=\"black\" stroke=\"black\" points=\"497.52,-563.9 492.8,-554.41 490.57,-564.77 497.52,-563.9\"/>\n",
       "</g>\n",
       "<!-- 36 -->\n",
       "<g id=\"node37\" class=\"node\">\n",
       "<title>36</title>\n",
       "<polygon fill=\"none\" stroke=\"black\" points=\"755,-554 620,-554 620,-516 755,-516 755,-554\"/>\n",
       "<text text-anchor=\"middle\" x=\"687.5\" y=\"-538.8\" font-family=\"Times,serif\" font-size=\"14.00\">longitude &lt;= &#45;66.952</text>\n",
       "<text text-anchor=\"middle\" x=\"687.5\" y=\"-523.8\" font-family=\"Times,serif\" font-size=\"14.00\">class = Canada</text>\n",
       "</g>\n",
       "<!-- 12&#45;&gt;36 -->\n",
       "<g id=\"edge36\" class=\"edge\">\n",
       "<title>12&#45;&gt;36</title>\n",
       "<path fill=\"none\" stroke=\"black\" d=\"M546.94,-589.83C572.42,-580.07 604,-567.98 630.78,-557.72\"/>\n",
       "<polygon fill=\"black\" stroke=\"black\" points=\"632.31,-560.88 640.4,-554.04 629.81,-554.35 632.31,-560.88\"/>\n",
       "</g>\n",
       "<!-- 14 -->\n",
       "<g id=\"node15\" class=\"node\">\n",
       "<title>14</title>\n",
       "<polygon fill=\"none\" stroke=\"black\" points=\"347.5,-480 227.5,-480 227.5,-442 347.5,-442 347.5,-480\"/>\n",
       "<text text-anchor=\"middle\" x=\"287.5\" y=\"-464.8\" font-family=\"Times,serif\" font-size=\"14.00\">latitude &lt;= 43.014</text>\n",
       "<text text-anchor=\"middle\" x=\"287.5\" y=\"-449.8\" font-family=\"Times,serif\" font-size=\"14.00\">class = Canada</text>\n",
       "</g>\n",
       "<!-- 13&#45;&gt;14 -->\n",
       "<g id=\"edge14\" class=\"edge\">\n",
       "<title>13&#45;&gt;14</title>\n",
       "<path fill=\"none\" stroke=\"black\" d=\"M439.54,-515.92C411.79,-506.08 377.27,-493.84 348.14,-483.51\"/>\n",
       "<polygon fill=\"black\" stroke=\"black\" points=\"349.08,-480.13 338.48,-480.08 346.74,-486.72 349.08,-480.13\"/>\n",
       "</g>\n",
       "<!-- 19 -->\n",
       "<g id=\"node20\" class=\"node\">\n",
       "<title>19</title>\n",
       "<polygon fill=\"none\" stroke=\"black\" points=\"550.5,-480 430.5,-480 430.5,-442 550.5,-442 550.5,-480\"/>\n",
       "<text text-anchor=\"middle\" x=\"490.5\" y=\"-464.8\" font-family=\"Times,serif\" font-size=\"14.00\">latitude &lt;= 44.992</text>\n",
       "<text text-anchor=\"middle\" x=\"490.5\" y=\"-449.8\" font-family=\"Times,serif\" font-size=\"14.00\">class = Canada</text>\n",
       "</g>\n",
       "<!-- 13&#45;&gt;19 -->\n",
       "<g id=\"edge19\" class=\"edge\">\n",
       "<title>13&#45;&gt;19</title>\n",
       "<path fill=\"none\" stroke=\"black\" d=\"M490.5,-515.83C490.5,-508.13 490.5,-498.97 490.5,-490.42\"/>\n",
       "<polygon fill=\"black\" stroke=\"black\" points=\"494,-490.41 490.5,-480.41 487,-490.41 494,-490.41\"/>\n",
       "</g>\n",
       "<!-- 15 -->\n",
       "<g id=\"node16\" class=\"node\">\n",
       "<title>15</title>\n",
       "<polygon fill=\"none\" stroke=\"black\" points=\"223,-406 88,-406 88,-368 223,-368 223,-406\"/>\n",
       "<text text-anchor=\"middle\" x=\"155.5\" y=\"-390.8\" font-family=\"Times,serif\" font-size=\"14.00\">longitude &lt;= &#45;81.845</text>\n",
       "<text text-anchor=\"middle\" x=\"155.5\" y=\"-375.8\" font-family=\"Times,serif\" font-size=\"14.00\">class = Canada</text>\n",
       "</g>\n",
       "<!-- 14&#45;&gt;15 -->\n",
       "<g id=\"edge15\" class=\"edge\">\n",
       "<title>14&#45;&gt;15</title>\n",
       "<path fill=\"none\" stroke=\"black\" d=\"M254.19,-441.83C237.07,-432.49 216.03,-421.02 197.78,-411.06\"/>\n",
       "<polygon fill=\"black\" stroke=\"black\" points=\"199.25,-407.88 188.8,-406.16 195.9,-414.02 199.25,-407.88\"/>\n",
       "</g>\n",
       "<!-- 18 -->\n",
       "<g id=\"node19\" class=\"node\">\n",
       "<title>18</title>\n",
       "<polygon fill=\"none\" stroke=\"black\" points=\"331,-405 244,-405 244,-369 331,-369 331,-405\"/>\n",
       "<text text-anchor=\"middle\" x=\"287.5\" y=\"-383.3\" font-family=\"Times,serif\" font-size=\"14.00\">class = USA</text>\n",
       "</g>\n",
       "<!-- 14&#45;&gt;18 -->\n",
       "<g id=\"edge18\" class=\"edge\">\n",
       "<title>14&#45;&gt;18</title>\n",
       "<path fill=\"none\" stroke=\"black\" d=\"M287.5,-441.83C287.5,-433.89 287.5,-424.41 287.5,-415.63\"/>\n",
       "<polygon fill=\"black\" stroke=\"black\" points=\"291,-415.42 287.5,-405.42 284,-415.42 291,-415.42\"/>\n",
       "</g>\n",
       "<!-- 16 -->\n",
       "<g id=\"node17\" class=\"node\">\n",
       "<title>16</title>\n",
       "<polygon fill=\"none\" stroke=\"black\" points=\"87,-331 0,-331 0,-295 87,-295 87,-331\"/>\n",
       "<text text-anchor=\"middle\" x=\"43.5\" y=\"-309.3\" font-family=\"Times,serif\" font-size=\"14.00\">class = USA</text>\n",
       "</g>\n",
       "<!-- 15&#45;&gt;16 -->\n",
       "<g id=\"edge16\" class=\"edge\">\n",
       "<title>15&#45;&gt;16</title>\n",
       "<path fill=\"none\" stroke=\"black\" d=\"M127.24,-367.83C112.61,-358.43 94.61,-346.86 79.05,-336.85\"/>\n",
       "<polygon fill=\"black\" stroke=\"black\" points=\"80.52,-333.63 70.21,-331.17 76.73,-339.52 80.52,-333.63\"/>\n",
       "</g>\n",
       "<!-- 17 -->\n",
       "<g id=\"node18\" class=\"node\">\n",
       "<title>17</title>\n",
       "<polygon fill=\"none\" stroke=\"black\" points=\"206,-331 105,-331 105,-295 206,-295 206,-331\"/>\n",
       "<text text-anchor=\"middle\" x=\"155.5\" y=\"-309.3\" font-family=\"Times,serif\" font-size=\"14.00\">class = Canada</text>\n",
       "</g>\n",
       "<!-- 15&#45;&gt;17 -->\n",
       "<g id=\"edge17\" class=\"edge\">\n",
       "<title>15&#45;&gt;17</title>\n",
       "<path fill=\"none\" stroke=\"black\" d=\"M155.5,-367.83C155.5,-359.89 155.5,-350.41 155.5,-341.63\"/>\n",
       "<polygon fill=\"black\" stroke=\"black\" points=\"159,-341.42 155.5,-331.42 152,-341.42 159,-341.42\"/>\n",
       "</g>\n",
       "<!-- 20 -->\n",
       "<g id=\"node21\" class=\"node\">\n",
       "<title>20</title>\n",
       "<polygon fill=\"none\" stroke=\"black\" points=\"484.5,-406 364.5,-406 364.5,-368 484.5,-368 484.5,-406\"/>\n",
       "<text text-anchor=\"middle\" x=\"424.5\" y=\"-390.8\" font-family=\"Times,serif\" font-size=\"14.00\">latitude &lt;= 44.542</text>\n",
       "<text text-anchor=\"middle\" x=\"424.5\" y=\"-375.8\" font-family=\"Times,serif\" font-size=\"14.00\">class = Canada</text>\n",
       "</g>\n",
       "<!-- 19&#45;&gt;20 -->\n",
       "<g id=\"edge20\" class=\"edge\">\n",
       "<title>19&#45;&gt;20</title>\n",
       "<path fill=\"none\" stroke=\"black\" d=\"M473.85,-441.83C466.09,-433.37 456.72,-423.15 448.24,-413.9\"/>\n",
       "<polygon fill=\"black\" stroke=\"black\" points=\"450.72,-411.42 441.38,-406.41 445.56,-416.15 450.72,-411.42\"/>\n",
       "</g>\n",
       "<!-- 35 -->\n",
       "<g id=\"node36\" class=\"node\">\n",
       "<title>35</title>\n",
       "<polygon fill=\"none\" stroke=\"black\" points=\"604,-405 503,-405 503,-369 604,-369 604,-405\"/>\n",
       "<text text-anchor=\"middle\" x=\"553.5\" y=\"-383.3\" font-family=\"Times,serif\" font-size=\"14.00\">class = Canada</text>\n",
       "</g>\n",
       "<!-- 19&#45;&gt;35 -->\n",
       "<g id=\"edge35\" class=\"edge\">\n",
       "<title>19&#45;&gt;35</title>\n",
       "<path fill=\"none\" stroke=\"black\" d=\"M506.4,-441.83C514.03,-433.11 523.3,-422.52 531.58,-413.05\"/>\n",
       "<polygon fill=\"black\" stroke=\"black\" points=\"534.31,-415.25 538.26,-405.42 529.04,-410.64 534.31,-415.25\"/>\n",
       "</g>\n",
       "<!-- 21 -->\n",
       "<g id=\"node22\" class=\"node\">\n",
       "<title>21</title>\n",
       "<polygon fill=\"none\" stroke=\"black\" points=\"359,-332 224,-332 224,-294 359,-294 359,-332\"/>\n",
       "<text text-anchor=\"middle\" x=\"291.5\" y=\"-316.8\" font-family=\"Times,serif\" font-size=\"14.00\">longitude &lt;= &#45;79.076</text>\n",
       "<text text-anchor=\"middle\" x=\"291.5\" y=\"-301.8\" font-family=\"Times,serif\" font-size=\"14.00\">class = Canada</text>\n",
       "</g>\n",
       "<!-- 20&#45;&gt;21 -->\n",
       "<g id=\"edge21\" class=\"edge\">\n",
       "<title>20&#45;&gt;21</title>\n",
       "<path fill=\"none\" stroke=\"black\" d=\"M390.94,-367.83C373.61,-358.45 352.29,-346.91 333.85,-336.92\"/>\n",
       "<polygon fill=\"black\" stroke=\"black\" points=\"335.51,-333.85 325.05,-332.16 332.18,-340 335.51,-333.85\"/>\n",
       "</g>\n",
       "<!-- 30 -->\n",
       "<g id=\"node31\" class=\"node\">\n",
       "<title>30</title>\n",
       "<polygon fill=\"none\" stroke=\"black\" points=\"497.5,-332 377.5,-332 377.5,-294 497.5,-294 497.5,-332\"/>\n",
       "<text text-anchor=\"middle\" x=\"437.5\" y=\"-316.8\" font-family=\"Times,serif\" font-size=\"14.00\">latitude &lt;= 44.706</text>\n",
       "<text text-anchor=\"middle\" x=\"437.5\" y=\"-301.8\" font-family=\"Times,serif\" font-size=\"14.00\">class = USA</text>\n",
       "</g>\n",
       "<!-- 20&#45;&gt;30 -->\n",
       "<g id=\"edge30\" class=\"edge\">\n",
       "<title>20&#45;&gt;30</title>\n",
       "<path fill=\"none\" stroke=\"black\" d=\"M427.78,-367.83C429.17,-360.13 430.82,-350.97 432.37,-342.42\"/>\n",
       "<polygon fill=\"black\" stroke=\"black\" points=\"435.84,-342.88 434.18,-332.41 428.95,-341.63 435.84,-342.88\"/>\n",
       "</g>\n",
       "<!-- 22 -->\n",
       "<g id=\"node23\" class=\"node\">\n",
       "<title>22</title>\n",
       "<polygon fill=\"none\" stroke=\"black\" points=\"213,-257 112,-257 112,-221 213,-221 213,-257\"/>\n",
       "<text text-anchor=\"middle\" x=\"162.5\" y=\"-235.3\" font-family=\"Times,serif\" font-size=\"14.00\">class = Canada</text>\n",
       "</g>\n",
       "<!-- 21&#45;&gt;22 -->\n",
       "<g id=\"edge22\" class=\"edge\">\n",
       "<title>21&#45;&gt;22</title>\n",
       "<path fill=\"none\" stroke=\"black\" d=\"M258.95,-293.83C241.79,-284.25 220.59,-272.42 202.44,-262.29\"/>\n",
       "<polygon fill=\"black\" stroke=\"black\" points=\"203.7,-258.99 193.27,-257.17 200.29,-265.1 203.7,-258.99\"/>\n",
       "</g>\n",
       "<!-- 23 -->\n",
       "<g id=\"node24\" class=\"node\">\n",
       "<title>23</title>\n",
       "<polygon fill=\"none\" stroke=\"black\" points=\"351.5,-258 231.5,-258 231.5,-220 351.5,-220 351.5,-258\"/>\n",
       "<text text-anchor=\"middle\" x=\"291.5\" y=\"-242.8\" font-family=\"Times,serif\" font-size=\"14.00\">latitude &lt;= 44.168</text>\n",
       "<text text-anchor=\"middle\" x=\"291.5\" y=\"-227.8\" font-family=\"Times,serif\" font-size=\"14.00\">class = Canada</text>\n",
       "</g>\n",
       "<!-- 21&#45;&gt;23 -->\n",
       "<g id=\"edge23\" class=\"edge\">\n",
       "<title>21&#45;&gt;23</title>\n",
       "<path fill=\"none\" stroke=\"black\" d=\"M291.5,-293.83C291.5,-286.13 291.5,-276.97 291.5,-268.42\"/>\n",
       "<polygon fill=\"black\" stroke=\"black\" points=\"295,-268.41 291.5,-258.41 288,-268.41 295,-268.41\"/>\n",
       "</g>\n",
       "<!-- 24 -->\n",
       "<g id=\"node25\" class=\"node\">\n",
       "<title>24</title>\n",
       "<polygon fill=\"none\" stroke=\"black\" points=\"228.5,-184 100.5,-184 100.5,-146 228.5,-146 228.5,-184\"/>\n",
       "<text text-anchor=\"middle\" x=\"164.5\" y=\"-168.8\" font-family=\"Times,serif\" font-size=\"14.00\">longitude &lt;= &#45;79.03</text>\n",
       "<text text-anchor=\"middle\" x=\"164.5\" y=\"-153.8\" font-family=\"Times,serif\" font-size=\"14.00\">class = USA</text>\n",
       "</g>\n",
       "<!-- 23&#45;&gt;24 -->\n",
       "<g id=\"edge24\" class=\"edge\">\n",
       "<title>23&#45;&gt;24</title>\n",
       "<path fill=\"none\" stroke=\"black\" d=\"M259.45,-219.83C243.06,-210.54 222.92,-199.12 205.42,-189.2\"/>\n",
       "<polygon fill=\"black\" stroke=\"black\" points=\"206.96,-186.05 196.54,-184.16 203.51,-192.14 206.96,-186.05\"/>\n",
       "</g>\n",
       "<!-- 29 -->\n",
       "<g id=\"node30\" class=\"node\">\n",
       "<title>29</title>\n",
       "<polygon fill=\"none\" stroke=\"black\" points=\"348,-183 247,-183 247,-147 348,-147 348,-183\"/>\n",
       "<text text-anchor=\"middle\" x=\"297.5\" y=\"-161.3\" font-family=\"Times,serif\" font-size=\"14.00\">class = Canada</text>\n",
       "</g>\n",
       "<!-- 23&#45;&gt;29 -->\n",
       "<g id=\"edge29\" class=\"edge\">\n",
       "<title>23&#45;&gt;29</title>\n",
       "<path fill=\"none\" stroke=\"black\" d=\"M293.01,-219.83C293.68,-211.89 294.47,-202.41 295.2,-193.63\"/>\n",
       "<polygon fill=\"black\" stroke=\"black\" points=\"298.71,-193.67 296.05,-183.42 291.73,-193.09 298.71,-193.67\"/>\n",
       "</g>\n",
       "<!-- 25 -->\n",
       "<g id=\"node26\" class=\"node\">\n",
       "<title>25</title>\n",
       "<polygon fill=\"none\" stroke=\"black\" points=\"147,-109 60,-109 60,-73 147,-73 147,-109\"/>\n",
       "<text text-anchor=\"middle\" x=\"103.5\" y=\"-87.3\" font-family=\"Times,serif\" font-size=\"14.00\">class = USA</text>\n",
       "</g>\n",
       "<!-- 24&#45;&gt;25 -->\n",
       "<g id=\"edge25\" class=\"edge\">\n",
       "<title>24&#45;&gt;25</title>\n",
       "<path fill=\"none\" stroke=\"black\" d=\"M149.11,-145.83C141.79,-137.2 132.92,-126.73 124.96,-117.33\"/>\n",
       "<polygon fill=\"black\" stroke=\"black\" points=\"127.39,-114.79 118.26,-109.42 122.05,-119.31 127.39,-114.79\"/>\n",
       "</g>\n",
       "<!-- 26 -->\n",
       "<g id=\"node27\" class=\"node\">\n",
       "<title>26</title>\n",
       "<polygon fill=\"none\" stroke=\"black\" points=\"285.5,-110 165.5,-110 165.5,-72 285.5,-72 285.5,-110\"/>\n",
       "<text text-anchor=\"middle\" x=\"225.5\" y=\"-94.8\" font-family=\"Times,serif\" font-size=\"14.00\">latitude &lt;= 43.988</text>\n",
       "<text text-anchor=\"middle\" x=\"225.5\" y=\"-79.8\" font-family=\"Times,serif\" font-size=\"14.00\">class = Canada</text>\n",
       "</g>\n",
       "<!-- 24&#45;&gt;26 -->\n",
       "<g id=\"edge26\" class=\"edge\">\n",
       "<title>24&#45;&gt;26</title>\n",
       "<path fill=\"none\" stroke=\"black\" d=\"M179.89,-145.83C186.99,-137.45 195.55,-127.35 203.32,-118.17\"/>\n",
       "<polygon fill=\"black\" stroke=\"black\" points=\"206.11,-120.31 209.9,-110.41 200.77,-115.78 206.11,-120.31\"/>\n",
       "</g>\n",
       "<!-- 27 -->\n",
       "<g id=\"node28\" class=\"node\">\n",
       "<title>27</title>\n",
       "<polygon fill=\"none\" stroke=\"black\" points=\"220,-36 119,-36 119,0 220,0 220,-36\"/>\n",
       "<text text-anchor=\"middle\" x=\"169.5\" y=\"-14.3\" font-family=\"Times,serif\" font-size=\"14.00\">class = Canada</text>\n",
       "</g>\n",
       "<!-- 26&#45;&gt;27 -->\n",
       "<g id=\"edge27\" class=\"edge\">\n",
       "<title>26&#45;&gt;27</title>\n",
       "<path fill=\"none\" stroke=\"black\" d=\"M211.08,-71.72C204.43,-63.29 196.43,-53.15 189.23,-44.02\"/>\n",
       "<polygon fill=\"black\" stroke=\"black\" points=\"191.85,-41.69 182.91,-36 186.36,-46.02 191.85,-41.69\"/>\n",
       "</g>\n",
       "<!-- 28 -->\n",
       "<g id=\"node29\" class=\"node\">\n",
       "<title>28</title>\n",
       "<polygon fill=\"none\" stroke=\"black\" points=\"325,-36 238,-36 238,0 325,0 325,-36\"/>\n",
       "<text text-anchor=\"middle\" x=\"281.5\" y=\"-14.3\" font-family=\"Times,serif\" font-size=\"14.00\">class = USA</text>\n",
       "</g>\n",
       "<!-- 26&#45;&gt;28 -->\n",
       "<g id=\"edge28\" class=\"edge\">\n",
       "<title>26&#45;&gt;28</title>\n",
       "<path fill=\"none\" stroke=\"black\" d=\"M239.92,-71.72C246.57,-63.29 254.57,-53.15 261.77,-44.02\"/>\n",
       "<polygon fill=\"black\" stroke=\"black\" points=\"264.64,-46.02 268.09,-36 259.15,-41.69 264.64,-46.02\"/>\n",
       "</g>\n",
       "<!-- 31 -->\n",
       "<g id=\"node32\" class=\"node\">\n",
       "<title>31</title>\n",
       "<polygon fill=\"none\" stroke=\"black\" points=\"457,-257 370,-257 370,-221 457,-221 457,-257\"/>\n",
       "<text text-anchor=\"middle\" x=\"413.5\" y=\"-235.3\" font-family=\"Times,serif\" font-size=\"14.00\">class = USA</text>\n",
       "</g>\n",
       "<!-- 30&#45;&gt;31 -->\n",
       "<g id=\"edge31\" class=\"edge\">\n",
       "<title>30&#45;&gt;31</title>\n",
       "<path fill=\"none\" stroke=\"black\" d=\"M431.44,-293.83C428.74,-285.72 425.5,-275.99 422.52,-267.05\"/>\n",
       "<polygon fill=\"black\" stroke=\"black\" points=\"425.79,-265.8 419.31,-257.42 419.15,-268.01 425.79,-265.8\"/>\n",
       "</g>\n",
       "<!-- 32 -->\n",
       "<g id=\"node33\" class=\"node\">\n",
       "<title>32</title>\n",
       "<polygon fill=\"none\" stroke=\"black\" points=\"595.5,-258 475.5,-258 475.5,-220 595.5,-220 595.5,-258\"/>\n",
       "<text text-anchor=\"middle\" x=\"535.5\" y=\"-242.8\" font-family=\"Times,serif\" font-size=\"14.00\">latitude &lt;= 44.848</text>\n",
       "<text text-anchor=\"middle\" x=\"535.5\" y=\"-227.8\" font-family=\"Times,serif\" font-size=\"14.00\">class = Canada</text>\n",
       "</g>\n",
       "<!-- 30&#45;&gt;32 -->\n",
       "<g id=\"edge32\" class=\"edge\">\n",
       "<title>30&#45;&gt;32</title>\n",
       "<path fill=\"none\" stroke=\"black\" d=\"M462.23,-293.83C474.42,-284.88 489.28,-273.96 502.43,-264.3\"/>\n",
       "<polygon fill=\"black\" stroke=\"black\" points=\"504.79,-266.9 510.78,-258.16 500.65,-261.26 504.79,-266.9\"/>\n",
       "</g>\n",
       "<!-- 33 -->\n",
       "<g id=\"node34\" class=\"node\">\n",
       "<title>33</title>\n",
       "<polygon fill=\"none\" stroke=\"black\" points=\"474,-183 373,-183 373,-147 474,-147 474,-183\"/>\n",
       "<text text-anchor=\"middle\" x=\"423.5\" y=\"-161.3\" font-family=\"Times,serif\" font-size=\"14.00\">class = Canada</text>\n",
       "</g>\n",
       "<!-- 32&#45;&gt;33 -->\n",
       "<g id=\"edge33\" class=\"edge\">\n",
       "<title>32&#45;&gt;33</title>\n",
       "<path fill=\"none\" stroke=\"black\" d=\"M507.24,-219.83C492.61,-210.43 474.61,-198.86 459.05,-188.85\"/>\n",
       "<polygon fill=\"black\" stroke=\"black\" points=\"460.52,-185.63 450.21,-183.17 456.73,-191.52 460.52,-185.63\"/>\n",
       "</g>\n",
       "<!-- 34 -->\n",
       "<g id=\"node35\" class=\"node\">\n",
       "<title>34</title>\n",
       "<polygon fill=\"none\" stroke=\"black\" points=\"579,-183 492,-183 492,-147 579,-147 579,-183\"/>\n",
       "<text text-anchor=\"middle\" x=\"535.5\" y=\"-161.3\" font-family=\"Times,serif\" font-size=\"14.00\">class = USA</text>\n",
       "</g>\n",
       "<!-- 32&#45;&gt;34 -->\n",
       "<g id=\"edge34\" class=\"edge\">\n",
       "<title>32&#45;&gt;34</title>\n",
       "<path fill=\"none\" stroke=\"black\" d=\"M535.5,-219.83C535.5,-211.89 535.5,-202.41 535.5,-193.63\"/>\n",
       "<polygon fill=\"black\" stroke=\"black\" points=\"539,-193.42 535.5,-183.42 532,-193.42 539,-193.42\"/>\n",
       "</g>\n",
       "<!-- 37 -->\n",
       "<g id=\"node38\" class=\"node\">\n",
       "<title>37</title>\n",
       "<polygon fill=\"none\" stroke=\"black\" points=\"755,-480 620,-480 620,-442 755,-442 755,-480\"/>\n",
       "<text text-anchor=\"middle\" x=\"687.5\" y=\"-464.8\" font-family=\"Times,serif\" font-size=\"14.00\">longitude &lt;= &#45;67.279</text>\n",
       "<text text-anchor=\"middle\" x=\"687.5\" y=\"-449.8\" font-family=\"Times,serif\" font-size=\"14.00\">class = USA</text>\n",
       "</g>\n",
       "<!-- 36&#45;&gt;37 -->\n",
       "<g id=\"edge37\" class=\"edge\">\n",
       "<title>36&#45;&gt;37</title>\n",
       "<path fill=\"none\" stroke=\"black\" d=\"M687.5,-515.83C687.5,-508.13 687.5,-498.97 687.5,-490.42\"/>\n",
       "<polygon fill=\"black\" stroke=\"black\" points=\"691,-490.41 687.5,-480.41 684,-490.41 691,-490.41\"/>\n",
       "</g>\n",
       "<!-- 52 -->\n",
       "<g id=\"node53\" class=\"node\">\n",
       "<title>52</title>\n",
       "<polygon fill=\"none\" stroke=\"black\" points=\"874,-479 773,-479 773,-443 874,-443 874,-479\"/>\n",
       "<text text-anchor=\"middle\" x=\"823.5\" y=\"-457.3\" font-family=\"Times,serif\" font-size=\"14.00\">class = Canada</text>\n",
       "</g>\n",
       "<!-- 36&#45;&gt;52 -->\n",
       "<g id=\"edge52\" class=\"edge\">\n",
       "<title>36&#45;&gt;52</title>\n",
       "<path fill=\"none\" stroke=\"black\" d=\"M721.82,-515.83C740.16,-506.12 762.87,-494.1 782.18,-483.88\"/>\n",
       "<polygon fill=\"black\" stroke=\"black\" points=\"783.86,-486.94 791.07,-479.17 780.59,-480.76 783.86,-486.94\"/>\n",
       "</g>\n",
       "<!-- 38 -->\n",
       "<g id=\"node39\" class=\"node\">\n",
       "<title>38</title>\n",
       "<polygon fill=\"none\" stroke=\"black\" points=\"751.5,-406 623.5,-406 623.5,-368 751.5,-368 751.5,-406\"/>\n",
       "<text text-anchor=\"middle\" x=\"687.5\" y=\"-390.8\" font-family=\"Times,serif\" font-size=\"14.00\">longitude &lt;= &#45;67.93</text>\n",
       "<text text-anchor=\"middle\" x=\"687.5\" y=\"-375.8\" font-family=\"Times,serif\" font-size=\"14.00\">class = Canada</text>\n",
       "</g>\n",
       "<!-- 37&#45;&gt;38 -->\n",
       "<g id=\"edge38\" class=\"edge\">\n",
       "<title>37&#45;&gt;38</title>\n",
       "<path fill=\"none\" stroke=\"black\" d=\"M687.5,-441.83C687.5,-434.13 687.5,-424.97 687.5,-416.42\"/>\n",
       "<polygon fill=\"black\" stroke=\"black\" points=\"691,-416.41 687.5,-406.41 684,-416.41 691,-416.41\"/>\n",
       "</g>\n",
       "<!-- 51 -->\n",
       "<g id=\"node52\" class=\"node\">\n",
       "<title>51</title>\n",
       "<polygon fill=\"none\" stroke=\"black\" points=\"857,-405 770,-405 770,-369 857,-369 857,-405\"/>\n",
       "<text text-anchor=\"middle\" x=\"813.5\" y=\"-383.3\" font-family=\"Times,serif\" font-size=\"14.00\">class = USA</text>\n",
       "</g>\n",
       "<!-- 37&#45;&gt;51 -->\n",
       "<g id=\"edge51\" class=\"edge\">\n",
       "<title>37&#45;&gt;51</title>\n",
       "<path fill=\"none\" stroke=\"black\" d=\"M719.3,-441.83C736.06,-432.25 756.76,-420.42 774.49,-410.29\"/>\n",
       "<polygon fill=\"black\" stroke=\"black\" points=\"776.5,-413.17 783.45,-405.17 773.03,-407.09 776.5,-413.17\"/>\n",
       "</g>\n",
       "<!-- 39 -->\n",
       "<g id=\"node40\" class=\"node\">\n",
       "<title>39</title>\n",
       "<polygon fill=\"none\" stroke=\"black\" points=\"755,-332 620,-332 620,-294 755,-294 755,-332\"/>\n",
       "<text text-anchor=\"middle\" x=\"687.5\" y=\"-316.8\" font-family=\"Times,serif\" font-size=\"14.00\">longitude &lt;= &#45;68.325</text>\n",
       "<text text-anchor=\"middle\" x=\"687.5\" y=\"-301.8\" font-family=\"Times,serif\" font-size=\"14.00\">class = USA</text>\n",
       "</g>\n",
       "<!-- 38&#45;&gt;39 -->\n",
       "<g id=\"edge39\" class=\"edge\">\n",
       "<title>38&#45;&gt;39</title>\n",
       "<path fill=\"none\" stroke=\"black\" d=\"M687.5,-367.83C687.5,-360.13 687.5,-350.97 687.5,-342.42\"/>\n",
       "<polygon fill=\"black\" stroke=\"black\" points=\"691,-342.41 687.5,-332.41 684,-342.41 691,-342.41\"/>\n",
       "</g>\n",
       "<!-- 46 -->\n",
       "<g id=\"node47\" class=\"node\">\n",
       "<title>46</title>\n",
       "<polygon fill=\"none\" stroke=\"black\" points=\"979.5,-332 859.5,-332 859.5,-294 979.5,-294 979.5,-332\"/>\n",
       "<text text-anchor=\"middle\" x=\"919.5\" y=\"-316.8\" font-family=\"Times,serif\" font-size=\"14.00\">latitude &lt;= 45.565</text>\n",
       "<text text-anchor=\"middle\" x=\"919.5\" y=\"-301.8\" font-family=\"Times,serif\" font-size=\"14.00\">class = Canada</text>\n",
       "</g>\n",
       "<!-- 38&#45;&gt;46 -->\n",
       "<g id=\"edge46\" class=\"edge\">\n",
       "<title>38&#45;&gt;46</title>\n",
       "<path fill=\"none\" stroke=\"black\" d=\"M745.74,-367.92C777.87,-357.95 817.94,-345.52 851.5,-335.1\"/>\n",
       "<polygon fill=\"black\" stroke=\"black\" points=\"852.72,-338.39 861.23,-332.08 850.64,-331.7 852.72,-338.39\"/>\n",
       "</g>\n",
       "<!-- 40 -->\n",
       "<g id=\"node41\" class=\"node\">\n",
       "<title>40</title>\n",
       "<polygon fill=\"none\" stroke=\"black\" points=\"734.5,-258 614.5,-258 614.5,-220 734.5,-220 734.5,-258\"/>\n",
       "<text text-anchor=\"middle\" x=\"674.5\" y=\"-242.8\" font-family=\"Times,serif\" font-size=\"14.00\">latitude &lt;= 47.256</text>\n",
       "<text text-anchor=\"middle\" x=\"674.5\" y=\"-227.8\" font-family=\"Times,serif\" font-size=\"14.00\">class = Canada</text>\n",
       "</g>\n",
       "<!-- 39&#45;&gt;40 -->\n",
       "<g id=\"edge40\" class=\"edge\">\n",
       "<title>39&#45;&gt;40</title>\n",
       "<path fill=\"none\" stroke=\"black\" d=\"M684.22,-293.83C682.83,-286.13 681.18,-276.97 679.63,-268.42\"/>\n",
       "<polygon fill=\"black\" stroke=\"black\" points=\"683.05,-267.63 677.82,-258.41 676.16,-268.88 683.05,-267.63\"/>\n",
       "</g>\n",
       "<!-- 45 -->\n",
       "<g id=\"node46\" class=\"node\">\n",
       "<title>45</title>\n",
       "<polygon fill=\"none\" stroke=\"black\" points=\"840,-257 753,-257 753,-221 840,-221 840,-257\"/>\n",
       "<text text-anchor=\"middle\" x=\"796.5\" y=\"-235.3\" font-family=\"Times,serif\" font-size=\"14.00\">class = USA</text>\n",
       "</g>\n",
       "<!-- 39&#45;&gt;45 -->\n",
       "<g id=\"edge45\" class=\"edge\">\n",
       "<title>39&#45;&gt;45</title>\n",
       "<path fill=\"none\" stroke=\"black\" d=\"M715.01,-293.83C729.24,-284.43 746.76,-272.86 761.91,-262.85\"/>\n",
       "<polygon fill=\"black\" stroke=\"black\" points=\"764.09,-265.6 770.5,-257.17 760.23,-259.76 764.09,-265.6\"/>\n",
       "</g>\n",
       "<!-- 41 -->\n",
       "<g id=\"node42\" class=\"node\">\n",
       "<title>41</title>\n",
       "<polygon fill=\"none\" stroke=\"black\" points=\"698,-183 597,-183 597,-147 698,-147 698,-183\"/>\n",
       "<text text-anchor=\"middle\" x=\"647.5\" y=\"-161.3\" font-family=\"Times,serif\" font-size=\"14.00\">class = Canada</text>\n",
       "</g>\n",
       "<!-- 40&#45;&gt;41 -->\n",
       "<g id=\"edge41\" class=\"edge\">\n",
       "<title>40&#45;&gt;41</title>\n",
       "<path fill=\"none\" stroke=\"black\" d=\"M667.69,-219.83C664.64,-211.72 661,-201.99 657.64,-193.05\"/>\n",
       "<polygon fill=\"black\" stroke=\"black\" points=\"660.82,-191.55 654.03,-183.42 654.27,-194.01 660.82,-191.55\"/>\n",
       "</g>\n",
       "<!-- 42 -->\n",
       "<g id=\"node43\" class=\"node\">\n",
       "<title>42</title>\n",
       "<polygon fill=\"none\" stroke=\"black\" points=\"851,-184 716,-184 716,-146 851,-146 851,-184\"/>\n",
       "<text text-anchor=\"middle\" x=\"783.5\" y=\"-168.8\" font-family=\"Times,serif\" font-size=\"14.00\">longitude &lt;= &#45;68.459</text>\n",
       "<text text-anchor=\"middle\" x=\"783.5\" y=\"-153.8\" font-family=\"Times,serif\" font-size=\"14.00\">class = USA</text>\n",
       "</g>\n",
       "<!-- 40&#45;&gt;42 -->\n",
       "<g id=\"edge42\" class=\"edge\">\n",
       "<title>40&#45;&gt;42</title>\n",
       "<path fill=\"none\" stroke=\"black\" d=\"M702.01,-219.83C715.82,-210.71 732.73,-199.54 747.55,-189.74\"/>\n",
       "<polygon fill=\"black\" stroke=\"black\" points=\"749.59,-192.59 756,-184.16 745.73,-186.75 749.59,-192.59\"/>\n",
       "</g>\n",
       "<!-- 43 -->\n",
       "<g id=\"node44\" class=\"node\">\n",
       "<title>43</title>\n",
       "<polygon fill=\"none\" stroke=\"black\" points=\"771,-109 684,-109 684,-73 771,-73 771,-109\"/>\n",
       "<text text-anchor=\"middle\" x=\"727.5\" y=\"-87.3\" font-family=\"Times,serif\" font-size=\"14.00\">class = USA</text>\n",
       "</g>\n",
       "<!-- 42&#45;&gt;43 -->\n",
       "<g id=\"edge43\" class=\"edge\">\n",
       "<title>42&#45;&gt;43</title>\n",
       "<path fill=\"none\" stroke=\"black\" d=\"M769.37,-145.83C762.65,-137.2 754.51,-126.73 747.2,-117.33\"/>\n",
       "<polygon fill=\"black\" stroke=\"black\" points=\"749.95,-115.16 741.05,-109.42 744.42,-119.46 749.95,-115.16\"/>\n",
       "</g>\n",
       "<!-- 44 -->\n",
       "<g id=\"node45\" class=\"node\">\n",
       "<title>44</title>\n",
       "<polygon fill=\"none\" stroke=\"black\" points=\"890,-109 789,-109 789,-73 890,-73 890,-109\"/>\n",
       "<text text-anchor=\"middle\" x=\"839.5\" y=\"-87.3\" font-family=\"Times,serif\" font-size=\"14.00\">class = Canada</text>\n",
       "</g>\n",
       "<!-- 42&#45;&gt;44 -->\n",
       "<g id=\"edge44\" class=\"edge\">\n",
       "<title>42&#45;&gt;44</title>\n",
       "<path fill=\"none\" stroke=\"black\" d=\"M797.63,-145.83C804.35,-137.2 812.49,-126.73 819.8,-117.33\"/>\n",
       "<polygon fill=\"black\" stroke=\"black\" points=\"822.58,-119.46 825.95,-109.42 817.05,-115.16 822.58,-119.46\"/>\n",
       "</g>\n",
       "<!-- 47 -->\n",
       "<g id=\"node48\" class=\"node\">\n",
       "<title>47</title>\n",
       "<polygon fill=\"none\" stroke=\"black\" points=\"979.5,-258 859.5,-258 859.5,-220 979.5,-220 979.5,-258\"/>\n",
       "<text text-anchor=\"middle\" x=\"919.5\" y=\"-242.8\" font-family=\"Times,serif\" font-size=\"14.00\">latitude &lt;= 45.382</text>\n",
       "<text text-anchor=\"middle\" x=\"919.5\" y=\"-227.8\" font-family=\"Times,serif\" font-size=\"14.00\">class = Canada</text>\n",
       "</g>\n",
       "<!-- 46&#45;&gt;47 -->\n",
       "<g id=\"edge47\" class=\"edge\">\n",
       "<title>46&#45;&gt;47</title>\n",
       "<path fill=\"none\" stroke=\"black\" d=\"M919.5,-293.83C919.5,-286.13 919.5,-276.97 919.5,-268.42\"/>\n",
       "<polygon fill=\"black\" stroke=\"black\" points=\"923,-268.41 919.5,-258.41 916,-268.41 923,-268.41\"/>\n",
       "</g>\n",
       "<!-- 50 -->\n",
       "<g id=\"node51\" class=\"node\">\n",
       "<title>50</title>\n",
       "<polygon fill=\"none\" stroke=\"black\" points=\"1099,-257 998,-257 998,-221 1099,-221 1099,-257\"/>\n",
       "<text text-anchor=\"middle\" x=\"1048.5\" y=\"-235.3\" font-family=\"Times,serif\" font-size=\"14.00\">class = Canada</text>\n",
       "</g>\n",
       "<!-- 46&#45;&gt;50 -->\n",
       "<g id=\"edge50\" class=\"edge\">\n",
       "<title>46&#45;&gt;50</title>\n",
       "<path fill=\"none\" stroke=\"black\" d=\"M952.05,-293.83C969.21,-284.25 990.41,-272.42 1008.56,-262.29\"/>\n",
       "<polygon fill=\"black\" stroke=\"black\" points=\"1010.71,-265.1 1017.73,-257.17 1007.3,-258.99 1010.71,-265.1\"/>\n",
       "</g>\n",
       "<!-- 48 -->\n",
       "<g id=\"node49\" class=\"node\">\n",
       "<title>48</title>\n",
       "<polygon fill=\"none\" stroke=\"black\" points=\"970,-183 869,-183 869,-147 970,-147 970,-183\"/>\n",
       "<text text-anchor=\"middle\" x=\"919.5\" y=\"-161.3\" font-family=\"Times,serif\" font-size=\"14.00\">class = Canada</text>\n",
       "</g>\n",
       "<!-- 47&#45;&gt;48 -->\n",
       "<g id=\"edge48\" class=\"edge\">\n",
       "<title>47&#45;&gt;48</title>\n",
       "<path fill=\"none\" stroke=\"black\" d=\"M919.5,-219.83C919.5,-211.89 919.5,-202.41 919.5,-193.63\"/>\n",
       "<polygon fill=\"black\" stroke=\"black\" points=\"923,-193.42 919.5,-183.42 916,-193.42 923,-193.42\"/>\n",
       "</g>\n",
       "<!-- 49 -->\n",
       "<g id=\"node50\" class=\"node\">\n",
       "<title>49</title>\n",
       "<polygon fill=\"none\" stroke=\"black\" points=\"1075,-183 988,-183 988,-147 1075,-147 1075,-183\"/>\n",
       "<text text-anchor=\"middle\" x=\"1031.5\" y=\"-161.3\" font-family=\"Times,serif\" font-size=\"14.00\">class = USA</text>\n",
       "</g>\n",
       "<!-- 47&#45;&gt;49 -->\n",
       "<g id=\"edge49\" class=\"edge\">\n",
       "<title>47&#45;&gt;49</title>\n",
       "<path fill=\"none\" stroke=\"black\" d=\"M947.76,-219.83C962.39,-210.43 980.39,-198.86 995.95,-188.85\"/>\n",
       "<polygon fill=\"black\" stroke=\"black\" points=\"998.27,-191.52 1004.79,-183.17 994.48,-185.63 998.27,-191.52\"/>\n",
       "</g>\n",
       "</g>\n",
       "</svg>\n"
      ],
      "text/plain": [
       "<graphviz.files.Source at 0x7f83a62bfee0>"
      ]
     },
     "execution_count": 22,
     "metadata": {},
     "output_type": "execute_result"
    }
   ],
   "source": [
    "model = DecisionTreeClassifier()\n",
    "model.fit(X_train, y_train)\n",
    "display_tree(X_train.columns, model)"
   ]
  },
  {
   "cell_type": "code",
   "execution_count": 23,
   "metadata": {
    "slideshow": {
     "slide_type": "slide"
    }
   },
   "outputs": [
    {
     "name": "stdout",
     "output_type": "stream",
     "text": [
      "Train accuracy:   1.000\n",
      "Test accuracy:   0.738\n"
     ]
    }
   ],
   "source": [
    "# Let's examine the train and test accuracies with the split now.\n",
    "print(\"Train accuracy:   %0.3f\" % model.score(X_train, y_train))\n",
    "print(\"Test accuracy:   %0.3f\" % model.score(X_test, y_test))"
   ]
  },
  {
   "cell_type": "code",
   "execution_count": 24,
   "metadata": {},
   "outputs": [
    {
     "data": {
      "text/plain": [
       "Text(0, 0.5, 'lattitude')"
      ]
     },
     "execution_count": 24,
     "metadata": {},
     "output_type": "execute_result"
    },
    {
     "data": {
      "image/png": "[encoded data removed]",
      "text/plain": [
       "<Figure size 1152x576 with 2 Axes>"
      ]
     },
     "metadata": {
      "needs_background": "light"
     },
     "output_type": "display_data"
    }
   ],
   "source": [
    "model.fit(X_train, y_train)\n",
    "plt.figure(figsize=(16, 8))\n",
    "plt.subplot(1, 2, 1)\n",
    "plt.title(\"decision tree model on the training data\");\n",
    "plot_classifier(X_train, y_train, model, ticks=True, ax=plt.gca())\n",
    "plt.xlabel(\"longitude\")\n",
    "plt.ylabel(\"lattitude\")\n",
    "plt.subplot(1, 2, 2)\n",
    "plt.title(\"decision tree model on the test data\")\n",
    "plot_classifier(X_test, y_test, model, ticks=True, ax=plt.gca())\n",
    "plt.xlabel(\"longitude\")\n",
    "plt.ylabel(\"lattitude\")"
   ]
  },
  {
   "cell_type": "markdown",
   "metadata": {
    "slideshow": {
     "slide_type": "slide"
    }
   },
   "source": [
    "- Useful arguments of `train_test_split`: `test_size`, `train_size`, `random_state`"
   ]
  },
  {
   "cell_type": "markdown",
   "metadata": {
    "slideshow": {
     "slide_type": "-"
    }
   },
   "source": [
    "### `test_size`, `train_size` arguments\n",
    "\n",
    "- Let's us specify how we want to split the data. \n",
    "- We can specify either of the two. See the documentation [here](https://scikit-learn.org/stable/modules/generated/sklearn.model_selection.train_test_split.html).\n",
    "- There is no hard and fast rule on what split sizes should we use. \n",
    "    - It depends upon how much data is available to you. \n",
    "- Some common splits are 90/10, 80/20, 70/30 (training/test).\n",
    "- In the above example, we used 80/20 split. "
   ]
  },
  {
   "cell_type": "markdown",
   "metadata": {
    "slideshow": {
     "slide_type": "-"
    }
   },
   "source": [
    "### `random_state` argument\n",
    "\n",
    "- The data is shuffled before splitting which is crucial step. (You will explore this in the lab.) \n",
    "- The `random_state` argument controls this shuffling. \n",
    "- In the example above we used `random_state=123`. If you run this notebook with the same `random_state` it should give you exactly the same split. \n",
    "    - Useful when you want reproducible results. "
   ]
  },
  {
   "cell_type": "markdown",
   "metadata": {
    "slideshow": {
     "slide_type": "slide"
    }
   },
   "source": [
    "### Train/validation/test split\n",
    "\n",
    "- Some of you may have heard of \"validation\" data.\n",
    "- Sometimes it's a good idea to have a separate data for hyperparameter tuning. \n",
    "\n",
    "<img src='images/train-valid-test-split.png' width=\"1500\" height=\"1500\" />"
   ]
  },
  {
   "cell_type": "markdown",
   "metadata": {
    "slideshow": {
     "slide_type": "slide"
    }
   },
   "source": [
    "### Train/validation/test split\n",
    "\n",
    "- We will try to use \"validation\" to refer to data where we have access to the target values.\n",
    "  - But, unlike the training data, we only use this for hyperparameter tuning and model assessment; we don't pass these into `fit`.  \n",
    "- We will try to use \"test\" to refer to data where we have access to the target values \n",
    "  - But, unlike training and validation data, we neither use it in training nor hyperparameter optimization. \n",
    "  - We only use it **once** to evaluate the performance of the best performing model on the validation set.   \n",
    "  - We lock it in a \"vault\" until we're ready to evaluate. \n",
    "\n",
    "Note that there isn't good concensus on the terminology of what is validation and what is test. "
   ]
  },
  {
   "cell_type": "markdown",
   "metadata": {
    "slideshow": {
     "slide_type": "slide"
    }
   },
   "source": [
    "### \"Deployment\" data\n",
    "\n",
    "- After we build and finalize a model, we deploy it, and then the model deals with the data in the wild. \n",
    "- We will use \"deployment\" to refer to this data, where we do **not** have access to the target values.\n",
    "- Deployment error is the thing we _really_ care about.\n",
    "- We use validation and test errors as proxies for deployment error, and we hope they are similar.\n",
    "- So, if our model does well on the validation and test data, we hope it will do well on deployment data."
   ]
  },
  {
   "cell_type": "markdown",
   "metadata": {
    "slideshow": {
     "slide_type": "slide"
    }
   },
   "source": [
    "### Summary of train, validation, test, and deployment data\n",
    "\n",
    "|         | `fit` | `score` | `predict` |\n",
    "|----------|-------|---------|-----------|\n",
    "| Train    | ✔️      | ✔️      | ✔️         |\n",
    "| Validation |      | ✔️      | ✔️         |\n",
    "| Test    |       |  once   | once         |\n",
    "| Deployment    |       |       | ✔️         |\n",
    "\n",
    "You can typically expect $E_{train} < E_{validation} < E_{test} < E_{deployment}$."
   ]
  },
  {
   "cell_type": "markdown",
   "metadata": {
    "slideshow": {
     "slide_type": "slide"
    }
   },
   "source": [
    "### Cross-validation\n",
    "\n",
    "Problems with having a single train/validation split\n",
    "\n",
    "- Only using a portion of your data for training and only a portion for validation.\n",
    "- If your dataset is small you might end up with a tiny training and/or validation set.\n",
    "- You might be unlucky with your splits such that they don't align well or don't well represent your test data.\n",
    "\n",
    "<img src='images/train-valid-test-split.png' width=\"1500\" height=\"1500\" />"
   ]
  },
  {
   "cell_type": "markdown",
   "metadata": {
    "slideshow": {
     "slide_type": "slide"
    }
   },
   "source": [
    "### Cross-validation\n",
    "- Cross-validation provides a solution to this problem. \n",
    "- Split the data into $k$ folds ($k>2$, often $k=10$). In the picture below $k=4$.\n",
    "- Each \"fold\" gets a turn at being the validation set.\n",
    "- Note that cross-validation doesn't shuffle the data; it's done in `train_test_split`.\n",
    "\n",
    "<img src='images/cross-validation.png' width=\"1500\">"
   ]
  },
  {
   "cell_type": "markdown",
   "metadata": {
    "slideshow": {
     "slide_type": "slide"
    }
   },
   "source": [
    "### Cross-validation \n",
    "\n",
    "- Each fold gives a score and we usually average our $k$ results. \n",
    "- It's better to notice the variation in the scores across folds.  \n",
    "- Gives a more \"robust\" measure of error on unseen data."
   ]
  },
  {
   "cell_type": "markdown",
   "metadata": {
    "slideshow": {
     "slide_type": "slide"
    }
   },
   "source": [
    "### Cross-validation using `scikit-learn`"
   ]
  },
  {
   "cell_type": "code",
   "execution_count": 25,
   "metadata": {},
   "outputs": [
    {
     "data": {
      "text/plain": [
       "array([0.76470588, 0.82352941, 0.70588235, 0.94117647, 0.82352941,\n",
       "       0.82352941, 0.70588235, 0.9375    , 0.9375    , 0.9375    ])"
      ]
     },
     "execution_count": 25,
     "metadata": {},
     "output_type": "execute_result"
    }
   ],
   "source": [
    "from sklearn.model_selection import cross_val_score, cross_validate\n",
    "model = DecisionTreeClassifier(max_depth=4)\n",
    "cv_scores = cross_val_score(model, X_train, y_train, cv=10)\n",
    "cv_scores"
   ]
  },
  {
   "cell_type": "code",
   "execution_count": 26,
   "metadata": {},
   "outputs": [
    {
     "name": "stdout",
     "output_type": "stream",
     "text": [
      "Average cross-validation score = 0.84\n",
      "Standard deviation of cross-validation score = 0.09\n"
     ]
    }
   ],
   "source": [
    "print(f\"Average cross-validation score = {np.mean(cv_scores):.2f}\")\n",
    "print(f\"Standard deviation of cross-validation score = {np.std(cv_scores):.2f}\")"
   ]
  },
  {
   "cell_type": "markdown",
   "metadata": {},
   "source": [
    "Under the hood\n",
    "\n",
    "- It creates `cv` folds on the data.\n",
    "- In each fold, it fits the model on the training portion and scores on the validation portion. \n",
    "- The output is a list of validation scores in each fold."
   ]
  },
  {
   "cell_type": "markdown",
   "metadata": {
    "slideshow": {
     "slide_type": "slide"
    }
   },
   "source": [
    "### `cross_validate`\n",
    "\n",
    "- Similar to `cross_val_score` but more powerful.\n",
    "- Let's us access training and validation scores.  "
   ]
  },
  {
   "cell_type": "code",
   "execution_count": 27,
   "metadata": {},
   "outputs": [
    {
     "data": {
      "text/html": [
       "<div>\n",
       "<style scoped>\n",
       "    .dataframe tbody tr th:only-of-type {\n",
       "        vertical-align: middle;\n",
       "    }\n",
       "\n",
       "    .dataframe tbody tr th {\n",
       "        vertical-align: top;\n",
       "    }\n",
       "\n",
       "    .dataframe thead th {\n",
       "        text-align: right;\n",
       "    }\n",
       "</style>\n",
       "<table border=\"1\" class=\"dataframe\">\n",
       "  <thead>\n",
       "    <tr style=\"text-align: right;\">\n",
       "      <th></th>\n",
       "      <th>fit_time</th>\n",
       "      <th>score_time</th>\n",
       "      <th>test_score</th>\n",
       "      <th>train_score</th>\n",
       "    </tr>\n",
       "  </thead>\n",
       "  <tbody>\n",
       "    <tr>\n",
       "      <th>0</th>\n",
       "      <td>0.002018</td>\n",
       "      <td>0.001116</td>\n",
       "      <td>0.764706</td>\n",
       "      <td>0.913333</td>\n",
       "    </tr>\n",
       "    <tr>\n",
       "      <th>1</th>\n",
       "      <td>0.001408</td>\n",
       "      <td>0.001055</td>\n",
       "      <td>0.823529</td>\n",
       "      <td>0.906667</td>\n",
       "    </tr>\n",
       "    <tr>\n",
       "      <th>2</th>\n",
       "      <td>0.001446</td>\n",
       "      <td>0.001308</td>\n",
       "      <td>0.705882</td>\n",
       "      <td>0.906667</td>\n",
       "    </tr>\n",
       "    <tr>\n",
       "      <th>3</th>\n",
       "      <td>0.001410</td>\n",
       "      <td>0.001007</td>\n",
       "      <td>0.941176</td>\n",
       "      <td>0.900000</td>\n",
       "    </tr>\n",
       "    <tr>\n",
       "      <th>4</th>\n",
       "      <td>0.001381</td>\n",
       "      <td>0.001015</td>\n",
       "      <td>0.823529</td>\n",
       "      <td>0.906667</td>\n",
       "    </tr>\n",
       "    <tr>\n",
       "      <th>5</th>\n",
       "      <td>0.001384</td>\n",
       "      <td>0.001011</td>\n",
       "      <td>0.823529</td>\n",
       "      <td>0.913333</td>\n",
       "    </tr>\n",
       "    <tr>\n",
       "      <th>6</th>\n",
       "      <td>0.001378</td>\n",
       "      <td>0.001084</td>\n",
       "      <td>0.705882</td>\n",
       "      <td>0.920000</td>\n",
       "    </tr>\n",
       "    <tr>\n",
       "      <th>7</th>\n",
       "      <td>0.001439</td>\n",
       "      <td>0.001028</td>\n",
       "      <td>0.937500</td>\n",
       "      <td>0.900662</td>\n",
       "    </tr>\n",
       "    <tr>\n",
       "      <th>8</th>\n",
       "      <td>0.001411</td>\n",
       "      <td>0.001015</td>\n",
       "      <td>0.937500</td>\n",
       "      <td>0.900662</td>\n",
       "    </tr>\n",
       "    <tr>\n",
       "      <th>9</th>\n",
       "      <td>0.001383</td>\n",
       "      <td>0.001013</td>\n",
       "      <td>0.937500</td>\n",
       "      <td>0.900662</td>\n",
       "    </tr>\n",
       "  </tbody>\n",
       "</table>\n",
       "</div>"
      ],
      "text/plain": [
       "   fit_time  score_time  test_score  train_score\n",
       "0  0.002018    0.001116    0.764706     0.913333\n",
       "1  0.001408    0.001055    0.823529     0.906667\n",
       "2  0.001446    0.001308    0.705882     0.906667\n",
       "3  0.001410    0.001007    0.941176     0.900000\n",
       "4  0.001381    0.001015    0.823529     0.906667\n",
       "5  0.001384    0.001011    0.823529     0.913333\n",
       "6  0.001378    0.001084    0.705882     0.920000\n",
       "7  0.001439    0.001028    0.937500     0.900662\n",
       "8  0.001411    0.001015    0.937500     0.900662\n",
       "9  0.001383    0.001013    0.937500     0.900662"
      ]
     },
     "execution_count": 27,
     "metadata": {},
     "output_type": "execute_result"
    }
   ],
   "source": [
    "scores = cross_validate(model, X_train, y_train, cv=10, return_train_score=True)\n",
    "pd.DataFrame(scores)"
   ]
  },
  {
   "cell_type": "code",
   "execution_count": 28,
   "metadata": {},
   "outputs": [
    {
     "data": {
      "text/html": [
       "<div>\n",
       "<style scoped>\n",
       "    .dataframe tbody tr th:only-of-type {\n",
       "        vertical-align: middle;\n",
       "    }\n",
       "\n",
       "    .dataframe tbody tr th {\n",
       "        vertical-align: top;\n",
       "    }\n",
       "\n",
       "    .dataframe thead th {\n",
       "        text-align: right;\n",
       "    }\n",
       "</style>\n",
       "<table border=\"1\" class=\"dataframe\">\n",
       "  <thead>\n",
       "    <tr style=\"text-align: right;\">\n",
       "      <th></th>\n",
       "      <th>0</th>\n",
       "    </tr>\n",
       "  </thead>\n",
       "  <tbody>\n",
       "    <tr>\n",
       "      <th>fit_time</th>\n",
       "      <td>0.001466</td>\n",
       "    </tr>\n",
       "    <tr>\n",
       "      <th>score_time</th>\n",
       "      <td>0.001065</td>\n",
       "    </tr>\n",
       "    <tr>\n",
       "      <th>test_score</th>\n",
       "      <td>0.840074</td>\n",
       "    </tr>\n",
       "    <tr>\n",
       "      <th>train_score</th>\n",
       "      <td>0.906865</td>\n",
       "    </tr>\n",
       "  </tbody>\n",
       "</table>\n",
       "</div>"
      ],
      "text/plain": [
       "                    0\n",
       "fit_time     0.001466\n",
       "score_time   0.001065\n",
       "test_score   0.840074\n",
       "train_score  0.906865"
      ]
     },
     "execution_count": 28,
     "metadata": {},
     "output_type": "execute_result"
    }
   ],
   "source": [
    "pd.DataFrame(pd.DataFrame(scores).mean())"
   ]
  },
  {
   "cell_type": "markdown",
   "metadata": {
    "slideshow": {
     "slide_type": "slide"
    }
   },
   "source": [
    "### Questions on cross validation"
   ]
  },
  {
   "cell_type": "markdown",
   "metadata": {
    "slideshow": {
     "slide_type": "-"
    }
   },
   "source": [
    "1. We carry out cross-validation to avoid reusing the same validation set again and again. With $k$-fold cross-validation, you split your $n$ examples into $k$ folds. For each fold, you train on __ examples \n",
    "        1. n\n",
    "        2. n/k\n",
    "        3. n - n/k  or n(k-1)/k\n",
    "        4. k \n",
    "    "
   ]
  },
  {
   "cell_type": "markdown",
   "metadata": {
    "slideshow": {
     "slide_type": "-"
    }
   },
   "source": [
    "2. With $k$-fold cross-validation, you split your $n$ examples into $k$ folds. For each fold, when you are done, you add up the accuracies from each fold and divide by __\n",
    "        1. n\n",
    "        2. n/k\n",
    "        3. n - n/k or n(k-1)/k\n",
    "        4. k    "
   ]
  },
  {
   "cell_type": "markdown",
   "metadata": {
    "slideshow": {
     "slide_type": "slide"
    }
   },
   "source": [
    "#### Our typical supervised learning set up is as follows: \n",
    "\n",
    "- We are given training data with features `X` and target `y`\n",
    "- We split the data into train and test portions: `X_train, y_train, X_test, y_test`\n",
    "- We carry out hyperparameter optimization using cross-validation on the train portion: `X_train` and `y_train`. \n",
    "- We assess our best performing model on the test portion: `X_test` and `y_test`.  \n",
    "- What we care about is the **test error**, which tells us how well our model can be generalized.\n",
    "- If this test error is \"reasonable\" we deploy the model which will be used on new unseen examples.\n",
    "- How do we know whether this test error is reasonable? "
   ]
  },
  {
   "cell_type": "markdown",
   "metadata": {
    "slideshow": {
     "slide_type": "slide"
    }
   },
   "source": [
    "### 3. Underfitting, overfitting, the fundamental tradeoff, the golden rule <a name=\"3\"></a>"
   ]
  },
  {
   "cell_type": "markdown",
   "metadata": {
    "slideshow": {
     "slide_type": "slide"
    }
   },
   "source": [
    "### Types of errors\n",
    "\n",
    "Imagine that your train and validation errors do not align with each other. How do you diagnose the problem?  \n",
    "\n",
    "We're going to think about 4 types of errors:\n",
    "\n",
    "- $E_\\textrm{train}$ is your training error (or mean train error from cross-validation).\n",
    "- $E_\\textrm{valid}$ is your validation error (or mean validation error from cross-validation).\n",
    "- $E_\\textrm{test}$ is your test error.\n",
    "- $E_\\textrm{best}$ is the best possible error you could get for a given problem.\n",
    "\n",
    "Question: Why is $E_\\textrm{best} \\gt 0$?"
   ]
  },
  {
   "cell_type": "markdown",
   "metadata": {
    "slideshow": {
     "slide_type": "slide"
    }
   },
   "source": [
    "### Underfitting \n",
    "\n",
    "- Your model is too simple, e.g. `DecisionTreeClassifier` with `max_depth=1` or `DummyClassifier`\n",
    "- The model is so simple that it doesn't even capture the patterns in the training data.\n",
    "- So even the training error is not that low.\n",
    "- In this case, you likely have very little overfitting (because you have very little fitting, period); hence $E_\\textrm{train}\\lesssim E_\\textrm{valid}$.\n",
    "- Both train and validation errors are bad.  \n",
    "- The gap between train and validation error is lower.\n",
    "- $E_\\textrm{best} \\lt E_\\textrm{train} \\lesssim E_\\textrm{valid}$"
   ]
  },
  {
   "cell_type": "code",
   "execution_count": 29,
   "metadata": {
    "slideshow": {
     "slide_type": "-"
    }
   },
   "outputs": [
    {
     "name": "stdout",
     "output_type": "stream",
     "text": [
      "Train error:   0.166\n",
      "Validation error:   0.190\n"
     ]
    }
   ],
   "source": [
    "model = DecisionTreeClassifier(max_depth=1)\n",
    "\n",
    "scores = cross_validate(model, X_train, y_train, cv=10, return_train_score=True)\n",
    "print(\"Train error:   %0.3f\" % (1 - np.mean(scores[\"train_score\"])))\n",
    "print(\"Validation error:   %0.3f\" % (1 - np.mean(scores[\"test_score\"])))"
   ]
  },
  {
   "cell_type": "markdown",
   "metadata": {
    "slideshow": {
     "slide_type": "slide"
    }
   },
   "source": [
    "### Overfitting \n",
    "\n",
    "- Train error is low but validation error is much higher.  \n",
    "- The gap between train and validation error is bigger.\n",
    "- $E_\\textrm{train} \\lt E_\\textrm{best}  \\lt E_\\textrm{valid}$\n",
    "- If $E_\\textrm{train}$ is low, that is the overfitting scenario. It is fairly common to have at least a bit of this.\n",
    "\n",
    "- $E_\\textrm{valid}$ cannot be smaller than $E_\\textrm{best}$ basically by definition. In reality you won't have them equal."
   ]
  },
  {
   "cell_type": "code",
   "execution_count": 30,
   "metadata": {
    "slideshow": {
     "slide_type": "-"
    }
   },
   "outputs": [
    {
     "name": "stdout",
     "output_type": "stream",
     "text": [
      "Train error:   0.000\n",
      "Validation error:   0.191\n"
     ]
    }
   ],
   "source": [
    "# Let's try a decion tree with no depth\n",
    "model = DecisionTreeClassifier()\n",
    "scores = cross_validate(model, X_train, y_train, cv=10, return_train_score=True)\n",
    "print(\"Train error:   %0.3f\" % (1 - np.mean(scores[\"train_score\"])))\n",
    "print(\"Validation error:   %0.3f\" % (1 - np.mean(scores[\"test_score\"])))"
   ]
  },
  {
   "cell_type": "code",
   "execution_count": 31,
   "metadata": {
    "slideshow": {
     "slide_type": "skip"
    }
   },
   "outputs": [
    {
     "data": {
      "text/plain": [
       "<matplotlib.axes._subplots.AxesSubplot at 0x7f83871256a0>"
      ]
     },
     "execution_count": 31,
     "metadata": {},
     "output_type": "execute_result"
    },
    {
     "data": {
      "image/png": "[encoded data removed]",
      "text/plain": [
       "<Figure size 1152x576 with 2 Axes>"
      ]
     },
     "metadata": {},
     "output_type": "display_data"
    }
   ],
   "source": [
    "model.fit(X_train, y_train)\n",
    "plt.figure(figsize=(16, 8))\n",
    "plt.subplot(1, 2, 1)\n",
    "plt.title(\"no depth decision tree model + training data\");\n",
    "plot_classifier(X_train, y_train, model, ax=plt.gca())\n",
    "\n",
    "plt.subplot(1, 2, 2)\n",
    "plt.title(\"no depth decision tree model + test data\")\n",
    "plot_classifier(X_test, y_test, model, ax=plt.gca())"
   ]
  },
  {
   "cell_type": "markdown",
   "metadata": {
    "slideshow": {
     "slide_type": "slide"
    }
   },
   "source": [
    "- We see that validation error does not necessarily decrease with training error. \n",
    "    - Here, for larger depths we observe that the training error is close to 0 but validation error keeps increasing.  \n",
    "- As we make more complex models we start encoding random quirks in the data, which are not grounded in reality.  \n",
    "- These random quirks do not generalize well to new data. \n",
    "- This problem of failing to be able to generalize to the validation data or test data is called **overfitting**."
   ]
  },
  {
   "cell_type": "markdown",
   "metadata": {
    "slideshow": {
     "slide_type": "slide"
    }
   },
   "source": [
    "## The \"fundamental tradeoff\" of supervised learning:\n",
    "\n",
    "As you increase model complexity, $E_\\textrm{train}$ tends to go down but $E_\\textrm{valid}-E_\\textrm{train}$ tends to go up.\n",
    "\n",
    "- If your model is very simple, like `DummyClassifier`, then you won't really learn any \"specific patterns\" of the training set, but your model won't be very good in general. This is underfitting.\n",
    "- If your model is very complex, like a `DecisionTreeClassifier(max_depth=None)`, then you will learn unreliable patterns that get every single training example correct, but there will be a huge gap between training error and validation error. This is overfitting."
   ]
  },
  {
   "cell_type": "markdown",
   "metadata": {
    "slideshow": {
     "slide_type": "slide"
    }
   },
   "source": [
    "### Bias vs variance tradeoff \n",
    "\n",
    "- This fundamental trade-off is also called the bias/variance tradeoff.\n",
    "- Bias $\\rightarrow$ the tendency to consistently learn the same wrong thing (high bias means underfitting)\n",
    "- Variance $\\rightarrow$ the tendency to learn random things irrespective of the real signal (high variance means overfitting)\n",
    "\n",
    "<img src='images/darts_overfitting.png' width=\"500\" height=\"500\" />\n",
    "\n",
    "[Source](https://homes.cs.washington.edu/~pedrod/papers/cacm12.pdf)"
   ]
  },
  {
   "cell_type": "markdown",
   "metadata": {
    "slideshow": {
     "slide_type": "skip"
    }
   },
   "source": [
    "### Overfitting and the fundamental tradeoff True/False questions\n",
    "\n",
    "1. In supervised learning, the training error is always lower than the validation error.\n",
    "1. The fundamental tradeoff of ML states that as training error goes down, validation error goes up.\n",
    "2. More \"complicated\" models are more likely to overfit than \"simple\" ones.\n",
    "3. If we had an infinite amount of training data, overfitting would not be a problem.\n",
    "4. If our training error is extremely low, that means we're overfitting.\n",
    "\n",
    "<br><br><br><br><br><br><br><br>"
   ]
  },
  {
   "cell_type": "markdown",
   "metadata": {
    "slideshow": {
     "slide_type": "slide"
    }
   },
   "source": [
    "### How to pick a model that would generalize better?\n",
    "\n",
    "- We want to avoid both underfitting and overfitting.  \n",
    "- Here is a typical workflow to pick the best hyperparameters with a systematic search over some possible hyperparameter values.   "
   ]
  },
  {
   "cell_type": "code",
   "execution_count": 32,
   "metadata": {
    "slideshow": {
     "slide_type": "slide"
    }
   },
   "outputs": [],
   "source": [
    "results_dict = {\"depth\": [], \"mean_train_score\": [], \"mean_cv_score\": [], \"std_cv_score\" : [], \"std_train_score\":[]}\n",
    "param_grid = {\"max_depth\": np.arange(1, 30)}\n",
    "\n",
    "for depth in param_grid[\"max_depth\"]:\n",
    "    model = DecisionTreeClassifier(max_depth=depth)\n",
    "    scores = cross_validate(model, X_train, y_train, cv=10, return_train_score=True)\n",
    "    results_dict[\"depth\"].append(depth)\n",
    "    results_dict[\"mean_cv_score\"].append(np.mean(scores[\"test_score\"]))\n",
    "    results_dict[\"mean_train_score\"].append(np.mean(scores[\"train_score\"]))\n",
    "    results_dict[\"std_cv_score\"].append(scores[\"test_score\"].std())\n",
    "    results_dict[\"std_train_score\"].append(scores[\"train_score\"].std())\n",
    "\n",
    "results_df = pd.DataFrame(results_dict)\n",
    "results_df = results_df.set_index(\"depth\")"
   ]
  },
  {
   "cell_type": "code",
   "execution_count": 33,
   "metadata": {},
   "outputs": [
    {
     "data": {
      "text/html": [
       "<div>\n",
       "<style scoped>\n",
       "    .dataframe tbody tr th:only-of-type {\n",
       "        vertical-align: middle;\n",
       "    }\n",
       "\n",
       "    .dataframe tbody tr th {\n",
       "        vertical-align: top;\n",
       "    }\n",
       "\n",
       "    .dataframe thead th {\n",
       "        text-align: right;\n",
       "    }\n",
       "</style>\n",
       "<table border=\"1\" class=\"dataframe\">\n",
       "  <thead>\n",
       "    <tr style=\"text-align: right;\">\n",
       "      <th></th>\n",
       "      <th>mean_train_score</th>\n",
       "      <th>mean_cv_score</th>\n",
       "      <th>std_cv_score</th>\n",
       "      <th>std_train_score</th>\n",
       "    </tr>\n",
       "    <tr>\n",
       "      <th>depth</th>\n",
       "      <th></th>\n",
       "      <th></th>\n",
       "      <th></th>\n",
       "      <th></th>\n",
       "    </tr>\n",
       "  </thead>\n",
       "  <tbody>\n",
       "    <tr>\n",
       "      <th>1</th>\n",
       "      <td>0.834349</td>\n",
       "      <td>0.809926</td>\n",
       "      <td>0.084735</td>\n",
       "      <td>0.008808</td>\n",
       "    </tr>\n",
       "    <tr>\n",
       "      <th>2</th>\n",
       "      <td>0.844989</td>\n",
       "      <td>0.804044</td>\n",
       "      <td>0.085624</td>\n",
       "      <td>0.006376</td>\n",
       "    </tr>\n",
       "    <tr>\n",
       "      <th>3</th>\n",
       "      <td>0.862967</td>\n",
       "      <td>0.804412</td>\n",
       "      <td>0.089631</td>\n",
       "      <td>0.016135</td>\n",
       "    </tr>\n",
       "    <tr>\n",
       "      <th>4</th>\n",
       "      <td>0.906865</td>\n",
       "      <td>0.840074</td>\n",
       "      <td>0.090119</td>\n",
       "      <td>0.006472</td>\n",
       "    </tr>\n",
       "    <tr>\n",
       "      <th>5</th>\n",
       "      <td>0.918848</td>\n",
       "      <td>0.851838</td>\n",
       "      <td>0.078801</td>\n",
       "      <td>0.012076</td>\n",
       "    </tr>\n",
       "    <tr>\n",
       "      <th>6</th>\n",
       "      <td>0.930817</td>\n",
       "      <td>0.815074</td>\n",
       "      <td>0.060613</td>\n",
       "      <td>0.017382</td>\n",
       "    </tr>\n",
       "    <tr>\n",
       "      <th>7</th>\n",
       "      <td>0.954115</td>\n",
       "      <td>0.839706</td>\n",
       "      <td>0.086287</td>\n",
       "      <td>0.017165</td>\n",
       "    </tr>\n",
       "    <tr>\n",
       "      <th>8</th>\n",
       "      <td>0.972733</td>\n",
       "      <td>0.821324</td>\n",
       "      <td>0.090253</td>\n",
       "      <td>0.011293</td>\n",
       "    </tr>\n",
       "    <tr>\n",
       "      <th>9</th>\n",
       "      <td>0.979382</td>\n",
       "      <td>0.821691</td>\n",
       "      <td>0.100647</td>\n",
       "      <td>0.011702</td>\n",
       "    </tr>\n",
       "    <tr>\n",
       "      <th>10</th>\n",
       "      <td>0.994013</td>\n",
       "      <td>0.803309</td>\n",
       "      <td>0.101277</td>\n",
       "      <td>0.005526</td>\n",
       "    </tr>\n",
       "    <tr>\n",
       "      <th>11</th>\n",
       "      <td>0.997338</td>\n",
       "      <td>0.809191</td>\n",
       "      <td>0.089655</td>\n",
       "      <td>0.003261</td>\n",
       "    </tr>\n",
       "    <tr>\n",
       "      <th>12</th>\n",
       "      <td>1.000000</td>\n",
       "      <td>0.809191</td>\n",
       "      <td>0.089655</td>\n",
       "      <td>0.000000</td>\n",
       "    </tr>\n",
       "    <tr>\n",
       "      <th>13</th>\n",
       "      <td>1.000000</td>\n",
       "      <td>0.809191</td>\n",
       "      <td>0.089655</td>\n",
       "      <td>0.000000</td>\n",
       "    </tr>\n",
       "    <tr>\n",
       "      <th>14</th>\n",
       "      <td>1.000000</td>\n",
       "      <td>0.815074</td>\n",
       "      <td>0.080262</td>\n",
       "      <td>0.000000</td>\n",
       "    </tr>\n",
       "    <tr>\n",
       "      <th>15</th>\n",
       "      <td>1.000000</td>\n",
       "      <td>0.809191</td>\n",
       "      <td>0.089655</td>\n",
       "      <td>0.000000</td>\n",
       "    </tr>\n",
       "    <tr>\n",
       "      <th>16</th>\n",
       "      <td>1.000000</td>\n",
       "      <td>0.803309</td>\n",
       "      <td>0.101277</td>\n",
       "      <td>0.000000</td>\n",
       "    </tr>\n",
       "    <tr>\n",
       "      <th>17</th>\n",
       "      <td>1.000000</td>\n",
       "      <td>0.815074</td>\n",
       "      <td>0.080262</td>\n",
       "      <td>0.000000</td>\n",
       "    </tr>\n",
       "    <tr>\n",
       "      <th>18</th>\n",
       "      <td>1.000000</td>\n",
       "      <td>0.803309</td>\n",
       "      <td>0.101277</td>\n",
       "      <td>0.000000</td>\n",
       "    </tr>\n",
       "    <tr>\n",
       "      <th>19</th>\n",
       "      <td>1.000000</td>\n",
       "      <td>0.809191</td>\n",
       "      <td>0.089655</td>\n",
       "      <td>0.000000</td>\n",
       "    </tr>\n",
       "    <tr>\n",
       "      <th>20</th>\n",
       "      <td>1.000000</td>\n",
       "      <td>0.815074</td>\n",
       "      <td>0.080262</td>\n",
       "      <td>0.000000</td>\n",
       "    </tr>\n",
       "    <tr>\n",
       "      <th>21</th>\n",
       "      <td>1.000000</td>\n",
       "      <td>0.803309</td>\n",
       "      <td>0.101277</td>\n",
       "      <td>0.000000</td>\n",
       "    </tr>\n",
       "    <tr>\n",
       "      <th>22</th>\n",
       "      <td>1.000000</td>\n",
       "      <td>0.803309</td>\n",
       "      <td>0.101277</td>\n",
       "      <td>0.000000</td>\n",
       "    </tr>\n",
       "    <tr>\n",
       "      <th>23</th>\n",
       "      <td>1.000000</td>\n",
       "      <td>0.809191</td>\n",
       "      <td>0.089655</td>\n",
       "      <td>0.000000</td>\n",
       "    </tr>\n",
       "    <tr>\n",
       "      <th>24</th>\n",
       "      <td>1.000000</td>\n",
       "      <td>0.809191</td>\n",
       "      <td>0.089655</td>\n",
       "      <td>0.000000</td>\n",
       "    </tr>\n",
       "    <tr>\n",
       "      <th>25</th>\n",
       "      <td>1.000000</td>\n",
       "      <td>0.809191</td>\n",
       "      <td>0.089655</td>\n",
       "      <td>0.000000</td>\n",
       "    </tr>\n",
       "    <tr>\n",
       "      <th>26</th>\n",
       "      <td>1.000000</td>\n",
       "      <td>0.815074</td>\n",
       "      <td>0.080262</td>\n",
       "      <td>0.000000</td>\n",
       "    </tr>\n",
       "    <tr>\n",
       "      <th>27</th>\n",
       "      <td>1.000000</td>\n",
       "      <td>0.815074</td>\n",
       "      <td>0.080262</td>\n",
       "      <td>0.000000</td>\n",
       "    </tr>\n",
       "    <tr>\n",
       "      <th>28</th>\n",
       "      <td>1.000000</td>\n",
       "      <td>0.815074</td>\n",
       "      <td>0.080262</td>\n",
       "      <td>0.000000</td>\n",
       "    </tr>\n",
       "    <tr>\n",
       "      <th>29</th>\n",
       "      <td>1.000000</td>\n",
       "      <td>0.809191</td>\n",
       "      <td>0.089655</td>\n",
       "      <td>0.000000</td>\n",
       "    </tr>\n",
       "  </tbody>\n",
       "</table>\n",
       "</div>"
      ],
      "text/plain": [
       "       mean_train_score  mean_cv_score  std_cv_score  std_train_score\n",
       "depth                                                                \n",
       "1              0.834349       0.809926      0.084735         0.008808\n",
       "2              0.844989       0.804044      0.085624         0.006376\n",
       "3              0.862967       0.804412      0.089631         0.016135\n",
       "4              0.906865       0.840074      0.090119         0.006472\n",
       "5              0.918848       0.851838      0.078801         0.012076\n",
       "6              0.930817       0.815074      0.060613         0.017382\n",
       "7              0.954115       0.839706      0.086287         0.017165\n",
       "8              0.972733       0.821324      0.090253         0.011293\n",
       "9              0.979382       0.821691      0.100647         0.011702\n",
       "10             0.994013       0.803309      0.101277         0.005526\n",
       "11             0.997338       0.809191      0.089655         0.003261\n",
       "12             1.000000       0.809191      0.089655         0.000000\n",
       "13             1.000000       0.809191      0.089655         0.000000\n",
       "14             1.000000       0.815074      0.080262         0.000000\n",
       "15             1.000000       0.809191      0.089655         0.000000\n",
       "16             1.000000       0.803309      0.101277         0.000000\n",
       "17             1.000000       0.815074      0.080262         0.000000\n",
       "18             1.000000       0.803309      0.101277         0.000000\n",
       "19             1.000000       0.809191      0.089655         0.000000\n",
       "20             1.000000       0.815074      0.080262         0.000000\n",
       "21             1.000000       0.803309      0.101277         0.000000\n",
       "22             1.000000       0.803309      0.101277         0.000000\n",
       "23             1.000000       0.809191      0.089655         0.000000\n",
       "24             1.000000       0.809191      0.089655         0.000000\n",
       "25             1.000000       0.809191      0.089655         0.000000\n",
       "26             1.000000       0.815074      0.080262         0.000000\n",
       "27             1.000000       0.815074      0.080262         0.000000\n",
       "28             1.000000       0.815074      0.080262         0.000000\n",
       "29             1.000000       0.809191      0.089655         0.000000"
      ]
     },
     "execution_count": 33,
     "metadata": {},
     "output_type": "execute_result"
    }
   ],
   "source": [
    "results_df"
   ]
  },
  {
   "cell_type": "code",
   "execution_count": 34,
   "metadata": {
    "slideshow": {
     "slide_type": "slide"
    }
   },
   "outputs": [
    {
     "data": {
      "text/plain": [
       "<matplotlib.axes._subplots.AxesSubplot at 0x7f8387125c40>"
      ]
     },
     "execution_count": 34,
     "metadata": {},
     "output_type": "execute_result"
    },
    {
     "data": {
      "image/png": "[encoded data removed]",
      "text/plain": [
       "<Figure size 432x288 with 1 Axes>"
      ]
     },
     "metadata": {
      "needs_background": "light"
     },
     "output_type": "display_data"
    }
   ],
   "source": [
    "results_df[[\"mean_train_score\", \"mean_cv_score\"]].plot()"
   ]
  },
  {
   "cell_type": "code",
   "execution_count": 35,
   "metadata": {
    "slideshow": {
     "slide_type": "skip"
    }
   },
   "outputs": [],
   "source": [
    "def cross_validate_std(*args, **kwargs):\n",
    "    \"\"\"Like cross_validate, except also gives the standard deviation of the score\"\"\"\n",
    "    res = pd.DataFrame(cross_validate(*args, **kwargs))\n",
    "    res_mean = res.mean()\n",
    "    res_mean[\"std_test_score\"] = res[\"test_score\"].std()\n",
    "    if \"train_score\" in res:\n",
    "        res_mean[\"std_train_score\"] = res[\"train_score\"].std()\n",
    "    return res_mean"
   ]
  },
  {
   "cell_type": "code",
   "execution_count": 36,
   "metadata": {
    "slideshow": {
     "slide_type": "skip"
    }
   },
   "outputs": [],
   "source": [
    "scores_std = cross_validate_std(model, X_train, y_train, cv=10, return_train_score=True)\n"
   ]
  },
  {
   "cell_type": "markdown",
   "metadata": {
    "slideshow": {
     "slide_type": "-"
    }
   },
   "source": [
    "### Which hyperparameters should we pick? \n",
    "\n",
    "- There are many subtleties here and there is no perfect answer. \n",
    "- A common practice is to pick the model with minimum cross-validation error. "
   ]
  },
  {
   "cell_type": "code",
   "execution_count": 37,
   "metadata": {
    "slideshow": {
     "slide_type": "-"
    }
   },
   "outputs": [
    {
     "name": "stdout",
     "output_type": "stream",
     "text": [
      "The maximum validation score is 0.852 at max_depth = 5 \n"
     ]
    }
   ],
   "source": [
    "best_depth = results_df.index.values[np.argmax(results_df[\"mean_cv_score\"])]\n",
    "print(\n",
    "    \"The maximum validation score is %0.3f at max_depth = %d \"\n",
    "    % (\n",
    "        np.max(results_df[\"mean_cv_score\"]),\n",
    "        best_depth,\n",
    "    )\n",
    ")"
   ]
  },
  {
   "cell_type": "markdown",
   "metadata": {
    "slideshow": {
     "slide_type": "slide"
    }
   },
   "source": [
    "### Comparing test score with cross-validation score\n",
    "\n",
    "- Let's pick `max_depth`= 5\n",
    "- And try this model on the test set. "
   ]
  },
  {
   "cell_type": "code",
   "execution_count": 38,
   "metadata": {
    "slideshow": {
     "slide_type": "-"
    }
   },
   "outputs": [
    {
     "name": "stdout",
     "output_type": "stream",
     "text": [
      "Error on test set: 0.19\n"
     ]
    }
   ],
   "source": [
    "model = DecisionTreeClassifier(max_depth=best_depth)\n",
    "model.fit(X_train, y_train)\n",
    "print(f\"Error on test set: {1 - model.score(X_test, y_test):.2f}\")"
   ]
  },
  {
   "cell_type": "markdown",
   "metadata": {},
   "source": [
    "- Is the test error comparable with the cross-validation error?\n",
    "- Do we feel confident that this model would give similar performace when deployed? "
   ]
  },
  {
   "cell_type": "markdown",
   "metadata": {
    "slideshow": {
     "slide_type": "slide"
    }
   },
   "source": [
    "## The golden rule <a name=\"4\"></a>\n",
    "\n",
    "- Even though we care the most about test error **THE TEST DATA CANNOT INFLUENCE THE TRAINING PHASE IN ANY WAY**. \n",
    "- We have to be very careful not to violate it while developing our ML pipeline. \n",
    "- Even experts end up breaking it sometimes which leads to misleading results and lack of generalization on the real data. "
   ]
  },
  {
   "cell_type": "markdown",
   "metadata": {
    "slideshow": {
     "slide_type": "slide"
    }
   },
   "source": [
    "## Golden rule violation: Example 1  \n",
    "\n",
    "<img src='images/golden_rule_violation.png' width=\"500\" height=\"500\" />\n",
    "\n",
    "<blockquote>\n",
    "   ... He attempted to reproduce the research, and found a major flaw: there was some overlap in the data used to both train and test the model. \n",
    "</blockquote>    "
   ]
  },
  {
   "cell_type": "markdown",
   "metadata": {
    "slideshow": {
     "slide_type": "slide"
    }
   },
   "source": [
    "#### Golden rule violation: Example 2  \n",
    "\n",
    "<img src='images/golden_rule_violation_2.png' width=\"500\" height=\"500\" />\n",
    "\n",
    "<blockquote>\n",
    "  ... The Challenge rules state that you must only test your code twice a week, because there’s an element of chance to the results. Baidu has admitted that it used multiple email accounts to test its code roughly 200 times in just under six months – over four times what the rules allow.\n",
    "</blockquote>\n"
   ]
  },
  {
   "cell_type": "markdown",
   "metadata": {
    "slideshow": {
     "slide_type": "slide"
    }
   },
   "source": [
    "### How can we avoid violating golden rule? \n",
    "\n",
    "- Recall that when we split data, we put our test set in an imaginary vault.\n",
    "\n",
    "<img src='images/train-test-split.png' width=\"1500\" height=\"1500\" />"
   ]
  },
  {
   "cell_type": "markdown",
   "metadata": {
    "slideshow": {
     "slide_type": "slide"
    }
   },
   "source": [
    "### Here is the workflow we'll generally follow. \n",
    "\n",
    "- **Splitting**: Before doing anything, split the data `X` and `y` into `X_train`, `X_test`, `y_train`, `y_test` or `train_df` and `test_df` using `train_test_split`.  \n",
    "- **Select the best model using cross-validation**: Use `cross_validate` with `return_train_score = True` so that we can get access to training scores in each fold. (If we want to plot train vs validation error plots, for instance.) \n",
    "- **Scoring on test data**: Finally score on the test data with the chosen hyperparameters to examine the generalization performance.\n",
    "\n",
    "**Again, there are many subtleties here we'll discuss the golden rule multiple times throughout the course and in the program.**  "
   ]
  },
  {
   "cell_type": "markdown",
   "metadata": {
    "slideshow": {
     "slide_type": "slide"
    }
   },
   "source": [
    "### Revisit: Learning outcomes \n",
    "\n",
    "At this point you should feel comfortable about the following:  \n",
    "\n",
    "- explain how decision boundaries change with the `max_depth` hyperparameter;\n",
    "- explain the concept of generalization;\n",
    "- split a dataset into train and test sets using `train_test_split` function;\n",
    "- explain the difference between train, validation, test, and \"deployment\" data;\n",
    "- identify the difference between training error, validation error, and test error;\n",
    "- explain cross-validation and use `cross_val_score` and `cross_validate` to calculate cross-validation error;\n",
    "- explain overfitting, underfitting, and the fundamental tradeoff;\n",
    "- state the golden rule. \n"
   ]
  },
  {
   "cell_type": "markdown",
   "metadata": {},
   "source": [
    "### Practice exercises (~15 mins) \n",
    "\n",
    "- We'll be working on [some practice exercise](https://intro-machine-learning.netlify.app/en/module3) in breakout rooms.\n",
    "- This is for your practice and **NOT** for credit.\n",
    "- Work on the following exercises in [Module 3](https://intro-machine-learning.netlify.app/en/module3): 14, 16, 18, 19, 20. \n",
    "\n",
    "Some background on the online course above: Hayley, Mike, and I are working on this online (and a bit lighter) version of 571. **Note that this is work in progress and it's in BETA. Some of the work is not reviewed or finalized yet.** If you see any problems, will be great if you can let us know. "
   ]
  },
  {
   "cell_type": "code",
   "execution_count": null,
   "metadata": {},
   "outputs": [],
   "source": []
  }
 ],
 "metadata": {
  "celltoolbar": "Slideshow",
  "kernelspec": {
   "display_name": "Python [conda env:571]",
   "language": "python",
   "name": "conda-env-571-py"
  },
  "language_info": {
   "codemirror_mode": {
    "name": "ipython",
    "version": 3
   },
   "file_extension": ".py",
   "mimetype": "text/x-python",
   "name": "python",
   "nbconvert_exporter": "python",
   "pygments_lexer": "ipython3",
   "version": "3.8.6"
  }
 },
 "nbformat": 4,
 "nbformat_minor": 4
}
